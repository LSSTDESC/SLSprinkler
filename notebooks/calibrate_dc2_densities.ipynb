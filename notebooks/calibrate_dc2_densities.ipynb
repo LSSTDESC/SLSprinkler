{
 "cells": [
  {
   "cell_type": "code",
   "execution_count": 2,
   "metadata": {},
   "outputs": [],
   "source": [
    "import sys\n",
    "sys.path.append('..')\n",
    "%load_ext autoreload"
   ]
  },
  {
   "cell_type": "code",
   "execution_count": 3,
   "metadata": {},
   "outputs": [],
   "source": [
    "import numpy as np\n",
    "import pandas as pd\n",
    "import corner\n",
    "from matplotlib import pyplot as plt\n",
    "from copy import copy\n",
    "from astropy.io import fits\n",
    "from sprinkler import BaseSprinkler, OM10Reader, GoldsteinSNeCatReader, DC2Reader, DC2Sprinkler\n",
    "from sqlalchemy import create_engine"
   ]
  },
  {
   "cell_type": "code",
   "execution_count": 4,
   "metadata": {},
   "outputs": [],
   "source": [
    "from matplotlib import rcParams\n",
    "rcParams[\"font.size\"] = 16\n",
    "rcParams[\"savefig.dpi\"] = 100"
   ]
  },
  {
   "cell_type": "code",
   "execution_count": 5,
   "metadata": {},
   "outputs": [],
   "source": [
    "test_agn_cat = '../data/twinkles_lenses_cosmoDC2_v1.1.4.fits'\n",
    "test_sne_cat = '../data/glsne_cosmoDC2_v1.1.4.h5'\n",
    "test_dc2_cat = '../data/full_ddf.pkl'"
   ]
  },
  {
   "cell_type": "code",
   "execution_count": 6,
   "metadata": {},
   "outputs": [],
   "source": [
    "dc2_sp = DC2Sprinkler(test_agn_cat, OM10Reader,\n",
    "                      test_sne_cat, GoldsteinSNeCatReader,\n",
    "                      test_dc2_cat, DC2Reader)"
   ]
  },
  {
   "cell_type": "code",
   "execution_count": 7,
   "metadata": {},
   "outputs": [],
   "source": [
    "%aimport sprinkler\n",
    "%autoreload"
   ]
  },
  {
   "cell_type": "markdown",
   "metadata": {},
   "source": [
    "## Define new sprinkler with a new AGN density function\n",
    "\n",
    "We want to calibrate probabilities of choosing DC2 AGN to be sprinkled. To calibrate these probabilities we will try to match aspects of the overall OM10 population with our sprinkled population. Currently we are looking to match redshift and i-band magnitude."
   ]
  },
  {
   "cell_type": "markdown",
   "metadata": {},
   "source": [
    "### We are going to try to match the OM10 redshift and magnitude distributions\n",
    "\n",
    "First we design a probability distribution in each component for galaxies that will get matched."
   ]
  },
  {
   "cell_type": "markdown",
   "metadata": {},
   "source": [
    "### First look at overall OM10 distributions in redshift and i-band magnitudes"
   ]
  },
  {
   "cell_type": "code",
   "execution_count": 8,
   "metadata": {},
   "outputs": [],
   "source": [
    "# Load OM10 catalog\n",
    "agn_cat = dc2_sp.gl_agn_cat"
   ]
  },
  {
   "cell_type": "code",
   "execution_count": 9,
   "metadata": {},
   "outputs": [
    {
     "name": "stdout",
     "output_type": "stream",
     "text": [
      "0.33 3.1\n"
     ]
    }
   ],
   "source": [
    "# The Minimum and Maximum Redshifts in the catalog but cosmoDC2 only goes up to z=3.1\n",
    "z_min, z_max = np.min(agn_cat['z_src']), np.max(agn_cat['z_src'])\n",
    "print(z_min, z_max)"
   ]
  },
  {
   "cell_type": "code",
   "execution_count": 10,
   "metadata": {},
   "outputs": [
    {
     "name": "stdout",
     "output_type": "stream",
     "text": [
      "0.26212831745901294 3.1\n"
     ]
    }
   ],
   "source": [
    "# Since we allow matching within 0.1 in dex these are the min, max allowable redshifts in DC2 matching\n",
    "binz_min, binz_max = 10**(np.log10(z_min)-0.1), z_max\n",
    "print(binz_min, binz_max)"
   ]
  },
  {
   "cell_type": "code",
   "execution_count": 11,
   "metadata": {},
   "outputs": [
    {
     "data": {
      "text/plain": [
       "Text(0.5, 1.0, 'Lensed AGN Redshifts in OM10')"
      ]
     },
     "execution_count": 11,
     "metadata": {},
     "output_type": "execute_result"
    },
    {
     "data": {
      "image/png": "[encoded data removed]",
      "text/plain": [
       "<Figure size 432x288 with 1 Axes>"
      ]
     },
     "metadata": {
      "needs_background": "light"
     },
     "output_type": "display_data"
    }
   ],
   "source": [
    "n_z, bins_z, _ = plt.hist(agn_cat['z_src'], bins=20, range=(binz_min, binz_max))\n",
    "plt.xlabel('Redshift')\n",
    "plt.ylabel('Lensed AGN Count')\n",
    "plt.title('Lensed AGN Redshifts in OM10')"
   ]
  },
  {
   "cell_type": "code",
   "execution_count": 12,
   "metadata": {},
   "outputs": [
    {
     "name": "stdout",
     "output_type": "stream",
     "text": [
      "16.79 26.97\n"
     ]
    }
   ],
   "source": [
    "# The Minimum and Maximum Redshifts in the catalog\n",
    "mag_i_min, mag_i_max = np.min(agn_cat['mag_i_src']), np.max(agn_cat['mag_i_src'])\n",
    "print(mag_i_min, mag_i_max)"
   ]
  },
  {
   "cell_type": "code",
   "execution_count": 13,
   "metadata": {},
   "outputs": [
    {
     "name": "stdout",
     "output_type": "stream",
     "text": [
      "16.54 27.22\n"
     ]
    }
   ],
   "source": [
    "# Since we allow matching within 0.25 these are the min, max allowable AGN i-band mags in DC2 matching\n",
    "bin_imag_min, bin_imag_max = mag_i_min-0.25, mag_i_max+.25\n",
    "print(bin_imag_min, bin_imag_max)"
   ]
  },
  {
   "cell_type": "code",
   "execution_count": 14,
   "metadata": {},
   "outputs": [
    {
     "data": {
      "text/plain": [
       "Text(0.5, 1.0, 'Lensed AGN i-band mag in OM10')"
      ]
     },
     "execution_count": 14,
     "metadata": {},
     "output_type": "execute_result"
    },
    {
     "data": {
      "image/png": "[encoded data removed]",
      "text/plain": [
       "<Figure size 432x288 with 1 Axes>"
      ]
     },
     "metadata": {
      "needs_background": "light"
     },
     "output_type": "display_data"
    }
   ],
   "source": [
    "n_imag, bins_imag, _ = plt.hist(agn_cat['mag_i_src'], bins=20, range=(bin_imag_min, bin_imag_max))\n",
    "plt.xlabel('i-band AGN Magnitude')\n",
    "plt.ylabel('Lensed AGN Count')\n",
    "plt.title('Lensed AGN i-band mag in OM10')"
   ]
  },
  {
   "cell_type": "markdown",
   "metadata": {},
   "source": [
    "### Set up sampling functions\n",
    "\n",
    "We will use these to set probabilities of choosing DC2 AGN that fall in these bins."
   ]
  },
  {
   "cell_type": "code",
   "execution_count": 15,
   "metadata": {},
   "outputs": [],
   "source": [
    "dens_z = copy(n_z)\n",
    "dens_z = dens_z / np.max(dens_z)\n",
    "dens_z[:8] += 0.1\n",
    "dens_z[-8:] = 1.0\n",
    "dens_z[:-8] -= 0.08\n",
    "dens_z[5:-8] -= 0.05\n",
    "dens_z[3] -= 0.01\n",
    "dens_z[4] -= 0.03\n",
    "dens_z[5] += 0.0\n",
    "dens_z[6] -= 0.03\n",
    "dens_z[7] -= 0.05\n",
    "dens_z[8] -= 0.01\n",
    "dens_z[9] -= 0.03\n",
    "dens_z[10] += 0.04\n",
    "dens_z[11] -= 0.02"
   ]
  },
  {
   "cell_type": "code",
   "execution_count": 16,
   "metadata": {},
   "outputs": [
    {
     "data": {
      "text/plain": [
       "Text(0.5, 1.0, 'Probability of choosing DC2 galaxy in Sprinkler')"
      ]
     },
     "execution_count": 16,
     "metadata": {},
     "output_type": "execute_result"
    },
    {
     "data": {
      "image/png": "[encoded data removed]",
      "text/plain": [
       "<Figure size 432x288 with 1 Axes>"
      ]
     },
     "metadata": {
      "needs_background": "light"
     },
     "output_type": "display_data"
    }
   ],
   "source": [
    "plt.plot(bins_z[:-1], dens_z)\n",
    "plt.xlabel('Redshift')\n",
    "plt.ylabel('Probability')\n",
    "plt.title('Probability of choosing DC2 galaxy in Sprinkler')"
   ]
  },
  {
   "cell_type": "code",
   "execution_count": 17,
   "metadata": {},
   "outputs": [],
   "source": [
    "np.savetxt('../data/agn_z_density.dat', dens_z)"
   ]
  },
  {
   "cell_type": "code",
   "execution_count": 18,
   "metadata": {},
   "outputs": [],
   "source": [
    "dens_imag = copy(n_imag)\n",
    "dens_imag = dens_imag / np.max(dens_imag)\n",
    "dens_imag[2:-6] += 2. * dens_imag[8:]\n",
    "dens_imag[9] += 0.1\n",
    "dens_imag[10] += 0.2\n",
    "dens_imag[11] += 0.1\n",
    "dens_imag[6:15] += 1. * (1. - np.linspace(0, 1, 9))\n",
    "dens_imag = dens_imag / np.max(dens_imag)\n",
    "dens_imag[2:4] += .2\n",
    "dens_imag[4:10] = 1.0\n",
    "dens_imag[10:-7] = 1.0\n",
    "dens_imag[11] = 0.8\n",
    "dens_imag[12] = 0.6\n",
    "dens_imag[-7:] *= 0.5"
   ]
  },
  {
   "cell_type": "code",
   "execution_count": 19,
   "metadata": {},
   "outputs": [
    {
     "data": {
      "text/plain": [
       "array([16.54 , 17.074, 17.608, 18.142, 18.676, 19.21 , 19.744, 20.278,\n",
       "       20.812, 21.346, 21.88 , 22.414, 22.948, 23.482, 24.016, 24.55 ,\n",
       "       25.084, 25.618, 26.152, 26.686, 27.22 ])"
      ]
     },
     "execution_count": 19,
     "metadata": {},
     "output_type": "execute_result"
    }
   ],
   "source": [
    "bins_imag"
   ]
  },
  {
   "cell_type": "code",
   "execution_count": 20,
   "metadata": {},
   "outputs": [
    {
     "data": {
      "text/plain": [
       "Text(0.5, 1.0, 'Probability of choosing DC2 galaxy in Sprinkler')"
      ]
     },
     "execution_count": 20,
     "metadata": {},
     "output_type": "execute_result"
    },
    {
     "data": {
      "image/png": "[encoded data removed]",
      "text/plain": [
       "<Figure size 432x288 with 1 Axes>"
      ]
     },
     "metadata": {
      "needs_background": "light"
     },
     "output_type": "display_data"
    }
   ],
   "source": [
    "plt.plot(bins_imag[:-1], dens_imag)\n",
    "plt.xlabel('i-band magnitude')\n",
    "plt.ylabel('Probability')\n",
    "plt.title('Probability of choosing DC2 galaxy in Sprinkler')"
   ]
  },
  {
   "cell_type": "code",
   "execution_count": 21,
   "metadata": {},
   "outputs": [
    {
     "data": {
      "text/plain": [
       "array([16.54 , 17.074, 17.608, 18.142, 18.676, 19.21 , 19.744, 20.278,\n",
       "       20.812, 21.346, 21.88 , 22.414, 22.948, 23.482, 24.016, 24.55 ,\n",
       "       25.084, 25.618, 26.152, 26.686, 27.22 ])"
      ]
     },
     "execution_count": 21,
     "metadata": {},
     "output_type": "execute_result"
    }
   ],
   "source": [
    "bins_imag"
   ]
  },
  {
   "cell_type": "code",
   "execution_count": 22,
   "metadata": {},
   "outputs": [],
   "source": [
    "np.savetxt('../data/agn_imag_density.dat', dens_imag)"
   ]
  },
  {
   "cell_type": "markdown",
   "metadata": {},
   "source": [
    "We save these sampling functions to file and then use them in the sprinkler code. In the sprinkler we multiply the redshift probability times the magnitude probability and multiply by a scaling value which is currently 1.0 and calibrates the overall number of systems."
   ]
  },
  {
   "cell_type": "markdown",
   "metadata": {},
   "source": [
    "### Test out the sampling by running the sprinkler"
   ]
  },
  {
   "cell_type": "code",
   "execution_count": 23,
   "metadata": {},
   "outputs": [],
   "source": [
    "agn_hosts, agn_sys_cat = dc2_sp.sprinkle_agn()"
   ]
  },
  {
   "cell_type": "code",
   "execution_count": 24,
   "metadata": {},
   "outputs": [
    {
     "data": {
      "text/html": [
       "<div>\n",
       "<style scoped>\n",
       "    .dataframe tbody tr th:only-of-type {\n",
       "        vertical-align: middle;\n",
       "    }\n",
       "\n",
       "    .dataframe tbody tr th {\n",
       "        vertical-align: top;\n",
       "    }\n",
       "\n",
       "    .dataframe thead th {\n",
       "        text-align: right;\n",
       "    }\n",
       "</style>\n",
       "<table border=\"1\" class=\"dataframe\">\n",
       "  <thead>\n",
       "    <tr style=\"text-align: right;\">\n",
       "      <th></th>\n",
       "      <th>galaxy_id</th>\n",
       "      <th>ra</th>\n",
       "      <th>dec</th>\n",
       "      <th>redshift</th>\n",
       "      <th>gamma_1</th>\n",
       "      <th>gamma_2</th>\n",
       "      <th>kappa</th>\n",
       "      <th>av_internal_disk</th>\n",
       "      <th>av_internal_bulge</th>\n",
       "      <th>rv_internal_disk</th>\n",
       "      <th>...</th>\n",
       "      <th>magnorm_disk</th>\n",
       "      <th>magnorm_bulge</th>\n",
       "      <th>fluxes_disk</th>\n",
       "      <th>fluxes_bulge</th>\n",
       "      <th>sed_disk</th>\n",
       "      <th>sed_bulge</th>\n",
       "      <th>gal_type</th>\n",
       "      <th>magnorm_agn</th>\n",
       "      <th>mag_i_agn</th>\n",
       "      <th>varParamStr_agn</th>\n",
       "    </tr>\n",
       "  </thead>\n",
       "  <tbody>\n",
       "    <tr>\n",
       "      <th>17008</th>\n",
       "      <td>1875299621</td>\n",
       "      <td>52.862247</td>\n",
       "      <td>-27.840443</td>\n",
       "      <td>0.451181</td>\n",
       "      <td>-0.002175</td>\n",
       "      <td>0.005562</td>\n",
       "      <td>-0.001001</td>\n",
       "      <td>0.3</td>\n",
       "      <td>0.3</td>\n",
       "      <td>4.0</td>\n",
       "      <td>...</td>\n",
       "      <td>[23.50112622791565, 23.4735370046433, 23.50799...</td>\n",
       "      <td>[19.753732470638646, 19.540521508042076, 19.34...</td>\n",
       "      <td>[7.204981294214914e-07, 7.418789880237264e-07,...</td>\n",
       "      <td>[3.8264775097187525e-06, 1.0557723563723791e-0...</td>\n",
       "      <td>b'galaxySED/Const.20E08.02Z.spec.gz'</td>\n",
       "      <td>b'galaxySED/Exp.50E09.0005Z.spec.gz'</td>\n",
       "      <td>kinney-elliptical</td>\n",
       "      <td>20.348565</td>\n",
       "      <td>20.128153</td>\n",
       "      <td>{\"m\": \"applyAgn\", \"p\": {\"seed\": 4020051, \"agn_...</td>\n",
       "    </tr>\n",
       "    <tr>\n",
       "      <th>56777</th>\n",
       "      <td>1876005576</td>\n",
       "      <td>52.613531</td>\n",
       "      <td>-27.839463</td>\n",
       "      <td>0.714599</td>\n",
       "      <td>0.012985</td>\n",
       "      <td>0.003445</td>\n",
       "      <td>0.006585</td>\n",
       "      <td>0.4</td>\n",
       "      <td>0.1</td>\n",
       "      <td>4.0</td>\n",
       "      <td>...</td>\n",
       "      <td>[26.04044412714207, 26.017461035576797, 25.965...</td>\n",
       "      <td>[20.770294283748356, 20.788668896055004, 20.73...</td>\n",
       "      <td>[9.440789901912083e-08, 9.523522186262107e-08,...</td>\n",
       "      <td>[3.6576707029982863e-06, 4.03266132491379e-06,...</td>\n",
       "      <td>b'galaxySED/Burst.19E07.02Z.spec.gz'</td>\n",
       "      <td>b'galaxySED/Exp.25E09.1Z.spec.gz'</td>\n",
       "      <td>kinney-elliptical</td>\n",
       "      <td>21.829105</td>\n",
       "      <td>21.654666</td>\n",
       "      <td>{\"m\": \"applyAgn\", \"p\": {\"seed\": 8022933, \"agn_...</td>\n",
       "    </tr>\n",
       "    <tr>\n",
       "      <th>85353</th>\n",
       "      <td>1876519708</td>\n",
       "      <td>52.898971</td>\n",
       "      <td>-27.588704</td>\n",
       "      <td>0.845949</td>\n",
       "      <td>-0.011171</td>\n",
       "      <td>-0.005203</td>\n",
       "      <td>-0.005566</td>\n",
       "      <td>0.4</td>\n",
       "      <td>0.1</td>\n",
       "      <td>4.0</td>\n",
       "      <td>...</td>\n",
       "      <td>[24.875585684080118, 24.859651279658827, 24.87...</td>\n",
       "      <td>[20.381331560729873, 20.393758575187373, 20.29...</td>\n",
       "      <td>[2.730535738054766e-07, 2.546109572090378e-07,...</td>\n",
       "      <td>[5.686356815843988e-06, 5.965180347858453e-06,...</td>\n",
       "      <td>b'galaxySED/Const.40E07.02Z.spec.gz'</td>\n",
       "      <td>b'galaxySED/Exp.20E09.1Z.spec.gz'</td>\n",
       "      <td>kinney-elliptical</td>\n",
       "      <td>22.120220</td>\n",
       "      <td>21.942742</td>\n",
       "      <td>{\"m\": \"applyAgn\", \"p\": {\"seed\": 1710039, \"agn_...</td>\n",
       "    </tr>\n",
       "    <tr>\n",
       "      <th>95439</th>\n",
       "      <td>1876695857</td>\n",
       "      <td>52.546219</td>\n",
       "      <td>-28.042984</td>\n",
       "      <td>0.883605</td>\n",
       "      <td>-0.002330</td>\n",
       "      <td>-0.023106</td>\n",
       "      <td>-0.010028</td>\n",
       "      <td>0.0</td>\n",
       "      <td>0.1</td>\n",
       "      <td>2.0</td>\n",
       "      <td>...</td>\n",
       "      <td>[30.598316187904057, 30.645420538137145, 30.66...</td>\n",
       "      <td>[21.8910985670889, 21.886933398597794, 21.8857...</td>\n",
       "      <td>[3.880622636671241e-09, 3.053683454418982e-09,...</td>\n",
       "      <td>[1.441811456789912e-06, 1.4922529463386161e-06...</td>\n",
       "      <td>b'galaxySED/Inst.15E07.002Z.spec.gz'</td>\n",
       "      <td>b'galaxySED/Exp.20E09.1Z.spec.gz'</td>\n",
       "      <td>kinney-elliptical</td>\n",
       "      <td>22.225172</td>\n",
       "      <td>22.039325</td>\n",
       "      <td>{\"m\": \"applyAgn\", \"p\": {\"seed\": 4636896, \"agn_...</td>\n",
       "    </tr>\n",
       "    <tr>\n",
       "      <th>97040</th>\n",
       "      <td>1876724326</td>\n",
       "      <td>52.583562</td>\n",
       "      <td>-28.084166</td>\n",
       "      <td>0.882389</td>\n",
       "      <td>0.001468</td>\n",
       "      <td>-0.013728</td>\n",
       "      <td>-0.008336</td>\n",
       "      <td>0.8</td>\n",
       "      <td>0.1</td>\n",
       "      <td>4.0</td>\n",
       "      <td>...</td>\n",
       "      <td>[26.40761685235798, 26.400052560210433, 26.377...</td>\n",
       "      <td>[20.621939401794283, 20.6649259521617, 20.7291...</td>\n",
       "      <td>[3.0040031555325073e-08, 2.9218554445727618e-0...</td>\n",
       "      <td>[3.85996747678299e-06, 3.7930136885170256e-06,...</td>\n",
       "      <td>b'galaxySED/Exp.50E07.02Z.spec.gz'</td>\n",
       "      <td>b'galaxySED/Exp.25E09.04Z.spec.gz'</td>\n",
       "      <td>kinney-elliptical</td>\n",
       "      <td>23.405445</td>\n",
       "      <td>23.219719</td>\n",
       "      <td>{\"m\": \"applyAgn\", \"p\": {\"seed\": 4653944, \"agn_...</td>\n",
       "    </tr>\n",
       "  </tbody>\n",
       "</table>\n",
       "<p>5 rows × 29 columns</p>\n",
       "</div>"
      ],
      "text/plain": [
       "        galaxy_id         ra        dec  redshift   gamma_1   gamma_2  \\\n",
       "17008  1875299621  52.862247 -27.840443  0.451181 -0.002175  0.005562   \n",
       "56777  1876005576  52.613531 -27.839463  0.714599  0.012985  0.003445   \n",
       "85353  1876519708  52.898971 -27.588704  0.845949 -0.011171 -0.005203   \n",
       "95439  1876695857  52.546219 -28.042984  0.883605 -0.002330 -0.023106   \n",
       "97040  1876724326  52.583562 -28.084166  0.882389  0.001468 -0.013728   \n",
       "\n",
       "          kappa  av_internal_disk  av_internal_bulge  rv_internal_disk  ...  \\\n",
       "17008 -0.001001               0.3                0.3               4.0  ...   \n",
       "56777  0.006585               0.4                0.1               4.0  ...   \n",
       "85353 -0.005566               0.4                0.1               4.0  ...   \n",
       "95439 -0.010028               0.0                0.1               2.0  ...   \n",
       "97040 -0.008336               0.8                0.1               4.0  ...   \n",
       "\n",
       "                                            magnorm_disk  \\\n",
       "17008  [23.50112622791565, 23.4735370046433, 23.50799...   \n",
       "56777  [26.04044412714207, 26.017461035576797, 25.965...   \n",
       "85353  [24.875585684080118, 24.859651279658827, 24.87...   \n",
       "95439  [30.598316187904057, 30.645420538137145, 30.66...   \n",
       "97040  [26.40761685235798, 26.400052560210433, 26.377...   \n",
       "\n",
       "                                           magnorm_bulge  \\\n",
       "17008  [19.753732470638646, 19.540521508042076, 19.34...   \n",
       "56777  [20.770294283748356, 20.788668896055004, 20.73...   \n",
       "85353  [20.381331560729873, 20.393758575187373, 20.29...   \n",
       "95439  [21.8910985670889, 21.886933398597794, 21.8857...   \n",
       "97040  [20.621939401794283, 20.6649259521617, 20.7291...   \n",
       "\n",
       "                                             fluxes_disk  \\\n",
       "17008  [7.204981294214914e-07, 7.418789880237264e-07,...   \n",
       "56777  [9.440789901912083e-08, 9.523522186262107e-08,...   \n",
       "85353  [2.730535738054766e-07, 2.546109572090378e-07,...   \n",
       "95439  [3.880622636671241e-09, 3.053683454418982e-09,...   \n",
       "97040  [3.0040031555325073e-08, 2.9218554445727618e-0...   \n",
       "\n",
       "                                            fluxes_bulge  \\\n",
       "17008  [3.8264775097187525e-06, 1.0557723563723791e-0...   \n",
       "56777  [3.6576707029982863e-06, 4.03266132491379e-06,...   \n",
       "85353  [5.686356815843988e-06, 5.965180347858453e-06,...   \n",
       "95439  [1.441811456789912e-06, 1.4922529463386161e-06...   \n",
       "97040  [3.85996747678299e-06, 3.7930136885170256e-06,...   \n",
       "\n",
       "                                   sed_disk  \\\n",
       "17008  b'galaxySED/Const.20E08.02Z.spec.gz'   \n",
       "56777  b'galaxySED/Burst.19E07.02Z.spec.gz'   \n",
       "85353  b'galaxySED/Const.40E07.02Z.spec.gz'   \n",
       "95439  b'galaxySED/Inst.15E07.002Z.spec.gz'   \n",
       "97040    b'galaxySED/Exp.50E07.02Z.spec.gz'   \n",
       "\n",
       "                                  sed_bulge           gal_type  magnorm_agn  \\\n",
       "17008  b'galaxySED/Exp.50E09.0005Z.spec.gz'  kinney-elliptical    20.348565   \n",
       "56777     b'galaxySED/Exp.25E09.1Z.spec.gz'  kinney-elliptical    21.829105   \n",
       "85353     b'galaxySED/Exp.20E09.1Z.spec.gz'  kinney-elliptical    22.120220   \n",
       "95439     b'galaxySED/Exp.20E09.1Z.spec.gz'  kinney-elliptical    22.225172   \n",
       "97040    b'galaxySED/Exp.25E09.04Z.spec.gz'  kinney-elliptical    23.405445   \n",
       "\n",
       "       mag_i_agn                                    varParamStr_agn  \n",
       "17008  20.128153  {\"m\": \"applyAgn\", \"p\": {\"seed\": 4020051, \"agn_...  \n",
       "56777  21.654666  {\"m\": \"applyAgn\", \"p\": {\"seed\": 8022933, \"agn_...  \n",
       "85353  21.942742  {\"m\": \"applyAgn\", \"p\": {\"seed\": 1710039, \"agn_...  \n",
       "95439  22.039325  {\"m\": \"applyAgn\", \"p\": {\"seed\": 4636896, \"agn_...  \n",
       "97040  23.219719  {\"m\": \"applyAgn\", \"p\": {\"seed\": 4653944, \"agn_...  \n",
       "\n",
       "[5 rows x 29 columns]"
      ]
     },
     "execution_count": 24,
     "metadata": {},
     "output_type": "execute_result"
    }
   ],
   "source": [
    "agn_hosts.head()"
   ]
  },
  {
   "cell_type": "code",
   "execution_count": 26,
   "metadata": {},
   "outputs": [
    {
     "data": {
      "text/plain": [
       "1476"
      ]
     },
     "execution_count": 26,
     "metadata": {},
     "output_type": "execute_result"
    }
   ],
   "source": [
    "len(agn_hosts)"
   ]
  },
  {
   "cell_type": "code",
   "execution_count": 27,
   "metadata": {},
   "outputs": [
    {
     "data": {
      "text/plain": [
       "Text(0.5, 1.0, 'Comparing Matched Redshifts to OM10')"
      ]
     },
     "execution_count": 27,
     "metadata": {},
     "output_type": "execute_result"
    },
    {
     "data": {
      "image/png": "[encoded data removed]",
      "text/plain": [
       "<Figure size 720x432 with 1 Axes>"
      ]
     },
     "metadata": {
      "needs_background": "light"
     },
     "output_type": "display_data"
    }
   ],
   "source": [
    "fig = plt.figure(figsize=(10,6))\n",
    "n, bins, _ = plt.hist(agn_hosts['redshift'], density=True, histtype='step',\n",
    "                      label='Matched DC2 Galaxies', lw=3, bins=10, range=(binz_min, binz_max))\n",
    "plt.hist(agn_cat.query('z_src <= %f' % binz_max)['z_src'], density=True,\n",
    "         histtype='step', label='OM10', lw=3, bins=bins)\n",
    "plt.hist(dc2_sp.gal_cat.query('magnorm_agn > -99')['redshift'], density=True,\n",
    "         histtype='step', bins=bins, label='Overall DC2 DDF AGN', lw=3)\n",
    "plt.xlabel('Redshift', size=16)\n",
    "plt.ylabel('Normalized # of AGN', size=16)\n",
    "plt.xticks(size=14)\n",
    "plt.yticks(size=14)\n",
    "plt.legend(fontsize=14, loc=2)\n",
    "plt.title('Comparing Matched Redshifts to OM10')"
   ]
  },
  {
   "cell_type": "code",
   "execution_count": 28,
   "metadata": {},
   "outputs": [
    {
     "data": {
      "text/plain": [
       "Text(0.5, 1.0, 'Comparing Matched i-band magnitudes to OM10')"
      ]
     },
     "execution_count": 28,
     "metadata": {},
     "output_type": "execute_result"
    },
    {
     "data": {
      "image/png": "[encoded data removed]",
      "text/plain": [
       "<Figure size 720x432 with 1 Axes>"
      ]
     },
     "metadata": {
      "needs_background": "light"
     },
     "output_type": "display_data"
    }
   ],
   "source": [
    "fig = plt.figure(figsize=(10,6))\n",
    "n, bins, _ = plt.hist(agn_hosts['mag_i_agn'], density=True, histtype='step',\n",
    "                      label='Matched DC2 Galaxies', lw=3, bins=10)\n",
    "plt.hist(agn_cat.query('z_src <= %f' % binz_max)['mag_i_src'], density=True,\n",
    "         histtype='step', label='OM10', lw=3, bins=bins)\n",
    "plt.hist(dc2_sp.gal_cat.query('magnorm_agn > -99')['mag_i_agn'], density=True,\n",
    "         histtype='step', bins=bins, label='Overall DC2 DDF AGN', lw=3)\n",
    "plt.xlabel('i-band magnitude', size=16)\n",
    "plt.ylabel('Normalized # of AGN', size=16)\n",
    "plt.xticks(size=14)\n",
    "plt.yticks(size=14)\n",
    "plt.legend(fontsize=14, loc=2)\n",
    "plt.title('Comparing Matched i-band magnitudes to OM10')"
   ]
  },
  {
   "cell_type": "code",
   "execution_count": 29,
   "metadata": {},
   "outputs": [
    {
     "data": {
      "image/png": "[encoded data removed]",
      "text/plain": [
       "<Figure size 396x396 with 4 Axes>"
      ]
     },
     "metadata": {
      "needs_background": "light"
     },
     "output_type": "display_data"
    }
   ],
   "source": [
    "\n",
    "fig = corner.corner(agn_hosts[['redshift', 'mag_i_agn']].values, bins=10, hist_kwargs={'density':True},\n",
    "                    labels=['redshift', 'AGN i-band mag'], label_kwargs={'size':14})\n",
    "corner.corner(agn_cat.query('z_src <= %f' % binz_max)[['z_src', 'mag_i_src']].values,\n",
    "              bins=10, color='r', fig=fig, hist_kwargs={'density':True})\n",
    "plt.show()"
   ]
  },
  {
   "cell_type": "markdown",
   "metadata": {},
   "source": [
    "Our redshift distribution looks close but we have some trouble with i-band magnitudes since the OM10 population is brighter than is actually possible with the DC2 population. It looks like it's about as well as we can do with what we have and yields 1476 systems which is a good sample size."
   ]
  },
  {
   "cell_type": "markdown",
   "metadata": {},
   "source": [
    "## Define new sprinkler with a new SNe density function\n",
    "\n",
    "We want to calibrate probabilities of choosing DC2 SNe hosts to be sprinkled. To calibrate these probabilities we will try to match aspects of the overall SNe and SNe host population with our sprinkled population."
   ]
  },
  {
   "cell_type": "markdown",
   "metadata": {},
   "source": [
    "### Review of matching code currently in Sprinkler"
   ]
  },
  {
   "cell_type": "markdown",
   "metadata": {},
   "source": [
    "#### The function `assign_matches_sne` works in the sprinkler to match potential host galaxies to sprinkled systems\n",
    "\n",
    "It first calculates a probability for a galaxy to host a SN with the function `sne_density` based upon stellar mass and galaxy type. Then it draws from a value from a uniform distribution to see if that galaxy gets a SN. If it does then it moves on to `find_possible_match_sne` to find the lensed SN systems that match up to this galaxy based upon redshift and galaxy type.\n",
    "\n",
    "```\n",
    "    def assign_matches_sne(self, sne_gals, rand_state):\n",
    "        \n",
    "        sprinkled_sne_gal_rows = []\n",
    "        sprinkled_gl_sne_cat_rows = []\n",
    "\n",
    "        for i in range(len(sne_gals)):\n",
    "            \n",
    "            if i % 10000 == 0:\n",
    "                print(i)\n",
    "            \n",
    "            # Draw probability that galaxy is sprinkled\n",
    "            sne_density = self.sne_density(sne_gals.iloc[i])\n",
    "\n",
    "            density_draw = rand_state.uniform()\n",
    "            if density_draw > sne_density: \n",
    "                continue\n",
    "            \n",
    "            sne_cat_idx = self.find_possible_match_sne(sne_gals.iloc[i])\n",
    "                \n",
    "            sne_idx_keep = [x for x in sne_cat_idx\n",
    "                            if x not in sprinkled_gl_sne_cat_rows]\n",
    "\n",
    "            if len(sne_idx_keep) == 0:\n",
    "                continue   \n",
    "            \n",
    "            sprinkled_gl_sne_cat_rows.append(\n",
    "                rand_state.choice(sne_idx_keep))\n",
    "            sprinkled_sne_gal_rows.append(i)\n",
    "            \n",
    "        return sprinkled_sne_gal_rows, sprinkled_gl_sne_cat_rows\n",
    "```"
   ]
  },
  {
   "cell_type": "markdown",
   "metadata": {},
   "source": [
    "#### `sne_density` determines the probability of a galaxy hosting a SN\n",
    "\n",
    "We use the galaxy types we determined when creating the catalog and the stellar mass of the galaxy to get probabilities that conform with the rates in Table 2 of [Mannucci et al. 2005](https://www.aanda.org/articles/aa/pdf/2005/15/aa1411.pdf).\n",
    "\n",
    "We add in a normalization factor to get the approximate number of lensed SNe we want in the DDF field over the 10 years.\n",
    "\n",
    "```\n",
    "    def sne_density(self, sne_gal_row):\n",
    "        \n",
    "        density_norm = 0.05\n",
    "        \n",
    "        stellar_mass = sne_gal_row['stellar_mass']\n",
    "        host_type = sne_gal_row['gal_type']\n",
    "        \n",
    "        if host_type == 'kinney-elliptical':\n",
    "            density_host = 0.044 * stellar_mass * 1e-10\n",
    "        elif host_type == 'kinney-sc':\n",
    "            density_host = 0.17 * stellar_mass * 1e-10\n",
    "        elif host_type == 'kinney-starburst':\n",
    "            density_host = 0.77 * stellar_mass * 1e-10\n",
    "        \n",
    "        density_val = density_norm * density_host\n",
    "\n",
    "        return density_val\n",
    "```"
   ]
  },
  {
   "cell_type": "markdown",
   "metadata": {},
   "source": [
    "#### `find_possible_match_sne` matches potential host galaxies with appropriate systems in the lensed SNe catalog\n",
    "\n",
    "We find lensed SNe systems that are approximately the same in host mass redshift and type.\n",
    "\n",
    "```\n",
    "    def find_possible_match_sne(self, gal_cat):\n",
    "\n",
    "        gal_z = gal_cat['redshift']\n",
    "        gal_type = gal_cat['gal_type']\n",
    "\n",
    "        # search the SNe catalog for all sources +- 0.05 dex in redshift\n",
    "        # and with matching type\n",
    "        lens_candidate_idx = []\n",
    "\n",
    "        w = np.where((np.abs(np.log10(self.gl_sne_cat['z_src']) -\n",
    "                             np.log10(gal_z)) <= 0.05) &\n",
    "                     (self.gl_sne_cat['type_host'] == gal_type))\n",
    "        lens_candidate_idx = w[0]    \n",
    "\n",
    "        return lens_candidate_idx\n",
    "```"
   ]
  },
  {
   "cell_type": "code",
   "execution_count": 30,
   "metadata": {},
   "outputs": [],
   "source": [
    "# Load Goldstein et al. catalog\n",
    "sne_cat = dc2_sp.gl_sne_cat"
   ]
  },
  {
   "cell_type": "markdown",
   "metadata": {},
   "source": [
    "### Test out the sampling by running the sprinkler"
   ]
  },
  {
   "cell_type": "code",
   "execution_count": 32,
   "metadata": {},
   "outputs": [],
   "source": [
    "#dc2_sp.gal_cat = dc2_sp.gal_cat.iloc[:10000]"
   ]
  },
  {
   "cell_type": "code",
   "execution_count": 33,
   "metadata": {},
   "outputs": [
    {
     "data": {
      "text/plain": [
       "176241"
      ]
     },
     "execution_count": 33,
     "metadata": {},
     "output_type": "execute_result"
    }
   ],
   "source": [
    "len(dc2_sp.gl_sne_cat)"
   ]
  },
  {
   "cell_type": "code",
   "execution_count": 34,
   "metadata": {},
   "outputs": [
    {
     "name": "stdout",
     "output_type": "stream",
     "text": [
      "0\n",
      "10000\n",
      "20000\n",
      "30000\n",
      "40000\n",
      "50000\n",
      "60000\n",
      "70000\n",
      "80000\n",
      "90000\n",
      "100000\n",
      "110000\n",
      "120000\n",
      "130000\n",
      "140000\n",
      "150000\n",
      "160000\n",
      "170000\n",
      "180000\n",
      "190000\n",
      "200000\n",
      "210000\n",
      "220000\n",
      "230000\n",
      "240000\n",
      "250000\n",
      "260000\n",
      "270000\n",
      "280000\n",
      "290000\n",
      "300000\n",
      "310000\n",
      "320000\n",
      "330000\n",
      "340000\n",
      "350000\n",
      "360000\n",
      "370000\n",
      "380000\n",
      "390000\n",
      "400000\n",
      "410000\n",
      "420000\n",
      "430000\n",
      "440000\n",
      "450000\n",
      "460000\n",
      "470000\n",
      "480000\n",
      "490000\n",
      "500000\n",
      "510000\n",
      "520000\n",
      "530000\n",
      "540000\n",
      "550000\n",
      "560000\n",
      "570000\n",
      "580000\n",
      "590000\n"
     ]
    }
   ],
   "source": [
    "sne_hosts, sne_sys_cat = dc2_sp.sprinkle_sne()"
   ]
  },
  {
   "cell_type": "code",
   "execution_count": 35,
   "metadata": {},
   "outputs": [
    {
     "data": {
      "text/html": [
       "<div>\n",
       "<style scoped>\n",
       "    .dataframe tbody tr th:only-of-type {\n",
       "        vertical-align: middle;\n",
       "    }\n",
       "\n",
       "    .dataframe tbody tr th {\n",
       "        vertical-align: top;\n",
       "    }\n",
       "\n",
       "    .dataframe thead th {\n",
       "        text-align: right;\n",
       "    }\n",
       "</style>\n",
       "<table border=\"1\" class=\"dataframe\">\n",
       "  <thead>\n",
       "    <tr style=\"text-align: right;\">\n",
       "      <th></th>\n",
       "      <th>galaxy_id</th>\n",
       "      <th>ra</th>\n",
       "      <th>dec</th>\n",
       "      <th>redshift</th>\n",
       "      <th>gamma_1</th>\n",
       "      <th>gamma_2</th>\n",
       "      <th>kappa</th>\n",
       "      <th>av_internal_disk</th>\n",
       "      <th>av_internal_bulge</th>\n",
       "      <th>rv_internal_disk</th>\n",
       "      <th>...</th>\n",
       "      <th>magnorm_disk</th>\n",
       "      <th>magnorm_bulge</th>\n",
       "      <th>fluxes_disk</th>\n",
       "      <th>fluxes_bulge</th>\n",
       "      <th>sed_disk</th>\n",
       "      <th>sed_bulge</th>\n",
       "      <th>gal_type</th>\n",
       "      <th>magnorm_agn</th>\n",
       "      <th>mag_i_agn</th>\n",
       "      <th>varParamStr_agn</th>\n",
       "    </tr>\n",
       "  </thead>\n",
       "  <tbody>\n",
       "    <tr>\n",
       "      <th>807</th>\n",
       "      <td>1875015463</td>\n",
       "      <td>52.848254</td>\n",
       "      <td>-27.656528</td>\n",
       "      <td>0.161107</td>\n",
       "      <td>-0.001926</td>\n",
       "      <td>-0.002765</td>\n",
       "      <td>-0.000353</td>\n",
       "      <td>0.4</td>\n",
       "      <td>0.0</td>\n",
       "      <td>4.0</td>\n",
       "      <td>...</td>\n",
       "      <td>[21.264243708472424, 21.21184698864384, 21.253...</td>\n",
       "      <td>[18.39474452631916, 18.332377922406284, 18.280...</td>\n",
       "      <td>[5.523403383558069e-07, 3.4108316519740194e-06...</td>\n",
       "      <td>[1.691775942608243e-05, 8.17149177966597e-05, ...</td>\n",
       "      <td>b'galaxySED/Burst.12E10.1Z.spec.gz'</td>\n",
       "      <td>b'galaxySED/Inst.12E10.04Z.spec.gz'</td>\n",
       "      <td>kinney-elliptical</td>\n",
       "      <td>23.194109</td>\n",
       "      <td>22.780837</td>\n",
       "      <td>{\"m\": \"applyAgn\", \"p\": {\"seed\": 8585240, \"agn_...</td>\n",
       "    </tr>\n",
       "    <tr>\n",
       "      <th>2310</th>\n",
       "      <td>1875044549</td>\n",
       "      <td>52.636912</td>\n",
       "      <td>-27.952853</td>\n",
       "      <td>0.232278</td>\n",
       "      <td>0.000182</td>\n",
       "      <td>-0.003534</td>\n",
       "      <td>0.002612</td>\n",
       "      <td>0.2</td>\n",
       "      <td>0.0</td>\n",
       "      <td>2.2</td>\n",
       "      <td>...</td>\n",
       "      <td>[45.234032555741436, 45.13781478679364, 45.179...</td>\n",
       "      <td>[18.12121354220593, 18.0478810682791, 17.98531...</td>\n",
       "      <td>[5.547850644516766e-16, 1.3743767227569443e-15...</td>\n",
       "      <td>[1.6059871570660333e-05, 8.031565817911704e-05...</td>\n",
       "      <td>b'galaxySED/Exp.25E09.1Z.spec.gz'</td>\n",
       "      <td>b'galaxySED/Inst.80E09.04Z.spec.gz'</td>\n",
       "      <td>kinney-elliptical</td>\n",
       "      <td>22.100720</td>\n",
       "      <td>21.696990</td>\n",
       "      <td>{\"m\": \"applyAgn\", \"p\": {\"seed\": 4660582, \"agn_...</td>\n",
       "    </tr>\n",
       "    <tr>\n",
       "      <th>6111</th>\n",
       "      <td>1875113428</td>\n",
       "      <td>52.969748</td>\n",
       "      <td>-27.554475</td>\n",
       "      <td>0.314404</td>\n",
       "      <td>0.000882</td>\n",
       "      <td>0.000622</td>\n",
       "      <td>-0.001166</td>\n",
       "      <td>0.7</td>\n",
       "      <td>0.4</td>\n",
       "      <td>4.0</td>\n",
       "      <td>...</td>\n",
       "      <td>[23.218549699742805, 23.119788458788083, 23.11...</td>\n",
       "      <td>[21.310456293676697, 21.206160632920568, 21.06...</td>\n",
       "      <td>[1.3502564383216043e-07, 3.2700753280537487e-0...</td>\n",
       "      <td>[3.9628120406158345e-07, 2.217190560777584e-06...</td>\n",
       "      <td>b'galaxySED/Exp.32E09.25Z.spec.gz'</td>\n",
       "      <td>b'galaxySED/Inst.50E09.02Z.spec.gz'</td>\n",
       "      <td>kinney-sc</td>\n",
       "      <td>NaN</td>\n",
       "      <td>NaN</td>\n",
       "      <td>NaN</td>\n",
       "    </tr>\n",
       "    <tr>\n",
       "      <th>8171</th>\n",
       "      <td>1875148199</td>\n",
       "      <td>52.930183</td>\n",
       "      <td>-27.705258</td>\n",
       "      <td>0.335679</td>\n",
       "      <td>-0.002427</td>\n",
       "      <td>0.003057</td>\n",
       "      <td>-0.002353</td>\n",
       "      <td>0.0</td>\n",
       "      <td>0.2</td>\n",
       "      <td>2.0</td>\n",
       "      <td>...</td>\n",
       "      <td>[24.80787565925327, 24.57545315739067, 24.5194...</td>\n",
       "      <td>[25.03424061244987, 25.311798859402007, 25.398...</td>\n",
       "      <td>[7.827959358924603e-08, 2.18835720149617e-07, ...</td>\n",
       "      <td>[1.5293963628223696e-08, 6.136448332578592e-08...</td>\n",
       "      <td>b'galaxySED/Inst.25E09.0005Z.spec.gz'</td>\n",
       "      <td>b'galaxySED/Burst.16E09.1Z.spec.gz'</td>\n",
       "      <td>kinney-sc</td>\n",
       "      <td>NaN</td>\n",
       "      <td>NaN</td>\n",
       "      <td>NaN</td>\n",
       "    </tr>\n",
       "    <tr>\n",
       "      <th>13913</th>\n",
       "      <td>1875247586</td>\n",
       "      <td>52.551354</td>\n",
       "      <td>-27.871693</td>\n",
       "      <td>0.432056</td>\n",
       "      <td>0.006396</td>\n",
       "      <td>-0.001115</td>\n",
       "      <td>-0.004375</td>\n",
       "      <td>0.4</td>\n",
       "      <td>0.2</td>\n",
       "      <td>4.0</td>\n",
       "      <td>...</td>\n",
       "      <td>[20.606678998285076, 20.606771199664756, 20.66...</td>\n",
       "      <td>[22.179318442016804, 22.022283706315005, 21.88...</td>\n",
       "      <td>[4.376219400652158e-06, 5.7906585334705214e-06...</td>\n",
       "      <td>[1.0905511615448431e-07, 8.40338896637698e-07,...</td>\n",
       "      <td>b'galaxySED/Const.25E09.02Z.spec.gz'</td>\n",
       "      <td>b'galaxySED/Burst.62E09.02Z.spec.gz'</td>\n",
       "      <td>kinney-sc</td>\n",
       "      <td>22.955228</td>\n",
       "      <td>22.749889</td>\n",
       "      <td>{\"m\": \"applyAgn\", \"p\": {\"seed\": 7672592, \"agn_...</td>\n",
       "    </tr>\n",
       "  </tbody>\n",
       "</table>\n",
       "<p>5 rows × 29 columns</p>\n",
       "</div>"
      ],
      "text/plain": [
       "        galaxy_id         ra        dec  redshift   gamma_1   gamma_2  \\\n",
       "807    1875015463  52.848254 -27.656528  0.161107 -0.001926 -0.002765   \n",
       "2310   1875044549  52.636912 -27.952853  0.232278  0.000182 -0.003534   \n",
       "6111   1875113428  52.969748 -27.554475  0.314404  0.000882  0.000622   \n",
       "8171   1875148199  52.930183 -27.705258  0.335679 -0.002427  0.003057   \n",
       "13913  1875247586  52.551354 -27.871693  0.432056  0.006396 -0.001115   \n",
       "\n",
       "          kappa  av_internal_disk  av_internal_bulge  rv_internal_disk  ...  \\\n",
       "807   -0.000353               0.4                0.0               4.0  ...   \n",
       "2310   0.002612               0.2                0.0               2.2  ...   \n",
       "6111  -0.001166               0.7                0.4               4.0  ...   \n",
       "8171  -0.002353               0.0                0.2               2.0  ...   \n",
       "13913 -0.004375               0.4                0.2               4.0  ...   \n",
       "\n",
       "                                            magnorm_disk  \\\n",
       "807    [21.264243708472424, 21.21184698864384, 21.253...   \n",
       "2310   [45.234032555741436, 45.13781478679364, 45.179...   \n",
       "6111   [23.218549699742805, 23.119788458788083, 23.11...   \n",
       "8171   [24.80787565925327, 24.57545315739067, 24.5194...   \n",
       "13913  [20.606678998285076, 20.606771199664756, 20.66...   \n",
       "\n",
       "                                           magnorm_bulge  \\\n",
       "807    [18.39474452631916, 18.332377922406284, 18.280...   \n",
       "2310   [18.12121354220593, 18.0478810682791, 17.98531...   \n",
       "6111   [21.310456293676697, 21.206160632920568, 21.06...   \n",
       "8171   [25.03424061244987, 25.311798859402007, 25.398...   \n",
       "13913  [22.179318442016804, 22.022283706315005, 21.88...   \n",
       "\n",
       "                                             fluxes_disk  \\\n",
       "807    [5.523403383558069e-07, 3.4108316519740194e-06...   \n",
       "2310   [5.547850644516766e-16, 1.3743767227569443e-15...   \n",
       "6111   [1.3502564383216043e-07, 3.2700753280537487e-0...   \n",
       "8171   [7.827959358924603e-08, 2.18835720149617e-07, ...   \n",
       "13913  [4.376219400652158e-06, 5.7906585334705214e-06...   \n",
       "\n",
       "                                            fluxes_bulge  \\\n",
       "807    [1.691775942608243e-05, 8.17149177966597e-05, ...   \n",
       "2310   [1.6059871570660333e-05, 8.031565817911704e-05...   \n",
       "6111   [3.9628120406158345e-07, 2.217190560777584e-06...   \n",
       "8171   [1.5293963628223696e-08, 6.136448332578592e-08...   \n",
       "13913  [1.0905511615448431e-07, 8.40338896637698e-07,...   \n",
       "\n",
       "                                    sed_disk  \\\n",
       "807      b'galaxySED/Burst.12E10.1Z.spec.gz'   \n",
       "2310       b'galaxySED/Exp.25E09.1Z.spec.gz'   \n",
       "6111      b'galaxySED/Exp.32E09.25Z.spec.gz'   \n",
       "8171   b'galaxySED/Inst.25E09.0005Z.spec.gz'   \n",
       "13913   b'galaxySED/Const.25E09.02Z.spec.gz'   \n",
       "\n",
       "                                  sed_bulge           gal_type  magnorm_agn  \\\n",
       "807     b'galaxySED/Inst.12E10.04Z.spec.gz'  kinney-elliptical    23.194109   \n",
       "2310    b'galaxySED/Inst.80E09.04Z.spec.gz'  kinney-elliptical    22.100720   \n",
       "6111    b'galaxySED/Inst.50E09.02Z.spec.gz'          kinney-sc          NaN   \n",
       "8171    b'galaxySED/Burst.16E09.1Z.spec.gz'          kinney-sc          NaN   \n",
       "13913  b'galaxySED/Burst.62E09.02Z.spec.gz'          kinney-sc    22.955228   \n",
       "\n",
       "       mag_i_agn                                    varParamStr_agn  \n",
       "807    22.780837  {\"m\": \"applyAgn\", \"p\": {\"seed\": 8585240, \"agn_...  \n",
       "2310   21.696990  {\"m\": \"applyAgn\", \"p\": {\"seed\": 4660582, \"agn_...  \n",
       "6111         NaN                                                NaN  \n",
       "8171         NaN                                                NaN  \n",
       "13913  22.749889  {\"m\": \"applyAgn\", \"p\": {\"seed\": 7672592, \"agn_...  \n",
       "\n",
       "[5 rows x 29 columns]"
      ]
     },
     "execution_count": 35,
     "metadata": {},
     "output_type": "execute_result"
    }
   ],
   "source": [
    "sne_hosts.head()"
   ]
  },
  {
   "cell_type": "code",
   "execution_count": 36,
   "metadata": {},
   "outputs": [
    {
     "data": {
      "text/plain": [
       "1388"
      ]
     },
     "execution_count": 36,
     "metadata": {},
     "output_type": "execute_result"
    }
   ],
   "source": [
    "len(sne_hosts)"
   ]
  },
  {
   "cell_type": "markdown",
   "metadata": {},
   "source": [
    "### Look at some properties of the matched host galaxies and SNe"
   ]
  },
  {
   "cell_type": "code",
   "execution_count": 37,
   "metadata": {},
   "outputs": [
    {
     "data": {
      "text/plain": [
       "Text(0, 0.5, 'Galaxy Counts')"
      ]
     },
     "execution_count": 37,
     "metadata": {},
     "output_type": "execute_result"
    },
    {
     "data": {
      "image/png": "[encoded data removed]",
      "text/plain": [
       "<Figure size 432x288 with 1 Axes>"
      ]
     },
     "metadata": {
      "needs_background": "light"
     },
     "output_type": "display_data"
    }
   ],
   "source": [
    "plt.hist(sne_hosts['gal_type'])\n",
    "plt.xlabel('Host Galaxy Type')\n",
    "plt.ylabel('Galaxy Counts')"
   ]
  },
  {
   "cell_type": "code",
   "execution_count": 38,
   "metadata": {},
   "outputs": [
    {
     "data": {
      "text/plain": [
       "Text(0, 0.5, 'Galaxy Counts')"
      ]
     },
     "execution_count": 38,
     "metadata": {},
     "output_type": "execute_result"
    },
    {
     "data": {
      "image/png": "[encoded data removed]",
      "text/plain": [
       "<Figure size 432x288 with 1 Axes>"
      ]
     },
     "metadata": {
      "needs_background": "light"
     },
     "output_type": "display_data"
    }
   ],
   "source": [
    "plt.hist(sne_hosts['redshift'])\n",
    "plt.xlabel('Host Galaxy Redshift')\n",
    "plt.ylabel('Galaxy Counts')"
   ]
  },
  {
   "cell_type": "code",
   "execution_count": 39,
   "metadata": {},
   "outputs": [
    {
     "data": {
      "text/plain": [
       "Text(0, 0.5, 'Count')"
      ]
     },
     "execution_count": 39,
     "metadata": {},
     "output_type": "execute_result"
    },
    {
     "data": {
      "image/png": "[encoded data removed]",
      "text/plain": [
       "<Figure size 432x288 with 1 Axes>"
      ]
     },
     "metadata": {
      "needs_background": "light"
     },
     "output_type": "display_data"
    }
   ],
   "source": [
    "# Check distribution of times SNe appears\n",
    "plt.hist(sne_sys_cat['t0'])\n",
    "plt.xlabel('MJD of First SNe image t0')\n",
    "plt.ylabel('Count')"
   ]
  },
  {
   "cell_type": "code",
   "execution_count": 47,
   "metadata": {},
   "outputs": [
    {
     "data": {
      "text/plain": [
       "Text(0, 0.5, 'Count')"
      ]
     },
     "execution_count": 47,
     "metadata": {},
     "output_type": "execute_result"
    },
    {
     "data": {
      "image/png": "[encoded data removed]",
      "text/plain": [
       "<Figure size 432x288 with 1 Axes>"
      ]
     },
     "metadata": {
      "needs_background": "light"
     },
     "output_type": "display_data"
    }
   ],
   "source": [
    "# Check distribution of times SNe appears\n",
    "plt.hist(np.log10(sne_sys_cat['x0']))\n",
    "plt.xlabel('Log(SNe Salt-2 X0 parameter)')\n",
    "plt.ylabel('Count')"
   ]
  },
  {
   "cell_type": "code",
   "execution_count": null,
   "metadata": {},
   "outputs": [],
   "source": []
  }
 ],
 "metadata": {
  "kernelspec": {
   "display_name": "Python 3",
   "language": "python",
   "name": "python3"
  },
  "language_info": {
   "codemirror_mode": {
    "name": "ipython",
    "version": 3
   },
   "file_extension": ".py",
   "mimetype": "text/x-python",
   "name": "python",
   "nbconvert_exporter": "python",
   "pygments_lexer": "ipython3",
   "version": "3.7.3"
  }
 },
 "nbformat": 4,
 "nbformat_minor": 4
}
