{
 "cells": [
  {
   "cell_type": "markdown",
   "metadata": {},
   "source": [
    "## Sprinkled SNe catalog validation\n",
    "\n",
    "The catalog here is the catalog of SNe we are planning to use in the DDF field of the DESC DC2 simulation. The catalog comes from matching galaxies from the Goldstein et al. (2018) catalog of gravitationally lensed SNe (glSNe) to systems with similar host galaxy properties in the cosmoDC2 galaxy catalog for the DDF. We then replace the cosmoDC2 galaxies with the glSNe systems. First we present an overview of the current matching technique for review."
   ]
  },
  {
   "cell_type": "markdown",
   "metadata": {},
   "source": [
    "### Review of matching code currently in Sprinkler"
   ]
  },
  {
   "cell_type": "markdown",
   "metadata": {},
   "source": [
    "#### The function `assign_matches_sne` works in the sprinkler to match potential host galaxies to sprinkled systems\n",
    "\n",
    "It first calculates a probability for a galaxy to host a SN with the function `sne_density` based upon stellar mass and galaxy type. Then it draws from a value from a uniform distribution to see if that galaxy gets a SN. If it does then it moves on to `find_possible_match_sne` to find the lensed SN systems that match up to this galaxy based upon redshift and galaxy type.\n",
    "\n",
    "```\n",
    "    def assign_matches_sne(self, sne_gals, rand_state):\n",
    "        \n",
    "        sprinkled_sne_gal_rows = []\n",
    "        sprinkled_gl_sne_cat_rows = []\n",
    "\n",
    "        for i in range(len(sne_gals)):\n",
    "            \n",
    "            if i % 10000 == 0:\n",
    "                print(i)\n",
    "            \n",
    "            # Draw probability that galaxy is sprinkled\n",
    "            sne_density = self.sne_density(sne_gals.iloc[i])\n",
    "\n",
    "            density_draw = rand_state.uniform()\n",
    "            if density_draw > sne_density: \n",
    "                continue\n",
    "            \n",
    "            sne_cat_idx = self.find_possible_match_sne(sne_gals.iloc[i])\n",
    "                \n",
    "            sne_idx_keep = [x for x in sne_cat_idx\n",
    "                            if x not in sprinkled_gl_sne_cat_rows]\n",
    "\n",
    "            if len(sne_idx_keep) == 0:\n",
    "                continue   \n",
    "                \n",
    "            weight = self.gl_sne_cat['weight'].iloc[sne_idx_keep]\n",
    "            \n",
    "            sprinkled_gl_sne_cat_rows.append(\n",
    "                rand_state.choice(sne_idx_keep, p = weight/np.sum(weight)))\n",
    "            sprinkled_sne_gal_rows.append(i)\n",
    "            \n",
    "        return sprinkled_sne_gal_rows, sprinkled_gl_sne_cat_rows\n",
    "```"
   ]
  },
  {
   "cell_type": "markdown",
   "metadata": {},
   "source": [
    "#### `sne_density` determines the probability of a galaxy hosting a SN\n",
    "\n",
    "We use the galaxy types we determined when creating the catalog and the stellar mass of the galaxy to get probabilities that conform with the rates in Table 2 of [Mannucci et al. 2005](https://www.aanda.org/articles/aa/pdf/2005/15/aa1411.pdf).\n",
    "\n",
    "We add in a normalization factor to get the approximate number of lensed SNe we want in the DDF field over the 10 years.\n",
    "\n",
    "```\n",
    "    def sne_density(self, sne_gal_row):\n",
    "        \n",
    "        density_norm = 0.05\n",
    "        \n",
    "        stellar_mass = sne_gal_row['stellar_mass']\n",
    "        host_type = sne_gal_row['gal_type']\n",
    "        \n",
    "        if host_type == 'kinney-elliptical':\n",
    "            density_host = 0.044 * stellar_mass * 1e-10\n",
    "        elif host_type == 'kinney-sc':\n",
    "            density_host = 0.17 * stellar_mass * 1e-10\n",
    "        elif host_type == 'kinney-starburst':\n",
    "            density_host = 0.77 * stellar_mass * 1e-10\n",
    "        \n",
    "        density_val = density_norm * density_host\n",
    "\n",
    "        return density_val\n",
    "```"
   ]
  },
  {
   "cell_type": "markdown",
   "metadata": {},
   "source": [
    "#### `find_possible_match_sne` matches potential host galaxies with appropriate systems in the lensed SNe catalog\n",
    "\n",
    "We find lensed SNe systems that are approximately the same in host mass redshift and type.\n",
    "\n",
    "```\n",
    "    def find_possible_match_sne(self, gal_cat):\n",
    "\n",
    "        gal_z = gal_cat['redshift']\n",
    "        gal_type = gal_cat['gal_type']\n",
    "\n",
    "        # search the SNe catalog for all sources +- 0.05 dex in redshift\n",
    "        # and with matching type\n",
    "        lens_candidate_idx = []\n",
    "\n",
    "        w = np.where((np.abs(np.log10(self.gl_sne_cat['z_src']) -\n",
    "                             np.log10(gal_z)) <= 0.05) &\n",
    "                     (self.gl_sne_cat['type_host'] == gal_type))\n",
    "        lens_candidate_idx = w[0]    \n",
    "\n",
    "        return lens_candidate_idx\n",
    "```"
   ]
  },
  {
   "cell_type": "markdown",
   "metadata": {},
   "source": [
    "### The matched catalog\n",
    "\n",
    "The matched truth catalog comes in sqlite format but can be easily loaded into a pandas dataframe."
   ]
  },
  {
   "cell_type": "code",
   "execution_count": 1,
   "metadata": {},
   "outputs": [],
   "source": [
    "import pandas as pd\n",
    "import numpy as np\n",
    "from matplotlib import pyplot as plt\n",
    "from sqlalchemy import create_engine\n",
    "\n",
    "engine = create_engine('sqlite:////global/cscratch1/sd/brycek/example_sne_truth.db')\n",
    "\n",
    "sne_truth = pd.read_sql('lensed_sne', engine, index_col='index')"
   ]
  },
  {
   "cell_type": "code",
   "execution_count": 2,
   "metadata": {},
   "outputs": [
    {
     "data": {
      "text/html": [
       "<div>\n",
       "<style scoped>\n",
       "    .dataframe tbody tr th:only-of-type {\n",
       "        vertical-align: middle;\n",
       "    }\n",
       "\n",
       "    .dataframe tbody tr th {\n",
       "        vertical-align: top;\n",
       "    }\n",
       "\n",
       "    .dataframe thead th {\n",
       "        text-align: right;\n",
       "    }\n",
       "</style>\n",
       "<table border=\"1\" class=\"dataframe\">\n",
       "  <thead>\n",
       "    <tr style=\"text-align: right;\">\n",
       "      <th></th>\n",
       "      <th>unique_id</th>\n",
       "      <th>gal_unq_id</th>\n",
       "      <th>ra</th>\n",
       "      <th>dec</th>\n",
       "      <th>t0</th>\n",
       "      <th>t_delay</th>\n",
       "      <th>MB</th>\n",
       "      <th>magnification</th>\n",
       "      <th>x0</th>\n",
       "      <th>x1</th>\n",
       "      <th>c</th>\n",
       "      <th>host_type</th>\n",
       "      <th>redshift</th>\n",
       "      <th>lens_cat_sys_id</th>\n",
       "      <th>image_number</th>\n",
       "    </tr>\n",
       "    <tr>\n",
       "      <th>index</th>\n",
       "      <th></th>\n",
       "      <th></th>\n",
       "      <th></th>\n",
       "      <th></th>\n",
       "      <th></th>\n",
       "      <th></th>\n",
       "      <th></th>\n",
       "      <th></th>\n",
       "      <th></th>\n",
       "      <th></th>\n",
       "      <th></th>\n",
       "      <th></th>\n",
       "      <th></th>\n",
       "      <th></th>\n",
       "      <th></th>\n",
       "    </tr>\n",
       "  </thead>\n",
       "  <tbody>\n",
       "    <tr>\n",
       "      <th>0</th>\n",
       "      <td>1687501546316000</td>\n",
       "      <td>1687501546316000</td>\n",
       "      <td>52.848251</td>\n",
       "      <td>-27.656524</td>\n",
       "      <td>60733.028599</td>\n",
       "      <td>0.000000</td>\n",
       "      <td>-19.241234</td>\n",
       "      <td>1.511290</td>\n",
       "      <td>0.000111</td>\n",
       "      <td>1.0</td>\n",
       "      <td>0.0</td>\n",
       "      <td>kinney-elliptical</td>\n",
       "      <td>0.175884</td>\n",
       "      <td>4068871</td>\n",
       "      <td>0</td>\n",
       "    </tr>\n",
       "    <tr>\n",
       "      <th>1</th>\n",
       "      <td>1687501546416001</td>\n",
       "      <td>1687501546416001</td>\n",
       "      <td>52.848257</td>\n",
       "      <td>-27.656530</td>\n",
       "      <td>60733.028599</td>\n",
       "      <td>10.692351</td>\n",
       "      <td>-19.241234</td>\n",
       "      <td>3.003103</td>\n",
       "      <td>0.000111</td>\n",
       "      <td>1.0</td>\n",
       "      <td>0.0</td>\n",
       "      <td>kinney-elliptical</td>\n",
       "      <td>0.175884</td>\n",
       "      <td>4068871</td>\n",
       "      <td>1</td>\n",
       "    </tr>\n",
       "    <tr>\n",
       "      <th>2</th>\n",
       "      <td>1687501546516002</td>\n",
       "      <td>1687501546516002</td>\n",
       "      <td>52.848257</td>\n",
       "      <td>-27.656528</td>\n",
       "      <td>60733.028599</td>\n",
       "      <td>11.123024</td>\n",
       "      <td>-19.241234</td>\n",
       "      <td>-1.411856</td>\n",
       "      <td>0.000111</td>\n",
       "      <td>1.0</td>\n",
       "      <td>0.0</td>\n",
       "      <td>kinney-elliptical</td>\n",
       "      <td>0.175884</td>\n",
       "      <td>4068871</td>\n",
       "      <td>2</td>\n",
       "    </tr>\n",
       "    <tr>\n",
       "      <th>3</th>\n",
       "      <td>1687501546616003</td>\n",
       "      <td>1687501546616003</td>\n",
       "      <td>52.848252</td>\n",
       "      <td>-27.656529</td>\n",
       "      <td>60733.028599</td>\n",
       "      <td>13.190929</td>\n",
       "      <td>-19.241234</td>\n",
       "      <td>-0.561527</td>\n",
       "      <td>0.000111</td>\n",
       "      <td>1.0</td>\n",
       "      <td>0.0</td>\n",
       "      <td>kinney-elliptical</td>\n",
       "      <td>0.175884</td>\n",
       "      <td>4068871</td>\n",
       "      <td>3</td>\n",
       "    </tr>\n",
       "    <tr>\n",
       "      <th>4</th>\n",
       "      <td>1687502575216008</td>\n",
       "      <td>1687502575216008</td>\n",
       "      <td>52.637745</td>\n",
       "      <td>-28.040920</td>\n",
       "      <td>60531.982206</td>\n",
       "      <td>0.000000</td>\n",
       "      <td>-19.120594</td>\n",
       "      <td>2.261117</td>\n",
       "      <td>0.000086</td>\n",
       "      <td>1.0</td>\n",
       "      <td>0.0</td>\n",
       "      <td>kinney-starburst</td>\n",
       "      <td>0.188217</td>\n",
       "      <td>6724378</td>\n",
       "      <td>0</td>\n",
       "    </tr>\n",
       "  </tbody>\n",
       "</table>\n",
       "</div>"
      ],
      "text/plain": [
       "              unique_id        gal_unq_id         ra        dec            t0  \\\n",
       "index                                                                           \n",
       "0      1687501546316000  1687501546316000  52.848251 -27.656524  60733.028599   \n",
       "1      1687501546416001  1687501546416001  52.848257 -27.656530  60733.028599   \n",
       "2      1687501546516002  1687501546516002  52.848257 -27.656528  60733.028599   \n",
       "3      1687501546616003  1687501546616003  52.848252 -27.656529  60733.028599   \n",
       "4      1687502575216008  1687502575216008  52.637745 -28.040920  60531.982206   \n",
       "\n",
       "         t_delay         MB  magnification        x0   x1    c  \\\n",
       "index                                                            \n",
       "0       0.000000 -19.241234       1.511290  0.000111  1.0  0.0   \n",
       "1      10.692351 -19.241234       3.003103  0.000111  1.0  0.0   \n",
       "2      11.123024 -19.241234      -1.411856  0.000111  1.0  0.0   \n",
       "3      13.190929 -19.241234      -0.561527  0.000111  1.0  0.0   \n",
       "4       0.000000 -19.120594       2.261117  0.000086  1.0  0.0   \n",
       "\n",
       "               host_type  redshift  lens_cat_sys_id  image_number  \n",
       "index                                                              \n",
       "0      kinney-elliptical  0.175884          4068871             0  \n",
       "1      kinney-elliptical  0.175884          4068871             1  \n",
       "2      kinney-elliptical  0.175884          4068871             2  \n",
       "3      kinney-elliptical  0.175884          4068871             3  \n",
       "4       kinney-starburst  0.188217          6724378             0  "
      ]
     },
     "execution_count": 2,
     "metadata": {},
     "output_type": "execute_result"
    }
   ],
   "source": [
    "sne_truth.head()"
   ]
  },
  {
   "cell_type": "markdown",
   "metadata": {},
   "source": [
    "Each row is one of the image SNe that are going to be included to go in the DC2 DDF. Since the images of a system are all images of the same SNe it is useful to only include information for a single image from each system to get the properties of the SNe included in the DDF."
   ]
  },
  {
   "cell_type": "code",
   "execution_count": 3,
   "metadata": {},
   "outputs": [],
   "source": [
    "sne_truth_systems = sne_truth.query('image_number == 0').reset_index(drop=True)"
   ]
  },
  {
   "cell_type": "code",
   "execution_count": 4,
   "metadata": {},
   "outputs": [
    {
     "data": {
      "text/html": [
       "<div>\n",
       "<style scoped>\n",
       "    .dataframe tbody tr th:only-of-type {\n",
       "        vertical-align: middle;\n",
       "    }\n",
       "\n",
       "    .dataframe tbody tr th {\n",
       "        vertical-align: top;\n",
       "    }\n",
       "\n",
       "    .dataframe thead th {\n",
       "        text-align: right;\n",
       "    }\n",
       "</style>\n",
       "<table border=\"1\" class=\"dataframe\">\n",
       "  <thead>\n",
       "    <tr style=\"text-align: right;\">\n",
       "      <th></th>\n",
       "      <th>unique_id</th>\n",
       "      <th>gal_unq_id</th>\n",
       "      <th>ra</th>\n",
       "      <th>dec</th>\n",
       "      <th>t0</th>\n",
       "      <th>t_delay</th>\n",
       "      <th>MB</th>\n",
       "      <th>magnification</th>\n",
       "      <th>x0</th>\n",
       "      <th>x1</th>\n",
       "      <th>c</th>\n",
       "      <th>host_type</th>\n",
       "      <th>redshift</th>\n",
       "      <th>lens_cat_sys_id</th>\n",
       "      <th>image_number</th>\n",
       "    </tr>\n",
       "  </thead>\n",
       "  <tbody>\n",
       "    <tr>\n",
       "      <th>0</th>\n",
       "      <td>1687501546316000</td>\n",
       "      <td>1687501546316000</td>\n",
       "      <td>52.848251</td>\n",
       "      <td>-27.656524</td>\n",
       "      <td>60733.028599</td>\n",
       "      <td>0.0</td>\n",
       "      <td>-19.241234</td>\n",
       "      <td>1.511290</td>\n",
       "      <td>0.000111</td>\n",
       "      <td>1.0</td>\n",
       "      <td>0.0</td>\n",
       "      <td>kinney-elliptical</td>\n",
       "      <td>0.175884</td>\n",
       "      <td>4068871</td>\n",
       "      <td>0</td>\n",
       "    </tr>\n",
       "    <tr>\n",
       "      <th>1</th>\n",
       "      <td>1687502575216008</td>\n",
       "      <td>1687502575216008</td>\n",
       "      <td>52.637745</td>\n",
       "      <td>-28.040920</td>\n",
       "      <td>60531.982206</td>\n",
       "      <td>0.0</td>\n",
       "      <td>-19.120594</td>\n",
       "      <td>2.261117</td>\n",
       "      <td>0.000086</td>\n",
       "      <td>1.0</td>\n",
       "      <td>0.0</td>\n",
       "      <td>kinney-starburst</td>\n",
       "      <td>0.188217</td>\n",
       "      <td>6724378</td>\n",
       "      <td>0</td>\n",
       "    </tr>\n",
       "    <tr>\n",
       "      <th>2</th>\n",
       "      <td>1687504325716016</td>\n",
       "      <td>1687504325716016</td>\n",
       "      <td>52.765482</td>\n",
       "      <td>-27.706339</td>\n",
       "      <td>62973.622594</td>\n",
       "      <td>0.0</td>\n",
       "      <td>-19.372602</td>\n",
       "      <td>2.326046</td>\n",
       "      <td>0.000059</td>\n",
       "      <td>1.0</td>\n",
       "      <td>0.0</td>\n",
       "      <td>kinney-sc</td>\n",
       "      <td>0.245165</td>\n",
       "      <td>9923868</td>\n",
       "      <td>0</td>\n",
       "    </tr>\n",
       "    <tr>\n",
       "      <th>3</th>\n",
       "      <td>1687506281016024</td>\n",
       "      <td>1687506281016024</td>\n",
       "      <td>52.532876</td>\n",
       "      <td>-28.020799</td>\n",
       "      <td>61523.740726</td>\n",
       "      <td>0.0</td>\n",
       "      <td>-19.106845</td>\n",
       "      <td>2.316066</td>\n",
       "      <td>0.000033</td>\n",
       "      <td>1.0</td>\n",
       "      <td>0.0</td>\n",
       "      <td>kinney-elliptical</td>\n",
       "      <td>0.283273</td>\n",
       "      <td>985566</td>\n",
       "      <td>0</td>\n",
       "    </tr>\n",
       "    <tr>\n",
       "      <th>4</th>\n",
       "      <td>1687506284916032</td>\n",
       "      <td>1687506284916032</td>\n",
       "      <td>52.655521</td>\n",
       "      <td>-27.958024</td>\n",
       "      <td>60094.543280</td>\n",
       "      <td>0.0</td>\n",
       "      <td>-19.213396</td>\n",
       "      <td>1.955134</td>\n",
       "      <td>0.000062</td>\n",
       "      <td>1.0</td>\n",
       "      <td>0.0</td>\n",
       "      <td>kinney-elliptical</td>\n",
       "      <td>0.226327</td>\n",
       "      <td>6615075</td>\n",
       "      <td>0</td>\n",
       "    </tr>\n",
       "  </tbody>\n",
       "</table>\n",
       "</div>"
      ],
      "text/plain": [
       "          unique_id        gal_unq_id         ra        dec            t0  \\\n",
       "0  1687501546316000  1687501546316000  52.848251 -27.656524  60733.028599   \n",
       "1  1687502575216008  1687502575216008  52.637745 -28.040920  60531.982206   \n",
       "2  1687504325716016  1687504325716016  52.765482 -27.706339  62973.622594   \n",
       "3  1687506281016024  1687506281016024  52.532876 -28.020799  61523.740726   \n",
       "4  1687506284916032  1687506284916032  52.655521 -27.958024  60094.543280   \n",
       "\n",
       "   t_delay         MB  magnification        x0   x1    c          host_type  \\\n",
       "0      0.0 -19.241234       1.511290  0.000111  1.0  0.0  kinney-elliptical   \n",
       "1      0.0 -19.120594       2.261117  0.000086  1.0  0.0   kinney-starburst   \n",
       "2      0.0 -19.372602       2.326046  0.000059  1.0  0.0          kinney-sc   \n",
       "3      0.0 -19.106845       2.316066  0.000033  1.0  0.0  kinney-elliptical   \n",
       "4      0.0 -19.213396       1.955134  0.000062  1.0  0.0  kinney-elliptical   \n",
       "\n",
       "   redshift  lens_cat_sys_id  image_number  \n",
       "0  0.175884          4068871             0  \n",
       "1  0.188217          6724378             0  \n",
       "2  0.245165          9923868             0  \n",
       "3  0.283273           985566             0  \n",
       "4  0.226327          6615075             0  "
      ]
     },
     "execution_count": 4,
     "metadata": {},
     "output_type": "execute_result"
    }
   ],
   "source": [
    "sne_truth_systems.head()"
   ]
  },
  {
   "cell_type": "markdown",
   "metadata": {},
   "source": [
    "## Opening original gravitationally lensed SNe (glSNe) catalog\n",
    "\n",
    "Here I load the contents of the glSNe catalog originally from Goldstein et al. 2018 and supplemented by DC2 data in the notebook `addProperties-SNe.ipynb` in the `notebooks/dc2/catalog_generation` folder of the `SLSprinkler`.\n",
    "\n",
    "In the code we are going to use the `SLSprinkler` code itself to load the catalog so it should have similar column names to the truth catalog to more easily match columns.\n",
    "\n",
    "For more information on each column's contents see the documentation for the Goldstein et al. 2018 catalog here: https://portal.nersc.gov/project/astro250/glsne/README"
   ]
  },
  {
   "cell_type": "code",
   "execution_count": 5,
   "metadata": {},
   "outputs": [],
   "source": [
    "import os\n",
    "import sys\n",
    "sys.path.append('../../..')\n",
    "from sprinkler import DC2Sprinkler, OM10Reader, GoldsteinSNeCatReader, DC2Reader\n",
    "\n",
    "sprinkler_data_path = '../../../data'\n",
    "test_agn_cat = os.path.join(sprinkler_data_path, 'twinkles_lenses_cosmoDC2_v1.1.4.fits')\n",
    "test_sne_cat = os.path.join(sprinkler_data_path, 'glsne_cosmoDC2_v1.1.4.h5')\n",
    "test_dc2_cat = os.path.join(sprinkler_data_path, 'full_ddf.pkl')"
   ]
  },
  {
   "cell_type": "code",
   "execution_count": 6,
   "metadata": {},
   "outputs": [],
   "source": [
    "dc2_sprinkler = DC2Sprinkler(test_agn_cat, OM10Reader,\n",
    "                             test_sne_cat, GoldsteinSNeCatReader,\n",
    "                             test_dc2_cat, DC2Reader)"
   ]
  },
  {
   "cell_type": "code",
   "execution_count": 7,
   "metadata": {},
   "outputs": [],
   "source": [
    "# Load Goldstein et al. catalog\n",
    "sne_cat_full = dc2_sprinkler.gl_sne_cat"
   ]
  },
  {
   "cell_type": "code",
   "execution_count": 8,
   "metadata": {},
   "outputs": [
    {
     "data": {
      "text/plain": [
       "Index(['system_id', 'z_src', 't0', 'n_img', 'x_img', 'y_img', 't_delay_img',\n",
       "       'magnification_img', 'MB', 'host_type', 'sed_lens', 'magnorm_lens',\n",
       "       'z_lens', 'reff_lens', 'ellip_lens', 'phie_lens', 'av_lens', 'rv_lens',\n",
       "       'vel_disp_lens', 'gamma', 'phi_gamma', 'x0', 'x1', 'c', 'weight'],\n",
       "      dtype='object')"
      ]
     },
     "execution_count": 8,
     "metadata": {},
     "output_type": "execute_result"
    }
   ],
   "source": [
    "sne_cat_full.columns"
   ]
  },
  {
   "cell_type": "code",
   "execution_count": 9,
   "metadata": {},
   "outputs": [
    {
     "data": {
      "text/plain": [
       "Index(['unique_id', 'gal_unq_id', 'ra', 'dec', 't0', 't_delay', 'MB',\n",
       "       'magnification', 'x0', 'x1', 'c', 'host_type', 'redshift',\n",
       "       'lens_cat_sys_id', 'image_number'],\n",
       "      dtype='object')"
      ]
     },
     "execution_count": 9,
     "metadata": {},
     "output_type": "execute_result"
    }
   ],
   "source": [
    "sne_truth.columns"
   ]
  },
  {
   "cell_type": "markdown",
   "metadata": {},
   "source": [
    "### Plot various parameters of SNe and host population included in lensed population for DDF"
   ]
  },
  {
   "cell_type": "code",
   "execution_count": 12,
   "metadata": {},
   "outputs": [
    {
     "data": {
      "text/plain": [
       "<matplotlib.legend.Legend at 0x2aac7f94b128>"
      ]
     },
     "execution_count": 12,
     "metadata": {},
     "output_type": "execute_result"
    },
    {
     "data": {
      "image/png": "[encoded data removed]",
      "text/plain": [
       "<Figure size 432x288 with 1 Axes>"
      ]
     },
     "metadata": {
      "needs_background": "light"
     },
     "output_type": "display_data"
    }
   ],
   "source": [
    "plt.hist(sne_cat_full['host_type'], density=True, histtype='step', lw=4, label='Full Goldstein Catalog')\n",
    "plt.hist(sne_truth_systems['host_type'], density=True, histtype='step', lw=4, label='Truth Catalog')\n",
    "plt.xlabel('Host Galaxy Type')\n",
    "plt.ylabel('Galaxy Counts')\n",
    "plt.legend()"
   ]
  },
  {
   "cell_type": "code",
   "execution_count": 13,
   "metadata": {},
   "outputs": [
    {
     "data": {
      "text/plain": [
       "<matplotlib.legend.Legend at 0x2aac7fa0f9e8>"
      ]
     },
     "execution_count": 13,
     "metadata": {},
     "output_type": "execute_result"
    },
    {
     "data": {
      "image/png": "[encoded data removed]",
      "text/plain": [
       "<Figure size 432x288 with 1 Axes>"
      ]
     },
     "metadata": {
      "needs_background": "light"
     },
     "output_type": "display_data"
    }
   ],
   "source": [
    "plt.hist(sne_cat_full['z_src'], density=True, histtype='step', lw=4, label='Full Goldstein Catalog')\n",
    "plt.hist(sne_truth_systems['redshift'], density=True, histtype='step', lw=4, label='Truth Catalog')\n",
    "plt.xlabel('Host Galaxy Redshift')\n",
    "plt.ylabel('Galaxy Counts')\n",
    "plt.legend()"
   ]
  },
  {
   "cell_type": "code",
   "execution_count": 14,
   "metadata": {},
   "outputs": [
    {
     "data": {
      "text/plain": [
       "<matplotlib.legend.Legend at 0x2aac7facad68>"
      ]
     },
     "execution_count": 14,
     "metadata": {},
     "output_type": "execute_result"
    },
    {
     "data": {
      "image/png": "[encoded data removed]",
      "text/plain": [
       "<Figure size 432x288 with 1 Axes>"
      ]
     },
     "metadata": {
      "needs_background": "light"
     },
     "output_type": "display_data"
    }
   ],
   "source": [
    "# Check distribution of times SNe appears\n",
    "plt.hist(sne_cat_full['t0'], density=True, histtype='step', lw=4, label='Full Goldstein Catalog')\n",
    "plt.hist(sne_truth_systems['t0'], density=True, histtype='step', lw=4, label='Truth Catalog')\n",
    "plt.xlabel('MJD of First SNe image t0')\n",
    "plt.ylabel('Count')\n",
    "plt.legend()"
   ]
  },
  {
   "cell_type": "code",
   "execution_count": 15,
   "metadata": {},
   "outputs": [],
   "source": [
    "t_delay_img = np.array(list(sne_cat_full['t_delay_img'].values), dtype=np.float)\n",
    "t_delay_img = t_delay_img[~np.isnan(t_delay_img)]"
   ]
  },
  {
   "cell_type": "code",
   "execution_count": 16,
   "metadata": {},
   "outputs": [
    {
     "data": {
      "text/plain": [
       "array([ 0.        , 11.54860769, 10.11128636, ..., 29.99358718,\n",
       "        0.        ,  0.36148145])"
      ]
     },
     "execution_count": 16,
     "metadata": {},
     "output_type": "execute_result"
    }
   ],
   "source": [
    "t_delay_img"
   ]
  },
  {
   "cell_type": "code",
   "execution_count": 17,
   "metadata": {},
   "outputs": [
    {
     "data": {
      "text/plain": [
       "<matplotlib.legend.Legend at 0x2aac7fbc7588>"
      ]
     },
     "execution_count": 17,
     "metadata": {},
     "output_type": "execute_result"
    },
    {
     "data": {
      "image/png": "[encoded data removed]",
      "text/plain": [
       "<Figure size 432x288 with 1 Axes>"
      ]
     },
     "metadata": {
      "needs_background": "light"
     },
     "output_type": "display_data"
    }
   ],
   "source": [
    "# Check distribution of x0\n",
    "#plt.hist(sne_cat_full['t_delay_img'], density=True, histtype='step', lw=4, label='Full Goldstein Catalog')\n",
    "plt.hist(t_delay_img, density=True, histtype='step', lw=4, label='Full Goldstein Catalog')\n",
    "plt.hist(sne_truth['t_delay'], density=True, histtype='step', lw=4, label='Truth Catalog')\n",
    "plt.xlabel('Time Delays')\n",
    "plt.yscale('log')\n",
    "plt.ylabel('Log Density')\n",
    "plt.legend()"
   ]
  },
  {
   "cell_type": "code",
   "execution_count": 18,
   "metadata": {},
   "outputs": [],
   "source": [
    "ids, num_images = np.unique(sne_truth['lens_cat_sys_id'], return_counts=True)"
   ]
  },
  {
   "cell_type": "code",
   "execution_count": 19,
   "metadata": {},
   "outputs": [
    {
     "data": {
      "text/plain": [
       "<matplotlib.legend.Legend at 0x2aac8016d390>"
      ]
     },
     "execution_count": 19,
     "metadata": {},
     "output_type": "execute_result"
    },
    {
     "data": {
      "image/png": "[encoded data removed]",
      "text/plain": [
       "<Figure size 432x288 with 1 Axes>"
      ]
     },
     "metadata": {
      "needs_background": "light"
     },
     "output_type": "display_data"
    }
   ],
   "source": [
    "# Check distribution of x0\n",
    "plt.hist(sne_cat_full['n_img'], density=True, histtype='step', lw=4, label='Full Goldstein Catalog')\n",
    "plt.hist(num_images, density=True, histtype='step', lw=4, label='Truth Catalog')\n",
    "plt.xlabel('Number of Images in System')\n",
    "plt.ylabel('Density')\n",
    "plt.legend()"
   ]
  },
  {
   "cell_type": "code",
   "execution_count": 20,
   "metadata": {},
   "outputs": [
    {
     "data": {
      "text/plain": [
       "<matplotlib.legend.Legend at 0x2aac804c6cc0>"
      ]
     },
     "execution_count": 20,
     "metadata": {},
     "output_type": "execute_result"
    },
    {
     "data": {
      "image/png": "[encoded data removed]",
      "text/plain": [
       "<Figure size 432x288 with 1 Axes>"
      ]
     },
     "metadata": {
      "needs_background": "light"
     },
     "output_type": "display_data"
    }
   ],
   "source": [
    "# Check distribution of MB parameter\n",
    "plt.hist(sne_cat_full['MB'], density=True, histtype='step', lw=4, label='Full Goldstein Catalog')\n",
    "plt.hist(sne_truth_systems['MB'], density=True, histtype='step', lw=4, label='Truth Catalog')\n",
    "plt.xlabel('MB')\n",
    "plt.ylabel('Density')\n",
    "plt.legend()"
   ]
  },
  {
   "cell_type": "code",
   "execution_count": 21,
   "metadata": {},
   "outputs": [
    {
     "data": {
      "text/plain": [
       "<matplotlib.legend.Legend at 0x2aac804ab198>"
      ]
     },
     "execution_count": 21,
     "metadata": {},
     "output_type": "execute_result"
    },
    {
     "data": {
      "image/png": "[encoded data removed]",
      "text/plain": [
       "<Figure size 432x288 with 1 Axes>"
      ]
     },
     "metadata": {
      "needs_background": "light"
     },
     "output_type": "display_data"
    }
   ],
   "source": [
    "# Check distribution of x0\n",
    "plt.hist(np.log10(sne_cat_full['x0']), density=True, histtype='step', lw=4, label='Full Goldstein Catalog')\n",
    "plt.hist(np.log10(sne_truth_systems['x0']), density=True, histtype='step', lw=4, label='Truth Catalog')\n",
    "plt.xlabel('Log(SNe Salt-2 X0 parameter)')\n",
    "plt.ylabel('Density')\n",
    "plt.legend()"
   ]
  },
  {
   "cell_type": "code",
   "execution_count": null,
   "metadata": {},
   "outputs": [],
   "source": []
  }
 ],
 "metadata": {
  "kernelspec": {
   "display_name": "Python 3",
   "language": "python",
   "name": "python3"
  },
  "language_info": {
   "codemirror_mode": {
    "name": "ipython",
    "version": 3
   },
   "file_extension": ".py",
   "mimetype": "text/x-python",
   "name": "python",
   "nbconvert_exporter": "python",
   "pygments_lexer": "ipython3",
   "version": "3.7.3"
  }
 },
 "nbformat": 4,
 "nbformat_minor": 4
}
