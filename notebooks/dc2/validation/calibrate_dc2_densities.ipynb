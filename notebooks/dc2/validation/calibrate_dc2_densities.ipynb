{
 "cells": [
  {
   "cell_type": "code",
   "execution_count": 1,
   "metadata": {},
   "outputs": [],
   "source": [
    "import sys\n",
    "sys.path.append('..')\n",
    "%load_ext autoreload"
   ]
  },
  {
   "cell_type": "code",
   "execution_count": 2,
   "metadata": {},
   "outputs": [],
   "source": [
    "import numpy as np\n",
    "import pandas as pd\n",
    "import corner\n",
    "from matplotlib import pyplot as plt\n",
    "from copy import copy\n",
    "from astropy.io import fits\n",
    "from sprinkler import BaseSprinkler, OM10Reader, GoldsteinSNeCatReader, DC2Reader, DC2Sprinkler\n",
    "from sqlalchemy import create_engine"
   ]
  },
  {
   "cell_type": "code",
   "execution_count": 3,
   "metadata": {},
   "outputs": [],
   "source": [
    "from matplotlib import rcParams\n",
    "rcParams[\"font.size\"] = 16\n",
    "rcParams[\"savefig.dpi\"] = 100"
   ]
  },
  {
   "cell_type": "code",
   "execution_count": 4,
   "metadata": {},
   "outputs": [],
   "source": [
    "test_agn_cat = '../data/twinkles_lenses_cosmoDC2_v1.1.4.fits'\n",
    "test_sne_cat = '../data/glsne_cosmoDC2_v1.1.4.h5'\n",
    "test_dc2_cat = '../data/full_ddf.pkl'"
   ]
  },
  {
   "cell_type": "code",
   "execution_count": 5,
   "metadata": {},
   "outputs": [],
   "source": [
    "dc2_sp = DC2Sprinkler(test_agn_cat, OM10Reader,\n",
    "                      test_sne_cat, GoldsteinSNeCatReader,\n",
    "                      test_dc2_cat, DC2Reader)"
   ]
  },
  {
   "cell_type": "code",
   "execution_count": 56,
   "metadata": {},
   "outputs": [
    {
     "name": "stderr",
     "output_type": "stream",
     "text": [
      "[autoreload of sprinkler.dc2_sprinkler failed: Traceback (most recent call last):\n",
      "  File \"/global/common/cori_cle7/software/jupyter/19-09/lib/python3.7/site-packages/IPython/extensions/autoreload.py\", line 245, in check\n",
      "    superreload(m, reload, self.old_objects)\n",
      "  File \"/global/common/cori_cle7/software/jupyter/19-09/lib/python3.7/site-packages/IPython/extensions/autoreload.py\", line 450, in superreload\n",
      "    update_generic(old_obj, new_obj)\n",
      "  File \"/global/common/cori_cle7/software/jupyter/19-09/lib/python3.7/site-packages/IPython/extensions/autoreload.py\", line 387, in update_generic\n",
      "    update(a, b)\n",
      "  File \"/global/common/cori_cle7/software/jupyter/19-09/lib/python3.7/site-packages/IPython/extensions/autoreload.py\", line 357, in update_class\n",
      "    update_instances(old, new)\n",
      "  File \"/global/common/cori_cle7/software/jupyter/19-09/lib/python3.7/site-packages/IPython/extensions/autoreload.py\", line 280, in update_instances\n",
      "    frame = next(frame_nfo.frame for frame_nfo in inspect.stack()\n",
      "StopIteration\n",
      "]\n"
     ]
    }
   ],
   "source": [
    "%aimport sprinkler\n",
    "%autoreload"
   ]
  },
  {
   "cell_type": "markdown",
   "metadata": {},
   "source": [
    "## Define new sprinkler with a new AGN density function\n",
    "\n",
    "We want to calibrate probabilities of choosing DC2 AGN to be sprinkled. To calibrate these probabilities we will try to match aspects of the overall OM10 population with our sprinkled population. Currently we are looking to match redshift and i-band magnitude."
   ]
  },
  {
   "cell_type": "markdown",
   "metadata": {},
   "source": [
    "### We are going to try to match the OM10 redshift and magnitude distributions\n",
    "\n",
    "First we design a probability distribution in each component for galaxies that will get matched."
   ]
  },
  {
   "cell_type": "markdown",
   "metadata": {},
   "source": [
    "### First look at overall OM10 distributions in redshift and i-band magnitudes"
   ]
  },
  {
   "cell_type": "code",
   "execution_count": 7,
   "metadata": {},
   "outputs": [],
   "source": [
    "# Load OM10 catalog\n",
    "agn_cat = dc2_sp.gl_agn_cat"
   ]
  },
  {
   "cell_type": "code",
   "execution_count": 8,
   "metadata": {},
   "outputs": [
    {
     "name": "stdout",
     "output_type": "stream",
     "text": [
      "0.33 3.1\n"
     ]
    }
   ],
   "source": [
    "# The Minimum and Maximum Redshifts in the catalog but cosmoDC2 only goes up to z=3.1\n",
    "z_min, z_max = np.min(agn_cat['z_src']), np.max(agn_cat['z_src'])\n",
    "print(z_min, z_max)"
   ]
  },
  {
   "cell_type": "code",
   "execution_count": 9,
   "metadata": {},
   "outputs": [
    {
     "name": "stdout",
     "output_type": "stream",
     "text": [
      "0.26212831745901294 3.1\n"
     ]
    }
   ],
   "source": [
    "# Since we allow matching within 0.1 in dex these are the min, max allowable redshifts in DC2 matching\n",
    "binz_min, binz_max = 10**(np.log10(z_min)-0.1), z_max\n",
    "print(binz_min, binz_max)"
   ]
  },
  {
   "cell_type": "code",
   "execution_count": 10,
   "metadata": {},
   "outputs": [
    {
     "data": {
      "text/plain": [
       "Text(0.5, 1.0, 'Lensed AGN Redshifts in OM10')"
      ]
     },
     "execution_count": 10,
     "metadata": {},
     "output_type": "execute_result"
    },
    {
     "data": {
      "image/png": "[encoded data removed]",
      "text/plain": [
       "<Figure size 432x288 with 1 Axes>"
      ]
     },
     "metadata": {
      "needs_background": "light"
     },
     "output_type": "display_data"
    }
   ],
   "source": [
    "n_z, bins_z, _ = plt.hist(agn_cat['z_src'], bins=20, range=(binz_min, binz_max))\n",
    "plt.xlabel('Redshift')\n",
    "plt.ylabel('Lensed AGN Count')\n",
    "plt.title('Lensed AGN Redshifts in OM10')"
   ]
  },
  {
   "cell_type": "code",
   "execution_count": 11,
   "metadata": {},
   "outputs": [
    {
     "name": "stdout",
     "output_type": "stream",
     "text": [
      "16.79 26.97\n"
     ]
    }
   ],
   "source": [
    "# The Minimum and Maximum Redshifts in the catalog\n",
    "mag_i_min, mag_i_max = np.min(agn_cat['mag_i_src']), np.max(agn_cat['mag_i_src'])\n",
    "print(mag_i_min, mag_i_max)"
   ]
  },
  {
   "cell_type": "code",
   "execution_count": 12,
   "metadata": {},
   "outputs": [
    {
     "name": "stdout",
     "output_type": "stream",
     "text": [
      "16.54 27.22\n"
     ]
    }
   ],
   "source": [
    "# Since we allow matching within 0.25 these are the min, max allowable AGN i-band mags in DC2 matching\n",
    "bin_imag_min, bin_imag_max = mag_i_min-0.25, mag_i_max+.25\n",
    "print(bin_imag_min, bin_imag_max)"
   ]
  },
  {
   "cell_type": "code",
   "execution_count": 13,
   "metadata": {},
   "outputs": [
    {
     "data": {
      "text/plain": [
       "Text(0.5, 1.0, 'Lensed AGN i-band mag in OM10')"
      ]
     },
     "execution_count": 13,
     "metadata": {},
     "output_type": "execute_result"
    },
    {
     "data": {
      "image/png": "[encoded data removed]",
      "text/plain": [
       "<Figure size 432x288 with 1 Axes>"
      ]
     },
     "metadata": {
      "needs_background": "light"
     },
     "output_type": "display_data"
    }
   ],
   "source": [
    "n_imag, bins_imag, _ = plt.hist(agn_cat['mag_i_src'], bins=20, range=(bin_imag_min, bin_imag_max))\n",
    "plt.xlabel('i-band AGN Magnitude')\n",
    "plt.ylabel('Lensed AGN Count')\n",
    "plt.title('Lensed AGN i-band mag in OM10')"
   ]
  },
  {
   "cell_type": "markdown",
   "metadata": {},
   "source": [
    "### Set up sampling functions\n",
    "\n",
    "We will use these to set probabilities of choosing DC2 AGN that fall in these bins."
   ]
  },
  {
   "cell_type": "code",
   "execution_count": 14,
   "metadata": {},
   "outputs": [],
   "source": [
    "dens_z = copy(n_z)\n",
    "dens_z = dens_z / np.max(dens_z)\n",
    "dens_z[:8] += 0.1\n",
    "dens_z[-8:] = 1.0\n",
    "dens_z[:-8] -= 0.08\n",
    "dens_z[5:-8] -= 0.05\n",
    "dens_z[3] -= 0.01\n",
    "dens_z[4] -= 0.03\n",
    "dens_z[5] += 0.0\n",
    "dens_z[6] -= 0.03\n",
    "dens_z[7] -= 0.05\n",
    "dens_z[8] -= 0.01\n",
    "dens_z[9] -= 0.03\n",
    "dens_z[10] += 0.04\n",
    "dens_z[11] -= 0.02"
   ]
  },
  {
   "cell_type": "code",
   "execution_count": 15,
   "metadata": {},
   "outputs": [
    {
     "data": {
      "text/plain": [
       "Text(0.5, 1.0, 'Probability of choosing DC2 galaxy in Sprinkler')"
      ]
     },
     "execution_count": 15,
     "metadata": {},
     "output_type": "execute_result"
    },
    {
     "data": {
      "image/png": "[encoded data removed]",
      "text/plain": [
       "<Figure size 432x288 with 1 Axes>"
      ]
     },
     "metadata": {
      "needs_background": "light"
     },
     "output_type": "display_data"
    }
   ],
   "source": [
    "plt.plot(bins_z[:-1], dens_z)\n",
    "plt.xlabel('Redshift')\n",
    "plt.ylabel('Probability')\n",
    "plt.title('Probability of choosing DC2 galaxy in Sprinkler')"
   ]
  },
  {
   "cell_type": "code",
   "execution_count": 16,
   "metadata": {},
   "outputs": [],
   "source": [
    "np.savetxt('../data/agn_z_density.dat', dens_z)"
   ]
  },
  {
   "cell_type": "code",
   "execution_count": 17,
   "metadata": {},
   "outputs": [],
   "source": [
    "dens_imag = copy(n_imag)\n",
    "dens_imag = dens_imag / np.max(dens_imag)\n",
    "dens_imag[2:-6] += 2. * dens_imag[8:]\n",
    "dens_imag[9] += 0.1\n",
    "dens_imag[10] += 0.2\n",
    "dens_imag[11] += 0.1\n",
    "dens_imag[6:15] += 1. * (1. - np.linspace(0, 1, 9))\n",
    "dens_imag = dens_imag / np.max(dens_imag)\n",
    "dens_imag[2:4] += .2\n",
    "dens_imag[4:10] = 1.0\n",
    "dens_imag[10:-7] = 1.0\n",
    "dens_imag[11] = 0.8\n",
    "dens_imag[12] = 0.6\n",
    "dens_imag[-7:] *= 0.5"
   ]
  },
  {
   "cell_type": "code",
   "execution_count": 18,
   "metadata": {},
   "outputs": [
    {
     "data": {
      "text/plain": [
       "array([16.54 , 17.074, 17.608, 18.142, 18.676, 19.21 , 19.744, 20.278,\n",
       "       20.812, 21.346, 21.88 , 22.414, 22.948, 23.482, 24.016, 24.55 ,\n",
       "       25.084, 25.618, 26.152, 26.686, 27.22 ])"
      ]
     },
     "execution_count": 18,
     "metadata": {},
     "output_type": "execute_result"
    }
   ],
   "source": [
    "bins_imag"
   ]
  },
  {
   "cell_type": "code",
   "execution_count": 19,
   "metadata": {},
   "outputs": [
    {
     "data": {
      "text/plain": [
       "Text(0.5, 1.0, 'Probability of choosing DC2 galaxy in Sprinkler')"
      ]
     },
     "execution_count": 19,
     "metadata": {},
     "output_type": "execute_result"
    },
    {
     "data": {
      "image/png": "[encoded data removed]",
      "text/plain": [
       "<Figure size 432x288 with 1 Axes>"
      ]
     },
     "metadata": {
      "needs_background": "light"
     },
     "output_type": "display_data"
    }
   ],
   "source": [
    "plt.plot(bins_imag[:-1], dens_imag)\n",
    "plt.xlabel('i-band magnitude')\n",
    "plt.ylabel('Probability')\n",
    "plt.title('Probability of choosing DC2 galaxy in Sprinkler')"
   ]
  },
  {
   "cell_type": "code",
   "execution_count": 20,
   "metadata": {},
   "outputs": [
    {
     "data": {
      "text/plain": [
       "array([16.54 , 17.074, 17.608, 18.142, 18.676, 19.21 , 19.744, 20.278,\n",
       "       20.812, 21.346, 21.88 , 22.414, 22.948, 23.482, 24.016, 24.55 ,\n",
       "       25.084, 25.618, 26.152, 26.686, 27.22 ])"
      ]
     },
     "execution_count": 20,
     "metadata": {},
     "output_type": "execute_result"
    }
   ],
   "source": [
    "bins_imag"
   ]
  },
  {
   "cell_type": "code",
   "execution_count": 21,
   "metadata": {},
   "outputs": [],
   "source": [
    "np.savetxt('../data/agn_imag_density.dat', dens_imag)"
   ]
  },
  {
   "cell_type": "markdown",
   "metadata": {},
   "source": [
    "We save these sampling functions to file and then use them in the sprinkler code. In the sprinkler we multiply the redshift probability times the magnitude probability and multiply by a scaling value which is currently 1.0 and calibrates the overall number of systems."
   ]
  },
  {
   "cell_type": "markdown",
   "metadata": {},
   "source": [
    "### Test out the sampling by running the sprinkler"
   ]
  },
  {
   "cell_type": "code",
   "execution_count": 22,
   "metadata": {},
   "outputs": [],
   "source": [
    "agn_hosts, agn_sys_cat = dc2_sp.sprinkle_agn()"
   ]
  },
  {
   "cell_type": "code",
   "execution_count": 23,
   "metadata": {},
   "outputs": [
    {
     "data": {
      "text/html": [
       "<div>\n",
       "<style scoped>\n",
       "    .dataframe tbody tr th:only-of-type {\n",
       "        vertical-align: middle;\n",
       "    }\n",
       "\n",
       "    .dataframe tbody tr th {\n",
       "        vertical-align: top;\n",
       "    }\n",
       "\n",
       "    .dataframe thead th {\n",
       "        text-align: right;\n",
       "    }\n",
       "</style>\n",
       "<table border=\"1\" class=\"dataframe\">\n",
       "  <thead>\n",
       "    <tr style=\"text-align: right;\">\n",
       "      <th></th>\n",
       "      <th>galaxy_id</th>\n",
       "      <th>ra</th>\n",
       "      <th>dec</th>\n",
       "      <th>redshift</th>\n",
       "      <th>gamma_1</th>\n",
       "      <th>gamma_2</th>\n",
       "      <th>kappa</th>\n",
       "      <th>av_internal_disk</th>\n",
       "      <th>av_internal_bulge</th>\n",
       "      <th>rv_internal_disk</th>\n",
       "      <th>...</th>\n",
       "      <th>magnorm_disk</th>\n",
       "      <th>magnorm_bulge</th>\n",
       "      <th>fluxes_disk</th>\n",
       "      <th>fluxes_bulge</th>\n",
       "      <th>sed_disk</th>\n",
       "      <th>sed_bulge</th>\n",
       "      <th>gal_type</th>\n",
       "      <th>magnorm_agn</th>\n",
       "      <th>mag_i_agn</th>\n",
       "      <th>varParamStr_agn</th>\n",
       "    </tr>\n",
       "  </thead>\n",
       "  <tbody>\n",
       "    <tr>\n",
       "      <th>17008</th>\n",
       "      <td>1875299621</td>\n",
       "      <td>52.862247</td>\n",
       "      <td>-27.840443</td>\n",
       "      <td>0.451181</td>\n",
       "      <td>-0.002175</td>\n",
       "      <td>0.005562</td>\n",
       "      <td>-0.001001</td>\n",
       "      <td>0.3</td>\n",
       "      <td>0.3</td>\n",
       "      <td>4.0</td>\n",
       "      <td>...</td>\n",
       "      <td>[23.50112622791565, 23.4735370046433, 23.50799...</td>\n",
       "      <td>[19.753732470638646, 19.540521508042076, 19.34...</td>\n",
       "      <td>[7.204981294214914e-07, 7.418789880237264e-07,...</td>\n",
       "      <td>[3.8264775097187525e-06, 1.0557723563723791e-0...</td>\n",
       "      <td>b'galaxySED/Const.20E08.02Z.spec.gz'</td>\n",
       "      <td>b'galaxySED/Exp.50E09.0005Z.spec.gz'</td>\n",
       "      <td>kinney-elliptical</td>\n",
       "      <td>20.348565</td>\n",
       "      <td>20.128153</td>\n",
       "      <td>{\"m\": \"applyAgn\", \"p\": {\"seed\": 4020051, \"agn_...</td>\n",
       "    </tr>\n",
       "    <tr>\n",
       "      <th>56777</th>\n",
       "      <td>1876005576</td>\n",
       "      <td>52.613531</td>\n",
       "      <td>-27.839463</td>\n",
       "      <td>0.714599</td>\n",
       "      <td>0.012985</td>\n",
       "      <td>0.003445</td>\n",
       "      <td>0.006585</td>\n",
       "      <td>0.4</td>\n",
       "      <td>0.1</td>\n",
       "      <td>4.0</td>\n",
       "      <td>...</td>\n",
       "      <td>[26.04044412714207, 26.017461035576797, 25.965...</td>\n",
       "      <td>[20.770294283748356, 20.788668896055004, 20.73...</td>\n",
       "      <td>[9.440789901912083e-08, 9.523522186262107e-08,...</td>\n",
       "      <td>[3.6576707029982863e-06, 4.03266132491379e-06,...</td>\n",
       "      <td>b'galaxySED/Burst.19E07.02Z.spec.gz'</td>\n",
       "      <td>b'galaxySED/Exp.25E09.1Z.spec.gz'</td>\n",
       "      <td>kinney-elliptical</td>\n",
       "      <td>21.829105</td>\n",
       "      <td>21.654666</td>\n",
       "      <td>{\"m\": \"applyAgn\", \"p\": {\"seed\": 8022933, \"agn_...</td>\n",
       "    </tr>\n",
       "    <tr>\n",
       "      <th>85353</th>\n",
       "      <td>1876519708</td>\n",
       "      <td>52.898971</td>\n",
       "      <td>-27.588704</td>\n",
       "      <td>0.845949</td>\n",
       "      <td>-0.011171</td>\n",
       "      <td>-0.005203</td>\n",
       "      <td>-0.005566</td>\n",
       "      <td>0.4</td>\n",
       "      <td>0.1</td>\n",
       "      <td>4.0</td>\n",
       "      <td>...</td>\n",
       "      <td>[24.875585684080118, 24.859651279658827, 24.87...</td>\n",
       "      <td>[20.381331560729873, 20.393758575187373, 20.29...</td>\n",
       "      <td>[2.730535738054766e-07, 2.546109572090378e-07,...</td>\n",
       "      <td>[5.686356815843988e-06, 5.965180347858453e-06,...</td>\n",
       "      <td>b'galaxySED/Const.40E07.02Z.spec.gz'</td>\n",
       "      <td>b'galaxySED/Exp.20E09.1Z.spec.gz'</td>\n",
       "      <td>kinney-elliptical</td>\n",
       "      <td>22.120220</td>\n",
       "      <td>21.942742</td>\n",
       "      <td>{\"m\": \"applyAgn\", \"p\": {\"seed\": 1710039, \"agn_...</td>\n",
       "    </tr>\n",
       "    <tr>\n",
       "      <th>95439</th>\n",
       "      <td>1876695857</td>\n",
       "      <td>52.546219</td>\n",
       "      <td>-28.042984</td>\n",
       "      <td>0.883605</td>\n",
       "      <td>-0.002330</td>\n",
       "      <td>-0.023106</td>\n",
       "      <td>-0.010028</td>\n",
       "      <td>0.0</td>\n",
       "      <td>0.1</td>\n",
       "      <td>2.0</td>\n",
       "      <td>...</td>\n",
       "      <td>[30.598316187904057, 30.645420538137145, 30.66...</td>\n",
       "      <td>[21.8910985670889, 21.886933398597794, 21.8857...</td>\n",
       "      <td>[3.880622636671241e-09, 3.053683454418982e-09,...</td>\n",
       "      <td>[1.441811456789912e-06, 1.4922529463386161e-06...</td>\n",
       "      <td>b'galaxySED/Inst.15E07.002Z.spec.gz'</td>\n",
       "      <td>b'galaxySED/Exp.20E09.1Z.spec.gz'</td>\n",
       "      <td>kinney-elliptical</td>\n",
       "      <td>22.225172</td>\n",
       "      <td>22.039325</td>\n",
       "      <td>{\"m\": \"applyAgn\", \"p\": {\"seed\": 4636896, \"agn_...</td>\n",
       "    </tr>\n",
       "    <tr>\n",
       "      <th>97040</th>\n",
       "      <td>1876724326</td>\n",
       "      <td>52.583562</td>\n",
       "      <td>-28.084166</td>\n",
       "      <td>0.882389</td>\n",
       "      <td>0.001468</td>\n",
       "      <td>-0.013728</td>\n",
       "      <td>-0.008336</td>\n",
       "      <td>0.8</td>\n",
       "      <td>0.1</td>\n",
       "      <td>4.0</td>\n",
       "      <td>...</td>\n",
       "      <td>[26.40761685235798, 26.400052560210433, 26.377...</td>\n",
       "      <td>[20.621939401794283, 20.6649259521617, 20.7291...</td>\n",
       "      <td>[3.0040031555325073e-08, 2.9218554445727618e-0...</td>\n",
       "      <td>[3.85996747678299e-06, 3.7930136885170256e-06,...</td>\n",
       "      <td>b'galaxySED/Exp.50E07.02Z.spec.gz'</td>\n",
       "      <td>b'galaxySED/Exp.25E09.04Z.spec.gz'</td>\n",
       "      <td>kinney-elliptical</td>\n",
       "      <td>23.405445</td>\n",
       "      <td>23.219719</td>\n",
       "      <td>{\"m\": \"applyAgn\", \"p\": {\"seed\": 4653944, \"agn_...</td>\n",
       "    </tr>\n",
       "  </tbody>\n",
       "</table>\n",
       "<p>5 rows × 29 columns</p>\n",
       "</div>"
      ],
      "text/plain": [
       "        galaxy_id         ra        dec  redshift   gamma_1   gamma_2  \\\n",
       "17008  1875299621  52.862247 -27.840443  0.451181 -0.002175  0.005562   \n",
       "56777  1876005576  52.613531 -27.839463  0.714599  0.012985  0.003445   \n",
       "85353  1876519708  52.898971 -27.588704  0.845949 -0.011171 -0.005203   \n",
       "95439  1876695857  52.546219 -28.042984  0.883605 -0.002330 -0.023106   \n",
       "97040  1876724326  52.583562 -28.084166  0.882389  0.001468 -0.013728   \n",
       "\n",
       "          kappa  av_internal_disk  av_internal_bulge  rv_internal_disk  ...  \\\n",
       "17008 -0.001001               0.3                0.3               4.0  ...   \n",
       "56777  0.006585               0.4                0.1               4.0  ...   \n",
       "85353 -0.005566               0.4                0.1               4.0  ...   \n",
       "95439 -0.010028               0.0                0.1               2.0  ...   \n",
       "97040 -0.008336               0.8                0.1               4.0  ...   \n",
       "\n",
       "                                            magnorm_disk  \\\n",
       "17008  [23.50112622791565, 23.4735370046433, 23.50799...   \n",
       "56777  [26.04044412714207, 26.017461035576797, 25.965...   \n",
       "85353  [24.875585684080118, 24.859651279658827, 24.87...   \n",
       "95439  [30.598316187904057, 30.645420538137145, 30.66...   \n",
       "97040  [26.40761685235798, 26.400052560210433, 26.377...   \n",
       "\n",
       "                                           magnorm_bulge  \\\n",
       "17008  [19.753732470638646, 19.540521508042076, 19.34...   \n",
       "56777  [20.770294283748356, 20.788668896055004, 20.73...   \n",
       "85353  [20.381331560729873, 20.393758575187373, 20.29...   \n",
       "95439  [21.8910985670889, 21.886933398597794, 21.8857...   \n",
       "97040  [20.621939401794283, 20.6649259521617, 20.7291...   \n",
       "\n",
       "                                             fluxes_disk  \\\n",
       "17008  [7.204981294214914e-07, 7.418789880237264e-07,...   \n",
       "56777  [9.440789901912083e-08, 9.523522186262107e-08,...   \n",
       "85353  [2.730535738054766e-07, 2.546109572090378e-07,...   \n",
       "95439  [3.880622636671241e-09, 3.053683454418982e-09,...   \n",
       "97040  [3.0040031555325073e-08, 2.9218554445727618e-0...   \n",
       "\n",
       "                                            fluxes_bulge  \\\n",
       "17008  [3.8264775097187525e-06, 1.0557723563723791e-0...   \n",
       "56777  [3.6576707029982863e-06, 4.03266132491379e-06,...   \n",
       "85353  [5.686356815843988e-06, 5.965180347858453e-06,...   \n",
       "95439  [1.441811456789912e-06, 1.4922529463386161e-06...   \n",
       "97040  [3.85996747678299e-06, 3.7930136885170256e-06,...   \n",
       "\n",
       "                                   sed_disk  \\\n",
       "17008  b'galaxySED/Const.20E08.02Z.spec.gz'   \n",
       "56777  b'galaxySED/Burst.19E07.02Z.spec.gz'   \n",
       "85353  b'galaxySED/Const.40E07.02Z.spec.gz'   \n",
       "95439  b'galaxySED/Inst.15E07.002Z.spec.gz'   \n",
       "97040    b'galaxySED/Exp.50E07.02Z.spec.gz'   \n",
       "\n",
       "                                  sed_bulge           gal_type  magnorm_agn  \\\n",
       "17008  b'galaxySED/Exp.50E09.0005Z.spec.gz'  kinney-elliptical    20.348565   \n",
       "56777     b'galaxySED/Exp.25E09.1Z.spec.gz'  kinney-elliptical    21.829105   \n",
       "85353     b'galaxySED/Exp.20E09.1Z.spec.gz'  kinney-elliptical    22.120220   \n",
       "95439     b'galaxySED/Exp.20E09.1Z.spec.gz'  kinney-elliptical    22.225172   \n",
       "97040    b'galaxySED/Exp.25E09.04Z.spec.gz'  kinney-elliptical    23.405445   \n",
       "\n",
       "       mag_i_agn                                    varParamStr_agn  \n",
       "17008  20.128153  {\"m\": \"applyAgn\", \"p\": {\"seed\": 4020051, \"agn_...  \n",
       "56777  21.654666  {\"m\": \"applyAgn\", \"p\": {\"seed\": 8022933, \"agn_...  \n",
       "85353  21.942742  {\"m\": \"applyAgn\", \"p\": {\"seed\": 1710039, \"agn_...  \n",
       "95439  22.039325  {\"m\": \"applyAgn\", \"p\": {\"seed\": 4636896, \"agn_...  \n",
       "97040  23.219719  {\"m\": \"applyAgn\", \"p\": {\"seed\": 4653944, \"agn_...  \n",
       "\n",
       "[5 rows x 29 columns]"
      ]
     },
     "execution_count": 23,
     "metadata": {},
     "output_type": "execute_result"
    }
   ],
   "source": [
    "agn_hosts.head()"
   ]
  },
  {
   "cell_type": "code",
   "execution_count": 24,
   "metadata": {},
   "outputs": [
    {
     "data": {
      "text/plain": [
       "'{\"m\": \"applyAgn\", \"p\": {\"seed\": 4020051, \"agn_tau\": 2.888e+02, \"agn_sfu\": 4.627e-01, \"agn_sfg\": 4.114e-01, \"agn_sfr\": 3.808e-01, \"agn_sfi\": 3.230e-01, \"agn_sfz\": 3.147e-01, \"agn_sfy\": 3.009e-01}}'"
      ]
     },
     "execution_count": 24,
     "metadata": {},
     "output_type": "execute_result"
    }
   ],
   "source": [
    "agn_hosts.iloc[0]['varParamStr_agn']"
   ]
  },
  {
   "cell_type": "code",
   "execution_count": 25,
   "metadata": {},
   "outputs": [
    {
     "data": {
      "text/plain": [
       "{'seed': 4020051,\n",
       " 'agn_tau': 288.8,\n",
       " 'agn_sfu': 0.4627,\n",
       " 'agn_sfg': 0.4114,\n",
       " 'agn_sfr': 0.3808,\n",
       " 'agn_sfi': 0.323,\n",
       " 'agn_sfz': 0.3147,\n",
       " 'agn_sfy': 0.3009}"
      ]
     },
     "execution_count": 25,
     "metadata": {},
     "output_type": "execute_result"
    }
   ],
   "source": [
    "import json\n",
    "json.loads(agn_hosts.iloc[0]['varParamStr_agn'])['p']"
   ]
  },
  {
   "cell_type": "code",
   "execution_count": 26,
   "metadata": {},
   "outputs": [
    {
     "data": {
      "text/html": [
       "<div>\n",
       "<style scoped>\n",
       "    .dataframe tbody tr th:only-of-type {\n",
       "        vertical-align: middle;\n",
       "    }\n",
       "\n",
       "    .dataframe tbody tr th {\n",
       "        vertical-align: top;\n",
       "    }\n",
       "\n",
       "    .dataframe thead th {\n",
       "        text-align: right;\n",
       "    }\n",
       "</style>\n",
       "<table border=\"1\" class=\"dataframe\">\n",
       "  <thead>\n",
       "    <tr style=\"text-align: right;\">\n",
       "      <th></th>\n",
       "      <th>system_id</th>\n",
       "      <th>z_src</th>\n",
       "      <th>mag_i_src</th>\n",
       "      <th>n_img</th>\n",
       "      <th>x_img</th>\n",
       "      <th>y_img</th>\n",
       "      <th>t_delay_img</th>\n",
       "      <th>magnification_img</th>\n",
       "      <th>sed_lens</th>\n",
       "      <th>magnorm_lens</th>\n",
       "      <th>z_lens</th>\n",
       "      <th>reff_lens</th>\n",
       "      <th>ellip_lens</th>\n",
       "      <th>phie_lens</th>\n",
       "      <th>av_lens</th>\n",
       "      <th>rv_lens</th>\n",
       "      <th>vel_disp_lens</th>\n",
       "      <th>gamma</th>\n",
       "      <th>phi_gamma</th>\n",
       "    </tr>\n",
       "  </thead>\n",
       "  <tbody>\n",
       "    <tr>\n",
       "      <th>10967</th>\n",
       "      <td>2504560</td>\n",
       "      <td>0.51</td>\n",
       "      <td>19.89</td>\n",
       "      <td>2</td>\n",
       "      <td>[0.0357, 0.0225, 0.0, 0.0]</td>\n",
       "      <td>[-0.1554, 0.6497, 0.0, 0.0]</td>\n",
       "      <td>[33.75, 0.0, 0.0, 0.0]</td>\n",
       "      <td>[-0.4782, 3.7139, 0.0, 0.0]</td>\n",
       "      <td>galaxySED/Exp.62E09.04Z.spec.gz</td>\n",
       "      <td>[19.54665509586856, 19.500380820780777, 19.359...</td>\n",
       "      <td>0.374</td>\n",
       "      <td>1.683775</td>\n",
       "      <td>0.137823</td>\n",
       "      <td>-166.11030</td>\n",
       "      <td>0.2</td>\n",
       "      <td>4.0</td>\n",
       "      <td>247.7422</td>\n",
       "      <td>0.074528</td>\n",
       "      <td>32.46484</td>\n",
       "    </tr>\n",
       "    <tr>\n",
       "      <th>9537</th>\n",
       "      <td>337664</td>\n",
       "      <td>0.88</td>\n",
       "      <td>21.69</td>\n",
       "      <td>2</td>\n",
       "      <td>[-0.7562, 0.1127, 0.0, 0.0]</td>\n",
       "      <td>[-0.6463, 0.0566, 0.0, 0.0]</td>\n",
       "      <td>[0.0, 13.177, 0.0, 0.0]</td>\n",
       "      <td>[2.1099, -0.2947, 0.0, 0.0]</td>\n",
       "      <td>galaxySED/Exp.62E09.02Z.spec.gz</td>\n",
       "      <td>[18.71463358516545, 18.80022068495036, 18.8513...</td>\n",
       "      <td>0.184</td>\n",
       "      <td>1.365488</td>\n",
       "      <td>0.168295</td>\n",
       "      <td>72.75593</td>\n",
       "      <td>0.1</td>\n",
       "      <td>2.2</td>\n",
       "      <td>159.2209</td>\n",
       "      <td>0.037091</td>\n",
       "      <td>75.49860</td>\n",
       "    </tr>\n",
       "    <tr>\n",
       "      <th>175</th>\n",
       "      <td>9208239</td>\n",
       "      <td>0.78</td>\n",
       "      <td>22.07</td>\n",
       "      <td>2</td>\n",
       "      <td>[0.407, -0.1335, 0.0, 0.0]</td>\n",
       "      <td>[0.2316, -0.1606, 0.0, 0.0]</td>\n",
       "      <td>[0.0, 27.088, 0.0, 0.0]</td>\n",
       "      <td>[1.8734, -10.3261, 0.0, 0.0]</td>\n",
       "      <td>galaxySED/Exp.25E09.1Z.spec.gz</td>\n",
       "      <td>[20.703763820575702, 20.763681171660906, 20.77...</td>\n",
       "      <td>0.612</td>\n",
       "      <td>1.179028</td>\n",
       "      <td>0.375764</td>\n",
       "      <td>-143.14290</td>\n",
       "      <td>0.1</td>\n",
       "      <td>3.7</td>\n",
       "      <td>236.0478</td>\n",
       "      <td>0.091715</td>\n",
       "      <td>-161.26220</td>\n",
       "    </tr>\n",
       "    <tr>\n",
       "      <th>2485</th>\n",
       "      <td>10720944</td>\n",
       "      <td>0.91</td>\n",
       "      <td>22.21</td>\n",
       "      <td>2</td>\n",
       "      <td>[0.0199, -0.024, 0.0, 0.0]</td>\n",
       "      <td>[-0.898, 0.1425, 0.0, 0.0]</td>\n",
       "      <td>[0.0, 102.494, 0.0, 0.0]</td>\n",
       "      <td>[1.7241, -0.6087, 0.0, 0.0]</td>\n",
       "      <td>galaxySED/Burst.40E09.04Z.spec.gz</td>\n",
       "      <td>[20.348078361604372, 20.50283161654974, 20.439...</td>\n",
       "      <td>0.650</td>\n",
       "      <td>1.738369</td>\n",
       "      <td>0.308485</td>\n",
       "      <td>88.54858</td>\n",
       "      <td>0.2</td>\n",
       "      <td>4.0</td>\n",
       "      <td>261.8183</td>\n",
       "      <td>0.055039</td>\n",
       "      <td>-101.87420</td>\n",
       "    </tr>\n",
       "    <tr>\n",
       "      <th>4258</th>\n",
       "      <td>7375352</td>\n",
       "      <td>1.05</td>\n",
       "      <td>23.27</td>\n",
       "      <td>2</td>\n",
       "      <td>[0.0263, -0.1081, 0.0, 0.0]</td>\n",
       "      <td>[-0.2595, 0.4375, 0.0, 0.0]</td>\n",
       "      <td>[9.237, 0.0, 0.0, 0.0]</td>\n",
       "      <td>[-4.1078, 3.557, 0.0, 0.0]</td>\n",
       "      <td>galaxySED/Exp.62E09.04Z.spec.gz</td>\n",
       "      <td>[21.535822389864443, 21.498701705230367, 21.41...</td>\n",
       "      <td>0.562</td>\n",
       "      <td>2.735656</td>\n",
       "      <td>0.050598</td>\n",
       "      <td>-133.96590</td>\n",
       "      <td>0.1</td>\n",
       "      <td>4.0</td>\n",
       "      <td>171.3957</td>\n",
       "      <td>0.063061</td>\n",
       "      <td>116.94000</td>\n",
       "    </tr>\n",
       "  </tbody>\n",
       "</table>\n",
       "</div>"
      ],
      "text/plain": [
       "       system_id  z_src  mag_i_src  n_img                        x_img  \\\n",
       "10967    2504560   0.51      19.89      2   [0.0357, 0.0225, 0.0, 0.0]   \n",
       "9537      337664   0.88      21.69      2  [-0.7562, 0.1127, 0.0, 0.0]   \n",
       "175      9208239   0.78      22.07      2   [0.407, -0.1335, 0.0, 0.0]   \n",
       "2485    10720944   0.91      22.21      2   [0.0199, -0.024, 0.0, 0.0]   \n",
       "4258     7375352   1.05      23.27      2  [0.0263, -0.1081, 0.0, 0.0]   \n",
       "\n",
       "                             y_img               t_delay_img  \\\n",
       "10967  [-0.1554, 0.6497, 0.0, 0.0]    [33.75, 0.0, 0.0, 0.0]   \n",
       "9537   [-0.6463, 0.0566, 0.0, 0.0]   [0.0, 13.177, 0.0, 0.0]   \n",
       "175    [0.2316, -0.1606, 0.0, 0.0]   [0.0, 27.088, 0.0, 0.0]   \n",
       "2485    [-0.898, 0.1425, 0.0, 0.0]  [0.0, 102.494, 0.0, 0.0]   \n",
       "4258   [-0.2595, 0.4375, 0.0, 0.0]    [9.237, 0.0, 0.0, 0.0]   \n",
       "\n",
       "                  magnification_img                           sed_lens  \\\n",
       "10967   [-0.4782, 3.7139, 0.0, 0.0]    galaxySED/Exp.62E09.04Z.spec.gz   \n",
       "9537    [2.1099, -0.2947, 0.0, 0.0]    galaxySED/Exp.62E09.02Z.spec.gz   \n",
       "175    [1.8734, -10.3261, 0.0, 0.0]     galaxySED/Exp.25E09.1Z.spec.gz   \n",
       "2485    [1.7241, -0.6087, 0.0, 0.0]  galaxySED/Burst.40E09.04Z.spec.gz   \n",
       "4258     [-4.1078, 3.557, 0.0, 0.0]    galaxySED/Exp.62E09.04Z.spec.gz   \n",
       "\n",
       "                                            magnorm_lens  z_lens  reff_lens  \\\n",
       "10967  [19.54665509586856, 19.500380820780777, 19.359...   0.374   1.683775   \n",
       "9537   [18.71463358516545, 18.80022068495036, 18.8513...   0.184   1.365488   \n",
       "175    [20.703763820575702, 20.763681171660906, 20.77...   0.612   1.179028   \n",
       "2485   [20.348078361604372, 20.50283161654974, 20.439...   0.650   1.738369   \n",
       "4258   [21.535822389864443, 21.498701705230367, 21.41...   0.562   2.735656   \n",
       "\n",
       "       ellip_lens  phie_lens  av_lens  rv_lens  vel_disp_lens     gamma  \\\n",
       "10967    0.137823 -166.11030      0.2      4.0       247.7422  0.074528   \n",
       "9537     0.168295   72.75593      0.1      2.2       159.2209  0.037091   \n",
       "175      0.375764 -143.14290      0.1      3.7       236.0478  0.091715   \n",
       "2485     0.308485   88.54858      0.2      4.0       261.8183  0.055039   \n",
       "4258     0.050598 -133.96590      0.1      4.0       171.3957  0.063061   \n",
       "\n",
       "       phi_gamma  \n",
       "10967   32.46484  \n",
       "9537    75.49860  \n",
       "175   -161.26220  \n",
       "2485  -101.87420  \n",
       "4258   116.94000  "
      ]
     },
     "execution_count": 26,
     "metadata": {},
     "output_type": "execute_result"
    }
   ],
   "source": [
    "agn_sys_cat.head()"
   ]
  },
  {
   "cell_type": "code",
   "execution_count": 27,
   "metadata": {},
   "outputs": [
    {
     "data": {
      "text/plain": [
       "1476"
      ]
     },
     "execution_count": 27,
     "metadata": {},
     "output_type": "execute_result"
    }
   ],
   "source": [
    "len(agn_hosts)"
   ]
  },
  {
   "cell_type": "code",
   "execution_count": 28,
   "metadata": {},
   "outputs": [
    {
     "data": {
      "text/plain": [
       "Text(0.5, 1.0, 'Comparing Matched Redshifts to OM10')"
      ]
     },
     "execution_count": 28,
     "metadata": {},
     "output_type": "execute_result"
    },
    {
     "data": {
      "image/png": "[encoded data removed]",
      "text/plain": [
       "<Figure size 720x432 with 1 Axes>"
      ]
     },
     "metadata": {
      "needs_background": "light"
     },
     "output_type": "display_data"
    }
   ],
   "source": [
    "fig = plt.figure(figsize=(10,6))\n",
    "n, bins, _ = plt.hist(agn_hosts['redshift'], density=True, histtype='step',\n",
    "                      label='Matched DC2 Galaxies', lw=3, bins=10, range=(binz_min, binz_max))\n",
    "plt.hist(agn_cat.query('z_src <= %f' % binz_max)['z_src'], density=True,\n",
    "         histtype='step', label='OM10', lw=3, bins=bins)\n",
    "plt.hist(dc2_sp.gal_cat.query('magnorm_agn > -99')['redshift'], density=True,\n",
    "         histtype='step', bins=bins, label='Overall DC2 DDF AGN', lw=3)\n",
    "plt.xlabel('Redshift', size=16)\n",
    "plt.ylabel('Normalized # of AGN', size=16)\n",
    "plt.xticks(size=14)\n",
    "plt.yticks(size=14)\n",
    "plt.legend(fontsize=14, loc=2)\n",
    "plt.title('Comparing Matched Redshifts to OM10')"
   ]
  },
  {
   "cell_type": "code",
   "execution_count": 29,
   "metadata": {},
   "outputs": [
    {
     "data": {
      "text/plain": [
       "Text(0.5, 1.0, 'Comparing Matched i-band magnitudes to OM10')"
      ]
     },
     "execution_count": 29,
     "metadata": {},
     "output_type": "execute_result"
    },
    {
     "data": {
      "image/png": "[encoded data removed]",
      "text/plain": [
       "<Figure size 720x432 with 1 Axes>"
      ]
     },
     "metadata": {
      "needs_background": "light"
     },
     "output_type": "display_data"
    }
   ],
   "source": [
    "fig = plt.figure(figsize=(10,6))\n",
    "n, bins, _ = plt.hist(agn_hosts['mag_i_agn'], density=True, histtype='step',\n",
    "                      label='Matched DC2 Galaxies', lw=3, bins=10)\n",
    "plt.hist(agn_cat.query('z_src <= %f' % binz_max)['mag_i_src'], density=True,\n",
    "         histtype='step', label='OM10', lw=3, bins=bins)\n",
    "plt.hist(dc2_sp.gal_cat.query('magnorm_agn > -99')['mag_i_agn'], density=True,\n",
    "         histtype='step', bins=bins, label='Overall DC2 DDF AGN', lw=3)\n",
    "plt.xlabel('i-band magnitude', size=16)\n",
    "plt.ylabel('Normalized # of AGN', size=16)\n",
    "plt.xticks(size=14)\n",
    "plt.yticks(size=14)\n",
    "plt.legend(fontsize=14, loc=2)\n",
    "plt.title('Comparing Matched i-band magnitudes to OM10')"
   ]
  },
  {
   "cell_type": "code",
   "execution_count": 30,
   "metadata": {},
   "outputs": [
    {
     "data": {
      "image/png": "[encoded data removed]",
      "text/plain": [
       "<Figure size 396x396 with 4 Axes>"
      ]
     },
     "metadata": {
      "needs_background": "light"
     },
     "output_type": "display_data"
    }
   ],
   "source": [
    "\n",
    "fig = corner.corner(agn_hosts[['redshift', 'mag_i_agn']].values, bins=10, hist_kwargs={'density':True},\n",
    "                    labels=['redshift', 'AGN i-band mag'], label_kwargs={'size':14})\n",
    "corner.corner(agn_cat.query('z_src <= %f' % binz_max)[['z_src', 'mag_i_src']].values,\n",
    "              bins=10, color='r', fig=fig, hist_kwargs={'density':True})\n",
    "plt.show()"
   ]
  },
  {
   "cell_type": "markdown",
   "metadata": {},
   "source": [
    "Our redshift distribution looks close but we have some trouble with i-band magnitudes since the OM10 population is brighter than is actually possible with the DC2 population. It looks like it's about as well as we can do with what we have and yields 1476 systems which is a good sample size."
   ]
  },
  {
   "cell_type": "markdown",
   "metadata": {},
   "source": [
    "## Define new sprinkler with a new SNe density function\n",
    "\n",
    "We want to calibrate probabilities of choosing DC2 SNe hosts to be sprinkled. To calibrate these probabilities we will try to match aspects of the overall SNe and SNe host population with our sprinkled population."
   ]
  },
  {
   "cell_type": "markdown",
   "metadata": {},
   "source": [
    "### Review of matching code currently in Sprinkler"
   ]
  },
  {
   "cell_type": "markdown",
   "metadata": {},
   "source": [
    "#### The function `assign_matches_sne` works in the sprinkler to match potential host galaxies to sprinkled systems\n",
    "\n",
    "It first calculates a probability for a galaxy to host a SN with the function `sne_density` based upon stellar mass and galaxy type. Then it draws from a value from a uniform distribution to see if that galaxy gets a SN. If it does then it moves on to `find_possible_match_sne` to find the lensed SN systems that match up to this galaxy based upon redshift and galaxy type.\n",
    "\n",
    "```\n",
    "    def assign_matches_sne(self, sne_gals, rand_state):\n",
    "        \n",
    "        sprinkled_sne_gal_rows = []\n",
    "        sprinkled_gl_sne_cat_rows = []\n",
    "\n",
    "        for i in range(len(sne_gals)):\n",
    "            \n",
    "            if i % 10000 == 0:\n",
    "                print(i)\n",
    "            \n",
    "            # Draw probability that galaxy is sprinkled\n",
    "            sne_density = self.sne_density(sne_gals.iloc[i])\n",
    "\n",
    "            density_draw = rand_state.uniform()\n",
    "            if density_draw > sne_density: \n",
    "                continue\n",
    "            \n",
    "            sne_cat_idx = self.find_possible_match_sne(sne_gals.iloc[i])\n",
    "                \n",
    "            sne_idx_keep = [x for x in sne_cat_idx\n",
    "                            if x not in sprinkled_gl_sne_cat_rows]\n",
    "\n",
    "            if len(sne_idx_keep) == 0:\n",
    "                continue   \n",
    "                \n",
    "            weight = self.gl_sne_cat['weight'].iloc[sne_idx_keep]\n",
    "            \n",
    "            sprinkled_gl_sne_cat_rows.append(\n",
    "                rand_state.choice(sne_idx_keep, p = weight/np.sum(weight)))\n",
    "            sprinkled_sne_gal_rows.append(i)\n",
    "            \n",
    "        return sprinkled_sne_gal_rows, sprinkled_gl_sne_cat_rows\n",
    "```"
   ]
  },
  {
   "cell_type": "markdown",
   "metadata": {},
   "source": [
    "#### `sne_density` determines the probability of a galaxy hosting a SN\n",
    "\n",
    "We use the galaxy types we determined when creating the catalog and the stellar mass of the galaxy to get probabilities that conform with the rates in Table 2 of [Mannucci et al. 2005](https://www.aanda.org/articles/aa/pdf/2005/15/aa1411.pdf).\n",
    "\n",
    "We add in a normalization factor to get the approximate number of lensed SNe we want in the DDF field over the 10 years.\n",
    "\n",
    "```\n",
    "    def sne_density(self, sne_gal_row):\n",
    "        \n",
    "        density_norm = 0.05\n",
    "        \n",
    "        stellar_mass = sne_gal_row['stellar_mass']\n",
    "        host_type = sne_gal_row['gal_type']\n",
    "        \n",
    "        if host_type == 'kinney-elliptical':\n",
    "            density_host = 0.044 * stellar_mass * 1e-10\n",
    "        elif host_type == 'kinney-sc':\n",
    "            density_host = 0.17 * stellar_mass * 1e-10\n",
    "        elif host_type == 'kinney-starburst':\n",
    "            density_host = 0.77 * stellar_mass * 1e-10\n",
    "        \n",
    "        density_val = density_norm * density_host\n",
    "\n",
    "        return density_val\n",
    "```"
   ]
  },
  {
   "cell_type": "markdown",
   "metadata": {},
   "source": [
    "#### `find_possible_match_sne` matches potential host galaxies with appropriate systems in the lensed SNe catalog\n",
    "\n",
    "We find lensed SNe systems that are approximately the same in host mass redshift and type.\n",
    "\n",
    "```\n",
    "    def find_possible_match_sne(self, gal_cat):\n",
    "\n",
    "        gal_z = gal_cat['redshift']\n",
    "        gal_type = gal_cat['gal_type']\n",
    "\n",
    "        # search the SNe catalog for all sources +- 0.05 dex in redshift\n",
    "        # and with matching type\n",
    "        lens_candidate_idx = []\n",
    "\n",
    "        w = np.where((np.abs(np.log10(self.gl_sne_cat['z_src']) -\n",
    "                             np.log10(gal_z)) <= 0.05) &\n",
    "                     (self.gl_sne_cat['type_host'] == gal_type))\n",
    "        lens_candidate_idx = w[0]    \n",
    "\n",
    "        return lens_candidate_idx\n",
    "```"
   ]
  },
  {
   "cell_type": "code",
   "execution_count": 31,
   "metadata": {},
   "outputs": [],
   "source": [
    "# Load Goldstein et al. catalog\n",
    "sne_cat = dc2_sp.gl_sne_cat"
   ]
  },
  {
   "cell_type": "markdown",
   "metadata": {},
   "source": [
    "### Test out the sampling by running the sprinkler"
   ]
  },
  {
   "cell_type": "code",
   "execution_count": 32,
   "metadata": {},
   "outputs": [],
   "source": [
    "#dc2_sp.gal_cat = dc2_sp.gal_cat.iloc[:10000]"
   ]
  },
  {
   "cell_type": "code",
   "execution_count": 33,
   "metadata": {},
   "outputs": [
    {
     "data": {
      "text/plain": [
       "176241"
      ]
     },
     "execution_count": 33,
     "metadata": {},
     "output_type": "execute_result"
    }
   ],
   "source": [
    "len(dc2_sp.gl_sne_cat)"
   ]
  },
  {
   "cell_type": "code",
   "execution_count": 34,
   "metadata": {},
   "outputs": [
    {
     "name": "stdout",
     "output_type": "stream",
     "text": [
      "0\n",
      "10000\n",
      "20000\n",
      "30000\n",
      "40000\n",
      "50000\n",
      "60000\n",
      "70000\n",
      "80000\n",
      "90000\n",
      "100000\n",
      "110000\n",
      "120000\n",
      "130000\n",
      "140000\n",
      "150000\n",
      "160000\n",
      "170000\n",
      "180000\n",
      "190000\n",
      "200000\n",
      "210000\n",
      "220000\n",
      "230000\n",
      "240000\n",
      "250000\n",
      "260000\n",
      "270000\n",
      "280000\n",
      "290000\n",
      "300000\n",
      "310000\n",
      "320000\n",
      "330000\n",
      "340000\n",
      "350000\n",
      "360000\n",
      "370000\n",
      "380000\n",
      "390000\n",
      "400000\n",
      "410000\n",
      "420000\n",
      "430000\n",
      "440000\n",
      "450000\n",
      "460000\n",
      "470000\n",
      "480000\n",
      "490000\n",
      "500000\n",
      "510000\n",
      "520000\n",
      "530000\n",
      "540000\n",
      "550000\n",
      "560000\n",
      "570000\n",
      "580000\n",
      "590000\n"
     ]
    }
   ],
   "source": [
    "sne_hosts, sne_sys_cat = dc2_sp.sprinkle_sne()"
   ]
  },
  {
   "cell_type": "code",
   "execution_count": 35,
   "metadata": {},
   "outputs": [
    {
     "data": {
      "text/plain": [
       "1350"
      ]
     },
     "execution_count": 35,
     "metadata": {},
     "output_type": "execute_result"
    }
   ],
   "source": [
    "len(sne_hosts)"
   ]
  },
  {
   "cell_type": "markdown",
   "metadata": {},
   "source": [
    "### Look at some properties of the matched host galaxies and SNe"
   ]
  },
  {
   "cell_type": "code",
   "execution_count": 36,
   "metadata": {},
   "outputs": [
    {
     "data": {
      "text/plain": [
       "Text(0, 0.5, 'Galaxy Counts')"
      ]
     },
     "execution_count": 36,
     "metadata": {},
     "output_type": "execute_result"
    },
    {
     "data": {
      "image/png": "[encoded data removed]",
      "text/plain": [
       "<Figure size 432x288 with 1 Axes>"
      ]
     },
     "metadata": {
      "needs_background": "light"
     },
     "output_type": "display_data"
    }
   ],
   "source": [
    "plt.hist(sne_hosts['gal_type'])\n",
    "plt.xlabel('Host Galaxy Type')\n",
    "plt.ylabel('Galaxy Counts')"
   ]
  },
  {
   "cell_type": "code",
   "execution_count": 37,
   "metadata": {},
   "outputs": [
    {
     "data": {
      "text/plain": [
       "Text(0, 0.5, 'Galaxy Counts')"
      ]
     },
     "execution_count": 37,
     "metadata": {},
     "output_type": "execute_result"
    },
    {
     "data": {
      "image/png": "[encoded data removed]",
      "text/plain": [
       "<Figure size 432x288 with 1 Axes>"
      ]
     },
     "metadata": {
      "needs_background": "light"
     },
     "output_type": "display_data"
    }
   ],
   "source": [
    "plt.hist(sne_hosts['redshift'])\n",
    "plt.xlabel('Host Galaxy Redshift')\n",
    "plt.ylabel('Galaxy Counts')"
   ]
  },
  {
   "cell_type": "code",
   "execution_count": 38,
   "metadata": {},
   "outputs": [
    {
     "data": {
      "text/plain": [
       "Text(0, 0.5, 'Count')"
      ]
     },
     "execution_count": 38,
     "metadata": {},
     "output_type": "execute_result"
    },
    {
     "data": {
      "image/png": "[encoded data removed]",
      "text/plain": [
       "<Figure size 432x288 with 1 Axes>"
      ]
     },
     "metadata": {
      "needs_background": "light"
     },
     "output_type": "display_data"
    }
   ],
   "source": [
    "# Check distribution of times SNe appears\n",
    "plt.hist(sne_sys_cat['t0'])\n",
    "plt.xlabel('MJD of First SNe image t0')\n",
    "plt.ylabel('Count')"
   ]
  },
  {
   "cell_type": "code",
   "execution_count": 39,
   "metadata": {},
   "outputs": [
    {
     "data": {
      "text/plain": [
       "Text(0, 0.5, 'Count')"
      ]
     },
     "execution_count": 39,
     "metadata": {},
     "output_type": "execute_result"
    },
    {
     "data": {
      "image/png": "[encoded data removed]",
      "text/plain": [
       "<Figure size 432x288 with 1 Axes>"
      ]
     },
     "metadata": {
      "needs_background": "light"
     },
     "output_type": "display_data"
    }
   ],
   "source": [
    "# Check distribution of times SNe appears\n",
    "plt.hist(np.log10(sne_sys_cat['x0']))\n",
    "plt.xlabel('Log(SNe Salt-2 X0 parameter)')\n",
    "plt.ylabel('Count')"
   ]
  },
  {
   "cell_type": "code",
   "execution_count": 40,
   "metadata": {},
   "outputs": [
    {
     "data": {
      "text/html": [
       "<div>\n",
       "<style scoped>\n",
       "    .dataframe tbody tr th:only-of-type {\n",
       "        vertical-align: middle;\n",
       "    }\n",
       "\n",
       "    .dataframe tbody tr th {\n",
       "        vertical-align: top;\n",
       "    }\n",
       "\n",
       "    .dataframe thead th {\n",
       "        text-align: right;\n",
       "    }\n",
       "</style>\n",
       "<table border=\"1\" class=\"dataframe\">\n",
       "  <thead>\n",
       "    <tr style=\"text-align: right;\">\n",
       "      <th></th>\n",
       "      <th>system_id</th>\n",
       "      <th>z_src</th>\n",
       "      <th>t0</th>\n",
       "      <th>n_img</th>\n",
       "      <th>x_img</th>\n",
       "      <th>y_img</th>\n",
       "      <th>t_delay_img</th>\n",
       "      <th>magnification_img</th>\n",
       "      <th>MB</th>\n",
       "      <th>type_host</th>\n",
       "      <th>...</th>\n",
       "      <th>phie_lens</th>\n",
       "      <th>av_lens</th>\n",
       "      <th>rv_lens</th>\n",
       "      <th>vel_disp_lens</th>\n",
       "      <th>gamma</th>\n",
       "      <th>phi_gamma</th>\n",
       "      <th>x0</th>\n",
       "      <th>x1</th>\n",
       "      <th>c</th>\n",
       "      <th>weight</th>\n",
       "    </tr>\n",
       "  </thead>\n",
       "  <tbody>\n",
       "    <tr>\n",
       "      <th>70487</th>\n",
       "      <td>4068871</td>\n",
       "      <td>0.175884</td>\n",
       "      <td>60733.028599</td>\n",
       "      <td>4</td>\n",
       "      <td>[0.4345569343288494, -0.4691584566444777, -0.5...</td>\n",
       "      <td>[0.9589105761820871, -0.3373648149901009, 0.07...</td>\n",
       "      <td>[0.0, 10.692351197108174, 11.12302355987449, 1...</td>\n",
       "      <td>[1.5112895004148166, 3.003103084833405, -1.411...</td>\n",
       "      <td>-19.241234</td>\n",
       "      <td>kinney-elliptical</td>\n",
       "      <td>...</td>\n",
       "      <td>62.653218</td>\n",
       "      <td>0.2</td>\n",
       "      <td>2.2</td>\n",
       "      <td>242.629553</td>\n",
       "      <td>0.057504</td>\n",
       "      <td>220.351261</td>\n",
       "      <td>0.000111</td>\n",
       "      <td>1.0</td>\n",
       "      <td>0.0</td>\n",
       "      <td>0.000027</td>\n",
       "    </tr>\n",
       "    <tr>\n",
       "      <th>119960</th>\n",
       "      <td>6724378</td>\n",
       "      <td>0.188217</td>\n",
       "      <td>60531.982206</td>\n",
       "      <td>2</td>\n",
       "      <td>[-0.8486132869312706, 0.12250106355690901, nan...</td>\n",
       "      <td>[0.7925046402208563, -0.1835219086844464, nan,...</td>\n",
       "      <td>[0.0, 17.93044247154871, nan, nan, nan, nan, n...</td>\n",
       "      <td>[2.26111698463307, -0.480531248540481, nan, na...</td>\n",
       "      <td>-19.120594</td>\n",
       "      <td>kinney-starburst</td>\n",
       "      <td>...</td>\n",
       "      <td>343.772904</td>\n",
       "      <td>0.0</td>\n",
       "      <td>2.0</td>\n",
       "      <td>230.940384</td>\n",
       "      <td>0.016898</td>\n",
       "      <td>209.142483</td>\n",
       "      <td>0.000086</td>\n",
       "      <td>1.0</td>\n",
       "      <td>0.0</td>\n",
       "      <td>0.000027</td>\n",
       "    </tr>\n",
       "    <tr>\n",
       "      <th>174134</th>\n",
       "      <td>9923868</td>\n",
       "      <td>0.245165</td>\n",
       "      <td>62973.622594</td>\n",
       "      <td>2</td>\n",
       "      <td>[-0.8200143897144409, 0.1078009614237609, nan,...</td>\n",
       "      <td>[-0.32026909741365434, 0.22780605606961735, na...</td>\n",
       "      <td>[0.0, 11.845688852528415, nan, nan, nan, nan, ...</td>\n",
       "      <td>[2.3260457006197344, -0.41558007634025246, nan...</td>\n",
       "      <td>-19.372602</td>\n",
       "      <td>kinney-sc</td>\n",
       "      <td>...</td>\n",
       "      <td>156.891392</td>\n",
       "      <td>0.1</td>\n",
       "      <td>4.0</td>\n",
       "      <td>218.542513</td>\n",
       "      <td>0.094922</td>\n",
       "      <td>190.168770</td>\n",
       "      <td>0.000059</td>\n",
       "      <td>1.0</td>\n",
       "      <td>0.0</td>\n",
       "      <td>0.000059</td>\n",
       "    </tr>\n",
       "    <tr>\n",
       "      <th>19258</th>\n",
       "      <td>985566</td>\n",
       "      <td>0.283273</td>\n",
       "      <td>61523.740726</td>\n",
       "      <td>2</td>\n",
       "      <td>[0.39614343964155196, -0.05225360112551972, na...</td>\n",
       "      <td>[0.14089533993000294, -0.20411189953448694, na...</td>\n",
       "      <td>[0.0, 5.691380288015389, nan, nan, nan, nan, n...</td>\n",
       "      <td>[2.3160658604403555, -1.7347860297062434, nan,...</td>\n",
       "      <td>-19.106845</td>\n",
       "      <td>kinney-elliptical</td>\n",
       "      <td>...</td>\n",
       "      <td>28.365981</td>\n",
       "      <td>0.0</td>\n",
       "      <td>2.0</td>\n",
       "      <td>206.125255</td>\n",
       "      <td>0.119835</td>\n",
       "      <td>355.420879</td>\n",
       "      <td>0.000033</td>\n",
       "      <td>1.0</td>\n",
       "      <td>0.0</td>\n",
       "      <td>0.000136</td>\n",
       "    </tr>\n",
       "    <tr>\n",
       "      <th>114861</th>\n",
       "      <td>6615075</td>\n",
       "      <td>0.226327</td>\n",
       "      <td>60094.543280</td>\n",
       "      <td>2</td>\n",
       "      <td>[0.08928825618758378, -0.21488913437206703, na...</td>\n",
       "      <td>[-2.4845192868931902, 0.4793392088716151, nan,...</td>\n",
       "      <td>[0.0, 32.58186496768902, nan, nan, nan, nan, n...</td>\n",
       "      <td>[1.955133551327757, -0.5970897304713212, nan, ...</td>\n",
       "      <td>-19.213396</td>\n",
       "      <td>kinney-elliptical</td>\n",
       "      <td>...</td>\n",
       "      <td>63.798072</td>\n",
       "      <td>0.0</td>\n",
       "      <td>2.0</td>\n",
       "      <td>269.155991</td>\n",
       "      <td>0.029620</td>\n",
       "      <td>305.063828</td>\n",
       "      <td>0.000062</td>\n",
       "      <td>1.0</td>\n",
       "      <td>0.0</td>\n",
       "      <td>0.000029</td>\n",
       "    </tr>\n",
       "  </tbody>\n",
       "</table>\n",
       "<p>5 rows × 25 columns</p>\n",
       "</div>"
      ],
      "text/plain": [
       "        system_id     z_src            t0  n_img  \\\n",
       "70487     4068871  0.175884  60733.028599      4   \n",
       "119960    6724378  0.188217  60531.982206      2   \n",
       "174134    9923868  0.245165  62973.622594      2   \n",
       "19258      985566  0.283273  61523.740726      2   \n",
       "114861    6615075  0.226327  60094.543280      2   \n",
       "\n",
       "                                                    x_img  \\\n",
       "70487   [0.4345569343288494, -0.4691584566444777, -0.5...   \n",
       "119960  [-0.8486132869312706, 0.12250106355690901, nan...   \n",
       "174134  [-0.8200143897144409, 0.1078009614237609, nan,...   \n",
       "19258   [0.39614343964155196, -0.05225360112551972, na...   \n",
       "114861  [0.08928825618758378, -0.21488913437206703, na...   \n",
       "\n",
       "                                                    y_img  \\\n",
       "70487   [0.9589105761820871, -0.3373648149901009, 0.07...   \n",
       "119960  [0.7925046402208563, -0.1835219086844464, nan,...   \n",
       "174134  [-0.32026909741365434, 0.22780605606961735, na...   \n",
       "19258   [0.14089533993000294, -0.20411189953448694, na...   \n",
       "114861  [-2.4845192868931902, 0.4793392088716151, nan,...   \n",
       "\n",
       "                                              t_delay_img  \\\n",
       "70487   [0.0, 10.692351197108174, 11.12302355987449, 1...   \n",
       "119960  [0.0, 17.93044247154871, nan, nan, nan, nan, n...   \n",
       "174134  [0.0, 11.845688852528415, nan, nan, nan, nan, ...   \n",
       "19258   [0.0, 5.691380288015389, nan, nan, nan, nan, n...   \n",
       "114861  [0.0, 32.58186496768902, nan, nan, nan, nan, n...   \n",
       "\n",
       "                                        magnification_img         MB  \\\n",
       "70487   [1.5112895004148166, 3.003103084833405, -1.411... -19.241234   \n",
       "119960  [2.26111698463307, -0.480531248540481, nan, na... -19.120594   \n",
       "174134  [2.3260457006197344, -0.41558007634025246, nan... -19.372602   \n",
       "19258   [2.3160658604403555, -1.7347860297062434, nan,... -19.106845   \n",
       "114861  [1.955133551327757, -0.5970897304713212, nan, ... -19.213396   \n",
       "\n",
       "                type_host  ...   phie_lens av_lens  rv_lens  vel_disp_lens  \\\n",
       "70487   kinney-elliptical  ...   62.653218     0.2      2.2     242.629553   \n",
       "119960   kinney-starburst  ...  343.772904     0.0      2.0     230.940384   \n",
       "174134          kinney-sc  ...  156.891392     0.1      4.0     218.542513   \n",
       "19258   kinney-elliptical  ...   28.365981     0.0      2.0     206.125255   \n",
       "114861  kinney-elliptical  ...   63.798072     0.0      2.0     269.155991   \n",
       "\n",
       "           gamma   phi_gamma        x0   x1    c    weight  \n",
       "70487   0.057504  220.351261  0.000111  1.0  0.0  0.000027  \n",
       "119960  0.016898  209.142483  0.000086  1.0  0.0  0.000027  \n",
       "174134  0.094922  190.168770  0.000059  1.0  0.0  0.000059  \n",
       "19258   0.119835  355.420879  0.000033  1.0  0.0  0.000136  \n",
       "114861  0.029620  305.063828  0.000062  1.0  0.0  0.000029  \n",
       "\n",
       "[5 rows x 25 columns]"
      ]
     },
     "execution_count": 40,
     "metadata": {},
     "output_type": "execute_result"
    }
   ],
   "source": [
    "sne_sys_cat.head()"
   ]
  },
  {
   "cell_type": "code",
   "execution_count": 41,
   "metadata": {},
   "outputs": [
    {
     "data": {
      "text/plain": [
       "Index(['galaxy_id', 'ra', 'dec', 'redshift', 'gamma_1', 'gamma_2', 'kappa',\n",
       "       'av_internal_disk', 'av_internal_bulge', 'rv_internal_disk',\n",
       "       'rv_internal_bulge', 'av_mw', 'rv_mw', 'semi_major_axis_disk',\n",
       "       'semi_major_axis_bulge', 'semi_minor_axis_disk',\n",
       "       'semi_minor_axis_bulge', 'stellar_mass', 'position_angle',\n",
       "       'magnorm_disk', 'magnorm_bulge', 'fluxes_disk', 'fluxes_bulge',\n",
       "       'sed_disk', 'sed_bulge', 'gal_type', 'magnorm_agn', 'mag_i_agn',\n",
       "       'varParamStr_agn'],\n",
       "      dtype='object')"
      ]
     },
     "execution_count": 41,
     "metadata": {},
     "output_type": "execute_result"
    }
   ],
   "source": [
    "sne_hosts.columns"
   ]
  },
  {
   "cell_type": "code",
   "execution_count": 42,
   "metadata": {},
   "outputs": [
    {
     "data": {
      "text/plain": [
       "Index(['system_id', 'z_src', 't0', 'n_img', 'x_img', 'y_img', 't_delay_img',\n",
       "       'magnification_img', 'MB', 'type_host', 'sed_lens', 'magnorm_lens',\n",
       "       'z_lens', 'reff_lens', 'ellip_lens', 'phie_lens', 'av_lens', 'rv_lens',\n",
       "       'vel_disp_lens', 'gamma', 'phi_gamma', 'x0', 'x1', 'c', 'weight'],\n",
       "      dtype='object')"
      ]
     },
     "execution_count": 42,
     "metadata": {},
     "output_type": "execute_result"
    }
   ],
   "source": [
    "sne_sys_cat.columns"
   ]
  },
  {
   "cell_type": "code",
   "execution_count": 43,
   "metadata": {},
   "outputs": [],
   "source": [
    "sne_orig = pd.read_hdf('../data/glsne_cosmoDC2_v1.1.4.h5', key='image')"
   ]
  },
  {
   "cell_type": "code",
   "execution_count": 44,
   "metadata": {},
   "outputs": [
    {
     "data": {
      "text/html": [
       "<div>\n",
       "<style scoped>\n",
       "    .dataframe tbody tr th:only-of-type {\n",
       "        vertical-align: middle;\n",
       "    }\n",
       "\n",
       "    .dataframe tbody tr th {\n",
       "        vertical-align: top;\n",
       "    }\n",
       "\n",
       "    .dataframe thead th {\n",
       "        text-align: right;\n",
       "    }\n",
       "</style>\n",
       "<table border=\"1\" class=\"dataframe\">\n",
       "  <thead>\n",
       "    <tr style=\"text-align: right;\">\n",
       "      <th></th>\n",
       "      <th>td</th>\n",
       "      <th>x</th>\n",
       "      <th>y</th>\n",
       "      <th>mu</th>\n",
       "      <th>sysno</th>\n",
       "      <th>imno</th>\n",
       "    </tr>\n",
       "  </thead>\n",
       "  <tbody>\n",
       "    <tr>\n",
       "      <th>0</th>\n",
       "      <td>0.000000</td>\n",
       "      <td>-0.756175</td>\n",
       "      <td>0.795804</td>\n",
       "      <td>1.618521</td>\n",
       "      <td>2237</td>\n",
       "      <td>0</td>\n",
       "    </tr>\n",
       "    <tr>\n",
       "      <th>1</th>\n",
       "      <td>11.548608</td>\n",
       "      <td>-0.216867</td>\n",
       "      <td>-0.435236</td>\n",
       "      <td>-1.057005</td>\n",
       "      <td>2237</td>\n",
       "      <td>1</td>\n",
       "    </tr>\n",
       "    <tr>\n",
       "      <th>2</th>\n",
       "      <td>10.111286</td>\n",
       "      <td>0.439743</td>\n",
       "      <td>-0.467307</td>\n",
       "      <td>2.794231</td>\n",
       "      <td>2237</td>\n",
       "      <td>2</td>\n",
       "    </tr>\n",
       "    <tr>\n",
       "      <th>3</th>\n",
       "      <td>11.585389</td>\n",
       "      <td>0.449632</td>\n",
       "      <td>0.186466</td>\n",
       "      <td>-1.024824</td>\n",
       "      <td>2237</td>\n",
       "      <td>3</td>\n",
       "    </tr>\n",
       "    <tr>\n",
       "      <th>0</th>\n",
       "      <td>0.000000</td>\n",
       "      <td>1.856731</td>\n",
       "      <td>-1.243184</td>\n",
       "      <td>1.709018</td>\n",
       "      <td>61544</td>\n",
       "      <td>0</td>\n",
       "    </tr>\n",
       "    <tr>\n",
       "      <th>1</th>\n",
       "      <td>17.750146</td>\n",
       "      <td>-0.612566</td>\n",
       "      <td>-1.599762</td>\n",
       "      <td>-1.550573</td>\n",
       "      <td>61544</td>\n",
       "      <td>1</td>\n",
       "    </tr>\n",
       "    <tr>\n",
       "      <th>2</th>\n",
       "      <td>16.481990</td>\n",
       "      <td>-1.416615</td>\n",
       "      <td>-0.996802</td>\n",
       "      <td>2.942046</td>\n",
       "      <td>61544</td>\n",
       "      <td>2</td>\n",
       "    </tr>\n",
       "    <tr>\n",
       "      <th>3</th>\n",
       "      <td>36.471930</td>\n",
       "      <td>0.043086</td>\n",
       "      <td>0.620486</td>\n",
       "      <td>-0.229912</td>\n",
       "      <td>61544</td>\n",
       "      <td>3</td>\n",
       "    </tr>\n",
       "    <tr>\n",
       "      <th>0</th>\n",
       "      <td>0.000000</td>\n",
       "      <td>0.012350</td>\n",
       "      <td>-1.350551</td>\n",
       "      <td>1.428570</td>\n",
       "      <td>74434</td>\n",
       "      <td>0</td>\n",
       "    </tr>\n",
       "    <tr>\n",
       "      <th>1</th>\n",
       "      <td>3.861515</td>\n",
       "      <td>-0.178193</td>\n",
       "      <td>0.170659</td>\n",
       "      <td>-0.405510</td>\n",
       "      <td>74434</td>\n",
       "      <td>1</td>\n",
       "    </tr>\n",
       "  </tbody>\n",
       "</table>\n",
       "</div>"
      ],
      "text/plain": [
       "          td         x         y        mu  sysno  imno\n",
       "0   0.000000 -0.756175  0.795804  1.618521   2237     0\n",
       "1  11.548608 -0.216867 -0.435236 -1.057005   2237     1\n",
       "2  10.111286  0.439743 -0.467307  2.794231   2237     2\n",
       "3  11.585389  0.449632  0.186466 -1.024824   2237     3\n",
       "0   0.000000  1.856731 -1.243184  1.709018  61544     0\n",
       "1  17.750146 -0.612566 -1.599762 -1.550573  61544     1\n",
       "2  16.481990 -1.416615 -0.996802  2.942046  61544     2\n",
       "3  36.471930  0.043086  0.620486 -0.229912  61544     3\n",
       "0   0.000000  0.012350 -1.350551  1.428570  74434     0\n",
       "1   3.861515 -0.178193  0.170659 -0.405510  74434     1"
      ]
     },
     "execution_count": 44,
     "metadata": {},
     "output_type": "execute_result"
    }
   ],
   "source": [
    "sne_orig.head(10)"
   ]
  },
  {
   "cell_type": "code",
   "execution_count": 45,
   "metadata": {},
   "outputs": [],
   "source": [
    "sne_host_orig = pd.read_hdf('../data/glsne_cosmoDC2_v1.1.4.h5', key='system')"
   ]
  },
  {
   "cell_type": "code",
   "execution_count": 46,
   "metadata": {},
   "outputs": [
    {
     "data": {
      "text/html": [
       "<div>\n",
       "<style scoped>\n",
       "    .dataframe tbody tr th:only-of-type {\n",
       "        vertical-align: middle;\n",
       "    }\n",
       "\n",
       "    .dataframe tbody tr th {\n",
       "        vertical-align: top;\n",
       "    }\n",
       "\n",
       "    .dataframe thead th {\n",
       "        text-align: right;\n",
       "    }\n",
       "</style>\n",
       "<table border=\"1\" class=\"dataframe\">\n",
       "  <thead>\n",
       "    <tr style=\"text-align: right;\">\n",
       "      <th></th>\n",
       "      <th>t0</th>\n",
       "      <th>sigma</th>\n",
       "      <th>gamma</th>\n",
       "      <th>e</th>\n",
       "      <th>theta_e</th>\n",
       "      <th>theta_gamma</th>\n",
       "      <th>zs</th>\n",
       "      <th>zl</th>\n",
       "      <th>snx</th>\n",
       "      <th>sny</th>\n",
       "      <th>...</th>\n",
       "      <th>x0</th>\n",
       "      <th>lensgal_magnorm_u</th>\n",
       "      <th>lensgal_magnorm_g</th>\n",
       "      <th>lensgal_magnorm_r</th>\n",
       "      <th>lensgal_magnorm_i</th>\n",
       "      <th>lensgal_magnorm_z</th>\n",
       "      <th>lensgal_magnorm_y</th>\n",
       "      <th>lensgal_sed</th>\n",
       "      <th>lens_av</th>\n",
       "      <th>lens_rv</th>\n",
       "    </tr>\n",
       "  </thead>\n",
       "  <tbody>\n",
       "    <tr>\n",
       "      <th>0</th>\n",
       "      <td>62307.945863</td>\n",
       "      <td>197.670149</td>\n",
       "      <td>0.128101</td>\n",
       "      <td>0.570391</td>\n",
       "      <td>132.165475</td>\n",
       "      <td>135.210348</td>\n",
       "      <td>0.435736</td>\n",
       "      <td>0.152485</td>\n",
       "      <td>-0.136216</td>\n",
       "      <td>0.144903</td>\n",
       "      <td>...</td>\n",
       "      <td>0.000015</td>\n",
       "      <td>18.038430</td>\n",
       "      <td>17.934849</td>\n",
       "      <td>17.876297</td>\n",
       "      <td>17.853722</td>\n",
       "      <td>17.861106</td>\n",
       "      <td>17.841955</td>\n",
       "      <td>galaxySED/Inst.80E09.04Z.spec.gz</td>\n",
       "      <td>0.0</td>\n",
       "      <td>2.0</td>\n",
       "    </tr>\n",
       "    <tr>\n",
       "      <th>1</th>\n",
       "      <td>62986.222880</td>\n",
       "      <td>270.972759</td>\n",
       "      <td>0.040137</td>\n",
       "      <td>0.785929</td>\n",
       "      <td>349.848750</td>\n",
       "      <td>76.941654</td>\n",
       "      <td>0.812597</td>\n",
       "      <td>0.106528</td>\n",
       "      <td>0.229110</td>\n",
       "      <td>-0.578431</td>\n",
       "      <td>...</td>\n",
       "      <td>0.000003</td>\n",
       "      <td>17.736074</td>\n",
       "      <td>17.675464</td>\n",
       "      <td>17.672657</td>\n",
       "      <td>17.652261</td>\n",
       "      <td>17.663224</td>\n",
       "      <td>17.629555</td>\n",
       "      <td>galaxySED/Burst.10E10.04Z.spec.gz</td>\n",
       "      <td>0.0</td>\n",
       "      <td>2.0</td>\n",
       "    </tr>\n",
       "    <tr>\n",
       "      <th>2</th>\n",
       "      <td>60175.070270</td>\n",
       "      <td>168.759862</td>\n",
       "      <td>0.145709</td>\n",
       "      <td>0.704465</td>\n",
       "      <td>246.352212</td>\n",
       "      <td>103.154255</td>\n",
       "      <td>0.377906</td>\n",
       "      <td>0.036807</td>\n",
       "      <td>0.074938</td>\n",
       "      <td>-0.416329</td>\n",
       "      <td>...</td>\n",
       "      <td>0.000019</td>\n",
       "      <td>14.632392</td>\n",
       "      <td>14.521858</td>\n",
       "      <td>14.451894</td>\n",
       "      <td>14.419520</td>\n",
       "      <td>14.379628</td>\n",
       "      <td>14.347648</td>\n",
       "      <td>galaxySED/Exp.40E09.1Z.spec.gz</td>\n",
       "      <td>0.1</td>\n",
       "      <td>4.0</td>\n",
       "    </tr>\n",
       "    <tr>\n",
       "      <th>3</th>\n",
       "      <td>59748.557028</td>\n",
       "      <td>132.459490</td>\n",
       "      <td>0.017375</td>\n",
       "      <td>0.598633</td>\n",
       "      <td>58.483556</td>\n",
       "      <td>133.326378</td>\n",
       "      <td>0.760426</td>\n",
       "      <td>0.034289</td>\n",
       "      <td>0.012960</td>\n",
       "      <td>0.362303</td>\n",
       "      <td>...</td>\n",
       "      <td>0.000003</td>\n",
       "      <td>16.001115</td>\n",
       "      <td>15.945108</td>\n",
       "      <td>15.954887</td>\n",
       "      <td>15.917609</td>\n",
       "      <td>15.889623</td>\n",
       "      <td>15.849615</td>\n",
       "      <td>galaxySED/Exp.40E09.04Z.spec.gz</td>\n",
       "      <td>0.0</td>\n",
       "      <td>2.0</td>\n",
       "    </tr>\n",
       "    <tr>\n",
       "      <th>4</th>\n",
       "      <td>61949.847395</td>\n",
       "      <td>118.022925</td>\n",
       "      <td>0.040725</td>\n",
       "      <td>0.593290</td>\n",
       "      <td>160.205181</td>\n",
       "      <td>318.665928</td>\n",
       "      <td>0.608011</td>\n",
       "      <td>0.062039</td>\n",
       "      <td>0.052200</td>\n",
       "      <td>0.120958</td>\n",
       "      <td>...</td>\n",
       "      <td>0.000006</td>\n",
       "      <td>17.650420</td>\n",
       "      <td>17.583731</td>\n",
       "      <td>17.559094</td>\n",
       "      <td>17.545495</td>\n",
       "      <td>17.549512</td>\n",
       "      <td>17.496465</td>\n",
       "      <td>galaxySED/Exp.10E10.04Z.spec.gz</td>\n",
       "      <td>0.0</td>\n",
       "      <td>2.0</td>\n",
       "    </tr>\n",
       "    <tr>\n",
       "      <th>...</th>\n",
       "      <td>...</td>\n",
       "      <td>...</td>\n",
       "      <td>...</td>\n",
       "      <td>...</td>\n",
       "      <td>...</td>\n",
       "      <td>...</td>\n",
       "      <td>...</td>\n",
       "      <td>...</td>\n",
       "      <td>...</td>\n",
       "      <td>...</td>\n",
       "      <td>...</td>\n",
       "      <td>...</td>\n",
       "      <td>...</td>\n",
       "      <td>...</td>\n",
       "      <td>...</td>\n",
       "      <td>...</td>\n",
       "      <td>...</td>\n",
       "      <td>...</td>\n",
       "      <td>...</td>\n",
       "      <td>...</td>\n",
       "      <td>...</td>\n",
       "    </tr>\n",
       "    <tr>\n",
       "      <th>176236</th>\n",
       "      <td>61350.924239</td>\n",
       "      <td>96.516802</td>\n",
       "      <td>0.060082</td>\n",
       "      <td>0.240730</td>\n",
       "      <td>223.226365</td>\n",
       "      <td>263.463102</td>\n",
       "      <td>0.135359</td>\n",
       "      <td>0.051619</td>\n",
       "      <td>0.068631</td>\n",
       "      <td>-0.083339</td>\n",
       "      <td>...</td>\n",
       "      <td>0.000202</td>\n",
       "      <td>17.948459</td>\n",
       "      <td>17.859863</td>\n",
       "      <td>17.849940</td>\n",
       "      <td>17.837436</td>\n",
       "      <td>17.827317</td>\n",
       "      <td>17.764683</td>\n",
       "      <td>galaxySED/Inst.80E09.02Z.spec.gz</td>\n",
       "      <td>0.1</td>\n",
       "      <td>4.0</td>\n",
       "    </tr>\n",
       "    <tr>\n",
       "      <th>176237</th>\n",
       "      <td>62149.962963</td>\n",
       "      <td>150.838381</td>\n",
       "      <td>0.125888</td>\n",
       "      <td>0.270205</td>\n",
       "      <td>11.262119</td>\n",
       "      <td>278.568561</td>\n",
       "      <td>0.201036</td>\n",
       "      <td>0.023601</td>\n",
       "      <td>-0.279128</td>\n",
       "      <td>0.320384</td>\n",
       "      <td>...</td>\n",
       "      <td>0.000091</td>\n",
       "      <td>14.556042</td>\n",
       "      <td>14.374771</td>\n",
       "      <td>14.418799</td>\n",
       "      <td>14.452299</td>\n",
       "      <td>14.444330</td>\n",
       "      <td>14.396085</td>\n",
       "      <td>galaxySED/Inst.12E10.0005Z.spec.gz</td>\n",
       "      <td>0.3</td>\n",
       "      <td>4.0</td>\n",
       "    </tr>\n",
       "    <tr>\n",
       "      <th>176238</th>\n",
       "      <td>61307.028641</td>\n",
       "      <td>151.206223</td>\n",
       "      <td>0.074982</td>\n",
       "      <td>0.045670</td>\n",
       "      <td>252.239295</td>\n",
       "      <td>250.670262</td>\n",
       "      <td>1.056425</td>\n",
       "      <td>0.296282</td>\n",
       "      <td>-0.123858</td>\n",
       "      <td>0.068900</td>\n",
       "      <td>...</td>\n",
       "      <td>0.000001</td>\n",
       "      <td>20.056691</td>\n",
       "      <td>20.412473</td>\n",
       "      <td>20.550108</td>\n",
       "      <td>20.672606</td>\n",
       "      <td>20.740738</td>\n",
       "      <td>20.759997</td>\n",
       "      <td>galaxySED/Exp.50E09.02Z.spec.gz</td>\n",
       "      <td>0.4</td>\n",
       "      <td>2.1</td>\n",
       "    </tr>\n",
       "    <tr>\n",
       "      <th>176239</th>\n",
       "      <td>61207.201116</td>\n",
       "      <td>217.806870</td>\n",
       "      <td>0.076743</td>\n",
       "      <td>0.759456</td>\n",
       "      <td>184.722924</td>\n",
       "      <td>219.700427</td>\n",
       "      <td>0.890596</td>\n",
       "      <td>0.167988</td>\n",
       "      <td>-0.473317</td>\n",
       "      <td>-0.076554</td>\n",
       "      <td>...</td>\n",
       "      <td>0.000002</td>\n",
       "      <td>18.143586</td>\n",
       "      <td>18.034647</td>\n",
       "      <td>17.966195</td>\n",
       "      <td>17.941760</td>\n",
       "      <td>17.944400</td>\n",
       "      <td>17.922331</td>\n",
       "      <td>galaxySED/Exp.80E09.04Z.spec.gz</td>\n",
       "      <td>0.0</td>\n",
       "      <td>2.0</td>\n",
       "    </tr>\n",
       "    <tr>\n",
       "      <th>176240</th>\n",
       "      <td>60280.020525</td>\n",
       "      <td>75.457591</td>\n",
       "      <td>0.018832</td>\n",
       "      <td>0.337726</td>\n",
       "      <td>312.426538</td>\n",
       "      <td>331.162824</td>\n",
       "      <td>0.625128</td>\n",
       "      <td>0.115427</td>\n",
       "      <td>0.076940</td>\n",
       "      <td>-0.000879</td>\n",
       "      <td>...</td>\n",
       "      <td>0.000006</td>\n",
       "      <td>19.867348</td>\n",
       "      <td>19.793524</td>\n",
       "      <td>19.796196</td>\n",
       "      <td>19.798695</td>\n",
       "      <td>19.799837</td>\n",
       "      <td>19.766694</td>\n",
       "      <td>galaxySED/Burst.80E09.04Z.spec.gz</td>\n",
       "      <td>0.0</td>\n",
       "      <td>2.0</td>\n",
       "    </tr>\n",
       "  </tbody>\n",
       "</table>\n",
       "<p>176241 rows × 49 columns</p>\n",
       "</div>"
      ],
      "text/plain": [
       "                  t0       sigma     gamma         e     theta_e  theta_gamma  \\\n",
       "0       62307.945863  197.670149  0.128101  0.570391  132.165475   135.210348   \n",
       "1       62986.222880  270.972759  0.040137  0.785929  349.848750    76.941654   \n",
       "2       60175.070270  168.759862  0.145709  0.704465  246.352212   103.154255   \n",
       "3       59748.557028  132.459490  0.017375  0.598633   58.483556   133.326378   \n",
       "4       61949.847395  118.022925  0.040725  0.593290  160.205181   318.665928   \n",
       "...              ...         ...       ...       ...         ...          ...   \n",
       "176236  61350.924239   96.516802  0.060082  0.240730  223.226365   263.463102   \n",
       "176237  62149.962963  150.838381  0.125888  0.270205   11.262119   278.568561   \n",
       "176238  61307.028641  151.206223  0.074982  0.045670  252.239295   250.670262   \n",
       "176239  61207.201116  217.806870  0.076743  0.759456  184.722924   219.700427   \n",
       "176240  60280.020525   75.457591  0.018832  0.337726  312.426538   331.162824   \n",
       "\n",
       "              zs        zl       snx       sny  ...        x0  \\\n",
       "0       0.435736  0.152485 -0.136216  0.144903  ...  0.000015   \n",
       "1       0.812597  0.106528  0.229110 -0.578431  ...  0.000003   \n",
       "2       0.377906  0.036807  0.074938 -0.416329  ...  0.000019   \n",
       "3       0.760426  0.034289  0.012960  0.362303  ...  0.000003   \n",
       "4       0.608011  0.062039  0.052200  0.120958  ...  0.000006   \n",
       "...          ...       ...       ...       ...  ...       ...   \n",
       "176236  0.135359  0.051619  0.068631 -0.083339  ...  0.000202   \n",
       "176237  0.201036  0.023601 -0.279128  0.320384  ...  0.000091   \n",
       "176238  1.056425  0.296282 -0.123858  0.068900  ...  0.000001   \n",
       "176239  0.890596  0.167988 -0.473317 -0.076554  ...  0.000002   \n",
       "176240  0.625128  0.115427  0.076940 -0.000879  ...  0.000006   \n",
       "\n",
       "        lensgal_magnorm_u  lensgal_magnorm_g lensgal_magnorm_r  \\\n",
       "0               18.038430          17.934849         17.876297   \n",
       "1               17.736074          17.675464         17.672657   \n",
       "2               14.632392          14.521858         14.451894   \n",
       "3               16.001115          15.945108         15.954887   \n",
       "4               17.650420          17.583731         17.559094   \n",
       "...                   ...                ...               ...   \n",
       "176236          17.948459          17.859863         17.849940   \n",
       "176237          14.556042          14.374771         14.418799   \n",
       "176238          20.056691          20.412473         20.550108   \n",
       "176239          18.143586          18.034647         17.966195   \n",
       "176240          19.867348          19.793524         19.796196   \n",
       "\n",
       "        lensgal_magnorm_i  lensgal_magnorm_z  lensgal_magnorm_y  \\\n",
       "0               17.853722          17.861106          17.841955   \n",
       "1               17.652261          17.663224          17.629555   \n",
       "2               14.419520          14.379628          14.347648   \n",
       "3               15.917609          15.889623          15.849615   \n",
       "4               17.545495          17.549512          17.496465   \n",
       "...                   ...                ...                ...   \n",
       "176236          17.837436          17.827317          17.764683   \n",
       "176237          14.452299          14.444330          14.396085   \n",
       "176238          20.672606          20.740738          20.759997   \n",
       "176239          17.941760          17.944400          17.922331   \n",
       "176240          19.798695          19.799837          19.766694   \n",
       "\n",
       "                               lensgal_sed  lens_av  lens_rv  \n",
       "0         galaxySED/Inst.80E09.04Z.spec.gz      0.0      2.0  \n",
       "1        galaxySED/Burst.10E10.04Z.spec.gz      0.0      2.0  \n",
       "2           galaxySED/Exp.40E09.1Z.spec.gz      0.1      4.0  \n",
       "3          galaxySED/Exp.40E09.04Z.spec.gz      0.0      2.0  \n",
       "4          galaxySED/Exp.10E10.04Z.spec.gz      0.0      2.0  \n",
       "...                                    ...      ...      ...  \n",
       "176236    galaxySED/Inst.80E09.02Z.spec.gz      0.1      4.0  \n",
       "176237  galaxySED/Inst.12E10.0005Z.spec.gz      0.3      4.0  \n",
       "176238     galaxySED/Exp.50E09.02Z.spec.gz      0.4      2.1  \n",
       "176239     galaxySED/Exp.80E09.04Z.spec.gz      0.0      2.0  \n",
       "176240   galaxySED/Burst.80E09.04Z.spec.gz      0.0      2.0  \n",
       "\n",
       "[176241 rows x 49 columns]"
      ]
     },
     "execution_count": 46,
     "metadata": {},
     "output_type": "execute_result"
    }
   ],
   "source": [
    "sne_host_orig"
   ]
  },
  {
   "cell_type": "code",
   "execution_count": 47,
   "metadata": {},
   "outputs": [
    {
     "data": {
      "text/plain": [
       "Index(['t0', 'sigma', 'gamma', 'e', 'theta_e', 'theta_gamma', 'zs', 'zl',\n",
       "       'snx', 'sny', 'MB', 'transient_amplitude', 'sysno', 'sntype', 'ebvhost',\n",
       "       'ra', 'dec', 'ebvmw', 'weight', 'host_n', 'host_ellip', 'host_reff',\n",
       "       'host_theta', 'host_amplitude', 'host_type', 'host_x', 'host_y',\n",
       "       'lensgal_n', 'lensgal_ellip', 'lensgal_reff', 'lensgal_theta',\n",
       "       'lensgal_amplitude', 'lensgal_type', 'lensgal_x', 'lensgal_y',\n",
       "       't_found', 'lensgal_mi', 'x1', 'c', 'x0', 'lensgal_magnorm_u',\n",
       "       'lensgal_magnorm_g', 'lensgal_magnorm_r', 'lensgal_magnorm_i',\n",
       "       'lensgal_magnorm_z', 'lensgal_magnorm_y', 'lensgal_sed', 'lens_av',\n",
       "       'lens_rv'],\n",
       "      dtype='object')"
      ]
     },
     "execution_count": 47,
     "metadata": {},
     "output_type": "execute_result"
    }
   ],
   "source": [
    "sne_host_orig.columns"
   ]
  },
  {
   "cell_type": "code",
   "execution_count": 48,
   "metadata": {},
   "outputs": [
    {
     "data": {
      "text/html": [
       "<div>\n",
       "<style scoped>\n",
       "    .dataframe tbody tr th:only-of-type {\n",
       "        vertical-align: middle;\n",
       "    }\n",
       "\n",
       "    .dataframe tbody tr th {\n",
       "        vertical-align: top;\n",
       "    }\n",
       "\n",
       "    .dataframe thead th {\n",
       "        text-align: right;\n",
       "    }\n",
       "</style>\n",
       "<table border=\"1\" class=\"dataframe\">\n",
       "  <thead>\n",
       "    <tr style=\"text-align: right;\">\n",
       "      <th></th>\n",
       "      <th>snx</th>\n",
       "      <th>sny</th>\n",
       "      <th>host_x</th>\n",
       "      <th>host_y</th>\n",
       "    </tr>\n",
       "  </thead>\n",
       "  <tbody>\n",
       "    <tr>\n",
       "      <th>0</th>\n",
       "      <td>-0.136216</td>\n",
       "      <td>0.144903</td>\n",
       "      <td>-1.275034</td>\n",
       "      <td>-0.985977</td>\n",
       "    </tr>\n",
       "    <tr>\n",
       "      <th>1</th>\n",
       "      <td>0.229110</td>\n",
       "      <td>-0.578431</td>\n",
       "      <td>-0.120481</td>\n",
       "      <td>-0.459791</td>\n",
       "    </tr>\n",
       "    <tr>\n",
       "      <th>2</th>\n",
       "      <td>0.074938</td>\n",
       "      <td>-0.416329</td>\n",
       "      <td>0.211720</td>\n",
       "      <td>-0.336636</td>\n",
       "    </tr>\n",
       "    <tr>\n",
       "      <th>3</th>\n",
       "      <td>0.012960</td>\n",
       "      <td>0.362303</td>\n",
       "      <td>-0.740793</td>\n",
       "      <td>0.782064</td>\n",
       "    </tr>\n",
       "    <tr>\n",
       "      <th>4</th>\n",
       "      <td>0.052200</td>\n",
       "      <td>0.120958</td>\n",
       "      <td>0.477751</td>\n",
       "      <td>0.395938</td>\n",
       "    </tr>\n",
       "    <tr>\n",
       "      <th>...</th>\n",
       "      <td>...</td>\n",
       "      <td>...</td>\n",
       "      <td>...</td>\n",
       "      <td>...</td>\n",
       "    </tr>\n",
       "    <tr>\n",
       "      <th>176236</th>\n",
       "      <td>0.068631</td>\n",
       "      <td>-0.083339</td>\n",
       "      <td>-1.252448</td>\n",
       "      <td>-0.957523</td>\n",
       "    </tr>\n",
       "    <tr>\n",
       "      <th>176237</th>\n",
       "      <td>-0.279128</td>\n",
       "      <td>0.320384</td>\n",
       "      <td>-0.296847</td>\n",
       "      <td>0.323671</td>\n",
       "    </tr>\n",
       "    <tr>\n",
       "      <th>176238</th>\n",
       "      <td>-0.123858</td>\n",
       "      <td>0.068900</td>\n",
       "      <td>-0.970348</td>\n",
       "      <td>0.608206</td>\n",
       "    </tr>\n",
       "    <tr>\n",
       "      <th>176239</th>\n",
       "      <td>-0.473317</td>\n",
       "      <td>-0.076554</td>\n",
       "      <td>-4.242313</td>\n",
       "      <td>1.569972</td>\n",
       "    </tr>\n",
       "    <tr>\n",
       "      <th>176240</th>\n",
       "      <td>0.076940</td>\n",
       "      <td>-0.000879</td>\n",
       "      <td>-0.275056</td>\n",
       "      <td>0.331653</td>\n",
       "    </tr>\n",
       "  </tbody>\n",
       "</table>\n",
       "<p>176241 rows × 4 columns</p>\n",
       "</div>"
      ],
      "text/plain": [
       "             snx       sny    host_x    host_y\n",
       "0      -0.136216  0.144903 -1.275034 -0.985977\n",
       "1       0.229110 -0.578431 -0.120481 -0.459791\n",
       "2       0.074938 -0.416329  0.211720 -0.336636\n",
       "3       0.012960  0.362303 -0.740793  0.782064\n",
       "4       0.052200  0.120958  0.477751  0.395938\n",
       "...          ...       ...       ...       ...\n",
       "176236  0.068631 -0.083339 -1.252448 -0.957523\n",
       "176237 -0.279128  0.320384 -0.296847  0.323671\n",
       "176238 -0.123858  0.068900 -0.970348  0.608206\n",
       "176239 -0.473317 -0.076554 -4.242313  1.569972\n",
       "176240  0.076940 -0.000879 -0.275056  0.331653\n",
       "\n",
       "[176241 rows x 4 columns]"
      ]
     },
     "execution_count": 48,
     "metadata": {},
     "output_type": "execute_result"
    }
   ],
   "source": [
    "sne_host_orig[['snx', 'sny', 'host_x', 'host_y']]"
   ]
  },
  {
   "cell_type": "code",
   "execution_count": 49,
   "metadata": {},
   "outputs": [
    {
     "ename": "ValueError",
     "evalue": "Table 'lensed_sne' already exists.",
     "output_type": "error",
     "traceback": [
      "\u001b[0;31m---------------------------------------------------------------------------\u001b[0m",
      "\u001b[0;31mValueError\u001b[0m                                Traceback (most recent call last)",
      "\u001b[0;32m<ipython-input-49-04a3713c0bdb>\u001b[0m in \u001b[0;36m<module>\u001b[0;34m\u001b[0m\n\u001b[0;32m----> 1\u001b[0;31m \u001b[0mdc2_sp\u001b[0m\u001b[0;34m.\u001b[0m\u001b[0moutput_lensed_sne_truth\u001b[0m\u001b[0;34m(\u001b[0m\u001b[0msne_hosts\u001b[0m\u001b[0;34m,\u001b[0m \u001b[0msne_sys_cat\u001b[0m\u001b[0;34m,\u001b[0m \u001b[0;34m'example_sne_truth.db'\u001b[0m\u001b[0;34m,\u001b[0m \u001b[0mid_offset\u001b[0m\u001b[0;34m=\u001b[0m\u001b[0;36m2000\u001b[0m\u001b[0;34m)\u001b[0m\u001b[0;34m\u001b[0m\u001b[0;34m\u001b[0m\u001b[0m\n\u001b[0m",
      "\u001b[0;32m/global/u1/b/brycek/DC2/sprinkler/sprinkler/dc2_sprinkler.py\u001b[0m in \u001b[0;36moutput_lensed_sne_truth\u001b[0;34m(self, matched_hosts, matched_sys_cat, out_file, return_df, id_offset)\u001b[0m\n\u001b[1;32m    433\u001b[0m \u001b[0;34m\u001b[0m\u001b[0m\n\u001b[1;32m    434\u001b[0m         \u001b[0mengine\u001b[0m \u001b[0;34m=\u001b[0m \u001b[0mcreate_engine\u001b[0m\u001b[0;34m(\u001b[0m\u001b[0;34m'sqlite:///%s'\u001b[0m \u001b[0;34m%\u001b[0m \u001b[0mout_file\u001b[0m\u001b[0;34m,\u001b[0m \u001b[0mecho\u001b[0m\u001b[0;34m=\u001b[0m\u001b[0;32mFalse\u001b[0m\u001b[0;34m)\u001b[0m\u001b[0;34m\u001b[0m\u001b[0;34m\u001b[0m\u001b[0m\n\u001b[0;32m--> 435\u001b[0;31m         \u001b[0msne_df\u001b[0m\u001b[0;34m.\u001b[0m\u001b[0mto_sql\u001b[0m\u001b[0;34m(\u001b[0m\u001b[0;34m'lensed_sne'\u001b[0m\u001b[0;34m,\u001b[0m \u001b[0mcon\u001b[0m\u001b[0;34m=\u001b[0m\u001b[0mengine\u001b[0m\u001b[0;34m)\u001b[0m\u001b[0;34m\u001b[0m\u001b[0;34m\u001b[0m\u001b[0m\n\u001b[0m\u001b[1;32m    436\u001b[0m \u001b[0;34m\u001b[0m\u001b[0m\n\u001b[1;32m    437\u001b[0m         \u001b[0;32mif\u001b[0m \u001b[0mreturn_df\u001b[0m \u001b[0;32mis\u001b[0m \u001b[0;32mTrue\u001b[0m\u001b[0;34m:\u001b[0m\u001b[0;34m\u001b[0m\u001b[0;34m\u001b[0m\u001b[0m\n",
      "\u001b[0;32m~/.local/lib/python3.7/site-packages/pandas/core/generic.py\u001b[0m in \u001b[0;36mto_sql\u001b[0;34m(self, name, con, schema, if_exists, index, index_label, chunksize, dtype, method)\u001b[0m\n\u001b[1;32m   2710\u001b[0m             \u001b[0mchunksize\u001b[0m\u001b[0;34m=\u001b[0m\u001b[0mchunksize\u001b[0m\u001b[0;34m,\u001b[0m\u001b[0;34m\u001b[0m\u001b[0;34m\u001b[0m\u001b[0m\n\u001b[1;32m   2711\u001b[0m             \u001b[0mdtype\u001b[0m\u001b[0;34m=\u001b[0m\u001b[0mdtype\u001b[0m\u001b[0;34m,\u001b[0m\u001b[0;34m\u001b[0m\u001b[0;34m\u001b[0m\u001b[0m\n\u001b[0;32m-> 2712\u001b[0;31m             \u001b[0mmethod\u001b[0m\u001b[0;34m=\u001b[0m\u001b[0mmethod\u001b[0m\u001b[0;34m,\u001b[0m\u001b[0;34m\u001b[0m\u001b[0;34m\u001b[0m\u001b[0m\n\u001b[0m\u001b[1;32m   2713\u001b[0m         )\n\u001b[1;32m   2714\u001b[0m \u001b[0;34m\u001b[0m\u001b[0m\n",
      "\u001b[0;32m~/.local/lib/python3.7/site-packages/pandas/io/sql.py\u001b[0m in \u001b[0;36mto_sql\u001b[0;34m(frame, name, con, schema, if_exists, index, index_label, chunksize, dtype, method)\u001b[0m\n\u001b[1;32m    516\u001b[0m         \u001b[0mchunksize\u001b[0m\u001b[0;34m=\u001b[0m\u001b[0mchunksize\u001b[0m\u001b[0;34m,\u001b[0m\u001b[0;34m\u001b[0m\u001b[0;34m\u001b[0m\u001b[0m\n\u001b[1;32m    517\u001b[0m         \u001b[0mdtype\u001b[0m\u001b[0;34m=\u001b[0m\u001b[0mdtype\u001b[0m\u001b[0;34m,\u001b[0m\u001b[0;34m\u001b[0m\u001b[0;34m\u001b[0m\u001b[0m\n\u001b[0;32m--> 518\u001b[0;31m         \u001b[0mmethod\u001b[0m\u001b[0;34m=\u001b[0m\u001b[0mmethod\u001b[0m\u001b[0;34m,\u001b[0m\u001b[0;34m\u001b[0m\u001b[0;34m\u001b[0m\u001b[0m\n\u001b[0m\u001b[1;32m    519\u001b[0m     )\n\u001b[1;32m    520\u001b[0m \u001b[0;34m\u001b[0m\u001b[0m\n",
      "\u001b[0;32m~/.local/lib/python3.7/site-packages/pandas/io/sql.py\u001b[0m in \u001b[0;36mto_sql\u001b[0;34m(self, frame, name, if_exists, index, index_label, schema, chunksize, dtype, method)\u001b[0m\n\u001b[1;32m   1317\u001b[0m             \u001b[0mdtype\u001b[0m\u001b[0;34m=\u001b[0m\u001b[0mdtype\u001b[0m\u001b[0;34m,\u001b[0m\u001b[0;34m\u001b[0m\u001b[0;34m\u001b[0m\u001b[0m\n\u001b[1;32m   1318\u001b[0m         )\n\u001b[0;32m-> 1319\u001b[0;31m         \u001b[0mtable\u001b[0m\u001b[0;34m.\u001b[0m\u001b[0mcreate\u001b[0m\u001b[0;34m(\u001b[0m\u001b[0;34m)\u001b[0m\u001b[0;34m\u001b[0m\u001b[0;34m\u001b[0m\u001b[0m\n\u001b[0m\u001b[1;32m   1320\u001b[0m         \u001b[0mtable\u001b[0m\u001b[0;34m.\u001b[0m\u001b[0minsert\u001b[0m\u001b[0;34m(\u001b[0m\u001b[0mchunksize\u001b[0m\u001b[0;34m,\u001b[0m \u001b[0mmethod\u001b[0m\u001b[0;34m=\u001b[0m\u001b[0mmethod\u001b[0m\u001b[0;34m)\u001b[0m\u001b[0;34m\u001b[0m\u001b[0;34m\u001b[0m\u001b[0m\n\u001b[1;32m   1321\u001b[0m         \u001b[0;32mif\u001b[0m \u001b[0;32mnot\u001b[0m \u001b[0mname\u001b[0m\u001b[0;34m.\u001b[0m\u001b[0misdigit\u001b[0m\u001b[0;34m(\u001b[0m\u001b[0;34m)\u001b[0m \u001b[0;32mand\u001b[0m \u001b[0;32mnot\u001b[0m \u001b[0mname\u001b[0m\u001b[0;34m.\u001b[0m\u001b[0mislower\u001b[0m\u001b[0;34m(\u001b[0m\u001b[0;34m)\u001b[0m\u001b[0;34m:\u001b[0m\u001b[0;34m\u001b[0m\u001b[0;34m\u001b[0m\u001b[0m\n",
      "\u001b[0;32m~/.local/lib/python3.7/site-packages/pandas/io/sql.py\u001b[0m in \u001b[0;36mcreate\u001b[0;34m(self)\u001b[0m\n\u001b[1;32m    642\u001b[0m             \u001b[0;32mif\u001b[0m \u001b[0mself\u001b[0m\u001b[0;34m.\u001b[0m\u001b[0mif_exists\u001b[0m \u001b[0;34m==\u001b[0m \u001b[0;34m\"fail\"\u001b[0m\u001b[0;34m:\u001b[0m\u001b[0;34m\u001b[0m\u001b[0;34m\u001b[0m\u001b[0m\n\u001b[1;32m    643\u001b[0m                 raise ValueError(\n\u001b[0;32m--> 644\u001b[0;31m                     \u001b[0;34m\"Table '{name}' already exists.\"\u001b[0m\u001b[0;34m.\u001b[0m\u001b[0mformat\u001b[0m\u001b[0;34m(\u001b[0m\u001b[0mname\u001b[0m\u001b[0;34m=\u001b[0m\u001b[0mself\u001b[0m\u001b[0;34m.\u001b[0m\u001b[0mname\u001b[0m\u001b[0;34m)\u001b[0m\u001b[0;34m\u001b[0m\u001b[0;34m\u001b[0m\u001b[0m\n\u001b[0m\u001b[1;32m    645\u001b[0m                 )\n\u001b[1;32m    646\u001b[0m             \u001b[0;32melif\u001b[0m \u001b[0mself\u001b[0m\u001b[0;34m.\u001b[0m\u001b[0mif_exists\u001b[0m \u001b[0;34m==\u001b[0m \u001b[0;34m\"replace\"\u001b[0m\u001b[0;34m:\u001b[0m\u001b[0;34m\u001b[0m\u001b[0;34m\u001b[0m\u001b[0m\n",
      "\u001b[0;31mValueError\u001b[0m: Table 'lensed_sne' already exists."
     ]
    }
   ],
   "source": [
    "dc2_sp.output_lensed_sne_truth(sne_hosts, sne_sys_cat, 'example_sne_truth.db', id_offset=2000)"
   ]
  },
  {
   "cell_type": "code",
   "execution_count": 50,
   "metadata": {},
   "outputs": [
    {
     "ename": "ValueError",
     "evalue": "Table 'agn_hosts' already exists.",
     "output_type": "error",
     "traceback": [
      "\u001b[0;31m---------------------------------------------------------------------------\u001b[0m",
      "\u001b[0;31mValueError\u001b[0m                                Traceback (most recent call last)",
      "\u001b[0;32m<ipython-input-50-376374f98638>\u001b[0m in \u001b[0;36m<module>\u001b[0;34m\u001b[0m\n\u001b[1;32m      1\u001b[0m dc2_sp.output_host_galaxy_truth(agn_hosts, agn_sys_cat, sne_hosts,\n\u001b[0;32m----> 2\u001b[0;31m                                 sne_sys_cat, 'example_host_truth.db')\n\u001b[0m",
      "\u001b[0;32m/global/u1/b/brycek/DC2/sprinkler/sprinkler/dc2_sprinkler.py\u001b[0m in \u001b[0;36moutput_host_galaxy_truth\u001b[0;34m(self, matched_agn_hosts, matched_agn_sys, matched_sne_hosts, matched_sne_sys, out_file, return_df)\u001b[0m\n\u001b[1;32m    229\u001b[0m \u001b[0;34m\u001b[0m\u001b[0m\n\u001b[1;32m    230\u001b[0m         \u001b[0mengine\u001b[0m \u001b[0;34m=\u001b[0m \u001b[0mcreate_engine\u001b[0m\u001b[0;34m(\u001b[0m\u001b[0;34m'sqlite:///%s'\u001b[0m \u001b[0;34m%\u001b[0m \u001b[0mout_file\u001b[0m\u001b[0;34m,\u001b[0m \u001b[0mecho\u001b[0m\u001b[0;34m=\u001b[0m\u001b[0;32mFalse\u001b[0m\u001b[0;34m)\u001b[0m\u001b[0;34m\u001b[0m\u001b[0;34m\u001b[0m\u001b[0m\n\u001b[0;32m--> 231\u001b[0;31m         \u001b[0magn_host_df\u001b[0m\u001b[0;34m.\u001b[0m\u001b[0mto_sql\u001b[0m\u001b[0;34m(\u001b[0m\u001b[0;34m'agn_hosts'\u001b[0m\u001b[0;34m,\u001b[0m \u001b[0mcon\u001b[0m\u001b[0;34m=\u001b[0m\u001b[0mengine\u001b[0m\u001b[0;34m)\u001b[0m\u001b[0;34m\u001b[0m\u001b[0;34m\u001b[0m\u001b[0m\n\u001b[0m\u001b[1;32m    232\u001b[0m         \u001b[0msne_host_df\u001b[0m\u001b[0;34m.\u001b[0m\u001b[0mto_sql\u001b[0m\u001b[0;34m(\u001b[0m\u001b[0;34m'sne_hosts'\u001b[0m\u001b[0;34m,\u001b[0m \u001b[0mcon\u001b[0m\u001b[0;34m=\u001b[0m\u001b[0mengine\u001b[0m\u001b[0;34m)\u001b[0m\u001b[0;34m\u001b[0m\u001b[0;34m\u001b[0m\u001b[0m\n\u001b[1;32m    233\u001b[0m \u001b[0;34m\u001b[0m\u001b[0m\n",
      "\u001b[0;32m~/.local/lib/python3.7/site-packages/pandas/core/generic.py\u001b[0m in \u001b[0;36mto_sql\u001b[0;34m(self, name, con, schema, if_exists, index, index_label, chunksize, dtype, method)\u001b[0m\n\u001b[1;32m   2710\u001b[0m             \u001b[0mchunksize\u001b[0m\u001b[0;34m=\u001b[0m\u001b[0mchunksize\u001b[0m\u001b[0;34m,\u001b[0m\u001b[0;34m\u001b[0m\u001b[0;34m\u001b[0m\u001b[0m\n\u001b[1;32m   2711\u001b[0m             \u001b[0mdtype\u001b[0m\u001b[0;34m=\u001b[0m\u001b[0mdtype\u001b[0m\u001b[0;34m,\u001b[0m\u001b[0;34m\u001b[0m\u001b[0;34m\u001b[0m\u001b[0m\n\u001b[0;32m-> 2712\u001b[0;31m             \u001b[0mmethod\u001b[0m\u001b[0;34m=\u001b[0m\u001b[0mmethod\u001b[0m\u001b[0;34m,\u001b[0m\u001b[0;34m\u001b[0m\u001b[0;34m\u001b[0m\u001b[0m\n\u001b[0m\u001b[1;32m   2713\u001b[0m         )\n\u001b[1;32m   2714\u001b[0m \u001b[0;34m\u001b[0m\u001b[0m\n",
      "\u001b[0;32m~/.local/lib/python3.7/site-packages/pandas/io/sql.py\u001b[0m in \u001b[0;36mto_sql\u001b[0;34m(frame, name, con, schema, if_exists, index, index_label, chunksize, dtype, method)\u001b[0m\n\u001b[1;32m    516\u001b[0m         \u001b[0mchunksize\u001b[0m\u001b[0;34m=\u001b[0m\u001b[0mchunksize\u001b[0m\u001b[0;34m,\u001b[0m\u001b[0;34m\u001b[0m\u001b[0;34m\u001b[0m\u001b[0m\n\u001b[1;32m    517\u001b[0m         \u001b[0mdtype\u001b[0m\u001b[0;34m=\u001b[0m\u001b[0mdtype\u001b[0m\u001b[0;34m,\u001b[0m\u001b[0;34m\u001b[0m\u001b[0;34m\u001b[0m\u001b[0m\n\u001b[0;32m--> 518\u001b[0;31m         \u001b[0mmethod\u001b[0m\u001b[0;34m=\u001b[0m\u001b[0mmethod\u001b[0m\u001b[0;34m,\u001b[0m\u001b[0;34m\u001b[0m\u001b[0;34m\u001b[0m\u001b[0m\n\u001b[0m\u001b[1;32m    519\u001b[0m     )\n\u001b[1;32m    520\u001b[0m \u001b[0;34m\u001b[0m\u001b[0m\n",
      "\u001b[0;32m~/.local/lib/python3.7/site-packages/pandas/io/sql.py\u001b[0m in \u001b[0;36mto_sql\u001b[0;34m(self, frame, name, if_exists, index, index_label, schema, chunksize, dtype, method)\u001b[0m\n\u001b[1;32m   1317\u001b[0m             \u001b[0mdtype\u001b[0m\u001b[0;34m=\u001b[0m\u001b[0mdtype\u001b[0m\u001b[0;34m,\u001b[0m\u001b[0;34m\u001b[0m\u001b[0;34m\u001b[0m\u001b[0m\n\u001b[1;32m   1318\u001b[0m         )\n\u001b[0;32m-> 1319\u001b[0;31m         \u001b[0mtable\u001b[0m\u001b[0;34m.\u001b[0m\u001b[0mcreate\u001b[0m\u001b[0;34m(\u001b[0m\u001b[0;34m)\u001b[0m\u001b[0;34m\u001b[0m\u001b[0;34m\u001b[0m\u001b[0m\n\u001b[0m\u001b[1;32m   1320\u001b[0m         \u001b[0mtable\u001b[0m\u001b[0;34m.\u001b[0m\u001b[0minsert\u001b[0m\u001b[0;34m(\u001b[0m\u001b[0mchunksize\u001b[0m\u001b[0;34m,\u001b[0m \u001b[0mmethod\u001b[0m\u001b[0;34m=\u001b[0m\u001b[0mmethod\u001b[0m\u001b[0;34m)\u001b[0m\u001b[0;34m\u001b[0m\u001b[0;34m\u001b[0m\u001b[0m\n\u001b[1;32m   1321\u001b[0m         \u001b[0;32mif\u001b[0m \u001b[0;32mnot\u001b[0m \u001b[0mname\u001b[0m\u001b[0;34m.\u001b[0m\u001b[0misdigit\u001b[0m\u001b[0;34m(\u001b[0m\u001b[0;34m)\u001b[0m \u001b[0;32mand\u001b[0m \u001b[0;32mnot\u001b[0m \u001b[0mname\u001b[0m\u001b[0;34m.\u001b[0m\u001b[0mislower\u001b[0m\u001b[0;34m(\u001b[0m\u001b[0;34m)\u001b[0m\u001b[0;34m:\u001b[0m\u001b[0;34m\u001b[0m\u001b[0;34m\u001b[0m\u001b[0m\n",
      "\u001b[0;32m~/.local/lib/python3.7/site-packages/pandas/io/sql.py\u001b[0m in \u001b[0;36mcreate\u001b[0;34m(self)\u001b[0m\n\u001b[1;32m    642\u001b[0m             \u001b[0;32mif\u001b[0m \u001b[0mself\u001b[0m\u001b[0;34m.\u001b[0m\u001b[0mif_exists\u001b[0m \u001b[0;34m==\u001b[0m \u001b[0;34m\"fail\"\u001b[0m\u001b[0;34m:\u001b[0m\u001b[0;34m\u001b[0m\u001b[0;34m\u001b[0m\u001b[0m\n\u001b[1;32m    643\u001b[0m                 raise ValueError(\n\u001b[0;32m--> 644\u001b[0;31m                     \u001b[0;34m\"Table '{name}' already exists.\"\u001b[0m\u001b[0;34m.\u001b[0m\u001b[0mformat\u001b[0m\u001b[0;34m(\u001b[0m\u001b[0mname\u001b[0m\u001b[0;34m=\u001b[0m\u001b[0mself\u001b[0m\u001b[0;34m.\u001b[0m\u001b[0mname\u001b[0m\u001b[0;34m)\u001b[0m\u001b[0;34m\u001b[0m\u001b[0;34m\u001b[0m\u001b[0m\n\u001b[0m\u001b[1;32m    645\u001b[0m                 )\n\u001b[1;32m    646\u001b[0m             \u001b[0;32melif\u001b[0m \u001b[0mself\u001b[0m\u001b[0;34m.\u001b[0m\u001b[0mif_exists\u001b[0m \u001b[0;34m==\u001b[0m \u001b[0;34m\"replace\"\u001b[0m\u001b[0;34m:\u001b[0m\u001b[0;34m\u001b[0m\u001b[0;34m\u001b[0m\u001b[0m\n",
      "\u001b[0;31mValueError\u001b[0m: Table 'agn_hosts' already exists."
     ]
    }
   ],
   "source": [
    "dc2_sp.output_host_galaxy_truth(agn_hosts, agn_sys_cat, sne_hosts,\n",
    "                                sne_sys_cat, 'example_host_truth.db')"
   ]
  },
  {
   "cell_type": "code",
   "execution_count": 57,
   "metadata": {},
   "outputs": [],
   "source": [
    "dc2_sp.output_lensed_agn_truth(agn_hosts, agn_sys_cat, 'example_agn_truth.db', id_offset=0)"
   ]
  },
  {
   "cell_type": "code",
   "execution_count": null,
   "metadata": {},
   "outputs": [],
   "source": []
  }
 ],
 "metadata": {
  "kernelspec": {
   "display_name": "Python 3",
   "language": "python",
   "name": "python3"
  },
  "language_info": {
   "codemirror_mode": {
    "name": "ipython",
    "version": 3
   },
   "file_extension": ".py",
   "mimetype": "text/x-python",
   "name": "python",
   "nbconvert_exporter": "python",
   "pygments_lexer": "ipython3",
   "version": "3.7.3"
  }
 },
 "nbformat": 4,
 "nbformat_minor": 4
}
