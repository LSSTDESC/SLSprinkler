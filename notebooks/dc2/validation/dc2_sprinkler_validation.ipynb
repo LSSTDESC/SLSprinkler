{
 "cells": [
  {
   "cell_type": "markdown",
   "metadata": {},
   "source": [
    "# DC2 Sprinkler Validation Tests"
   ]
  },
  {
   "cell_type": "markdown",
   "metadata": {},
   "source": [
    "The most recent Sprinkler Truth Catalogs are in `/global/cscratch1/sd/brycek/example_truth`.\n",
    "\n",
    "Unlensed SNe population are in: `/global/projecta/projectdirs/lsst/groups/SSim/DC2/cosmoDC2_v1.1.4/sne_cosmoDC2_v1.1.4_MS_DDF.db`"
   ]
  },
  {
   "cell_type": "code",
   "execution_count": 1,
   "metadata": {},
   "outputs": [],
   "source": [
    "import os\n",
    "import numpy as np\n",
    "import pandas as pd\n",
    "import sqlite3\n",
    "import matplotlib.pyplot as plt\n",
    "from astropy.io import fits\n",
    "%matplotlib inline"
   ]
  },
  {
   "cell_type": "markdown",
   "metadata": {},
   "source": [
    "## Lensed AGN validation tests"
   ]
  },
  {
   "cell_type": "code",
   "execution_count": 4,
   "metadata": {},
   "outputs": [],
   "source": [
    "hdulist = fits.open('/global/cfs/cdirs/descssim/DC2/Run3.0i/sprinkler_dc2_data/om10_qso_mock.fits')\n",
    "om10_data = hdulist[1].data"
   ]
  },
  {
   "cell_type": "code",
   "execution_count": 5,
   "metadata": {},
   "outputs": [
    {
     "data": {
      "text/plain": [
       "FITS_rec([(14428, 0, 2, 0.062, 264.2409, 0.2182095,  86.19403, 0.04307117, -172.995 , 4.01, -0.8669144, 0.2832836, 22.81, 22.94768, 3.858949, [ 0.9541, -2.7414,  0.    ,  0.    ], [-0.2678,  0.8434,  0.    ,  0.    ], [-0.8809,  3.8125,  0.    ,  0.    ], [26.034,  0.   ,  0.   ,  0.   ], [0., 0., 0., 0.], [0., 0., 0., 0.], 246.488327, 278.000397, -22.8653774, 14.4168491, 0.062, 1432.53, 1380.28, 0., 35956.6, 0., 0., 0.),\n",
       "          (21703, 0, 2, 0.072, 165.1962, 0.286398 , 131.0021 , 0.06827481, -174.4367, 1.19, -0.4895263, 0.23893  , 22.55, 23.27365, 1.553578, [-1.2262,  0.1993,  0.    ,  0.    ], [ 0.5434, -0.0743,  0.    ,  0.    ], [ 1.8811, -0.5135,  0.    ,  0.    ], [ 0.   ,  7.601,  0.   ,  0.   ], [0., 0., 0., 0.], [0., 0., 0., 0.], 282.910126, 325.115814, -21.6407204, 15.9914694, 0.072, 1708.45, 1569.97, 0.,  8193.9, 0., 0., 0.),\n",
       "          (31711, 0, 2, 0.082, 155.9553, 0.2997531, -19.01642, 0.05930104, -120.289 , 4.01,  0.1881534, 0.1275117, 22.51, 21.93714, 1.339839, [-0.3014,  0.817 ,  0.    ,  0.    ], [-0.3255,  0.4123,  0.    ,  0.    ], [-1.6949,  3.3592,  0.    ,  0.    ], [ 3.11 ,  0.   ,  0.   ,  0.   ], [0., 0., 0., 0.], [0., 0., 0., 0.], 318.475311, 372.84671 , -21.497221 , 16.4424324, 0.082, 1432.53, 1363.75, 0., 35956.6, 0., 0., 0.)],\n",
       "         dtype=(numpy.record, [('LENSID', '>i4'), ('FLAGTYPE', '>i2'), ('NIMG', '>i2'), ('ZLENS', '>f8'), ('VELDISP', '>f8'), ('ELLIP', '>f8'), ('PHIE', '>f8'), ('GAMMA', '>f8'), ('PHIG', '>f8'), ('ZSRC', '>f8'), ('XSRC', '>f8'), ('YSRC', '>f8'), ('MAGI_IN', '>f8'), ('MAGI', '>f8'), ('IMSEP', '>f8'), ('XIMG', '>f8', (4,)), ('YIMG', '>f8', (4,)), ('MAG', '>f8', (4,)), ('DELAY', '>f8', (4,)), ('KAPPA', '>f8', (4,)), ('FSTAR', '>f8', (4,)), ('DD', '>f8'), ('DDLUM', '>f8'), ('ABMAG_I', '>f8'), ('APMAG_I', '>f8'), ('KCORR', '>f8'), ('DS', '>f8'), ('DDS', '>f8'), ('SIGCRIT', '>f8'), ('DSLUM', '>f8'), ('L_I', '>f8'), ('REFF', '>f8'), ('REFF_T', '>f8')]))"
      ]
     },
     "execution_count": 5,
     "metadata": {},
     "output_type": "execute_result"
    }
   ],
   "source": [
    "om10_data[:3]"
   ]
  },
  {
   "cell_type": "code",
   "execution_count": 7,
   "metadata": {},
   "outputs": [],
   "source": [
    "example_truth_folder = '/global/cfs/cdirs/descssim/DC2/Run3.0i/truth_tables/'"
   ]
  },
  {
   "cell_type": "code",
   "execution_count": 9,
   "metadata": {},
   "outputs": [],
   "source": [
    "conn = sqlite3.connect(os.path.join(example_truth_folder, 'updated_lensed_agn_truth.db'))\n",
    "\n",
    "# Pick only the first image of each SN so we don't have duplicate entries of the same SNe\n",
    "query = \"SELECT * FROM lensed_agn WHERE image_number == 0;\"\n",
    "\n",
    "# DDF unlensed SNe\n",
    "sprinkled_agn_df = pd.read_sql_query(query,conn)"
   ]
  },
  {
   "cell_type": "code",
   "execution_count": 10,
   "metadata": {},
   "outputs": [
    {
     "data": {
      "text/plain": [
       "Index(['index', 'unique_id', 'ra', 'dec', 'x_agn', 'y_agn', 'x_img', 'y_img',\n",
       "       'redshift', 't_delay', 'magnorm', 'flux_u_agn', 'flux_g_agn',\n",
       "       'flux_r_agn', 'flux_i_agn', 'flux_z_agn', 'flux_y_agn',\n",
       "       'flux_u_agn_noMW', 'flux_g_agn_noMW', 'flux_r_agn_noMW',\n",
       "       'flux_i_agn_noMW', 'flux_z_agn_noMW', 'flux_y_agn_noMW',\n",
       "       'magnification', 'seed', 'agn_tau_u', 'agn_tau_g', 'agn_tau_r',\n",
       "       'agn_tau_i', 'agn_tau_z', 'agn_tau_y', 'agn_sf_u', 'agn_sf_g',\n",
       "       'agn_sf_r', 'agn_sf_i', 'agn_sf_z', 'agn_sf_y', 'av_mw', 'rv_mw',\n",
       "       'lens_id', 'dc2_sys_id', 'lens_cat_sys_id', 'image_number',\n",
       "       'total_magnification'],\n",
       "      dtype='object')"
      ]
     },
     "execution_count": 10,
     "metadata": {},
     "output_type": "execute_result"
    }
   ],
   "source": [
    "sprinkled_agn_df.columns"
   ]
  },
  {
   "cell_type": "markdown",
   "metadata": {},
   "source": [
    "## Check that the input magnifications and time delays match the sprinkled values"
   ]
  },
  {
   "cell_type": "code",
   "execution_count": 59,
   "metadata": {},
   "outputs": [],
   "source": [
    "agn_cat_dir = '/global/cscratch1/sd/brycek/test_sprinkler_instance_catalogs/test_sprinkler_agn_ics'"
   ]
  },
  {
   "cell_type": "code",
   "execution_count": 60,
   "metadata": {},
   "outputs": [],
   "source": [
    "full_agn_visits_df = pd.DataFrame([], columns=['obj_id', 'ra', 'dec', 'magnorm', 'sed', 'redshift', 'time'])\n",
    "for cat_file in os.listdir(agn_cat_dir):\n",
    "    if cat_file.startswith('test_cat') is False:\n",
    "        continue\n",
    "        \n",
    "    time = float(cat_file.split('_')[2])\n",
    "    cat_data = pd.read_csv(os.path.join(agn_cat_dir, cat_file), delimiter=' ', usecols=[1,2,3,4,5,6],\n",
    "                           names=['obj_id', 'ra', 'dec', 'magnorm', 'sed', 'redshift'])\n",
    "    cat_data['time'] = time\n",
    "    full_agn_visits_df = full_agn_visits_df.append(cat_data)"
   ]
  },
  {
   "cell_type": "code",
   "execution_count": 61,
   "metadata": {},
   "outputs": [],
   "source": [
    "full_agn_visits_df = full_agn_visits_df.reset_index(drop=True)"
   ]
  },
  {
   "cell_type": "code",
   "execution_count": 62,
   "metadata": {},
   "outputs": [],
   "source": [
    "im_0 = full_agn_visits_df.query('obj_id == \"GLAGN_20_0\"')\n",
    "im_1 = full_agn_visits_df.query('obj_id == \"GLAGN_20_1\"')\n",
    "im_2 = full_agn_visits_df.query('obj_id == \"GLAGN_20_2\"')\n",
    "im_3 = full_agn_visits_df.query('obj_id == \"GLAGN_20_3\"')"
   ]
  },
  {
   "cell_type": "code",
   "execution_count": 63,
   "metadata": {},
   "outputs": [
    {
     "data": {
      "text/html": [
       "<div>\n",
       "<style scoped>\n",
       "    .dataframe tbody tr th:only-of-type {\n",
       "        vertical-align: middle;\n",
       "    }\n",
       "\n",
       "    .dataframe tbody tr th {\n",
       "        vertical-align: top;\n",
       "    }\n",
       "\n",
       "    .dataframe thead th {\n",
       "        text-align: right;\n",
       "    }\n",
       "</style>\n",
       "<table border=\"1\" class=\"dataframe\">\n",
       "  <thead>\n",
       "    <tr style=\"text-align: right;\">\n",
       "      <th></th>\n",
       "      <th>obj_id</th>\n",
       "      <th>ra</th>\n",
       "      <th>dec</th>\n",
       "      <th>magnorm</th>\n",
       "      <th>sed</th>\n",
       "      <th>redshift</th>\n",
       "      <th>time</th>\n",
       "    </tr>\n",
       "  </thead>\n",
       "  <tbody>\n",
       "    <tr>\n",
       "      <th>44</th>\n",
       "      <td>GLAGN_20_0</td>\n",
       "      <td>52.752289</td>\n",
       "      <td>-28.430322</td>\n",
       "      <td>21.840228</td>\n",
       "      <td>agnSED/agn.spec.gz</td>\n",
       "      <td>1.84</td>\n",
       "      <td>59595.39</td>\n",
       "    </tr>\n",
       "    <tr>\n",
       "      <th>2482</th>\n",
       "      <td>GLAGN_20_0</td>\n",
       "      <td>52.752289</td>\n",
       "      <td>-28.430322</td>\n",
       "      <td>21.810043</td>\n",
       "      <td>agnSED/agn.spec.gz</td>\n",
       "      <td>1.84</td>\n",
       "      <td>59582.89</td>\n",
       "    </tr>\n",
       "    <tr>\n",
       "      <th>4920</th>\n",
       "      <td>GLAGN_20_0</td>\n",
       "      <td>52.752289</td>\n",
       "      <td>-28.430322</td>\n",
       "      <td>21.851823</td>\n",
       "      <td>agnSED/agn.spec.gz</td>\n",
       "      <td>1.84</td>\n",
       "      <td>59589.14</td>\n",
       "    </tr>\n",
       "    <tr>\n",
       "      <th>7358</th>\n",
       "      <td>GLAGN_20_0</td>\n",
       "      <td>52.752289</td>\n",
       "      <td>-28.430322</td>\n",
       "      <td>21.845624</td>\n",
       "      <td>agnSED/agn.spec.gz</td>\n",
       "      <td>1.84</td>\n",
       "      <td>59587.64</td>\n",
       "    </tr>\n",
       "    <tr>\n",
       "      <th>9796</th>\n",
       "      <td>GLAGN_20_0</td>\n",
       "      <td>52.752289</td>\n",
       "      <td>-28.430322</td>\n",
       "      <td>21.833043</td>\n",
       "      <td>agnSED/agn.spec.gz</td>\n",
       "      <td>1.84</td>\n",
       "      <td>59619.64</td>\n",
       "    </tr>\n",
       "    <tr>\n",
       "      <th>...</th>\n",
       "      <td>...</td>\n",
       "      <td>...</td>\n",
       "      <td>...</td>\n",
       "      <td>...</td>\n",
       "      <td>...</td>\n",
       "      <td>...</td>\n",
       "      <td>...</td>\n",
       "    </tr>\n",
       "    <tr>\n",
       "      <th>965492</th>\n",
       "      <td>GLAGN_20_0</td>\n",
       "      <td>52.752289</td>\n",
       "      <td>-28.430322</td>\n",
       "      <td>21.858532</td>\n",
       "      <td>agnSED/agn.spec.gz</td>\n",
       "      <td>1.84</td>\n",
       "      <td>59601.54</td>\n",
       "    </tr>\n",
       "    <tr>\n",
       "      <th>967930</th>\n",
       "      <td>GLAGN_20_0</td>\n",
       "      <td>52.752289</td>\n",
       "      <td>-28.430322</td>\n",
       "      <td>21.879766</td>\n",
       "      <td>agnSED/agn.spec.gz</td>\n",
       "      <td>1.84</td>\n",
       "      <td>59600.04</td>\n",
       "    </tr>\n",
       "    <tr>\n",
       "      <th>970368</th>\n",
       "      <td>GLAGN_20_0</td>\n",
       "      <td>52.752289</td>\n",
       "      <td>-28.430322</td>\n",
       "      <td>21.715068</td>\n",
       "      <td>agnSED/agn.spec.gz</td>\n",
       "      <td>1.84</td>\n",
       "      <td>59627.89</td>\n",
       "    </tr>\n",
       "    <tr>\n",
       "      <th>972806</th>\n",
       "      <td>GLAGN_20_0</td>\n",
       "      <td>52.752289</td>\n",
       "      <td>-28.430322</td>\n",
       "      <td>21.812212</td>\n",
       "      <td>agnSED/agn.spec.gz</td>\n",
       "      <td>1.84</td>\n",
       "      <td>59602.89</td>\n",
       "    </tr>\n",
       "    <tr>\n",
       "      <th>975244</th>\n",
       "      <td>GLAGN_20_0</td>\n",
       "      <td>52.752289</td>\n",
       "      <td>-28.430322</td>\n",
       "      <td>21.856844</td>\n",
       "      <td>agnSED/agn.spec.gz</td>\n",
       "      <td>1.84</td>\n",
       "      <td>59581.34</td>\n",
       "    </tr>\n",
       "  </tbody>\n",
       "</table>\n",
       "<p>401 rows × 7 columns</p>\n",
       "</div>"
      ],
      "text/plain": [
       "            obj_id         ra        dec    magnorm                 sed  \\\n",
       "44      GLAGN_20_0  52.752289 -28.430322  21.840228  agnSED/agn.spec.gz   \n",
       "2482    GLAGN_20_0  52.752289 -28.430322  21.810043  agnSED/agn.spec.gz   \n",
       "4920    GLAGN_20_0  52.752289 -28.430322  21.851823  agnSED/agn.spec.gz   \n",
       "7358    GLAGN_20_0  52.752289 -28.430322  21.845624  agnSED/agn.spec.gz   \n",
       "9796    GLAGN_20_0  52.752289 -28.430322  21.833043  agnSED/agn.spec.gz   \n",
       "...            ...        ...        ...        ...                 ...   \n",
       "965492  GLAGN_20_0  52.752289 -28.430322  21.858532  agnSED/agn.spec.gz   \n",
       "967930  GLAGN_20_0  52.752289 -28.430322  21.879766  agnSED/agn.spec.gz   \n",
       "970368  GLAGN_20_0  52.752289 -28.430322  21.715068  agnSED/agn.spec.gz   \n",
       "972806  GLAGN_20_0  52.752289 -28.430322  21.812212  agnSED/agn.spec.gz   \n",
       "975244  GLAGN_20_0  52.752289 -28.430322  21.856844  agnSED/agn.spec.gz   \n",
       "\n",
       "        redshift      time  \n",
       "44          1.84  59595.39  \n",
       "2482        1.84  59582.89  \n",
       "4920        1.84  59589.14  \n",
       "7358        1.84  59587.64  \n",
       "9796        1.84  59619.64  \n",
       "...          ...       ...  \n",
       "965492      1.84  59601.54  \n",
       "967930      1.84  59600.04  \n",
       "970368      1.84  59627.89  \n",
       "972806      1.84  59602.89  \n",
       "975244      1.84  59581.34  \n",
       "\n",
       "[401 rows x 7 columns]"
      ]
     },
     "execution_count": 63,
     "metadata": {},
     "output_type": "execute_result"
    }
   ],
   "source": [
    "im_0"
   ]
  },
  {
   "cell_type": "code",
   "execution_count": 64,
   "metadata": {},
   "outputs": [],
   "source": [
    "example_truth_folder = '/global/cscratch1/sd/brycek/truth_checkpoints/'\n",
    "conn = sqlite3.connect(os.path.join(example_truth_folder, 'updated_lensed_agn_truth.db'))\n",
    "\n",
    "# Pick only the first image of each SN so we don't have duplicate entries of the same SNe\n",
    "#query = \"SELECT * FROM lensed_sne WHERE image_number == 0;\"\n",
    "query = \"SELECT * FROM lensed_agn\"\n",
    "\n",
    "# DDF unlensed SNe\n",
    "sprinkled_agn_df = pd.read_sql_query(query,conn)"
   ]
  },
  {
   "cell_type": "code",
   "execution_count": 65,
   "metadata": {},
   "outputs": [
    {
     "data": {
      "text/html": [
       "<div>\n",
       "<style scoped>\n",
       "    .dataframe tbody tr th:only-of-type {\n",
       "        vertical-align: middle;\n",
       "    }\n",
       "\n",
       "    .dataframe tbody tr th {\n",
       "        vertical-align: top;\n",
       "    }\n",
       "\n",
       "    .dataframe thead th {\n",
       "        text-align: right;\n",
       "    }\n",
       "</style>\n",
       "<table border=\"1\" class=\"dataframe\">\n",
       "  <thead>\n",
       "    <tr style=\"text-align: right;\">\n",
       "      <th></th>\n",
       "      <th>index</th>\n",
       "      <th>unique_id</th>\n",
       "      <th>ra</th>\n",
       "      <th>dec</th>\n",
       "      <th>x_agn</th>\n",
       "      <th>y_agn</th>\n",
       "      <th>x_img</th>\n",
       "      <th>y_img</th>\n",
       "      <th>redshift</th>\n",
       "      <th>t_delay</th>\n",
       "      <th>...</th>\n",
       "      <th>agn_sf_i</th>\n",
       "      <th>agn_sf_z</th>\n",
       "      <th>agn_sf_y</th>\n",
       "      <th>av_mw</th>\n",
       "      <th>rv_mw</th>\n",
       "      <th>lens_id</th>\n",
       "      <th>dc2_sys_id</th>\n",
       "      <th>lens_cat_sys_id</th>\n",
       "      <th>image_number</th>\n",
       "      <th>total_magnification</th>\n",
       "    </tr>\n",
       "  </thead>\n",
       "  <tbody>\n",
       "    <tr>\n",
       "      <th>0</th>\n",
       "      <td>0</td>\n",
       "      <td>GLAGN_0_0</td>\n",
       "      <td>53.494374</td>\n",
       "      <td>-28.283800</td>\n",
       "      <td>-0.165630</td>\n",
       "      <td>0.112272</td>\n",
       "      <td>0.1132</td>\n",
       "      <td>-0.0756</td>\n",
       "      <td>1.06</td>\n",
       "      <td>0.000000</td>\n",
       "      <td>...</td>\n",
       "      <td>0.5863</td>\n",
       "      <td>0.5474</td>\n",
       "      <td>0.5190</td>\n",
       "      <td>0.032723</td>\n",
       "      <td>3.1</td>\n",
       "      <td>2.562505e+09</td>\n",
       "      <td>GLAGN_0</td>\n",
       "      <td>115074</td>\n",
       "      <td>0</td>\n",
       "      <td>2.949166</td>\n",
       "    </tr>\n",
       "    <tr>\n",
       "      <th>1</th>\n",
       "      <td>0</td>\n",
       "      <td>GLAGN_0_1</td>\n",
       "      <td>53.494201</td>\n",
       "      <td>-28.283683</td>\n",
       "      <td>-0.165630</td>\n",
       "      <td>0.112272</td>\n",
       "      <td>0.1132</td>\n",
       "      <td>-0.0756</td>\n",
       "      <td>1.06</td>\n",
       "      <td>-2.432431</td>\n",
       "      <td>...</td>\n",
       "      <td>0.5863</td>\n",
       "      <td>0.5474</td>\n",
       "      <td>0.5190</td>\n",
       "      <td>0.032723</td>\n",
       "      <td>3.1</td>\n",
       "      <td>2.562505e+09</td>\n",
       "      <td>GLAGN_0</td>\n",
       "      <td>115074</td>\n",
       "      <td>1</td>\n",
       "      <td>2.949166</td>\n",
       "    </tr>\n",
       "    <tr>\n",
       "      <th>2</th>\n",
       "      <td>2</td>\n",
       "      <td>GLAGN_1_0</td>\n",
       "      <td>52.566912</td>\n",
       "      <td>-27.584574</td>\n",
       "      <td>0.222652</td>\n",
       "      <td>0.487403</td>\n",
       "      <td>-0.5457</td>\n",
       "      <td>-0.9090</td>\n",
       "      <td>2.08</td>\n",
       "      <td>0.000000</td>\n",
       "      <td>...</td>\n",
       "      <td>0.3189</td>\n",
       "      <td>0.2975</td>\n",
       "      <td>0.2818</td>\n",
       "      <td>0.027206</td>\n",
       "      <td>3.1</td>\n",
       "      <td>1.875009e+09</td>\n",
       "      <td>GLAGN_1</td>\n",
       "      <td>125027</td>\n",
       "      <td>0</td>\n",
       "      <td>5.024002</td>\n",
       "    </tr>\n",
       "    <tr>\n",
       "      <th>3</th>\n",
       "      <td>2</td>\n",
       "      <td>GLAGN_1_1</td>\n",
       "      <td>52.567168</td>\n",
       "      <td>-27.583733</td>\n",
       "      <td>0.222652</td>\n",
       "      <td>0.487403</td>\n",
       "      <td>-0.5457</td>\n",
       "      <td>-0.9090</td>\n",
       "      <td>2.08</td>\n",
       "      <td>-28.796382</td>\n",
       "      <td>...</td>\n",
       "      <td>0.3189</td>\n",
       "      <td>0.2975</td>\n",
       "      <td>0.2818</td>\n",
       "      <td>0.027206</td>\n",
       "      <td>3.1</td>\n",
       "      <td>1.875009e+09</td>\n",
       "      <td>GLAGN_1</td>\n",
       "      <td>125027</td>\n",
       "      <td>1</td>\n",
       "      <td>5.024002</td>\n",
       "    </tr>\n",
       "    <tr>\n",
       "      <th>4</th>\n",
       "      <td>4</td>\n",
       "      <td>GLAGN_2_0</td>\n",
       "      <td>53.642295</td>\n",
       "      <td>-28.561889</td>\n",
       "      <td>-0.210878</td>\n",
       "      <td>0.161722</td>\n",
       "      <td>0.4150</td>\n",
       "      <td>-0.3968</td>\n",
       "      <td>2.89</td>\n",
       "      <td>0.000000</td>\n",
       "      <td>...</td>\n",
       "      <td>0.3927</td>\n",
       "      <td>0.3671</td>\n",
       "      <td>0.3482</td>\n",
       "      <td>0.022477</td>\n",
       "      <td>3.1</td>\n",
       "      <td>2.562528e+09</td>\n",
       "      <td>GLAGN_2</td>\n",
       "      <td>394519</td>\n",
       "      <td>0</td>\n",
       "      <td>4.991128</td>\n",
       "    </tr>\n",
       "  </tbody>\n",
       "</table>\n",
       "<p>5 rows × 44 columns</p>\n",
       "</div>"
      ],
      "text/plain": [
       "   index  unique_id         ra        dec     x_agn     y_agn   x_img   y_img  \\\n",
       "0      0  GLAGN_0_0  53.494374 -28.283800 -0.165630  0.112272  0.1132 -0.0756   \n",
       "1      0  GLAGN_0_1  53.494201 -28.283683 -0.165630  0.112272  0.1132 -0.0756   \n",
       "2      2  GLAGN_1_0  52.566912 -27.584574  0.222652  0.487403 -0.5457 -0.9090   \n",
       "3      2  GLAGN_1_1  52.567168 -27.583733  0.222652  0.487403 -0.5457 -0.9090   \n",
       "4      4  GLAGN_2_0  53.642295 -28.561889 -0.210878  0.161722  0.4150 -0.3968   \n",
       "\n",
       "   redshift    t_delay  ...  agn_sf_i  agn_sf_z  agn_sf_y     av_mw  rv_mw  \\\n",
       "0      1.06   0.000000  ...    0.5863    0.5474    0.5190  0.032723    3.1   \n",
       "1      1.06  -2.432431  ...    0.5863    0.5474    0.5190  0.032723    3.1   \n",
       "2      2.08   0.000000  ...    0.3189    0.2975    0.2818  0.027206    3.1   \n",
       "3      2.08 -28.796382  ...    0.3189    0.2975    0.2818  0.027206    3.1   \n",
       "4      2.89   0.000000  ...    0.3927    0.3671    0.3482  0.022477    3.1   \n",
       "\n",
       "        lens_id  dc2_sys_id  lens_cat_sys_id  image_number  \\\n",
       "0  2.562505e+09     GLAGN_0           115074             0   \n",
       "1  2.562505e+09     GLAGN_0           115074             1   \n",
       "2  1.875009e+09     GLAGN_1           125027             0   \n",
       "3  1.875009e+09     GLAGN_1           125027             1   \n",
       "4  2.562528e+09     GLAGN_2           394519             0   \n",
       "\n",
       "   total_magnification  \n",
       "0             2.949166  \n",
       "1             2.949166  \n",
       "2             5.024002  \n",
       "3             5.024002  \n",
       "4             4.991128  \n",
       "\n",
       "[5 rows x 44 columns]"
      ]
     },
     "execution_count": 65,
     "metadata": {},
     "output_type": "execute_result"
    }
   ],
   "source": [
    "sprinkled_agn_df.head()"
   ]
  },
  {
   "cell_type": "code",
   "execution_count": 66,
   "metadata": {},
   "outputs": [],
   "source": [
    "sys_truth = sprinkled_agn_df.query('dc2_sys_id == \"GLAGN_20\"')"
   ]
  },
  {
   "cell_type": "code",
   "execution_count": 67,
   "metadata": {},
   "outputs": [
    {
     "data": {
      "text/html": [
       "<div>\n",
       "<style scoped>\n",
       "    .dataframe tbody tr th:only-of-type {\n",
       "        vertical-align: middle;\n",
       "    }\n",
       "\n",
       "    .dataframe tbody tr th {\n",
       "        vertical-align: top;\n",
       "    }\n",
       "\n",
       "    .dataframe thead th {\n",
       "        text-align: right;\n",
       "    }\n",
       "</style>\n",
       "<table border=\"1\" class=\"dataframe\">\n",
       "  <thead>\n",
       "    <tr style=\"text-align: right;\">\n",
       "      <th></th>\n",
       "      <th>magnification</th>\n",
       "      <th>t_delay</th>\n",
       "    </tr>\n",
       "  </thead>\n",
       "  <tbody>\n",
       "    <tr>\n",
       "      <th>44</th>\n",
       "      <td>5.395855</td>\n",
       "      <td>0.000000</td>\n",
       "    </tr>\n",
       "    <tr>\n",
       "      <th>45</th>\n",
       "      <td>10.578537</td>\n",
       "      <td>1.667380</td>\n",
       "    </tr>\n",
       "    <tr>\n",
       "      <th>46</th>\n",
       "      <td>8.729795</td>\n",
       "      <td>1.291124</td>\n",
       "    </tr>\n",
       "    <tr>\n",
       "      <th>47</th>\n",
       "      <td>0.994190</td>\n",
       "      <td>29.684925</td>\n",
       "    </tr>\n",
       "  </tbody>\n",
       "</table>\n",
       "</div>"
      ],
      "text/plain": [
       "    magnification    t_delay\n",
       "44       5.395855   0.000000\n",
       "45      10.578537   1.667380\n",
       "46       8.729795   1.291124\n",
       "47       0.994190  29.684925"
      ]
     },
     "execution_count": 67,
     "metadata": {},
     "output_type": "execute_result"
    }
   ],
   "source": [
    "sys_truth[['magnification', 't_delay']]"
   ]
  },
  {
   "cell_type": "code",
   "execution_count": 68,
   "metadata": {},
   "outputs": [
    {
     "data": {
      "text/plain": [
       "44   -1.830151\n",
       "45   -2.561064\n",
       "46   -2.352510\n",
       "47    0.006327\n",
       "Name: magnification, dtype: float64"
      ]
     },
     "execution_count": 68,
     "metadata": {},
     "output_type": "execute_result"
    }
   ],
   "source": [
    "-2.5*np.log10(np.abs(sys_truth['magnification']))"
   ]
  },
  {
   "cell_type": "code",
   "execution_count": 69,
   "metadata": {},
   "outputs": [
    {
     "data": {
      "text/plain": [
       "<matplotlib.collections.PathCollection at 0x2aaae02ec4e0>"
      ]
     },
     "execution_count": 69,
     "metadata": {},
     "output_type": "execute_result"
    },
    {
     "data": {
      "image/png": "[encoded data removed]",
      "text/plain": [
       "<Figure size 432x288 with 1 Axes>"
      ]
     },
     "metadata": {
      "needs_background": "light"
     },
     "output_type": "display_data"
    }
   ],
   "source": [
    "plt.scatter(im_0['time'], im_0['magnorm'])\n",
    "plt.scatter(im_1['time'], im_1['magnorm'])\n",
    "plt.scatter(im_2['time'], im_2['magnorm'])\n",
    "plt.scatter(im_3['time'], im_3['magnorm'])"
   ]
  },
  {
   "cell_type": "code",
   "execution_count": 70,
   "metadata": {},
   "outputs": [
    {
     "data": {
      "text/plain": [
       "<matplotlib.collections.PathCollection at 0x2aaae10cd400>"
      ]
     },
     "execution_count": 70,
     "metadata": {},
     "output_type": "execute_result"
    },
    {
     "data": {
      "image/png": "[encoded data removed]",
      "text/plain": [
       "<Figure size 432x288 with 1 Axes>"
      ]
     },
     "metadata": {
      "needs_background": "light"
     },
     "output_type": "display_data"
    }
   ],
   "source": [
    "plt.scatter(im_0['time'], im_0['magnorm']+2.5*np.log10(np.abs(sys_truth['magnification']).iloc[0]))\n",
    "plt.scatter(im_1['time'], im_1['magnorm']+2.5*np.log10(np.abs(sys_truth['magnification']).iloc[1]))\n",
    "plt.scatter(im_2['time'], im_2['magnorm']+2.5*np.log10(np.abs(sys_truth['magnification']).iloc[2]))\n",
    "plt.scatter(im_3['time'], im_3['magnorm']+2.5*np.log10(np.abs(sys_truth['magnification']).iloc[3]))"
   ]
  },
  {
   "cell_type": "code",
   "execution_count": 71,
   "metadata": {},
   "outputs": [
    {
     "data": {
      "text/plain": [
       "<matplotlib.collections.PathCollection at 0x2aaae11e94a8>"
      ]
     },
     "execution_count": 71,
     "metadata": {},
     "output_type": "execute_result"
    },
    {
     "data": {
      "image/png": "[encoded data removed]",
      "text/plain": [
       "<Figure size 432x288 with 1 Axes>"
      ]
     },
     "metadata": {
      "needs_background": "light"
     },
     "output_type": "display_data"
    }
   ],
   "source": [
    "plt.scatter(im_0['time'] - sys_truth['t_delay'].iloc[0], im_0['magnorm']+2.5*np.log10(np.abs(sys_truth['magnification']).iloc[0]))\n",
    "plt.scatter(im_1['time'] - sys_truth['t_delay'].iloc[1], im_1['magnorm']+2.5*np.log10(np.abs(sys_truth['magnification']).iloc[1]))\n",
    "plt.scatter(im_2['time'] - sys_truth['t_delay'].iloc[2], im_2['magnorm']+2.5*np.log10(np.abs(sys_truth['magnification']).iloc[2]))\n",
    "plt.scatter(im_3['time'] - sys_truth['t_delay'].iloc[3], im_3['magnorm']+2.5*np.log10(np.abs(sys_truth['magnification']).iloc[3]))"
   ]
  },
  {
   "cell_type": "code",
   "execution_count": 72,
   "metadata": {},
   "outputs": [
    {
     "data": {
      "text/plain": [
       "Text(0.5, 1.0, 'Magnorms corrected for magnification and time delay')"
      ]
     },
     "execution_count": 72,
     "metadata": {},
     "output_type": "execute_result"
    },
    {
     "data": {
      "image/png": "[encoded data removed]",
      "text/plain": [
       "<Figure size 1296x864 with 3 Axes>"
      ]
     },
     "metadata": {
      "needs_background": "light"
     },
     "output_type": "display_data"
    }
   ],
   "source": [
    "fig = plt.figure(figsize=(18, 12))\n",
    "fig.add_subplot(2,2,1)\n",
    "plt.scatter(im_0['time'], im_0['magnorm'])\n",
    "plt.scatter(im_1['time'], im_1['magnorm'])\n",
    "plt.scatter(im_2['time'], im_2['magnorm'])\n",
    "plt.scatter(im_3['time'], im_3['magnorm'])\n",
    "plt.xlabel('MJD', size=16)\n",
    "plt.ylabel('Magnorm', size=16)\n",
    "plt.gca().invert_yaxis()\n",
    "plt.title('Original Instance Catalog Values', size=16)\n",
    "plt.xticks(size=14)\n",
    "plt.yticks(size=14)\n",
    "\n",
    "fig.add_subplot(2,2,2)\n",
    "plt.scatter(im_0['time'], im_0['magnorm']+2.5*np.log10(np.abs(sys_truth['magnification']).iloc[0]))\n",
    "plt.scatter(im_1['time'], im_1['magnorm']+2.5*np.log10(np.abs(sys_truth['magnification']).iloc[1]))\n",
    "plt.scatter(im_2['time'], im_2['magnorm']+2.5*np.log10(np.abs(sys_truth['magnification']).iloc[2]))\n",
    "plt.scatter(im_3['time'], im_3['magnorm']+2.5*np.log10(np.abs(sys_truth['magnification']).iloc[3]))\n",
    "plt.xlabel('MJD', size=16)\n",
    "plt.ylabel('Magnorm', size=16)\n",
    "plt.gca().invert_yaxis()\n",
    "plt.title('Magnorms corrected for magnification', size=16)\n",
    "plt.xticks(size=14)\n",
    "plt.yticks(size=14)\n",
    "\n",
    "fig.add_subplot(2,2,3)\n",
    "plt.scatter(im_0['time'] - sys_truth['t_delay'].iloc[0], im_0['magnorm']+2.5*np.log10(np.abs(sys_truth['magnification']).iloc[0]))\n",
    "plt.scatter(im_1['time'] - sys_truth['t_delay'].iloc[1], im_1['magnorm']+2.5*np.log10(np.abs(sys_truth['magnification']).iloc[1]))\n",
    "plt.scatter(im_2['time'] - sys_truth['t_delay'].iloc[2], im_2['magnorm']+2.5*np.log10(np.abs(sys_truth['magnification']).iloc[2]))\n",
    "plt.scatter(im_3['time'] - sys_truth['t_delay'].iloc[3], im_3['magnorm']+2.5*np.log10(np.abs(sys_truth['magnification']).iloc[3]))\n",
    "plt.xlabel('MJD', size=16)\n",
    "plt.ylabel('Magnorm', size=16)\n",
    "plt.gca().invert_yaxis()\n",
    "plt.title('Magnorms corrected for magnification and time delay', size=16)\n",
    "plt.xticks(size=14)\n",
    "plt.yticks(size=14)\n"
   ]
  },
  {
   "cell_type": "markdown",
   "metadata": {},
   "source": [
    "## Lensed SNe validation tests"
   ]
  },
  {
   "cell_type": "markdown",
   "metadata": {},
   "source": [
    "#### Load necessary files\n",
    "\n",
    "Unlensed SNe population files are in: `/global/projecta/projectdirs/lsst/groups/SSim/DC2/cosmoDC2_v1.1.4/` with filenames starting with `sne_cosmoDC2_v1.1.4*`"
   ]
  },
  {
   "cell_type": "code",
   "execution_count": 11,
   "metadata": {},
   "outputs": [],
   "source": [
    "cosmoDC2_base = '/global/cfs/cdirs/descssim/DC2/cosmoDC2_v1.1.4/'"
   ]
  },
  {
   "cell_type": "code",
   "execution_count": 12,
   "metadata": {},
   "outputs": [],
   "source": [
    "conn = sqlite3.connect(os.path.join(cosmoDC2_base, 'sne_cosmoDC2_v1.1.4_MS_DDF.db'))\n",
    "query = \"SELECT * FROM sne_params;\"\n",
    "\n",
    "# Unlensed SNe\n",
    "unlensed_sne_df = pd.read_sql_query(query,conn)"
   ]
  },
  {
   "cell_type": "code",
   "execution_count": 14,
   "metadata": {},
   "outputs": [],
   "source": [
    "conn = sqlite3.connect(os.path.join(example_truth_folder, 'sne_truth.db'))\n",
    "\n",
    "# Pick only the first image of each SN so we don't have duplicate entries of the same SNe\n",
    "query = \"SELECT * FROM lensed_sne WHERE image_number == 0;\"\n",
    "\n",
    "# DDF unlensed SNe\n",
    "sprinkled_sne_df = pd.read_sql_query(query,conn)"
   ]
  },
  {
   "cell_type": "markdown",
   "metadata": {},
   "source": [
    "### SN Population Comparison"
   ]
  },
  {
   "cell_type": "code",
   "execution_count": 15,
   "metadata": {},
   "outputs": [
    {
     "data": {
      "text/html": [
       "<div>\n",
       "<style scoped>\n",
       "    .dataframe tbody tr th:only-of-type {\n",
       "        vertical-align: middle;\n",
       "    }\n",
       "\n",
       "    .dataframe tbody tr th {\n",
       "        vertical-align: top;\n",
       "    }\n",
       "\n",
       "    .dataframe thead th {\n",
       "        text-align: right;\n",
       "    }\n",
       "</style>\n",
       "<table border=\"1\" class=\"dataframe\">\n",
       "  <thead>\n",
       "    <tr style=\"text-align: right;\">\n",
       "      <th></th>\n",
       "      <th>htmid_level_6</th>\n",
       "      <th>galaxy_id</th>\n",
       "      <th>c_in</th>\n",
       "      <th>mB</th>\n",
       "      <th>t0_in</th>\n",
       "      <th>x0_in</th>\n",
       "      <th>x1_in</th>\n",
       "      <th>z_in</th>\n",
       "      <th>snid_in</th>\n",
       "      <th>snra_in</th>\n",
       "      <th>sndec_in</th>\n",
       "    </tr>\n",
       "  </thead>\n",
       "  <tbody>\n",
       "    <tr>\n",
       "      <th>0</th>\n",
       "      <td>9021</td>\n",
       "      <td>10562502111</td>\n",
       "      <td>0.035201</td>\n",
       "      <td>18.516489</td>\n",
       "      <td>60772.368515</td>\n",
       "      <td>0.000617</td>\n",
       "      <td>1.477374</td>\n",
       "      <td>0.077278</td>\n",
       "      <td>MS_10199_0</td>\n",
       "      <td>66.115587</td>\n",
       "      <td>-40.866055</td>\n",
       "    </tr>\n",
       "    <tr>\n",
       "      <th>1</th>\n",
       "      <td>9023</td>\n",
       "      <td>10562500822</td>\n",
       "      <td>-0.086665</td>\n",
       "      <td>17.966773</td>\n",
       "      <td>63060.297448</td>\n",
       "      <td>0.001028</td>\n",
       "      <td>0.576378</td>\n",
       "      <td>0.073256</td>\n",
       "      <td>MS_10199_1</td>\n",
       "      <td>66.662435</td>\n",
       "      <td>-42.042877</td>\n",
       "    </tr>\n",
       "    <tr>\n",
       "      <th>2</th>\n",
       "      <td>9021</td>\n",
       "      <td>10562500735</td>\n",
       "      <td>0.037553</td>\n",
       "      <td>19.078334</td>\n",
       "      <td>62832.166508</td>\n",
       "      <td>0.000370</td>\n",
       "      <td>-0.177457</td>\n",
       "      <td>0.068469</td>\n",
       "      <td>MS_10199_2</td>\n",
       "      <td>65.212146</td>\n",
       "      <td>-41.416473</td>\n",
       "    </tr>\n",
       "    <tr>\n",
       "      <th>3</th>\n",
       "      <td>9021</td>\n",
       "      <td>10562502246</td>\n",
       "      <td>0.076715</td>\n",
       "      <td>19.192019</td>\n",
       "      <td>61400.008116</td>\n",
       "      <td>0.000335</td>\n",
       "      <td>-1.344205</td>\n",
       "      <td>0.080189</td>\n",
       "      <td>MS_10199_3</td>\n",
       "      <td>65.469824</td>\n",
       "      <td>-41.109646</td>\n",
       "    </tr>\n",
       "    <tr>\n",
       "      <th>4</th>\n",
       "      <td>9023</td>\n",
       "      <td>10562504918</td>\n",
       "      <td>-0.012653</td>\n",
       "      <td>19.388848</td>\n",
       "      <td>61342.657248</td>\n",
       "      <td>0.000278</td>\n",
       "      <td>0.474204</td>\n",
       "      <td>0.115499</td>\n",
       "      <td>MS_10199_5</td>\n",
       "      <td>65.986211</td>\n",
       "      <td>-42.086708</td>\n",
       "    </tr>\n",
       "  </tbody>\n",
       "</table>\n",
       "</div>"
      ],
      "text/plain": [
       "   htmid_level_6    galaxy_id      c_in         mB         t0_in     x0_in  \\\n",
       "0           9021  10562502111  0.035201  18.516489  60772.368515  0.000617   \n",
       "1           9023  10562500822 -0.086665  17.966773  63060.297448  0.001028   \n",
       "2           9021  10562500735  0.037553  19.078334  62832.166508  0.000370   \n",
       "3           9021  10562502246  0.076715  19.192019  61400.008116  0.000335   \n",
       "4           9023  10562504918 -0.012653  19.388848  61342.657248  0.000278   \n",
       "\n",
       "      x1_in      z_in     snid_in    snra_in   sndec_in  \n",
       "0  1.477374  0.077278  MS_10199_0  66.115587 -40.866055  \n",
       "1  0.576378  0.073256  MS_10199_1  66.662435 -42.042877  \n",
       "2 -0.177457  0.068469  MS_10199_2  65.212146 -41.416473  \n",
       "3 -1.344205  0.080189  MS_10199_3  65.469824 -41.109646  \n",
       "4  0.474204  0.115499  MS_10199_5  65.986211 -42.086708  "
      ]
     },
     "execution_count": 15,
     "metadata": {},
     "output_type": "execute_result"
    }
   ],
   "source": [
    "unlensed_sne_df.head()"
   ]
  },
  {
   "cell_type": "code",
   "execution_count": 16,
   "metadata": {},
   "outputs": [
    {
     "data": {
      "text/html": [
       "<div>\n",
       "<style scoped>\n",
       "    .dataframe tbody tr th:only-of-type {\n",
       "        vertical-align: middle;\n",
       "    }\n",
       "\n",
       "    .dataframe tbody tr th {\n",
       "        vertical-align: top;\n",
       "    }\n",
       "\n",
       "    .dataframe thead th {\n",
       "        text-align: right;\n",
       "    }\n",
       "</style>\n",
       "<table border=\"1\" class=\"dataframe\">\n",
       "  <thead>\n",
       "    <tr style=\"text-align: right;\">\n",
       "      <th></th>\n",
       "      <th>index</th>\n",
       "      <th>unique_id</th>\n",
       "      <th>gal_unq_id</th>\n",
       "      <th>ra</th>\n",
       "      <th>dec</th>\n",
       "      <th>t0</th>\n",
       "      <th>t_delay</th>\n",
       "      <th>MB</th>\n",
       "      <th>magnification</th>\n",
       "      <th>x0</th>\n",
       "      <th>x1</th>\n",
       "      <th>c</th>\n",
       "      <th>host_type</th>\n",
       "      <th>redshift</th>\n",
       "      <th>av_mw</th>\n",
       "      <th>rv_mw</th>\n",
       "      <th>dc2_sys_id</th>\n",
       "      <th>lens_cat_sys_id</th>\n",
       "      <th>image_number</th>\n",
       "    </tr>\n",
       "  </thead>\n",
       "  <tbody>\n",
       "    <tr>\n",
       "      <th>0</th>\n",
       "      <td>0</td>\n",
       "      <td>1687501546316000</td>\n",
       "      <td>1687501546316000</td>\n",
       "      <td>52.848251</td>\n",
       "      <td>-27.656524</td>\n",
       "      <td>60733.028599</td>\n",
       "      <td>0.0</td>\n",
       "      <td>-19.241234</td>\n",
       "      <td>1.511290</td>\n",
       "      <td>0.000111</td>\n",
       "      <td>1.0</td>\n",
       "      <td>0.0</td>\n",
       "      <td>kinney-elliptical</td>\n",
       "      <td>0.175884</td>\n",
       "      <td>0.025116</td>\n",
       "      <td>3.1</td>\n",
       "      <td>2000</td>\n",
       "      <td>4068871</td>\n",
       "      <td>0</td>\n",
       "    </tr>\n",
       "    <tr>\n",
       "      <th>1</th>\n",
       "      <td>4</td>\n",
       "      <td>1687502575216008</td>\n",
       "      <td>1687502575216008</td>\n",
       "      <td>52.637745</td>\n",
       "      <td>-28.040920</td>\n",
       "      <td>60531.982206</td>\n",
       "      <td>0.0</td>\n",
       "      <td>-19.120594</td>\n",
       "      <td>2.261117</td>\n",
       "      <td>0.000086</td>\n",
       "      <td>1.0</td>\n",
       "      <td>0.0</td>\n",
       "      <td>kinney-starburst</td>\n",
       "      <td>0.188217</td>\n",
       "      <td>0.022862</td>\n",
       "      <td>3.1</td>\n",
       "      <td>2001</td>\n",
       "      <td>6724378</td>\n",
       "      <td>0</td>\n",
       "    </tr>\n",
       "    <tr>\n",
       "      <th>2</th>\n",
       "      <td>6</td>\n",
       "      <td>1687504325716016</td>\n",
       "      <td>1687504325716016</td>\n",
       "      <td>52.765482</td>\n",
       "      <td>-27.706339</td>\n",
       "      <td>62973.622594</td>\n",
       "      <td>0.0</td>\n",
       "      <td>-19.372602</td>\n",
       "      <td>2.326046</td>\n",
       "      <td>0.000059</td>\n",
       "      <td>1.0</td>\n",
       "      <td>0.0</td>\n",
       "      <td>kinney-sc</td>\n",
       "      <td>0.245165</td>\n",
       "      <td>0.025587</td>\n",
       "      <td>3.1</td>\n",
       "      <td>2002</td>\n",
       "      <td>9923868</td>\n",
       "      <td>0</td>\n",
       "    </tr>\n",
       "    <tr>\n",
       "      <th>3</th>\n",
       "      <td>8</td>\n",
       "      <td>1687506281016024</td>\n",
       "      <td>1687506281016024</td>\n",
       "      <td>52.532876</td>\n",
       "      <td>-28.020799</td>\n",
       "      <td>61523.740726</td>\n",
       "      <td>0.0</td>\n",
       "      <td>-19.106845</td>\n",
       "      <td>2.316066</td>\n",
       "      <td>0.000033</td>\n",
       "      <td>1.0</td>\n",
       "      <td>0.0</td>\n",
       "      <td>kinney-elliptical</td>\n",
       "      <td>0.283273</td>\n",
       "      <td>0.023863</td>\n",
       "      <td>3.1</td>\n",
       "      <td>2003</td>\n",
       "      <td>985566</td>\n",
       "      <td>0</td>\n",
       "    </tr>\n",
       "    <tr>\n",
       "      <th>4</th>\n",
       "      <td>10</td>\n",
       "      <td>1687506284916032</td>\n",
       "      <td>1687506284916032</td>\n",
       "      <td>52.655521</td>\n",
       "      <td>-27.958024</td>\n",
       "      <td>60094.543280</td>\n",
       "      <td>0.0</td>\n",
       "      <td>-19.213396</td>\n",
       "      <td>1.955134</td>\n",
       "      <td>0.000062</td>\n",
       "      <td>1.0</td>\n",
       "      <td>0.0</td>\n",
       "      <td>kinney-elliptical</td>\n",
       "      <td>0.226327</td>\n",
       "      <td>0.025395</td>\n",
       "      <td>3.1</td>\n",
       "      <td>2004</td>\n",
       "      <td>6615075</td>\n",
       "      <td>0</td>\n",
       "    </tr>\n",
       "  </tbody>\n",
       "</table>\n",
       "</div>"
      ],
      "text/plain": [
       "   index         unique_id        gal_unq_id         ra        dec  \\\n",
       "0      0  1687501546316000  1687501546316000  52.848251 -27.656524   \n",
       "1      4  1687502575216008  1687502575216008  52.637745 -28.040920   \n",
       "2      6  1687504325716016  1687504325716016  52.765482 -27.706339   \n",
       "3      8  1687506281016024  1687506281016024  52.532876 -28.020799   \n",
       "4     10  1687506284916032  1687506284916032  52.655521 -27.958024   \n",
       "\n",
       "             t0  t_delay         MB  magnification        x0   x1    c  \\\n",
       "0  60733.028599      0.0 -19.241234       1.511290  0.000111  1.0  0.0   \n",
       "1  60531.982206      0.0 -19.120594       2.261117  0.000086  1.0  0.0   \n",
       "2  62973.622594      0.0 -19.372602       2.326046  0.000059  1.0  0.0   \n",
       "3  61523.740726      0.0 -19.106845       2.316066  0.000033  1.0  0.0   \n",
       "4  60094.543280      0.0 -19.213396       1.955134  0.000062  1.0  0.0   \n",
       "\n",
       "           host_type  redshift     av_mw  rv_mw  dc2_sys_id  lens_cat_sys_id  \\\n",
       "0  kinney-elliptical  0.175884  0.025116    3.1        2000          4068871   \n",
       "1   kinney-starburst  0.188217  0.022862    3.1        2001          6724378   \n",
       "2          kinney-sc  0.245165  0.025587    3.1        2002          9923868   \n",
       "3  kinney-elliptical  0.283273  0.023863    3.1        2003           985566   \n",
       "4  kinney-elliptical  0.226327  0.025395    3.1        2004          6615075   \n",
       "\n",
       "   image_number  \n",
       "0             0  \n",
       "1             0  \n",
       "2             0  \n",
       "3             0  \n",
       "4             0  "
      ]
     },
     "execution_count": 16,
     "metadata": {},
     "output_type": "execute_result"
    }
   ],
   "source": [
    "sprinkled_sne_df.head()"
   ]
  },
  {
   "cell_type": "code",
   "execution_count": 17,
   "metadata": {},
   "outputs": [
    {
     "data": {
      "text/plain": [
       "Text(0, 0.5, 'Population Density')"
      ]
     },
     "execution_count": 17,
     "metadata": {},
     "output_type": "execute_result"
    },
    {
     "data": {
      "image/png": "[encoded data removed]",
      "text/plain": [
       "<Figure size 576x432 with 1 Axes>"
      ]
     },
     "metadata": {
      "needs_background": "light"
     },
     "output_type": "display_data"
    }
   ],
   "source": [
    "fig = plt.figure(figsize=(8, 6))\n",
    "n, bins, _ = plt.hist(unlensed_sne_df['x0_in'], bins=25, range=(0.0, 0.00015), lw=3, histtype='step', density=True, label='Unlensed')\n",
    "_ = plt.hist(sprinkled_sne_df['x0'], bins=bins, lw=3, histtype='step', density=True, label='Sprinkled')\n",
    "plt.xlabel('SALT X0 parameter')\n",
    "plt.ylabel('Population Density')"
   ]
  },
  {
   "cell_type": "code",
   "execution_count": null,
   "metadata": {},
   "outputs": [],
   "source": []
  }
 ],
 "metadata": {
  "kernelspec": {
   "display_name": "Python 3",
   "language": "python",
   "name": "python3"
  },
  "language_info": {
   "codemirror_mode": {
    "name": "ipython",
    "version": 3
   },
   "file_extension": ".py",
   "mimetype": "text/x-python",
   "name": "python",
   "nbconvert_exporter": "python",
   "pygments_lexer": "ipython3",
   "version": "3.7.4"
  }
 },
 "nbformat": 4,
 "nbformat_minor": 4
}
