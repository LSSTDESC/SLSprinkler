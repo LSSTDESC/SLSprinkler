{
 "cells": [
  {
   "cell_type": "code",
   "execution_count": 3,
   "metadata": {},
   "outputs": [
    {
     "name": "stdout",
     "output_type": "stream",
     "text": [
      "Lenstronomy path being used: /home/jwp/stage/sl/lenstronomy/lenstronomy\n"
     ]
    }
   ],
   "source": [
    "import os\n",
    "import sys\n",
    "import numpy as np\n",
    "import pandas as pd\n",
    "import matplotlib.pyplot as plt\n",
    "from astropy.visualization import MinMaxInterval, AsinhStretch, ImageNormalize\n",
    "from astropy.io import fits\n",
    "from astropy.utils.data import get_pkg_data_filename\n",
    "sys.path.insert(0, '../../../scripts/dc2')\n",
    "import verification_utils as utils\n",
    "from astropy.cosmology import wCDM, WMAP7\n",
    "import lenstronomy.Util.param_util as param_util\n",
    "from lenstronomy.Analysis.td_cosmography import TDCosmography\n",
    "from lenstronomy.LensModel.lens_model import LensModel\n",
    "from lenstronomy.LensModel.Solver.lens_equation_solver import LensEquationSolver\n",
    "from lenstronomy.LightModel.light_model import LightModel\n",
    "from lenstronomy.PointSource.point_source import PointSource\n",
    "from baobab.sim_utils import generate_image_simple\n",
    "%matplotlib inline\n",
    "%load_ext autoreload\n",
    "%autoreload 2"
   ]
  },
  {
   "cell_type": "markdown",
   "metadata": {},
   "source": [
    "# Verification of lensed AGN and host in DC2\n",
    "\n",
    "__Author:__ Ji Won Park (@jiwoncpark)\n",
    "\n",
    "__Created:__ 2/20/2020\n",
    "\n",
    "__Last run:__ 5/01/2020\n",
    "\n",
    "We independently render images of lensed AGN and host components (bulge, disk) of DC2 strong lens systems using external software called Lenstronomy and Baobab, as a verification of the DC2 pipeline written by Nan Li and Matt Wiesner.\n",
    "\n",
    "Reproducing OM10 with Lenstronomy not only verifies the images of lensed host components, but also gives us license to use the Lenstronomy-generated images, magnifications, and time delays in the case that we want to vary the inputs such as lens and source redshifts."
   ]
  },
  {
   "cell_type": "markdown",
   "metadata": {},
   "source": [
    "First dump the lens, AGN, and host truth tables as csv files in the containing `input_dir`."
   ]
  },
  {
   "cell_type": "code",
   "execution_count": 5,
   "metadata": {},
   "outputs": [],
   "source": [
    "input_dir = '../../../data/example_truth_050120'\n",
    "utils.to_csv(os.path.join(input_dir, 'lens_truth.db'), input_dir)\n",
    "utils.to_csv(os.path.join(input_dir, 'lensed_agn_truth.db'), input_dir)\n",
    "utils.to_csv(os.path.join(input_dir, 'host_truth.db'), input_dir)"
   ]
  },
  {
   "cell_type": "code",
   "execution_count": 6,
   "metadata": {},
   "outputs": [],
   "source": [
    "sys_id = 69712010 #4077543 # lens system ID\n",
    "pixel_scale = 0.01 # arcsec/pix\n",
    "num_pix = 1000\n",
    "# Basic models\n",
    "null_psf = utils.get_null_psf(pixel_scale) # delta function PSF\n",
    "data_api = utils.get_data_api(pixel_scale, num_pix) # simulation tool for generating images\n",
    "# Truth catalogs\n",
    "src_light_df = pd.read_csv(os.path.join(input_dir, 'agn_hosts.csv'), index_col=None)\n",
    "lens_df = pd.read_csv(os.path.join(input_dir, 'agn_lens.csv'), index_col=None)"
   ]
  },
  {
   "cell_type": "code",
   "execution_count": 8,
   "metadata": {},
   "outputs": [],
   "source": [
    "from astropy.io import fits\n",
    "\n",
    "om10_path = os.path.join(input_dir, 'om10_qso_mock.fits')\n",
    "om10 = fits.open(om10_path)[1].data\n",
    "col_names = ['LENSID', 'ELLIP', 'PHIE', 'GAMMA', 'PHIG', 'ZLENS', 'ZSRC', 'VELDISP', 'XSRC', 'YSRC', 'NIMG',]\n",
    "df_data = {}\n",
    "for col in col_names:\n",
    "    df_data[col] = om10[col].byteswap().newbyteorder()\n",
    "df_data['x_image'] = om10['XIMG'].tolist()\n",
    "df_data['y_image'] = om10['YIMG'].tolist()\n",
    "df_data['time_delays'] = om10['DELAY'].tolist()\n",
    "om10_df = pd.DataFrame(df_data)\n",
    "om10_df = om10_df[om10_df['LENSID'] == sys_id].T.squeeze()"
   ]
  },
  {
   "cell_type": "markdown",
   "metadata": {},
   "source": [
    "We apply basic unit conversions common across all systems, for convenience."
   ]
  },
  {
   "cell_type": "code",
   "execution_count": 9,
   "metadata": {},
   "outputs": [],
   "source": [
    "# SIE lens mass\n",
    "lens_phie_rad = np.pi*(lens_df['phie_lens']/180.0) + 0.5*np.pi # in rad, origin at y axis\n",
    "lens_e1, lens_e2 = param_util.phi_q2_ellipticity(lens_phie_rad, 1 - lens_df['ellip_lens'])\n",
    "lens_df['e1_lens'] = lens_e1\n",
    "lens_df['e2_lens'] = lens_e2\n",
    "# External shear\n",
    "lens_df['phig_rad_lenscat'] = np.deg2rad(lens_df['phig_lenscat'])\n",
    "# Sersic host light\n",
    "src_light_df['position_angle_rad'] = 0.5*np.deg2rad(src_light_df['position_angle'])"
   ]
  },
  {
   "cell_type": "markdown",
   "metadata": {},
   "source": [
    "# 1. Image of lensed bulge only"
   ]
  },
  {
   "cell_type": "code",
   "execution_count": 13,
   "metadata": {},
   "outputs": [
    {
     "name": "stdout",
     "output_type": "stream",
     "text": [
      "Lenstronomy path being used: /home/jwp/stage/sl/lenstronomy/lenstronomy\n"
     ]
    }
   ],
   "source": [
    "src_light_info = src_light_df.loc[src_light_df['lens_cat_sys_id']==sys_id].iloc[0].squeeze() # arbitarily take the first lensed image, since the source properties are the same between the images\n",
    "lens_info = lens_df.loc[lens_df['lens_cat_sys_id']==sys_id].squeeze()\n",
    "z_lens = om10_df['ZLENS'] #lens_info['redshift'] #\n",
    "z_src = src_light_info['redshift']\n",
    "\n",
    "components = ['lens_mass', 'external_shear', 'src_light',]\n",
    "# Instantiate density models\n",
    "#om10_cosmo = WMAP7 #\n",
    "om10_cosmo = wCDM(H0=72.0, Om0=0.26, Ode0=0.74, w0=-1.0)\n",
    "lens_mass_model = LensModel(['SIE', 'SHEAR_GAMMA_PSI',], cosmo=om10_cosmo, z_lens=z_lens, z_source=z_src)\n",
    "src_light_model = LightModel(['CORE_SERSIC'])\n",
    "lens_eq_solver = LensEquationSolver(lens_mass_model)\n",
    "\n",
    "bulge_or_disk = 'bulge'\n",
    "all_kwargs = {}\n",
    "all_kwargs['lens_mass'] = utils.get_lens_params(lens_info, z_src=z_src, cosmo=om10_cosmo)\n",
    "all_kwargs['external_shear'] = utils.get_external_shear_params(lens_info)\n",
    "all_kwargs['src_light'] = utils.get_src_light_params(src_light_info, bulge_or_disk=bulge_or_disk)"
   ]
  },
  {
   "cell_type": "code",
   "execution_count": 14,
   "metadata": {},
   "outputs": [],
   "source": [
    "# Generate the image\n",
    "bulge_img, bulge_img_features = generate_image_simple(all_kwargs, null_psf, data_api, lens_mass_model, src_light_model, lens_eq_solver, pixel_scale, num_pix, components,  {'supersampling_factor': 1}, min_magnification=0.0, lens_light_model=None, ps_model=None,)\n",
    "bulge_img /= np.max(bulge_img)"
   ]
  },
  {
   "cell_type": "code",
   "execution_count": 15,
   "metadata": {},
   "outputs": [
    {
     "data": {
      "text/plain": [
       "index                      994\n",
       "unique_id           2568481334\n",
       "ra_lens                53.3887\n",
       "dec_lens              -28.0516\n",
       "redshift                  1.49\n",
       "shear_1_cosmodc2   -0.00174271\n",
       "shear_2_cosmodc2    0.00758986\n",
       "kappa_cosmodc2      0.00781643\n",
       "gamma_lenscat        0.0901368\n",
       "phig_lenscat           63.3245\n",
       "shear_1_lenscat      0.0498067\n",
       "shear_2_lenscat      0.0751261\n",
       "sindex_lens                  4\n",
       "major_axis_lens      0.0509751\n",
       "minor_axis_lens      0.0393788\n",
       "position_angle         77.2118\n",
       "ellip_cosmodc2        0.227489\n",
       "ellip_lens            0.448853\n",
       "phie_cosmodc2         -51.3941\n",
       "phie_lens               79.884\n",
       "av_mw                0.0225635\n",
       "rv_mw                      3.1\n",
       "vel_disp_lenscat       231.358\n",
       "lens_cat_sys_id       69712010\n",
       "dc2_sys_id           GLAGN_994\n",
       "e1_lens               0.271514\n",
       "e2_lens               -0.10007\n",
       "phig_rad_lenscat       1.10522\n",
       "Name: 994, dtype: object"
      ]
     },
     "execution_count": 15,
     "metadata": {},
     "output_type": "execute_result"
    }
   ],
   "source": [
    "lens_info"
   ]
  },
  {
   "cell_type": "code",
   "execution_count": 16,
   "metadata": {},
   "outputs": [
    {
     "data": {
      "image/png": "[encoded data removed]",
      "text/plain": [
       "<Figure size 1080x360 with 6 Axes>"
      ]
     },
     "metadata": {
      "needs_background": "light"
     },
     "output_type": "display_data"
    }
   ],
   "source": [
    "GLAGN_idx = int(lens_info['index'])\n",
    "existing_bulge_img_path = '/home/jwp/stage/sl/LatestSLSprinkler/outputs/agn_lensed_bulges/GLAGN_host_{:d}_0_bulge.fits'.format(GLAGN_idx)\n",
    "bulge_img_file = get_pkg_data_filename(existing_bulge_img_path)\n",
    "orig_bulge_img_arr = fits.getdata(bulge_img_file, ext=0)\n",
    "\n",
    "fig, axes = plt.subplots(1, 3, figsize=(15, 5))\n",
    "plt.suptitle('Lensed bulge')\n",
    "ticks = np.arange(0, 1000, 100)\n",
    "tick_labels = np.arange(10)\n",
    "\n",
    "norm = ImageNormalize(orig_bulge_img_arr, stretch=AsinhStretch())\n",
    "\n",
    "axes[0].set_title('Current')\n",
    "orig_img = axes[0].imshow(orig_bulge_img_arr.T, origin='lower', cmap='jet')\n",
    "axes[0].set_xlabel('asec')\n",
    "axes[0].set_xticks(ticks)\n",
    "axes[0].set_xticklabels(tick_labels)\n",
    "axes[0].set_ylabel('asec')\n",
    "axes[0].set_yticks(ticks)\n",
    "axes[0].set_yticklabels(tick_labels)\n",
    "fig.colorbar(orig_img, ax=axes[0], fraction=0.046, pad=0.04)\n",
    "\n",
    "axes[1].set_title('Validation')\n",
    "val_img = axes[1].imshow(bulge_img, origin='lower',  cmap='jet')\n",
    "axes[1].set_xlabel('asec')\n",
    "axes[1].set_xticks(ticks)\n",
    "axes[1].set_xticklabels(tick_labels)\n",
    "axes[1].set_ylabel('asec')\n",
    "axes[1].set_yticks(ticks)\n",
    "axes[1].set_yticklabels(tick_labels)\n",
    "fig.colorbar(val_img, ax=axes[1], fraction=0.046, pad=0.04)\n",
    "\n",
    "axes[2].set_title('Residual')\n",
    "val_agn_img = axes[2].imshow(orig_bulge_img_arr.T - bulge_img, origin='lower', vmin=0, vmax=1, cmap='jet')\n",
    "axes[2].set_xlabel('asec')\n",
    "axes[2].set_xticks(ticks)\n",
    "axes[2].set_xticklabels(tick_labels)\n",
    "axes[2].set_ylabel('asec')\n",
    "axes[2].set_yticks(ticks)\n",
    "axes[2].set_yticklabels(tick_labels)\n",
    "fig.colorbar(val_agn_img, ax=axes[2], fraction=0.046, pad=0.04)\n",
    "\n",
    "fig.tight_layout()"
   ]
  },
  {
   "cell_type": "markdown",
   "metadata": {},
   "source": [
    "# 2. Image of lensed disk only"
   ]
  },
  {
   "cell_type": "code",
   "execution_count": 17,
   "metadata": {},
   "outputs": [],
   "source": [
    "bulge_or_disk = 'disk'\n",
    "all_kwargs['src_light'] = utils.get_src_light_params(src_light_info, bulge_or_disk=bulge_or_disk)\n",
    "\n",
    "# Generate the image\n",
    "disk_img, disk_img_features = generate_image_simple(all_kwargs, null_psf, data_api, lens_mass_model, src_light_model, lens_eq_solver, pixel_scale, num_pix, components,  {'supersampling_factor': 1}, min_magnification=0.0, lens_light_model=None, ps_model=None,)\n",
    "disk_img /= np.max(disk_img)"
   ]
  },
  {
   "cell_type": "markdown",
   "metadata": {},
   "source": [
    "# 3. Image positions"
   ]
  },
  {
   "cell_type": "markdown",
   "metadata": {},
   "source": [
    "We'd also like to compare the OM10 image positions. To zeroth order, the OM10 image positions should fall at the center of the lensed host images. Both the current and verification images satisfy this requirement."
   ]
  },
  {
   "cell_type": "code",
   "execution_count": 18,
   "metadata": {},
   "outputs": [],
   "source": [
    "# Taken from OM10; Bryce will add this info to the truth catalog soon.\n",
    "n_image = om10_df['NIMG']\n",
    "om10_x_image = np.array(om10_df['x_image'][:n_image])\n",
    "om10_y_image = np.array(om10_df['y_image'][:n_image])"
   ]
  },
  {
   "cell_type": "code",
   "execution_count": 19,
   "metadata": {},
   "outputs": [
    {
     "data": {
      "text/plain": [
       "(-5.0, 5.0, -5.0, 5.0)"
      ]
     },
     "execution_count": 19,
     "metadata": {},
     "output_type": "execute_result"
    },
    {
     "data": {
      "image/png": "[encoded data removed]",
      "text/plain": [
       "<Figure size 288x288 with 1 Axes>"
      ]
     },
     "metadata": {
      "needs_background": "light"
     },
     "output_type": "display_data"
    }
   ],
   "source": [
    "plt.matshow(orig_bulge_img_arr.T, extent=[-num_pix*0.5*pixel_scale, num_pix*0.5*pixel_scale, -num_pix*0.5*pixel_scale, num_pix*0.5*pixel_scale], origin='lower', cmap='jet')\n",
    "plt.plot(om10_x_image[:n_image], om10_y_image[:n_image], 'r.')\n",
    "plt.title('Current lensed bulge overlaid with OM10 image positions')\n",
    "plt.axis('off')"
   ]
  },
  {
   "cell_type": "code",
   "execution_count": 20,
   "metadata": {},
   "outputs": [
    {
     "data": {
      "text/plain": [
       "(-5.0, 5.0, -5.0, 5.0)"
      ]
     },
     "execution_count": 20,
     "metadata": {},
     "output_type": "execute_result"
    },
    {
     "data": {
      "image/png": "[encoded data removed]",
      "text/plain": [
       "<Figure size 288x288 with 1 Axes>"
      ]
     },
     "metadata": {
      "needs_background": "light"
     },
     "output_type": "display_data"
    }
   ],
   "source": [
    "plt.matshow(bulge_img, extent=[-num_pix*0.5*pixel_scale, num_pix*0.5*pixel_scale, -num_pix*0.5*pixel_scale, num_pix*0.5*pixel_scale], origin='lower', cmap='jet')\n",
    "plt.plot(om10_x_image[:n_image], om10_y_image[:n_image], 'r.')\n",
    "plt.title('Verification lensed bulge overlaid with OM10 image positions')\n",
    "plt.axis('off')"
   ]
  },
  {
   "cell_type": "code",
   "execution_count": 16,
   "metadata": {},
   "outputs": [
    {
     "data": {
      "text/plain": [
       "(-5.0, 5.0, -5.0, 5.0)"
      ]
     },
     "execution_count": 16,
     "metadata": {},
     "output_type": "execute_result"
    },
    {
     "data": {
      "image/png": "[encoded data removed]",
      "text/plain": [
       "<Figure size 288x288 with 1 Axes>"
      ]
     },
     "metadata": {
      "needs_background": "light"
     },
     "output_type": "display_data"
    }
   ],
   "source": [
    "plt.matshow(disk_img, extent=[-num_pix*0.5*pixel_scale, num_pix*0.5*pixel_scale, -num_pix*0.5*pixel_scale, num_pix*0.5*pixel_scale], origin='lower', cmap='jet')\n",
    "plt.plot(om10_x_image[:n_image], om10_y_image[:n_image], 'r.')\n",
    "plt.title('Verification lensed disk overlaid with OM10 image positions')\n",
    "plt.axis('off')"
   ]
  },
  {
   "cell_type": "code",
   "execution_count": 36,
   "metadata": {},
   "outputs": [
    {
     "data": {
      "text/plain": [
       "((200, 200), 200)"
      ]
     },
     "execution_count": 36,
     "metadata": {},
     "output_type": "execute_result"
    }
   ],
   "source": [
    "bulge_img[crop_pix:-crop_pix,crop_pix:-crop_pix].shape, num_pix - 2*crop_pix"
   ]
  },
  {
   "cell_type": "code",
   "execution_count": 50,
   "metadata": {},
   "outputs": [
    {
     "data": {
      "text/plain": [
       "(array([ 26.1 ,  43.21, -27.06,  43.33]),\n",
       " array([-47.24, -29.46,   3.26,  50.51]))"
      ]
     },
     "execution_count": 50,
     "metadata": {},
     "output_type": "execute_result"
    }
   ],
   "source": [
    "om10_x_image/pixel_scale, om10_y_image/pixel_scale"
   ]
  },
  {
   "cell_type": "code",
   "execution_count": 53,
   "metadata": {},
   "outputs": [
    {
     "data": {
      "image/png": "[encoded data removed]",
      "text/plain": [
       "<Figure size 432x288 with 1 Axes>"
      ]
     },
     "metadata": {
      "needs_background": "light"
     },
     "output_type": "display_data"
    }
   ],
   "source": [
    "fig, ax = plt.subplots()\n",
    "crop_pix = 400\n",
    "eff_num_pix = num_pix - 2*crop_pix\n",
    "x_source = all_kwargs['src_light']['center_x']\n",
    "y_source = all_kwargs['src_light']['center_y']\n",
    "ax = utils.lens_model_plot_custom(bulge_img[crop_pix:-crop_pix,crop_pix:-crop_pix], ax, lensModel=lens_mass_model, kwargs_lens=[all_kwargs['lens_mass'], all_kwargs['external_shear']], sourcePos_x=x_source, sourcePos_y=y_source, point_source=True, with_caustics=True, deltaPix=pixel_scale, numPix=eff_num_pix)\n",
    "\n",
    "ax.plot(om10_x_image/pixel_scale + eff_num_pix*pixel_scale*0.5, om10_y_image/pixel_scale + eff_num_pix*pixel_scale*0.5, color='green', marker='*')\n",
    "\n",
    "ax.axis('off')\n",
    "fig.savefig('{:d}.png'.format(sys_id))"
   ]
  },
  {
   "cell_type": "markdown",
   "metadata": {},
   "source": [
    "A more precise comparison would involve raytracing to get floating-point values of the image positions. To do so, we add another component to the image: the AGN. Instead of rendering the image of the lensed AGN, we extract its features."
   ]
  },
  {
   "cell_type": "code",
   "execution_count": 27,
   "metadata": {},
   "outputs": [],
   "source": [
    "components_with_agn = ['lens_mass', 'external_shear', 'src_light', 'agn_light']\n",
    "bulge_or_disk = 'bulge' # back to bulge\n",
    "all_kwargs['src_light'] = utils.get_src_light_params(src_light_info, bulge_or_disk=bulge_or_disk)\n",
    "all_kwargs['agn_light'] = {'center_x': src_light_info['x_src'], 'center_y': src_light_info['y_src'], 'magnitude': 20.0} # exact magnitude value doesn't matter\n",
    "\n",
    "from lenstronomy.PointSource.point_source import PointSource\n",
    "ps_model = PointSource(point_source_type_list=['LENSED_POSITION'], fixed_magnification_list=[False])\n",
    "#_, agn_img_features = generate_image_simple(all_kwargs, null_psf, data_api, lens_mass_model, src_light_model, lens_eq_solver, pixel_scale, num_pix, components_with_agn,  {'supersampling_factor': 1}, min_magnification=0.0, lens_light_model=None, ps_model=ps_model,)\n",
    "\n",
    "x_image, y_image = lens_eq_solver.findBrightImage(src_light_info['x_src'], src_light_info['y_src'],\n",
    "                                                 [all_kwargs['lens_mass'], all_kwargs['external_shear']],\n",
    "                                                          min_distance=0.01, # default is 0.01\n",
    "                                                          numImages=4,\n",
    "                                                          search_window=num_pix*pixel_scale, # default is 5\n",
    "                                                          precision_limit=10**(-10) # default,\n",
    "                                                          ) "
   ]
  },
  {
   "cell_type": "markdown",
   "metadata": {},
   "source": [
    "Here are the verification image positions. (We sort images in the order of increasing dec, to enable consistent identification of images between OM10 and Lenstronomy.)"
   ]
  },
  {
   "cell_type": "code",
   "execution_count": 29,
   "metadata": {},
   "outputs": [
    {
     "name": "stdout",
     "output_type": "stream",
     "text": [
      "[-0.23059416  0.41244925] [0.02560968 0.44880887]\n"
     ]
    }
   ],
   "source": [
    "x_image = agn_img_features['x_image']\n",
    "y_image = agn_img_features['y_image']\n",
    "increasing_dec_i = np.argsort(y_image)\n",
    "x_image = x_image[increasing_dec_i]\n",
    "y_image = y_image[increasing_dec_i]\n",
    "print(x_image, y_image)"
   ]
  },
  {
   "cell_type": "markdown",
   "metadata": {},
   "source": [
    "Comparing with the OM10 image positions,"
   ]
  },
  {
   "cell_type": "code",
   "execution_count": 19,
   "metadata": {},
   "outputs": [
    {
     "name": "stdout",
     "output_type": "stream",
     "text": [
      "[ 0.261   0.4321 -0.2706  0.4333] [-0.4724 -0.2946  0.0326  0.5051]\n"
     ]
    }
   ],
   "source": [
    "om10_increasing_dec_i = np.argsort(om10_y_image)\n",
    "om10_x_image = np.array(om10_x_image)[om10_increasing_dec_i]\n",
    "om10_y_image = np.array(om10_y_image)[om10_increasing_dec_i]\n",
    "print(om10_x_image, om10_y_image)"
   ]
  },
  {
   "cell_type": "markdown",
   "metadata": {},
   "source": [
    "We can see that the image positions agree within ~6 mas, which is subpixel in this super-resolution setting."
   ]
  },
  {
   "cell_type": "code",
   "execution_count": 43,
   "metadata": {},
   "outputs": [
    {
     "ename": "ValueError",
     "evalue": "operands could not be broadcast together with shapes (4,) (2,) ",
     "output_type": "error",
     "traceback": [
      "\u001b[0;31m---------------------------------------------------------------------------\u001b[0m",
      "\u001b[0;31mValueError\u001b[0m                                Traceback (most recent call last)",
      "\u001b[0;32m<ipython-input-43-e3dac07f7946>\u001b[0m in \u001b[0;36m<module>\u001b[0;34m\u001b[0m\n\u001b[0;32m----> 1\u001b[0;31m \u001b[0mprint\u001b[0m\u001b[0;34m(\u001b[0m\u001b[0mnp\u001b[0m\u001b[0;34m.\u001b[0m\u001b[0mlinalg\u001b[0m\u001b[0;34m.\u001b[0m\u001b[0mnorm\u001b[0m\u001b[0;34m(\u001b[0m\u001b[0mx_image\u001b[0m \u001b[0;34m-\u001b[0m \u001b[0mom10_x_image\u001b[0m\u001b[0;34m)\u001b[0m\u001b[0;34m)\u001b[0m\u001b[0;34m\u001b[0m\u001b[0;34m\u001b[0m\u001b[0m\n\u001b[0m\u001b[1;32m      2\u001b[0m \u001b[0mprint\u001b[0m\u001b[0;34m(\u001b[0m\u001b[0mnp\u001b[0m\u001b[0;34m.\u001b[0m\u001b[0mlinalg\u001b[0m\u001b[0;34m.\u001b[0m\u001b[0mnorm\u001b[0m\u001b[0;34m(\u001b[0m\u001b[0my_image\u001b[0m \u001b[0;34m-\u001b[0m \u001b[0mom10_y_image\u001b[0m\u001b[0;34m)\u001b[0m\u001b[0;34m)\u001b[0m\u001b[0;34m\u001b[0m\u001b[0;34m\u001b[0m\u001b[0m\n",
      "\u001b[0;31mValueError\u001b[0m: operands could not be broadcast together with shapes (4,) (2,) "
     ]
    }
   ],
   "source": [
    "print(np.linalg.norm(x_image - om10_x_image))\n",
    "print(np.linalg.norm(y_image - om10_y_image))"
   ]
  },
  {
   "cell_type": "markdown",
   "metadata": {},
   "source": [
    "# 4. Time delays"
   ]
  },
  {
   "cell_type": "markdown",
   "metadata": {},
   "source": [
    "The differences in the convergence profile and image positions manifest themselves in different time delays."
   ]
  },
  {
   "cell_type": "code",
   "execution_count": 30,
   "metadata": {},
   "outputs": [],
   "source": [
    "kwargs_model = {}\n",
    "kwargs_model['lens_model_list'] = ['SIE', 'SHEAR_GAMMA_PSI']\n",
    "kwargs_model['point_source_model_list'] = ['SOURCE_POSITION']\n",
    "td_cosmo = TDCosmography(z_lens, z_src, kwargs_model, cosmo_fiducial=om10_cosmo)"
   ]
  },
  {
   "cell_type": "code",
   "execution_count": 31,
   "metadata": {},
   "outputs": [],
   "source": [
    "ps_kwargs = [{'ra_source': src_light_info['x_src'], 'dec_source': src_light_info['y_src']}]\n",
    "arrival_times = td_cosmo.time_delays([all_kwargs['lens_mass'], all_kwargs['external_shear']], ps_kwargs, kappa_ext=0.0)\n",
    "arrival_times = arrival_times[increasing_dec_i]"
   ]
  },
  {
   "cell_type": "code",
   "execution_count": 32,
   "metadata": {},
   "outputs": [
    {
     "name": "stdout",
     "output_type": "stream",
     "text": [
      "[  0.737  47.508 -22.931]\n"
     ]
    }
   ],
   "source": [
    "om10_td = np.array(om10_df['time_delays'])[om10_increasing_dec_i]\n",
    "om10_td = om10_td[1:] - om10_td[0]\n",
    "print(om10_td)"
   ]
  },
  {
   "cell_type": "code",
   "execution_count": 33,
   "metadata": {},
   "outputs": [
    {
     "name": "stdout",
     "output_type": "stream",
     "text": [
      "[-61.30164475]\n"
     ]
    }
   ],
   "source": [
    "td = arrival_times[1:] - arrival_times[0]\n",
    "print(td)"
   ]
  },
  {
   "cell_type": "markdown",
   "metadata": {},
   "source": [
    "The time delay is accurate to ~1 day."
   ]
  },
  {
   "cell_type": "code",
   "execution_count": null,
   "metadata": {},
   "outputs": [],
   "source": [
    "td_err = td - np.array(om10_td)\n",
    "td_err_frac = td_err/om10_td\n",
    "print(td_err, td_err_frac)"
   ]
  },
  {
   "cell_type": "markdown",
   "metadata": {},
   "source": [
    "# Other miscellaneous tests"
   ]
  },
  {
   "cell_type": "markdown",
   "metadata": {},
   "source": [
    "## The lambda factor"
   ]
  },
  {
   "cell_type": "markdown",
   "metadata": {},
   "source": [
    "We gather model parameters for the lens mass and source light.\n",
    "\n",
    "OM10 and Lenstronomy have slightly different definitions of the SIE profile. In particular, OM10 scales the Einstein radius by the dynamical normalization parameter $\\lambda(e)$, which takes into account the 3D shape of the lens galaxy."
   ]
  },
  {
   "cell_type": "code",
   "execution_count": null,
   "metadata": {},
   "outputs": [],
   "source": [
    "from scipy.interpolate import interp1d\n",
    "def get_lambda_factor(ellip):\n",
    "    \"\"\"Get the interpolated lambda factor for the given Einstein radius that accounts for the ellipticity of projected mass\n",
    "\n",
    "    Note\n",
    "    ----\n",
    "    The input data `ell_lef.dat` and this function are the work of Nan Li, based on Chae 2003\n",
    "\n",
    "    Parameters\n",
    "    ----------\n",
    "    ellip : float\n",
    "        the axis ratio defined as one minus minor/major axis\n",
    "\n",
    "    Returns\n",
    "    -------\n",
    "    float\n",
    "        the lambda factor with which to scale theta_E\n",
    "\n",
    "    \"\"\"\n",
    "    e_tmp, lef_tmp = np.loadtxt(\"ell_lef.dat\", comments='#', usecols=(0,1), unpack=True)\n",
    "    interpolated_lambdas = interp1d(e_tmp, lef_tmp, kind='linear')\n",
    "    return interpolated_lambdas(ellip)"
   ]
  },
  {
   "cell_type": "code",
   "execution_count": null,
   "metadata": {},
   "outputs": [],
   "source": [
    "ellip_grid = np.linspace(1.e-5, 0.6, 100)\n",
    "lambdas = np.array([get_lambda_factor(e) for e in ellip_grid])\n",
    "plt.plot(ellip_grid, lambdas**2.0)\n",
    "plt.ylabel('$\\lambda^2$')\n",
    "plt.xlabel('$e$')"
   ]
  },
  {
   "cell_type": "markdown",
   "metadata": {},
   "source": [
    "![Lambda factor](chae_2003.png)"
   ]
  },
  {
   "cell_type": "markdown",
   "metadata": {},
   "source": [
    "## Convergence map of Lenstronomy SIE"
   ]
  },
  {
   "cell_type": "code",
   "execution_count": null,
   "metadata": {},
   "outputs": [],
   "source": [
    "from lenstronomy.Util import util\n",
    "x, y = util.make_grid(numPix=num_pix, deltapix=pixel_scale)\n",
    "kappa = lens_mass_model.kappa(x, y, [all_kwargs['lens_mass'], all_kwargs['external_shear']])\n",
    "plt.imshow(np.log(util.array2image(kappa)))"
   ]
  }
 ],
 "metadata": {
  "kernelspec": {
   "display_name": "Python (baobab)",
   "language": "python",
   "name": "baobab"
  },
  "language_info": {
   "codemirror_mode": {
    "name": "ipython",
    "version": 3
   },
   "file_extension": ".py",
   "mimetype": "text/x-python",
   "name": "python",
   "nbconvert_exporter": "python",
   "pygments_lexer": "ipython3",
   "version": "3.6.9"
  }
 },
 "nbformat": 4,
 "nbformat_minor": 2
}
