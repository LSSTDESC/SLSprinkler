{
 "cells": [
  {
   "cell_type": "code",
   "execution_count": 1,
   "metadata": {},
   "outputs": [
    {
     "name": "stdout",
     "output_type": "stream",
     "text": [
      "Lenstronomy path being used: /home/jwp/stage/sl/lenstronomy/lenstronomy\n"
     ]
    }
   ],
   "source": [
    "import os\n",
    "import sys\n",
    "import numpy as np\n",
    "import pandas as pd\n",
    "import matplotlib.pyplot as plt\n",
    "sys.path.insert(0, '../../../scripts/dc2')\n",
    "import verification_utils as utils\n",
    "%matplotlib inline\n",
    "%load_ext autoreload\n",
    "%autoreload 2"
   ]
  },
  {
   "cell_type": "markdown",
   "metadata": {},
   "source": [
    "# Verification of lensed AGN and host in DC2\n",
    "\n",
    "__Author:__ Ji Won Park (@jiwoncpark)\n",
    "\n",
    "__Created:__ 5/04/2020\n",
    "\n",
    "__Last run:__ 5/04/2020\n",
    "\n",
    "We updated the image positions, magnifications, and time delays originally in the OM10 catalog, so that they agree with the new lens galaxy redshift and DC2 cosmology. In this notebook, we verify whether the code can reproduce the OM10 lensing stats when given the same input as OM10."
   ]
  },
  {
   "cell_type": "code",
   "execution_count": 2,
   "metadata": {},
   "outputs": [],
   "source": [
    "utils.to_csv('/home/jwp/stage/sl/LatestSLSprinkler/data/example_truth_050120/updated_lensed_agn_truth.db', '.', '_new')\n",
    "utils.to_csv('/home/jwp/stage/sl/LatestSLSprinkler/data/example_truth_050120/lensed_agn_truth.db', '.', '')"
   ]
  },
  {
   "cell_type": "code",
   "execution_count": 3,
   "metadata": {},
   "outputs": [],
   "source": [
    "new_truth = pd.read_csv('lensed_agn_new.csv', index_col=False)\n",
    "old_truth = pd.read_csv('lensed_agn.csv', index_col=False)"
   ]
  },
  {
   "cell_type": "code",
   "execution_count": 4,
   "metadata": {},
   "outputs": [
    {
     "data": {
      "text/plain": [
       "((2446, 39),\n",
       " (2446, 39),\n",
       " Index(['index', 'unique_id', 'ra', 'dec', 'redshift', 't_delay', 'magnorm',\n",
       "        'flux_u_agn', 'flux_g_agn', 'flux_r_agn', 'flux_i_agn', 'flux_z_agn',\n",
       "        'flux_y_agn', 'flux_u_agn_noMW', 'flux_g_agn_noMW', 'flux_r_agn_noMW',\n",
       "        'flux_i_agn_noMW', 'flux_z_agn_noMW', 'flux_y_agn_noMW',\n",
       "        'magnification', 'seed', 'agn_tau_u', 'agn_tau_g', 'agn_tau_r',\n",
       "        'agn_tau_i', 'agn_tau_z', 'agn_tau_y', 'agn_sf_u', 'agn_sf_g',\n",
       "        'agn_sf_r', 'agn_sf_i', 'agn_sf_z', 'agn_sf_y', 'av_mw', 'rv_mw',\n",
       "        'lens_id', 'dc2_sys_id', 'lens_cat_sys_id', 'image_number'],\n",
       "       dtype='object'))"
      ]
     },
     "execution_count": 4,
     "metadata": {},
     "output_type": "execute_result"
    }
   ],
   "source": [
    "new_truth.shape, old_truth.shape, new_truth.columns"
   ]
  },
  {
   "cell_type": "code",
   "execution_count": 5,
   "metadata": {},
   "outputs": [],
   "source": [
    "# Basic tests\n",
    "assert set(new_truth.columns.values) == set(old_truth.columns.values)"
   ]
  },
  {
   "cell_type": "code",
   "execution_count": 6,
   "metadata": {},
   "outputs": [
    {
     "data": {
      "text/html": [
       "<div>\n",
       "<style scoped>\n",
       "    .dataframe tbody tr th:only-of-type {\n",
       "        vertical-align: middle;\n",
       "    }\n",
       "\n",
       "    .dataframe tbody tr th {\n",
       "        vertical-align: top;\n",
       "    }\n",
       "\n",
       "    .dataframe thead th {\n",
       "        text-align: right;\n",
       "    }\n",
       "</style>\n",
       "<table border=\"1\" class=\"dataframe\">\n",
       "  <thead>\n",
       "    <tr style=\"text-align: right;\">\n",
       "      <th></th>\n",
       "      <th>index</th>\n",
       "      <th>unique_id</th>\n",
       "      <th>ra</th>\n",
       "      <th>dec</th>\n",
       "      <th>redshift</th>\n",
       "      <th>t_delay</th>\n",
       "      <th>magnorm</th>\n",
       "      <th>flux_u_agn</th>\n",
       "      <th>flux_g_agn</th>\n",
       "      <th>flux_r_agn</th>\n",
       "      <th>...</th>\n",
       "      <th>agn_sf_r</th>\n",
       "      <th>agn_sf_i</th>\n",
       "      <th>agn_sf_z</th>\n",
       "      <th>agn_sf_y</th>\n",
       "      <th>av_mw</th>\n",
       "      <th>rv_mw</th>\n",
       "      <th>lens_id</th>\n",
       "      <th>dc2_sys_id</th>\n",
       "      <th>lens_cat_sys_id</th>\n",
       "      <th>image_number</th>\n",
       "    </tr>\n",
       "  </thead>\n",
       "  <tbody>\n",
       "    <tr>\n",
       "      <td>0</td>\n",
       "      <td>0</td>\n",
       "      <td>GLAGN_0_0</td>\n",
       "      <td>53.494339</td>\n",
       "      <td>-28.283780</td>\n",
       "      <td>1.06</td>\n",
       "      <td>0.000000</td>\n",
       "      <td>23.533316</td>\n",
       "      <td>1.301758e-06</td>\n",
       "      <td>1.434537e-06</td>\n",
       "      <td>0.000002</td>\n",
       "      <td>...</td>\n",
       "      <td>0.6438</td>\n",
       "      <td>0.5863</td>\n",
       "      <td>0.5474</td>\n",
       "      <td>0.5190</td>\n",
       "      <td>0.032723</td>\n",
       "      <td>3.1</td>\n",
       "      <td>2562504569</td>\n",
       "      <td>GLAGN_0</td>\n",
       "      <td>115074</td>\n",
       "      <td>0</td>\n",
       "    </tr>\n",
       "    <tr>\n",
       "      <td>1</td>\n",
       "      <td>0</td>\n",
       "      <td>GLAGN_0_1</td>\n",
       "      <td>53.494336</td>\n",
       "      <td>-28.283778</td>\n",
       "      <td>1.06</td>\n",
       "      <td>-2.385178</td>\n",
       "      <td>23.533316</td>\n",
       "      <td>1.301758e-06</td>\n",
       "      <td>1.434537e-06</td>\n",
       "      <td>0.000002</td>\n",
       "      <td>...</td>\n",
       "      <td>0.6438</td>\n",
       "      <td>0.5863</td>\n",
       "      <td>0.5474</td>\n",
       "      <td>0.5190</td>\n",
       "      <td>0.032723</td>\n",
       "      <td>3.1</td>\n",
       "      <td>2562504569</td>\n",
       "      <td>GLAGN_0</td>\n",
       "      <td>115074</td>\n",
       "      <td>1</td>\n",
       "    </tr>\n",
       "    <tr>\n",
       "      <td>2</td>\n",
       "      <td>2</td>\n",
       "      <td>GLAGN_1_0</td>\n",
       "      <td>52.567067</td>\n",
       "      <td>-27.584339</td>\n",
       "      <td>2.08</td>\n",
       "      <td>0.000000</td>\n",
       "      <td>23.287786</td>\n",
       "      <td>1.533257e-06</td>\n",
       "      <td>2.309779e-06</td>\n",
       "      <td>0.000003</td>\n",
       "      <td>...</td>\n",
       "      <td>0.3507</td>\n",
       "      <td>0.3189</td>\n",
       "      <td>0.2975</td>\n",
       "      <td>0.2818</td>\n",
       "      <td>0.027206</td>\n",
       "      <td>3.1</td>\n",
       "      <td>1875009351</td>\n",
       "      <td>GLAGN_1</td>\n",
       "      <td>125027</td>\n",
       "      <td>0</td>\n",
       "    </tr>\n",
       "    <tr>\n",
       "      <td>3</td>\n",
       "      <td>2</td>\n",
       "      <td>GLAGN_1_1</td>\n",
       "      <td>52.567071</td>\n",
       "      <td>-27.584325</td>\n",
       "      <td>2.08</td>\n",
       "      <td>-28.238358</td>\n",
       "      <td>23.287786</td>\n",
       "      <td>1.533257e-06</td>\n",
       "      <td>2.309779e-06</td>\n",
       "      <td>0.000003</td>\n",
       "      <td>...</td>\n",
       "      <td>0.3507</td>\n",
       "      <td>0.3189</td>\n",
       "      <td>0.2975</td>\n",
       "      <td>0.2818</td>\n",
       "      <td>0.027206</td>\n",
       "      <td>3.1</td>\n",
       "      <td>1875009351</td>\n",
       "      <td>GLAGN_1</td>\n",
       "      <td>125027</td>\n",
       "      <td>1</td>\n",
       "    </tr>\n",
       "    <tr>\n",
       "      <td>4</td>\n",
       "      <td>4</td>\n",
       "      <td>GLAGN_2_0</td>\n",
       "      <td>53.642187</td>\n",
       "      <td>-28.561802</td>\n",
       "      <td>2.89</td>\n",
       "      <td>0.000000</td>\n",
       "      <td>24.278110</td>\n",
       "      <td>2.197636e-07</td>\n",
       "      <td>8.870602e-07</td>\n",
       "      <td>0.000001</td>\n",
       "      <td>...</td>\n",
       "      <td>0.4307</td>\n",
       "      <td>0.3927</td>\n",
       "      <td>0.3671</td>\n",
       "      <td>0.3482</td>\n",
       "      <td>0.022477</td>\n",
       "      <td>3.1</td>\n",
       "      <td>2562528494</td>\n",
       "      <td>GLAGN_2</td>\n",
       "      <td>394519</td>\n",
       "      <td>0</td>\n",
       "    </tr>\n",
       "  </tbody>\n",
       "</table>\n",
       "<p>5 rows × 39 columns</p>\n",
       "</div>"
      ],
      "text/plain": [
       "   index  unique_id         ra        dec  redshift    t_delay    magnorm  \\\n",
       "0      0  GLAGN_0_0  53.494339 -28.283780      1.06   0.000000  23.533316   \n",
       "1      0  GLAGN_0_1  53.494336 -28.283778      1.06  -2.385178  23.533316   \n",
       "2      2  GLAGN_1_0  52.567067 -27.584339      2.08   0.000000  23.287786   \n",
       "3      2  GLAGN_1_1  52.567071 -27.584325      2.08 -28.238358  23.287786   \n",
       "4      4  GLAGN_2_0  53.642187 -28.561802      2.89   0.000000  24.278110   \n",
       "\n",
       "     flux_u_agn    flux_g_agn  flux_r_agn  ...  agn_sf_r  agn_sf_i  agn_sf_z  \\\n",
       "0  1.301758e-06  1.434537e-06    0.000002  ...    0.6438    0.5863    0.5474   \n",
       "1  1.301758e-06  1.434537e-06    0.000002  ...    0.6438    0.5863    0.5474   \n",
       "2  1.533257e-06  2.309779e-06    0.000003  ...    0.3507    0.3189    0.2975   \n",
       "3  1.533257e-06  2.309779e-06    0.000003  ...    0.3507    0.3189    0.2975   \n",
       "4  2.197636e-07  8.870602e-07    0.000001  ...    0.4307    0.3927    0.3671   \n",
       "\n",
       "   agn_sf_y     av_mw  rv_mw     lens_id  dc2_sys_id  lens_cat_sys_id  \\\n",
       "0    0.5190  0.032723    3.1  2562504569     GLAGN_0           115074   \n",
       "1    0.5190  0.032723    3.1  2562504569     GLAGN_0           115074   \n",
       "2    0.2818  0.027206    3.1  1875009351     GLAGN_1           125027   \n",
       "3    0.2818  0.027206    3.1  1875009351     GLAGN_1           125027   \n",
       "4    0.3482  0.022477    3.1  2562528494     GLAGN_2           394519   \n",
       "\n",
       "   image_number  \n",
       "0             0  \n",
       "1             1  \n",
       "2             0  \n",
       "3             1  \n",
       "4             0  \n",
       "\n",
       "[5 rows x 39 columns]"
      ]
     },
     "execution_count": 6,
     "metadata": {},
     "output_type": "execute_result"
    }
   ],
   "source": [
    "new_truth.head()"
   ]
  },
  {
   "cell_type": "code",
   "execution_count": 7,
   "metadata": {},
   "outputs": [
    {
     "name": "stdout",
     "output_type": "stream",
     "text": [
      "2446 2446\n"
     ]
    }
   ],
   "source": [
    "print(new_truth['unique_id'].nunique(), old_truth['unique_id'].nunique())"
   ]
  },
  {
   "cell_type": "code",
   "execution_count": 8,
   "metadata": {},
   "outputs": [],
   "source": [
    "# Reorder images in the old truth table\n",
    "sys_ids = old_truth['lens_cat_sys_id'].unique()\n",
    "for i, sys_id in enumerate(sys_ids):\n",
    "    agn_info = old_truth[old_truth['lens_cat_sys_id'] == sys_id].copy() # df of length 2 or 4\n",
    "    n_img = agn_info.shape[0]\n",
    "    ra_image_abs = agn_info['ra'].values\n",
    "    dec_image_abs = agn_info['dec'].values\n",
    "    increasing_dec_i = np.argsort(dec_image_abs)\n",
    "    agn_info['unique_id'] = ['{:s}_{:d}'.format(agn_info.iloc[0]['dc2_sys_id'], img_i) for img_i in range(n_img)] \n",
    "    agn_info['image_number'] = np.arange(n_img)\n",
    "    agn_info['ra'] = ra_image_abs[increasing_dec_i]\n",
    "    agn_info['dec'] = dec_image_abs[increasing_dec_i]\n",
    "    agn_info['magnification'] = agn_info['magnification'].values[increasing_dec_i]\n",
    "    time_delays = agn_info['t_delay'].values[increasing_dec_i]\n",
    "    time_delays -= time_delays[0] # time delays relative to first image\n",
    "    agn_info['t_delay'] = time_delays\n",
    "    old_truth.update(agn_info)"
   ]
  },
  {
   "cell_type": "code",
   "execution_count": 9,
   "metadata": {},
   "outputs": [],
   "source": [
    "truth = new_truth.merge(old_truth, how='outer', on='unique_id', suffixes=['_new', '_old'])"
   ]
  },
  {
   "cell_type": "code",
   "execution_count": 10,
   "metadata": {},
   "outputs": [],
   "source": [
    "truth = truth.reset_index(drop=True)"
   ]
  },
  {
   "cell_type": "code",
   "execution_count": 11,
   "metadata": {},
   "outputs": [
    {
     "name": "stdout",
     "output_type": "stream",
     "text": [
      "(2470, 77)\n"
     ]
    }
   ],
   "source": [
    "print(truth.shape)\n",
    "deg_to_arcsec = 3600.0"
   ]
  },
  {
   "cell_type": "code",
   "execution_count": 12,
   "metadata": {},
   "outputs": [],
   "source": [
    "#truth['magnification_offset'] = truth['magnification_new'] - truth['magnification_old']\n",
    "truth['t_delay_offset'] = truth['t_delay_new'] - truth['t_delay_old']\n",
    "truth['ra_offset'] = (truth['ra_new'] - truth['ra_old'])*deg_to_arcsec\n",
    "truth['dec_offset'] = (truth['dec_new'] - truth['dec_old'])*deg_to_arcsec\n",
    "truth['t_delay_offset_frac'] = truth['t_delay_offset']/truth['t_delay_old']"
   ]
  },
  {
   "cell_type": "code",
   "execution_count": 13,
   "metadata": {},
   "outputs": [
    {
     "name": "stdout",
     "output_type": "stream",
     "text": [
      "6445311\n",
      "\n",
      "17654388\n",
      "\n",
      "403020\n",
      "\n",
      "881438\n",
      "\n",
      "11482744\n",
      "\n",
      "20062248\n",
      "\n",
      "638108\n",
      "\n",
      "1882510\n",
      "\n",
      "15476011\n",
      "\n",
      "3964161\n",
      "\n",
      "22012738\n",
      "\n",
      "41072300\n",
      "\n",
      "106078979\n",
      "\n",
      "8967246\n",
      "\n",
      "17433899\n",
      "\n",
      "24424185\n",
      "\n",
      "39510488\n",
      "\n",
      "62680267\n",
      "\n",
      "1001710\n",
      "\n",
      "18624532\n",
      "\n",
      "44749496\n",
      "\n",
      "10442798\n",
      "\n",
      "21926805\n",
      "\n",
      "3112411\n",
      "\n",
      "24\n"
     ]
    }
   ],
   "source": [
    "# Take only the lenses with the same number of images\n",
    "discrepant_ids = []\n",
    "with open(os.path.join('/home/jwp/stage/sl/LatestSLSprinkler/image_number_discrepancies.txt'), \"r\") as f:\n",
    "    for line in f:\n",
    "        discrepant_ids.append(int(line.strip('\\n')))\n",
    "print(len(discrepant_ids))"
   ]
  },
  {
   "cell_type": "code",
   "execution_count": 14,
   "metadata": {},
   "outputs": [
    {
     "name": "stdout",
     "output_type": "stream",
     "text": [
      "1032\n"
     ]
    }
   ],
   "source": [
    "good_lenses = list(set(sys_ids) - set(discrepant_ids))\n",
    "print(len(good_lenses))"
   ]
  },
  {
   "cell_type": "code",
   "execution_count": 17,
   "metadata": {},
   "outputs": [
    {
     "name": "stdout",
     "output_type": "stream",
     "text": [
      "(2374, 81)\n"
     ]
    }
   ],
   "source": [
    "good_truth = truth[truth['lens_cat_sys_id_new'].isin(good_lenses)]\n",
    "print(good_truth.shape)"
   ]
  },
  {
   "cell_type": "code",
   "execution_count": 21,
   "metadata": {},
   "outputs": [
    {
     "data": {
      "image/png": "[encoded data removed]",
      "text/plain": [
       "<Figure size 432x288 with 1 Axes>"
      ]
     },
     "metadata": {
      "needs_background": "light"
     },
     "output_type": "display_data"
    }
   ],
   "source": [
    "vals = good_truth['t_delay_offset'].values\n",
    "plt.xlabel('Time delay offset (days)')\n",
    "plt.ylabel('Count')\n",
    "_ = plt.hist(vals[np.isfinite(vals)], bins=30, range=[-100, 100])"
   ]
  },
  {
   "cell_type": "code",
   "execution_count": 29,
   "metadata": {},
   "outputs": [
    {
     "data": {
      "image/png": "[encoded data removed]",
      "text/plain": [
       "<Figure size 432x288 with 1 Axes>"
      ]
     },
     "metadata": {
      "needs_background": "light"
     },
     "output_type": "display_data"
    }
   ],
   "source": [
    "vals = good_truth['t_delay_offset_frac'].values*100\n",
    "plt.xlabel('Percentage time delay offset (%)')\n",
    "plt.ylabel('Count')\n",
    "_ = plt.hist(vals[np.isfinite(vals)], bins=30, range=[-100, 100])"
   ]
  },
  {
   "cell_type": "code",
   "execution_count": 37,
   "metadata": {},
   "outputs": [
    {
     "data": {
      "text/plain": [
       "<matplotlib.legend.Legend at 0x7f8bcfe14f28>"
      ]
     },
     "execution_count": 37,
     "metadata": {},
     "output_type": "execute_result"
    },
    {
     "data": {
      "image/png": "[encoded data removed]",
      "text/plain": [
       "<Figure size 432x288 with 1 Axes>"
      ]
     },
     "metadata": {
      "needs_background": "light"
     },
     "output_type": "display_data"
    }
   ],
   "source": [
    "vals = good_truth['ra_offset'].values\n",
    "plt.xlabel('RA offset (asec)')\n",
    "plt.ylabel('Count')\n",
    "plt.axvline(0.01, color='r', label='pixel scale=0.01\"/pix')\n",
    "plt.axvline(-0.01, color='r')\n",
    "_ = plt.hist(vals[np.isfinite(vals)], bins=30)\n",
    "plt.legend()"
   ]
  },
  {
   "cell_type": "code",
   "execution_count": 38,
   "metadata": {},
   "outputs": [
    {
     "data": {
      "text/plain": [
       "<matplotlib.legend.Legend at 0x7f8bcfdf4080>"
      ]
     },
     "execution_count": 38,
     "metadata": {},
     "output_type": "execute_result"
    },
    {
     "data": {
      "image/png": "[encoded data removed]",
      "text/plain": [
       "<Figure size 432x288 with 1 Axes>"
      ]
     },
     "metadata": {
      "needs_background": "light"
     },
     "output_type": "display_data"
    }
   ],
   "source": [
    "vals = good_truth['dec_offset'].values\n",
    "plt.xlabel('Dec offset (asec)')\n",
    "plt.ylabel('Count')\n",
    "plt.axvline(0.01, color='r', label='pixel scale=0.01\"/pix')\n",
    "plt.axvline(-0.01, color='r')\n",
    "_ = plt.hist(vals[np.isfinite(vals)], bins=30)\n",
    "plt.legend()"
   ]
  },
  {
   "cell_type": "code",
   "execution_count": null,
   "metadata": {},
   "outputs": [],
   "source": []
  }
 ],
 "metadata": {
  "kernelspec": {
   "display_name": "Python (baobab)",
   "language": "python",
   "name": "baobab"
  },
  "language_info": {
   "codemirror_mode": {
    "name": "ipython",
    "version": 3
   },
   "file_extension": ".py",
   "mimetype": "text/x-python",
   "name": "python",
   "nbconvert_exporter": "python",
   "pygments_lexer": "ipython3",
   "version": "3.6.9"
  }
 },
 "nbformat": 4,
 "nbformat_minor": 2
}
