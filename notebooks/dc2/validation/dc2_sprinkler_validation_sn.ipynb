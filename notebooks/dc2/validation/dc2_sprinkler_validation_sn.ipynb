{
 "cells": [
  {
   "cell_type": "markdown",
   "metadata": {},
   "source": [
    "# DC2 Sprinkler Validation Tests for Lensed SNe"
   ]
  },
  {
   "cell_type": "markdown",
   "metadata": {},
   "source": [
    "The most recent Sprinkler Truth Catalogs are in `/global/cscratch1/sd/brycek/example_truth`.\n",
    "\n",
    "Unlensed SNe population are in: `/global/projecta/projectdirs/lsst/groups/SSim/DC2/cosmoDC2_v1.1.4/sne_cosmoDC2_v1.1.4_MS_DDF.db`"
   ]
  },
  {
   "cell_type": "code",
   "execution_count": 1,
   "metadata": {},
   "outputs": [],
   "source": [
    "import os\n",
    "import numpy as np\n",
    "import pandas as pd\n",
    "import sqlite3\n",
    "import matplotlib.pyplot as plt\n",
    "from astropy.io import fits\n",
    "%matplotlib inline"
   ]
  },
  {
   "cell_type": "code",
   "execution_count": 2,
   "metadata": {},
   "outputs": [
    {
     "name": "stderr",
     "output_type": "stream",
     "text": [
      "WARNING: AstropyDeprecationWarning: astropy.extern.six will be removed in 4.0, use the six module directly if it is still needed [astropy.extern.six]\n"
     ]
    }
   ],
   "source": [
    "from lsst.sims.catUtils.supernovae    import SNObject\n",
    "from lsst.sims.photUtils.BandpassDict import BandpassDict, Bandpass\n",
    "from lsst.sims.photUtils.Sed import Sed\n",
    "from lsst.sims.photUtils.SedUtils import getImsimFluxNorm"
   ]
  },
  {
   "cell_type": "code",
   "execution_count": 3,
   "metadata": {},
   "outputs": [],
   "source": [
    "import lsst"
   ]
  },
  {
   "cell_type": "markdown",
   "metadata": {},
   "source": [
    "## Lensed SNe validation tests"
   ]
  },
  {
   "cell_type": "markdown",
   "metadata": {},
   "source": [
    "#### Load necessary files\n",
    "\n",
    "Unlensed SNe population files are in: `/global/cfs/cdirs/descssim/DC2/cosmoDC2_v1.1.4/` with filenames starting with `sne_cosmoDC2_v1.1.4*`"
   ]
  },
  {
   "cell_type": "code",
   "execution_count": 4,
   "metadata": {},
   "outputs": [],
   "source": [
    "cosmoDC2_base = '/global/cfs/cdirs/descssim/DC2/cosmoDC2_v1.1.4/'"
   ]
  },
  {
   "cell_type": "code",
   "execution_count": 5,
   "metadata": {},
   "outputs": [],
   "source": [
    "conn  = sqlite3.connect(os.path.join(cosmoDC2_base, 'sne_cosmoDC2_v1.1.4_MS_DDF.db'))\n",
    "query = \"SELECT * FROM sne_params;\"\n",
    "\n",
    "# Unlensed SNe\n",
    "unlensed_sne_df = pd.read_sql_query(query,conn)"
   ]
  },
  {
   "cell_type": "code",
   "execution_count": 6,
   "metadata": {},
   "outputs": [],
   "source": [
    "example_truth_folder = '/global/cfs/cdirs/descssim/DC2/Run3.0i/truth_tables/'\n",
    "conn = sqlite3.connect(os.path.join(example_truth_folder, 'updated_lensed_sne_truth.db'))\n",
    "\n",
    "# Pick only the first image of each SN so we don't have duplicate entries of the same SNe\n",
    "#query = \"SELECT * FROM lensed_sne WHERE image_number == 0;\"\n",
    "query = \"SELECT * FROM lensed_sne\"\n",
    "\n",
    "# DDF unlensed SNe\n",
    "sprinkled_sne_df = pd.read_sql_query(query,conn)"
   ]
  },
  {
   "cell_type": "markdown",
   "metadata": {},
   "source": [
    "### Input SNe catalog"
   ]
  },
  {
   "cell_type": "code",
   "execution_count": 7,
   "metadata": {},
   "outputs": [],
   "source": [
    "sn_catalog_sys = pd.read_hdf('/global/cfs/cdirs/descssim/DC2/Run3.0i/sprinkler_dc2_data/glsne_dc2_v2.h5', key='system')\n",
    "sn_catalog_img = pd.read_hdf('/global/cfs/cdirs/descssim/DC2/Run3.0i/sprinkler_dc2_data/glsne_dc2_v2.h5', key='image')"
   ]
  },
  {
   "cell_type": "code",
   "execution_count": 8,
   "metadata": {},
   "outputs": [
    {
     "name": "stdout",
     "output_type": "stream",
     "text": [
      "Opening /global/cfs/cdirs/descssim/DC2/Run3.0i/sprinkler_dc2_data/glsne_dc2_v2.h5 in read-only mode\n",
      "['/image', '/system', '/system/meta/values_block_2/meta', '/system/meta/values_block_1/meta', '/system/meta/values_block_0/meta']\n"
     ]
    }
   ],
   "source": [
    "# Checking the file to see what keys are available\n",
    "with pd.HDFStore('/global/cfs/cdirs/descssim/DC2/Run3.0i/sprinkler_dc2_data/glsne_dc2_v2.h5') as hdf:\n",
    "    print(hdf.keys())"
   ]
  },
  {
   "cell_type": "code",
   "execution_count": 9,
   "metadata": {},
   "outputs": [
    {
     "data": {
      "text/html": [
       "<div>\n",
       "<style scoped>\n",
       "    .dataframe tbody tr th:only-of-type {\n",
       "        vertical-align: middle;\n",
       "    }\n",
       "\n",
       "    .dataframe tbody tr th {\n",
       "        vertical-align: top;\n",
       "    }\n",
       "\n",
       "    .dataframe thead th {\n",
       "        text-align: right;\n",
       "    }\n",
       "</style>\n",
       "<table border=\"1\" class=\"dataframe\">\n",
       "  <thead>\n",
       "    <tr style=\"text-align: right;\">\n",
       "      <th></th>\n",
       "      <th>t0</th>\n",
       "      <th>sigma</th>\n",
       "      <th>gamma</th>\n",
       "      <th>e</th>\n",
       "      <th>theta_e</th>\n",
       "      <th>theta_gamma</th>\n",
       "      <th>zs</th>\n",
       "      <th>zl</th>\n",
       "      <th>snx</th>\n",
       "      <th>sny</th>\n",
       "      <th>...</th>\n",
       "      <th>lensgal_n</th>\n",
       "      <th>lensgal_ellip</th>\n",
       "      <th>lensgal_reff</th>\n",
       "      <th>lensgal_theta</th>\n",
       "      <th>lensgal_amplitude</th>\n",
       "      <th>lensgal_type</th>\n",
       "      <th>lensgal_x</th>\n",
       "      <th>lensgal_y</th>\n",
       "      <th>t_found</th>\n",
       "      <th>lensgal_mi</th>\n",
       "    </tr>\n",
       "  </thead>\n",
       "  <tbody>\n",
       "    <tr>\n",
       "      <th>0</th>\n",
       "      <td>62307.945863</td>\n",
       "      <td>197.670149</td>\n",
       "      <td>0.128101</td>\n",
       "      <td>0.570391</td>\n",
       "      <td>132.165475</td>\n",
       "      <td>135.210348</td>\n",
       "      <td>0.435736</td>\n",
       "      <td>0.152485</td>\n",
       "      <td>-0.136216</td>\n",
       "      <td>0.144903</td>\n",
       "      <td>...</td>\n",
       "      <td>4.0</td>\n",
       "      <td>0.570391</td>\n",
       "      <td>1.873893</td>\n",
       "      <td>132.165475</td>\n",
       "      <td>3.183900e-16</td>\n",
       "      <td>kinney-elliptical</td>\n",
       "      <td>0.0</td>\n",
       "      <td>0.0</td>\n",
       "      <td>62309.959876</td>\n",
       "      <td>17.063607</td>\n",
       "    </tr>\n",
       "    <tr>\n",
       "      <th>0</th>\n",
       "      <td>62986.222880</td>\n",
       "      <td>270.972759</td>\n",
       "      <td>0.040137</td>\n",
       "      <td>0.785929</td>\n",
       "      <td>349.848750</td>\n",
       "      <td>76.941654</td>\n",
       "      <td>0.812597</td>\n",
       "      <td>0.106528</td>\n",
       "      <td>0.229110</td>\n",
       "      <td>-0.578431</td>\n",
       "      <td>...</td>\n",
       "      <td>4.0</td>\n",
       "      <td>0.785929</td>\n",
       "      <td>1.104613</td>\n",
       "      <td>349.848750</td>\n",
       "      <td>3.887914e-16</td>\n",
       "      <td>kinney-elliptical</td>\n",
       "      <td>0.0</td>\n",
       "      <td>0.0</td>\n",
       "      <td>63001.066591</td>\n",
       "      <td>16.819399</td>\n",
       "    </tr>\n",
       "    <tr>\n",
       "      <th>0</th>\n",
       "      <td>60175.070270</td>\n",
       "      <td>168.759862</td>\n",
       "      <td>0.145709</td>\n",
       "      <td>0.704465</td>\n",
       "      <td>246.352212</td>\n",
       "      <td>103.154255</td>\n",
       "      <td>0.377906</td>\n",
       "      <td>0.036807</td>\n",
       "      <td>0.074938</td>\n",
       "      <td>-0.416329</td>\n",
       "      <td>...</td>\n",
       "      <td>4.0</td>\n",
       "      <td>0.704465</td>\n",
       "      <td>4.012286</td>\n",
       "      <td>246.352212</td>\n",
       "      <td>5.997613e-15</td>\n",
       "      <td>kinney-elliptical</td>\n",
       "      <td>0.0</td>\n",
       "      <td>0.0</td>\n",
       "      <td>60180.306487</td>\n",
       "      <td>13.786878</td>\n",
       "    </tr>\n",
       "    <tr>\n",
       "      <th>0</th>\n",
       "      <td>59748.557028</td>\n",
       "      <td>132.459490</td>\n",
       "      <td>0.017375</td>\n",
       "      <td>0.598633</td>\n",
       "      <td>58.483556</td>\n",
       "      <td>133.326378</td>\n",
       "      <td>0.760426</td>\n",
       "      <td>0.034289</td>\n",
       "      <td>0.012960</td>\n",
       "      <td>0.362303</td>\n",
       "      <td>...</td>\n",
       "      <td>4.0</td>\n",
       "      <td>0.598633</td>\n",
       "      <td>3.339015</td>\n",
       "      <td>58.483556</td>\n",
       "      <td>1.514571e-15</td>\n",
       "      <td>kinney-elliptical</td>\n",
       "      <td>0.0</td>\n",
       "      <td>0.0</td>\n",
       "      <td>59753.360582</td>\n",
       "      <td>15.279224</td>\n",
       "    </tr>\n",
       "    <tr>\n",
       "      <th>0</th>\n",
       "      <td>61949.847395</td>\n",
       "      <td>118.022925</td>\n",
       "      <td>0.040725</td>\n",
       "      <td>0.593290</td>\n",
       "      <td>160.205181</td>\n",
       "      <td>318.665928</td>\n",
       "      <td>0.608011</td>\n",
       "      <td>0.062039</td>\n",
       "      <td>0.052200</td>\n",
       "      <td>0.120958</td>\n",
       "      <td>...</td>\n",
       "      <td>4.0</td>\n",
       "      <td>0.593290</td>\n",
       "      <td>1.992299</td>\n",
       "      <td>160.205181</td>\n",
       "      <td>4.322670e-16</td>\n",
       "      <td>kinney-elliptical</td>\n",
       "      <td>0.0</td>\n",
       "      <td>0.0</td>\n",
       "      <td>61964.966613</td>\n",
       "      <td>16.656477</td>\n",
       "    </tr>\n",
       "  </tbody>\n",
       "</table>\n",
       "<p>5 rows × 37 columns</p>\n",
       "</div>"
      ],
      "text/plain": [
       "             t0       sigma     gamma         e     theta_e  theta_gamma  \\\n",
       "0  62307.945863  197.670149  0.128101  0.570391  132.165475   135.210348   \n",
       "0  62986.222880  270.972759  0.040137  0.785929  349.848750    76.941654   \n",
       "0  60175.070270  168.759862  0.145709  0.704465  246.352212   103.154255   \n",
       "0  59748.557028  132.459490  0.017375  0.598633   58.483556   133.326378   \n",
       "0  61949.847395  118.022925  0.040725  0.593290  160.205181   318.665928   \n",
       "\n",
       "         zs        zl       snx       sny  ...  lensgal_n  lensgal_ellip  \\\n",
       "0  0.435736  0.152485 -0.136216  0.144903  ...        4.0       0.570391   \n",
       "0  0.812597  0.106528  0.229110 -0.578431  ...        4.0       0.785929   \n",
       "0  0.377906  0.036807  0.074938 -0.416329  ...        4.0       0.704465   \n",
       "0  0.760426  0.034289  0.012960  0.362303  ...        4.0       0.598633   \n",
       "0  0.608011  0.062039  0.052200  0.120958  ...        4.0       0.593290   \n",
       "\n",
       "   lensgal_reff lensgal_theta  lensgal_amplitude       lensgal_type  \\\n",
       "0      1.873893    132.165475       3.183900e-16  kinney-elliptical   \n",
       "0      1.104613    349.848750       3.887914e-16  kinney-elliptical   \n",
       "0      4.012286    246.352212       5.997613e-15  kinney-elliptical   \n",
       "0      3.339015     58.483556       1.514571e-15  kinney-elliptical   \n",
       "0      1.992299    160.205181       4.322670e-16  kinney-elliptical   \n",
       "\n",
       "   lensgal_x  lensgal_y       t_found  lensgal_mi  \n",
       "0        0.0        0.0  62309.959876   17.063607  \n",
       "0        0.0        0.0  63001.066591   16.819399  \n",
       "0        0.0        0.0  60180.306487   13.786878  \n",
       "0        0.0        0.0  59753.360582   15.279224  \n",
       "0        0.0        0.0  61964.966613   16.656477  \n",
       "\n",
       "[5 rows x 37 columns]"
      ]
     },
     "execution_count": 9,
     "metadata": {},
     "output_type": "execute_result"
    }
   ],
   "source": [
    "sn_catalog_sys.head()"
   ]
  },
  {
   "cell_type": "code",
   "execution_count": 10,
   "metadata": {},
   "outputs": [
    {
     "data": {
      "text/plain": [
       "Index(['t0', 'sigma', 'gamma', 'e', 'theta_e', 'theta_gamma', 'zs', 'zl',\n",
       "       'snx', 'sny', 'MB', 'transient_amplitude', 'sysno', 'sntype', 'ebvhost',\n",
       "       'ra', 'dec', 'ebvmw', 'weight', 'host_n', 'host_ellip', 'host_reff',\n",
       "       'host_theta', 'host_amplitude', 'host_type', 'host_x', 'host_y',\n",
       "       'lensgal_n', 'lensgal_ellip', 'lensgal_reff', 'lensgal_theta',\n",
       "       'lensgal_amplitude', 'lensgal_type', 'lensgal_x', 'lensgal_y',\n",
       "       't_found', 'lensgal_mi'],\n",
       "      dtype='object')"
      ]
     },
     "execution_count": 10,
     "metadata": {},
     "output_type": "execute_result"
    }
   ],
   "source": [
    "sn_catalog_sys.columns"
   ]
  },
  {
   "cell_type": "code",
   "execution_count": 11,
   "metadata": {},
   "outputs": [
    {
     "data": {
      "text/html": [
       "<div>\n",
       "<style scoped>\n",
       "    .dataframe tbody tr th:only-of-type {\n",
       "        vertical-align: middle;\n",
       "    }\n",
       "\n",
       "    .dataframe tbody tr th {\n",
       "        vertical-align: top;\n",
       "    }\n",
       "\n",
       "    .dataframe thead th {\n",
       "        text-align: right;\n",
       "    }\n",
       "</style>\n",
       "<table border=\"1\" class=\"dataframe\">\n",
       "  <thead>\n",
       "    <tr style=\"text-align: right;\">\n",
       "      <th></th>\n",
       "      <th>td</th>\n",
       "      <th>x</th>\n",
       "      <th>y</th>\n",
       "      <th>mu</th>\n",
       "      <th>sysno</th>\n",
       "      <th>imno</th>\n",
       "    </tr>\n",
       "  </thead>\n",
       "  <tbody>\n",
       "    <tr>\n",
       "      <th>0</th>\n",
       "      <td>0.000000</td>\n",
       "      <td>-0.756175</td>\n",
       "      <td>0.795804</td>\n",
       "      <td>1.618521</td>\n",
       "      <td>2237</td>\n",
       "      <td>0</td>\n",
       "    </tr>\n",
       "    <tr>\n",
       "      <th>1</th>\n",
       "      <td>11.548608</td>\n",
       "      <td>-0.216867</td>\n",
       "      <td>-0.435236</td>\n",
       "      <td>-1.057005</td>\n",
       "      <td>2237</td>\n",
       "      <td>1</td>\n",
       "    </tr>\n",
       "    <tr>\n",
       "      <th>2</th>\n",
       "      <td>10.111286</td>\n",
       "      <td>0.439743</td>\n",
       "      <td>-0.467307</td>\n",
       "      <td>2.794231</td>\n",
       "      <td>2237</td>\n",
       "      <td>2</td>\n",
       "    </tr>\n",
       "    <tr>\n",
       "      <th>3</th>\n",
       "      <td>11.585389</td>\n",
       "      <td>0.449632</td>\n",
       "      <td>0.186466</td>\n",
       "      <td>-1.024824</td>\n",
       "      <td>2237</td>\n",
       "      <td>3</td>\n",
       "    </tr>\n",
       "    <tr>\n",
       "      <th>0</th>\n",
       "      <td>0.000000</td>\n",
       "      <td>1.856731</td>\n",
       "      <td>-1.243184</td>\n",
       "      <td>1.709018</td>\n",
       "      <td>61544</td>\n",
       "      <td>0</td>\n",
       "    </tr>\n",
       "  </tbody>\n",
       "</table>\n",
       "</div>"
      ],
      "text/plain": [
       "          td         x         y        mu  sysno  imno\n",
       "0   0.000000 -0.756175  0.795804  1.618521   2237     0\n",
       "1  11.548608 -0.216867 -0.435236 -1.057005   2237     1\n",
       "2  10.111286  0.439743 -0.467307  2.794231   2237     2\n",
       "3  11.585389  0.449632  0.186466 -1.024824   2237     3\n",
       "0   0.000000  1.856731 -1.243184  1.709018  61544     0"
      ]
     },
     "execution_count": 11,
     "metadata": {},
     "output_type": "execute_result"
    }
   ],
   "source": [
    "sn_catalog_img.head()"
   ]
  },
  {
   "cell_type": "markdown",
   "metadata": {},
   "source": [
    "### SN Population Comparison"
   ]
  },
  {
   "cell_type": "code",
   "execution_count": 12,
   "metadata": {},
   "outputs": [
    {
     "data": {
      "text/html": [
       "<div>\n",
       "<style scoped>\n",
       "    .dataframe tbody tr th:only-of-type {\n",
       "        vertical-align: middle;\n",
       "    }\n",
       "\n",
       "    .dataframe tbody tr th {\n",
       "        vertical-align: top;\n",
       "    }\n",
       "\n",
       "    .dataframe thead th {\n",
       "        text-align: right;\n",
       "    }\n",
       "</style>\n",
       "<table border=\"1\" class=\"dataframe\">\n",
       "  <thead>\n",
       "    <tr style=\"text-align: right;\">\n",
       "      <th></th>\n",
       "      <th>htmid_level_6</th>\n",
       "      <th>galaxy_id</th>\n",
       "      <th>c_in</th>\n",
       "      <th>mB</th>\n",
       "      <th>t0_in</th>\n",
       "      <th>x0_in</th>\n",
       "      <th>x1_in</th>\n",
       "      <th>z_in</th>\n",
       "      <th>snid_in</th>\n",
       "      <th>snra_in</th>\n",
       "      <th>sndec_in</th>\n",
       "    </tr>\n",
       "  </thead>\n",
       "  <tbody>\n",
       "    <tr>\n",
       "      <th>0</th>\n",
       "      <td>9021</td>\n",
       "      <td>10562502111</td>\n",
       "      <td>0.035201</td>\n",
       "      <td>18.516489</td>\n",
       "      <td>60772.368515</td>\n",
       "      <td>0.000617</td>\n",
       "      <td>1.477374</td>\n",
       "      <td>0.077278</td>\n",
       "      <td>MS_10199_0</td>\n",
       "      <td>66.115587</td>\n",
       "      <td>-40.866055</td>\n",
       "    </tr>\n",
       "    <tr>\n",
       "      <th>1</th>\n",
       "      <td>9023</td>\n",
       "      <td>10562500822</td>\n",
       "      <td>-0.086665</td>\n",
       "      <td>17.966773</td>\n",
       "      <td>63060.297448</td>\n",
       "      <td>0.001028</td>\n",
       "      <td>0.576378</td>\n",
       "      <td>0.073256</td>\n",
       "      <td>MS_10199_1</td>\n",
       "      <td>66.662435</td>\n",
       "      <td>-42.042877</td>\n",
       "    </tr>\n",
       "    <tr>\n",
       "      <th>2</th>\n",
       "      <td>9021</td>\n",
       "      <td>10562500735</td>\n",
       "      <td>0.037553</td>\n",
       "      <td>19.078334</td>\n",
       "      <td>62832.166508</td>\n",
       "      <td>0.000370</td>\n",
       "      <td>-0.177457</td>\n",
       "      <td>0.068469</td>\n",
       "      <td>MS_10199_2</td>\n",
       "      <td>65.212146</td>\n",
       "      <td>-41.416473</td>\n",
       "    </tr>\n",
       "    <tr>\n",
       "      <th>3</th>\n",
       "      <td>9021</td>\n",
       "      <td>10562502246</td>\n",
       "      <td>0.076715</td>\n",
       "      <td>19.192019</td>\n",
       "      <td>61400.008116</td>\n",
       "      <td>0.000335</td>\n",
       "      <td>-1.344205</td>\n",
       "      <td>0.080189</td>\n",
       "      <td>MS_10199_3</td>\n",
       "      <td>65.469824</td>\n",
       "      <td>-41.109646</td>\n",
       "    </tr>\n",
       "    <tr>\n",
       "      <th>4</th>\n",
       "      <td>9023</td>\n",
       "      <td>10562504918</td>\n",
       "      <td>-0.012653</td>\n",
       "      <td>19.388848</td>\n",
       "      <td>61342.657248</td>\n",
       "      <td>0.000278</td>\n",
       "      <td>0.474204</td>\n",
       "      <td>0.115499</td>\n",
       "      <td>MS_10199_5</td>\n",
       "      <td>65.986211</td>\n",
       "      <td>-42.086708</td>\n",
       "    </tr>\n",
       "  </tbody>\n",
       "</table>\n",
       "</div>"
      ],
      "text/plain": [
       "   htmid_level_6    galaxy_id      c_in         mB         t0_in     x0_in  \\\n",
       "0           9021  10562502111  0.035201  18.516489  60772.368515  0.000617   \n",
       "1           9023  10562500822 -0.086665  17.966773  63060.297448  0.001028   \n",
       "2           9021  10562500735  0.037553  19.078334  62832.166508  0.000370   \n",
       "3           9021  10562502246  0.076715  19.192019  61400.008116  0.000335   \n",
       "4           9023  10562504918 -0.012653  19.388848  61342.657248  0.000278   \n",
       "\n",
       "      x1_in      z_in     snid_in    snra_in   sndec_in  \n",
       "0  1.477374  0.077278  MS_10199_0  66.115587 -40.866055  \n",
       "1  0.576378  0.073256  MS_10199_1  66.662435 -42.042877  \n",
       "2 -0.177457  0.068469  MS_10199_2  65.212146 -41.416473  \n",
       "3 -1.344205  0.080189  MS_10199_3  65.469824 -41.109646  \n",
       "4  0.474204  0.115499  MS_10199_5  65.986211 -42.086708  "
      ]
     },
     "execution_count": 12,
     "metadata": {},
     "output_type": "execute_result"
    }
   ],
   "source": [
    "unlensed_sne_df.head()"
   ]
  },
  {
   "cell_type": "code",
   "execution_count": 13,
   "metadata": {},
   "outputs": [
    {
     "data": {
      "text/html": [
       "<div>\n",
       "<style scoped>\n",
       "    .dataframe tbody tr th:only-of-type {\n",
       "        vertical-align: middle;\n",
       "    }\n",
       "\n",
       "    .dataframe tbody tr th {\n",
       "        vertical-align: top;\n",
       "    }\n",
       "\n",
       "    .dataframe thead th {\n",
       "        text-align: right;\n",
       "    }\n",
       "</style>\n",
       "<table border=\"1\" class=\"dataframe\">\n",
       "  <thead>\n",
       "    <tr style=\"text-align: right;\">\n",
       "      <th></th>\n",
       "      <th>index</th>\n",
       "      <th>unique_id</th>\n",
       "      <th>gal_unq_id</th>\n",
       "      <th>ra</th>\n",
       "      <th>dec</th>\n",
       "      <th>x_sne</th>\n",
       "      <th>y_sne</th>\n",
       "      <th>x_img</th>\n",
       "      <th>y_img</th>\n",
       "      <th>t0</th>\n",
       "      <th>...</th>\n",
       "      <th>c</th>\n",
       "      <th>host_type</th>\n",
       "      <th>redshift</th>\n",
       "      <th>av_mw</th>\n",
       "      <th>rv_mw</th>\n",
       "      <th>lens_id</th>\n",
       "      <th>dc2_sys_id</th>\n",
       "      <th>lens_cat_sys_id</th>\n",
       "      <th>image_number</th>\n",
       "      <th>total_magnification</th>\n",
       "    </tr>\n",
       "  </thead>\n",
       "  <tbody>\n",
       "    <tr>\n",
       "      <th>0</th>\n",
       "      <td>0</td>\n",
       "      <td>GLSNE_0_0</td>\n",
       "      <td>GLSNE_sne_0_0</td>\n",
       "      <td>53.535516</td>\n",
       "      <td>-28.075830</td>\n",
       "      <td>-0.062063</td>\n",
       "      <td>0.039200</td>\n",
       "      <td>-0.309583</td>\n",
       "      <td>0.23567</td>\n",
       "      <td>59758.905037</td>\n",
       "      <td>...</td>\n",
       "      <td>0.0</td>\n",
       "      <td>kinney-elliptical</td>\n",
       "      <td>0.883446</td>\n",
       "      <td>0.021971</td>\n",
       "      <td>3.1</td>\n",
       "      <td>2.562562e+09</td>\n",
       "      <td>GLSNE_0</td>\n",
       "      <td>81692</td>\n",
       "      <td>0</td>\n",
       "      <td>13.704318</td>\n",
       "    </tr>\n",
       "    <tr>\n",
       "      <th>1</th>\n",
       "      <td>0</td>\n",
       "      <td>GLSNE_0_1</td>\n",
       "      <td>GLSNE_sne_0_0</td>\n",
       "      <td>53.535573</td>\n",
       "      <td>-28.075818</td>\n",
       "      <td>-0.062063</td>\n",
       "      <td>0.039200</td>\n",
       "      <td>-0.309583</td>\n",
       "      <td>0.23567</td>\n",
       "      <td>59758.905037</td>\n",
       "      <td>...</td>\n",
       "      <td>0.0</td>\n",
       "      <td>kinney-elliptical</td>\n",
       "      <td>0.883446</td>\n",
       "      <td>0.021971</td>\n",
       "      <td>3.1</td>\n",
       "      <td>2.562562e+09</td>\n",
       "      <td>GLSNE_0</td>\n",
       "      <td>81692</td>\n",
       "      <td>1</td>\n",
       "      <td>13.704318</td>\n",
       "    </tr>\n",
       "    <tr>\n",
       "      <th>2</th>\n",
       "      <td>0</td>\n",
       "      <td>GLSNE_0_2</td>\n",
       "      <td>GLSNE_sne_0_0</td>\n",
       "      <td>53.535589</td>\n",
       "      <td>-28.075739</td>\n",
       "      <td>-0.062063</td>\n",
       "      <td>0.039200</td>\n",
       "      <td>-0.309583</td>\n",
       "      <td>0.23567</td>\n",
       "      <td>59758.905037</td>\n",
       "      <td>...</td>\n",
       "      <td>0.0</td>\n",
       "      <td>kinney-elliptical</td>\n",
       "      <td>0.883446</td>\n",
       "      <td>0.021971</td>\n",
       "      <td>3.1</td>\n",
       "      <td>2.562562e+09</td>\n",
       "      <td>GLSNE_0</td>\n",
       "      <td>81692</td>\n",
       "      <td>2</td>\n",
       "      <td>13.704318</td>\n",
       "    </tr>\n",
       "    <tr>\n",
       "      <th>3</th>\n",
       "      <td>0</td>\n",
       "      <td>GLSNE_0_3</td>\n",
       "      <td>GLSNE_sne_0_0</td>\n",
       "      <td>53.535429</td>\n",
       "      <td>-28.075699</td>\n",
       "      <td>-0.062063</td>\n",
       "      <td>0.039200</td>\n",
       "      <td>-0.309583</td>\n",
       "      <td>0.23567</td>\n",
       "      <td>59758.905037</td>\n",
       "      <td>...</td>\n",
       "      <td>0.0</td>\n",
       "      <td>kinney-elliptical</td>\n",
       "      <td>0.883446</td>\n",
       "      <td>0.021971</td>\n",
       "      <td>3.1</td>\n",
       "      <td>2.562562e+09</td>\n",
       "      <td>GLSNE_0</td>\n",
       "      <td>81692</td>\n",
       "      <td>3</td>\n",
       "      <td>13.704318</td>\n",
       "    </tr>\n",
       "    <tr>\n",
       "      <th>4</th>\n",
       "      <td>4</td>\n",
       "      <td>GLSNE_1_0</td>\n",
       "      <td>GLSNE_sne_1_0</td>\n",
       "      <td>52.835880</td>\n",
       "      <td>-27.813210</td>\n",
       "      <td>0.035717</td>\n",
       "      <td>-0.022968</td>\n",
       "      <td>0.023081</td>\n",
       "      <td>-0.16193</td>\n",
       "      <td>61816.678369</td>\n",
       "      <td>...</td>\n",
       "      <td>0.0</td>\n",
       "      <td>kinney-sc</td>\n",
       "      <td>0.658430</td>\n",
       "      <td>0.024149</td>\n",
       "      <td>3.1</td>\n",
       "      <td>1.875368e+09</td>\n",
       "      <td>GLSNE_1</td>\n",
       "      <td>91135</td>\n",
       "      <td>0</td>\n",
       "      <td>8.847192</td>\n",
       "    </tr>\n",
       "  </tbody>\n",
       "</table>\n",
       "<p>5 rows × 25 columns</p>\n",
       "</div>"
      ],
      "text/plain": [
       "   index  unique_id     gal_unq_id         ra        dec     x_sne     y_sne  \\\n",
       "0      0  GLSNE_0_0  GLSNE_sne_0_0  53.535516 -28.075830 -0.062063  0.039200   \n",
       "1      0  GLSNE_0_1  GLSNE_sne_0_0  53.535573 -28.075818 -0.062063  0.039200   \n",
       "2      0  GLSNE_0_2  GLSNE_sne_0_0  53.535589 -28.075739 -0.062063  0.039200   \n",
       "3      0  GLSNE_0_3  GLSNE_sne_0_0  53.535429 -28.075699 -0.062063  0.039200   \n",
       "4      4  GLSNE_1_0  GLSNE_sne_1_0  52.835880 -27.813210  0.035717 -0.022968   \n",
       "\n",
       "      x_img    y_img            t0  ...    c          host_type  redshift  \\\n",
       "0 -0.309583  0.23567  59758.905037  ...  0.0  kinney-elliptical  0.883446   \n",
       "1 -0.309583  0.23567  59758.905037  ...  0.0  kinney-elliptical  0.883446   \n",
       "2 -0.309583  0.23567  59758.905037  ...  0.0  kinney-elliptical  0.883446   \n",
       "3 -0.309583  0.23567  59758.905037  ...  0.0  kinney-elliptical  0.883446   \n",
       "4  0.023081 -0.16193  61816.678369  ...  0.0          kinney-sc  0.658430   \n",
       "\n",
       "      av_mw  rv_mw       lens_id dc2_sys_id  lens_cat_sys_id  image_number  \\\n",
       "0  0.021971    3.1  2.562562e+09    GLSNE_0            81692             0   \n",
       "1  0.021971    3.1  2.562562e+09    GLSNE_0            81692             1   \n",
       "2  0.021971    3.1  2.562562e+09    GLSNE_0            81692             2   \n",
       "3  0.021971    3.1  2.562562e+09    GLSNE_0            81692             3   \n",
       "4  0.024149    3.1  1.875368e+09    GLSNE_1            91135             0   \n",
       "\n",
       "   total_magnification  \n",
       "0            13.704318  \n",
       "1            13.704318  \n",
       "2            13.704318  \n",
       "3            13.704318  \n",
       "4             8.847192  \n",
       "\n",
       "[5 rows x 25 columns]"
      ]
     },
     "execution_count": 13,
     "metadata": {},
     "output_type": "execute_result"
    }
   ],
   "source": [
    "sprinkled_sne_df.head()"
   ]
  },
  {
   "cell_type": "markdown",
   "metadata": {},
   "source": [
    "## Checking distribution of SN parameters in the next few blocks"
   ]
  },
  {
   "cell_type": "markdown",
   "metadata": {},
   "source": [
    "#### $x_0$ distribution"
   ]
  },
  {
   "cell_type": "code",
   "execution_count": 14,
   "metadata": {},
   "outputs": [
    {
     "data": {
      "text/plain": [
       "<matplotlib.legend.Legend at 0x2aaadd69db38>"
      ]
     },
     "execution_count": 14,
     "metadata": {},
     "output_type": "execute_result"
    },
    {
     "data": {
      "image/png": "[encoded data removed]",
      "text/plain": [
       "<Figure size 576x432 with 1 Axes>"
      ]
     },
     "metadata": {
      "needs_background": "light"
     },
     "output_type": "display_data"
    }
   ],
   "source": [
    "fig        = plt.figure(figsize=(8, 6))\n",
    "n, bins, _ = plt.hist(unlensed_sne_df['x0_in'], bins=25, range=(0.0, 0.00015), lw=3, histtype='step', density=True, label='Unlensed')\n",
    "_          = plt.hist(sprinkled_sne_df['x0'], bins=bins, lw=3, histtype='step', density=True, label='Sprinkled')\n",
    "plt.xlabel('SALT $X_0$ parameter', fontsize=15)\n",
    "plt.ylabel('Population Density',   fontsize=15)\n",
    "plt.legend(loc='best')"
   ]
  },
  {
   "cell_type": "markdown",
   "metadata": {},
   "source": [
    "### $x_1$ distribution"
   ]
  },
  {
   "cell_type": "code",
   "execution_count": 15,
   "metadata": {},
   "outputs": [
    {
     "data": {
      "text/plain": [
       "<matplotlib.legend.Legend at 0x2aaadd6bd978>"
      ]
     },
     "execution_count": 15,
     "metadata": {},
     "output_type": "execute_result"
    },
    {
     "data": {
      "image/png": "[encoded data removed]",
      "text/plain": [
       "<Figure size 576x432 with 1 Axes>"
      ]
     },
     "metadata": {
      "needs_background": "light"
     },
     "output_type": "display_data"
    }
   ],
   "source": [
    "fig        = plt.figure(figsize=(8, 6))\n",
    "n, bins, _ = plt.hist(unlensed_sne_df['x1_in'], bins=25, lw=3, histtype='step', density=True, label='Unlensed')\n",
    "_          = plt.hist(sprinkled_sne_df['x1'], bins=bins, lw=3, histtype='step', density=True, label='Sprinkled')\n",
    "plt.xlabel('SALT $X_1$ parameter', fontsize=15)\n",
    "plt.ylabel('Population Density',   fontsize=15)\n",
    "plt.legend(loc='best')"
   ]
  },
  {
   "cell_type": "markdown",
   "metadata": {},
   "source": [
    "### $c$ distribution"
   ]
  },
  {
   "cell_type": "code",
   "execution_count": 16,
   "metadata": {},
   "outputs": [
    {
     "data": {
      "text/plain": [
       "<matplotlib.legend.Legend at 0x2aaadd910eb8>"
      ]
     },
     "execution_count": 16,
     "metadata": {},
     "output_type": "execute_result"
    },
    {
     "data": {
      "image/png": "[encoded data removed]",
      "text/plain": [
       "<Figure size 576x432 with 1 Axes>"
      ]
     },
     "metadata": {
      "needs_background": "light"
     },
     "output_type": "display_data"
    }
   ],
   "source": [
    "fig        = plt.figure(figsize=(8, 6))\n",
    "n, bins, _ = plt.hist(unlensed_sne_df['c_in'], bins=25,  lw=3, histtype='step', density=True, label='Unlensed')\n",
    "_          = plt.hist(sprinkled_sne_df['c'],   bins=bins,lw=3, histtype='step', density=True, label='Sprinkled')\n",
    "plt.xlabel('SALT $c$ parameter', fontsize=15)\n",
    "plt.ylabel('Population Density',   fontsize=15)\n",
    "plt.legend(loc='best')"
   ]
  },
  {
   "cell_type": "markdown",
   "metadata": {},
   "source": [
    "### Comparing $M_B$ of SN catalog with simulated SN"
   ]
  },
  {
   "cell_type": "code",
   "execution_count": 17,
   "metadata": {},
   "outputs": [
    {
     "data": {
      "text/plain": [
       "<matplotlib.legend.Legend at 0x2aaadd98ad30>"
      ]
     },
     "execution_count": 17,
     "metadata": {},
     "output_type": "execute_result"
    },
    {
     "data": {
      "image/png": "[encoded data removed]",
      "text/plain": [
       "<Figure size 576x432 with 1 Axes>"
      ]
     },
     "metadata": {
      "needs_background": "light"
     },
     "output_type": "display_data"
    }
   ],
   "source": [
    "fig        = plt.figure(figsize=(8, 6))\n",
    "n, bins, _ = plt.hist(sprinkled_sne_df['MB'], bins=25,  lw=3, histtype='step', density=True, label='SN Catalog')\n",
    "_          = plt.hist(sn_catalog_sys['MB'],   bins=bins,lw=3, histtype='step', density=True, label='Sprinkled')\n",
    "#_          = plt.hist(unlensed_sne_df['mB'],  bins=bins,lw=3, histtype='step', density=True, label='Unlensed')\n",
    "plt.xlabel('$M_B$', fontsize=15)\n",
    "plt.ylabel('Population Density',   fontsize=15)\n",
    "plt.legend(loc='best')"
   ]
  },
  {
   "cell_type": "markdown",
   "metadata": {},
   "source": [
    "### All the SNe have $x_1$ = 1 and $c=0$"
   ]
  },
  {
   "cell_type": "code",
   "execution_count": 18,
   "metadata": {},
   "outputs": [
    {
     "data": {
      "text/plain": [
       "(array([], dtype=int64),)"
      ]
     },
     "execution_count": 18,
     "metadata": {},
     "output_type": "execute_result"
    }
   ],
   "source": [
    "np.where(sprinkled_sne_df['c'] != 0)"
   ]
  },
  {
   "cell_type": "code",
   "execution_count": 19,
   "metadata": {},
   "outputs": [
    {
     "data": {
      "text/plain": [
       "(array([], dtype=int64),)"
      ]
     },
     "execution_count": 19,
     "metadata": {},
     "output_type": "execute_result"
    }
   ],
   "source": [
    "np.where(sprinkled_sne_df['x1'] != 1)"
   ]
  },
  {
   "cell_type": "markdown",
   "metadata": {},
   "source": [
    "### Check distribution of angular separations, magnification, time delay"
   ]
  },
  {
   "cell_type": "code",
   "execution_count": 20,
   "metadata": {},
   "outputs": [],
   "source": [
    "from astropy import units as u\n",
    "from astropy.coordinates import SkyCoord"
   ]
  },
  {
   "cell_type": "code",
   "execution_count": 21,
   "metadata": {},
   "outputs": [
    {
     "data": {
      "text/html": [
       "<div>\n",
       "<style scoped>\n",
       "    .dataframe tbody tr th:only-of-type {\n",
       "        vertical-align: middle;\n",
       "    }\n",
       "\n",
       "    .dataframe tbody tr th {\n",
       "        vertical-align: top;\n",
       "    }\n",
       "\n",
       "    .dataframe thead th {\n",
       "        text-align: right;\n",
       "    }\n",
       "</style>\n",
       "<table border=\"1\" class=\"dataframe\">\n",
       "  <thead>\n",
       "    <tr style=\"text-align: right;\">\n",
       "      <th></th>\n",
       "      <th>index</th>\n",
       "      <th>unique_id</th>\n",
       "      <th>gal_unq_id</th>\n",
       "      <th>ra</th>\n",
       "      <th>dec</th>\n",
       "      <th>x_sne</th>\n",
       "      <th>y_sne</th>\n",
       "      <th>x_img</th>\n",
       "      <th>y_img</th>\n",
       "      <th>t0</th>\n",
       "      <th>...</th>\n",
       "      <th>c</th>\n",
       "      <th>host_type</th>\n",
       "      <th>redshift</th>\n",
       "      <th>av_mw</th>\n",
       "      <th>rv_mw</th>\n",
       "      <th>lens_id</th>\n",
       "      <th>dc2_sys_id</th>\n",
       "      <th>lens_cat_sys_id</th>\n",
       "      <th>image_number</th>\n",
       "      <th>total_magnification</th>\n",
       "    </tr>\n",
       "  </thead>\n",
       "  <tbody>\n",
       "    <tr>\n",
       "      <th>0</th>\n",
       "      <td>0</td>\n",
       "      <td>GLSNE_0_0</td>\n",
       "      <td>GLSNE_sne_0_0</td>\n",
       "      <td>53.535516</td>\n",
       "      <td>-28.075830</td>\n",
       "      <td>-0.062063</td>\n",
       "      <td>0.039200</td>\n",
       "      <td>-0.309583</td>\n",
       "      <td>0.23567</td>\n",
       "      <td>59758.905037</td>\n",
       "      <td>...</td>\n",
       "      <td>0.0</td>\n",
       "      <td>kinney-elliptical</td>\n",
       "      <td>0.883446</td>\n",
       "      <td>0.021971</td>\n",
       "      <td>3.1</td>\n",
       "      <td>2.562562e+09</td>\n",
       "      <td>GLSNE_0</td>\n",
       "      <td>81692</td>\n",
       "      <td>0</td>\n",
       "      <td>13.704318</td>\n",
       "    </tr>\n",
       "    <tr>\n",
       "      <th>1</th>\n",
       "      <td>0</td>\n",
       "      <td>GLSNE_0_1</td>\n",
       "      <td>GLSNE_sne_0_0</td>\n",
       "      <td>53.535573</td>\n",
       "      <td>-28.075818</td>\n",
       "      <td>-0.062063</td>\n",
       "      <td>0.039200</td>\n",
       "      <td>-0.309583</td>\n",
       "      <td>0.23567</td>\n",
       "      <td>59758.905037</td>\n",
       "      <td>...</td>\n",
       "      <td>0.0</td>\n",
       "      <td>kinney-elliptical</td>\n",
       "      <td>0.883446</td>\n",
       "      <td>0.021971</td>\n",
       "      <td>3.1</td>\n",
       "      <td>2.562562e+09</td>\n",
       "      <td>GLSNE_0</td>\n",
       "      <td>81692</td>\n",
       "      <td>1</td>\n",
       "      <td>13.704318</td>\n",
       "    </tr>\n",
       "    <tr>\n",
       "      <th>2</th>\n",
       "      <td>0</td>\n",
       "      <td>GLSNE_0_2</td>\n",
       "      <td>GLSNE_sne_0_0</td>\n",
       "      <td>53.535589</td>\n",
       "      <td>-28.075739</td>\n",
       "      <td>-0.062063</td>\n",
       "      <td>0.039200</td>\n",
       "      <td>-0.309583</td>\n",
       "      <td>0.23567</td>\n",
       "      <td>59758.905037</td>\n",
       "      <td>...</td>\n",
       "      <td>0.0</td>\n",
       "      <td>kinney-elliptical</td>\n",
       "      <td>0.883446</td>\n",
       "      <td>0.021971</td>\n",
       "      <td>3.1</td>\n",
       "      <td>2.562562e+09</td>\n",
       "      <td>GLSNE_0</td>\n",
       "      <td>81692</td>\n",
       "      <td>2</td>\n",
       "      <td>13.704318</td>\n",
       "    </tr>\n",
       "    <tr>\n",
       "      <th>3</th>\n",
       "      <td>0</td>\n",
       "      <td>GLSNE_0_3</td>\n",
       "      <td>GLSNE_sne_0_0</td>\n",
       "      <td>53.535429</td>\n",
       "      <td>-28.075699</td>\n",
       "      <td>-0.062063</td>\n",
       "      <td>0.039200</td>\n",
       "      <td>-0.309583</td>\n",
       "      <td>0.23567</td>\n",
       "      <td>59758.905037</td>\n",
       "      <td>...</td>\n",
       "      <td>0.0</td>\n",
       "      <td>kinney-elliptical</td>\n",
       "      <td>0.883446</td>\n",
       "      <td>0.021971</td>\n",
       "      <td>3.1</td>\n",
       "      <td>2.562562e+09</td>\n",
       "      <td>GLSNE_0</td>\n",
       "      <td>81692</td>\n",
       "      <td>3</td>\n",
       "      <td>13.704318</td>\n",
       "    </tr>\n",
       "    <tr>\n",
       "      <th>4</th>\n",
       "      <td>4</td>\n",
       "      <td>GLSNE_1_0</td>\n",
       "      <td>GLSNE_sne_1_0</td>\n",
       "      <td>52.835880</td>\n",
       "      <td>-27.813210</td>\n",
       "      <td>0.035717</td>\n",
       "      <td>-0.022968</td>\n",
       "      <td>0.023081</td>\n",
       "      <td>-0.16193</td>\n",
       "      <td>61816.678369</td>\n",
       "      <td>...</td>\n",
       "      <td>0.0</td>\n",
       "      <td>kinney-sc</td>\n",
       "      <td>0.658430</td>\n",
       "      <td>0.024149</td>\n",
       "      <td>3.1</td>\n",
       "      <td>1.875368e+09</td>\n",
       "      <td>GLSNE_1</td>\n",
       "      <td>91135</td>\n",
       "      <td>0</td>\n",
       "      <td>8.847192</td>\n",
       "    </tr>\n",
       "  </tbody>\n",
       "</table>\n",
       "<p>5 rows × 25 columns</p>\n",
       "</div>"
      ],
      "text/plain": [
       "   index  unique_id     gal_unq_id         ra        dec     x_sne     y_sne  \\\n",
       "0      0  GLSNE_0_0  GLSNE_sne_0_0  53.535516 -28.075830 -0.062063  0.039200   \n",
       "1      0  GLSNE_0_1  GLSNE_sne_0_0  53.535573 -28.075818 -0.062063  0.039200   \n",
       "2      0  GLSNE_0_2  GLSNE_sne_0_0  53.535589 -28.075739 -0.062063  0.039200   \n",
       "3      0  GLSNE_0_3  GLSNE_sne_0_0  53.535429 -28.075699 -0.062063  0.039200   \n",
       "4      4  GLSNE_1_0  GLSNE_sne_1_0  52.835880 -27.813210  0.035717 -0.022968   \n",
       "\n",
       "      x_img    y_img            t0  ...    c          host_type  redshift  \\\n",
       "0 -0.309583  0.23567  59758.905037  ...  0.0  kinney-elliptical  0.883446   \n",
       "1 -0.309583  0.23567  59758.905037  ...  0.0  kinney-elliptical  0.883446   \n",
       "2 -0.309583  0.23567  59758.905037  ...  0.0  kinney-elliptical  0.883446   \n",
       "3 -0.309583  0.23567  59758.905037  ...  0.0  kinney-elliptical  0.883446   \n",
       "4  0.023081 -0.16193  61816.678369  ...  0.0          kinney-sc  0.658430   \n",
       "\n",
       "      av_mw  rv_mw       lens_id dc2_sys_id  lens_cat_sys_id  image_number  \\\n",
       "0  0.021971    3.1  2.562562e+09    GLSNE_0            81692             0   \n",
       "1  0.021971    3.1  2.562562e+09    GLSNE_0            81692             1   \n",
       "2  0.021971    3.1  2.562562e+09    GLSNE_0            81692             2   \n",
       "3  0.021971    3.1  2.562562e+09    GLSNE_0            81692             3   \n",
       "4  0.024149    3.1  1.875368e+09    GLSNE_1            91135             0   \n",
       "\n",
       "   total_magnification  \n",
       "0            13.704318  \n",
       "1            13.704318  \n",
       "2            13.704318  \n",
       "3            13.704318  \n",
       "4             8.847192  \n",
       "\n",
       "[5 rows x 25 columns]"
      ]
     },
     "execution_count": 21,
     "metadata": {},
     "output_type": "execute_result"
    }
   ],
   "source": [
    "sprinkled_sne_df.head()"
   ]
  },
  {
   "cell_type": "code",
   "execution_count": 22,
   "metadata": {},
   "outputs": [],
   "source": [
    "sysidlist = np.unique(sprinkled_sne_df['lens_cat_sys_id'])\n",
    "indices_by_system = np.array([np.where(sprinkled_sne_df['lens_cat_sys_id']==sysid)[0] for sysid in sysidlist])"
   ]
  },
  {
   "cell_type": "code",
   "execution_count": 23,
   "metadata": {},
   "outputs": [],
   "source": [
    "lensedSN_coordinates = SkyCoord(ra=sprinkled_sne_df['ra']*u.degree, dec=sprinkled_sne_df['dec']*u.degree, frame='icrs')\n",
    "lensedSN_sep_arcsec = []\n",
    "for idxlist in indices_by_system:\n",
    "    coords_this_sys = lensedSN_coordinates[idxlist]\n",
    "    separations_this_sys = coords_this_sys[0].separation(coords_this_sys).to(u.arcsecond)\n",
    "    lensedSN_sep_arcsec += (separations_this_sys.value).tolist()\n",
    "lensedSN_sep_arcsec = np.array(lensedSN_sep_arcsec).flatten()\n",
    "lensedSN_sep_arcsec_nonzero = lensedSN_sep_arcsec[np.nonzero(lensedSN_sep_arcsec>0)[0]]"
   ]
  },
  {
   "cell_type": "code",
   "execution_count": 24,
   "metadata": {},
   "outputs": [
    {
     "data": {
      "text/plain": [
       "<matplotlib.legend.Legend at 0x2aaaddaae898>"
      ]
     },
     "execution_count": 24,
     "metadata": {},
     "output_type": "execute_result"
    },
    {
     "data": {
      "image/png": "[encoded data removed]",
      "text/plain": [
       "<Figure size 576x432 with 1 Axes>"
      ]
     },
     "metadata": {
      "needs_background": "light"
     },
     "output_type": "display_data"
    }
   ],
   "source": [
    "fig        = plt.figure(figsize=(8, 6))\n",
    "n, bins, _ = plt.hist(lensedSN_sep_arcsec_nonzero, bins=25,  lw=3, histtype='step', density=True, label='Sprinkled')\n",
    "plt.xlabel('Image Separation (arcsec)', fontsize=15)\n",
    "plt.ylabel('Population Density',   fontsize=15)\n",
    "plt.legend(loc='best')"
   ]
  },
  {
   "cell_type": "code",
   "execution_count": 25,
   "metadata": {},
   "outputs": [
    {
     "data": {
      "text/plain": [
       "<matplotlib.legend.Legend at 0x2aaaedb89fd0>"
      ]
     },
     "execution_count": 25,
     "metadata": {},
     "output_type": "execute_result"
    },
    {
     "data": {
      "image/png": "[encoded data removed]",
      "text/plain": [
       "<Figure size 576x432 with 1 Axes>"
      ]
     },
     "metadata": {
      "needs_background": "light"
     },
     "output_type": "display_data"
    }
   ],
   "source": [
    "fig        = plt.figure(figsize=(8, 6))\n",
    "n, bins, _ = plt.hist(sprinkled_sne_df['magnification'], bins=np.arange(-30,30,0.5),  lw=3, histtype='step', density=True, label='Sprinkled')\n",
    "plt.xlabel('magnification', fontsize=15)\n",
    "plt.ylabel('Population Density',   fontsize=15)\n",
    "plt.legend(loc='best')"
   ]
  },
  {
   "cell_type": "code",
   "execution_count": 26,
   "metadata": {},
   "outputs": [
    {
     "data": {
      "text/plain": [
       "<matplotlib.legend.Legend at 0x2aaaddb38668>"
      ]
     },
     "execution_count": 26,
     "metadata": {},
     "output_type": "execute_result"
    },
    {
     "data": {
      "image/png": "[encoded data removed]",
      "text/plain": [
       "<Figure size 576x432 with 1 Axes>"
      ]
     },
     "metadata": {
      "needs_background": "light"
     },
     "output_type": "display_data"
    }
   ],
   "source": [
    "fig        = plt.figure(figsize=(8, 6))\n",
    "n, bins, _ = plt.hist(sprinkled_sne_df['t_delay'], bins=np.arange(0.01,400,10), lw=3, histtype='step', density=True, label='Sprinkled')\n",
    "plt.xlabel('time delay (days)', fontsize=15)\n",
    "plt.ylabel('Population Density',   fontsize=15)\n",
    "plt.legend(loc='best')"
   ]
  },
  {
   "cell_type": "code",
   "execution_count": 27,
   "metadata": {},
   "outputs": [
    {
     "data": {
      "text/plain": [
       "(0.01, 500)"
      ]
     },
     "execution_count": 27,
     "metadata": {},
     "output_type": "execute_result"
    },
    {
     "data": {
      "image/png": "[encoded data removed]",
      "text/plain": [
       "<Figure size 576x432 with 1 Axes>"
      ]
     },
     "metadata": {
      "needs_background": "light"
     },
     "output_type": "display_data"
    }
   ],
   "source": [
    "fig        = plt.figure(figsize=(8, 6))\n",
    "#plt.plot(lensedSN_sep_arcsec, sprinkled_sne_df['magnification'],  ls=' ', marker='o', alpha=0.3, label='Sprinkled')\n",
    "plt.loglog(sprinkled_sne_df['t_delay'], np.abs(sprinkled_sne_df['magnification']),  ls=' ', marker='o', alpha=0.3, label='Sprinkled')\n",
    "\n",
    "plt.xlabel('Time delay', fontsize=15)\n",
    "plt.ylabel('Magnification',   fontsize=15)\n",
    "plt.legend(loc='best')\n",
    "\n",
    "ax = plt.gca()\n",
    "ax.set_xlim(3e-4, 1000)\n",
    "ax.set_ylim(0.01, 500)"
   ]
  },
  {
   "cell_type": "markdown",
   "metadata": {},
   "source": [
    "## Check that the input magnifications and time delays match the sprinkled values"
   ]
  },
  {
   "cell_type": "markdown",
   "metadata": {},
   "source": [
    "### Checking instance catalog values"
   ]
  },
  {
   "cell_type": "code",
   "execution_count": 28,
   "metadata": {},
   "outputs": [],
   "source": [
    "sne_cat_dir = '/global/cscratch1/sd/brycek/test_sprinkler_instance_catalogs/test_sprinkler_sne_ics'"
   ]
  },
  {
   "cell_type": "code",
   "execution_count": 148,
   "metadata": {},
   "outputs": [],
   "source": [
    "full_df = pd.DataFrame([], columns=['obj_id', 'ra', 'dec', 'magnorm', 'sed', 'redshift', 'time'])\n",
    "for cat_file in os.listdir(sne_cat_dir):\n",
    "    if cat_file.startswith('test_cat') is False:\n",
    "        continue\n",
    "        \n",
    "    time = float(cat_file.split('_')[2])\n",
    "    cat_data = pd.read_csv(os.path.join(sne_cat_dir, cat_file), delimiter=' ', usecols=[1,2,3,4,5,6],\n",
    "                           names=['obj_id', 'ra', 'dec', 'magnorm', 'sed', 'redshift'])\n",
    "    cat_data['time'] = time\n",
    "    full_df = full_df.append(cat_data)"
   ]
  },
  {
   "cell_type": "code",
   "execution_count": 149,
   "metadata": {},
   "outputs": [],
   "source": [
    "full_df = full_df.reset_index(drop=True)"
   ]
  },
  {
   "cell_type": "code",
   "execution_count": 150,
   "metadata": {},
   "outputs": [],
   "source": [
    "im_0 = full_df.query('obj_id == \"GLSNE_639_0\"')\n",
    "im_1 = full_df.query('obj_id == \"GLSNE_639_1\"')\n",
    "im_2 = full_df.query('obj_id == \"GLSNE_639_2\"')\n",
    "im_3 = full_df.query('obj_id == \"GLSNE_639_3\"')"
   ]
  },
  {
   "cell_type": "code",
   "execution_count": 151,
   "metadata": {},
   "outputs": [],
   "source": [
    "# im_0 = full_df.query('obj_id == \"GLSNE_1085_0\"')\n",
    "# im_1 = full_df.query('obj_id == \"GLSNE_1085_1\"')\n",
    "# im_2 = full_df.query('obj_id == \"GLSNE_1085_2\"')\n",
    "# im_3 = full_df.query('obj_id == \"GLSNE_1085_3\"')"
   ]
  },
  {
   "cell_type": "code",
   "execution_count": 152,
   "metadata": {},
   "outputs": [
    {
     "data": {
      "text/html": [
       "<div>\n",
       "<style scoped>\n",
       "    .dataframe tbody tr th:only-of-type {\n",
       "        vertical-align: middle;\n",
       "    }\n",
       "\n",
       "    .dataframe tbody tr th {\n",
       "        vertical-align: top;\n",
       "    }\n",
       "\n",
       "    .dataframe thead th {\n",
       "        text-align: right;\n",
       "    }\n",
       "</style>\n",
       "<table border=\"1\" class=\"dataframe\">\n",
       "  <thead>\n",
       "    <tr style=\"text-align: right;\">\n",
       "      <th></th>\n",
       "      <th>obj_id</th>\n",
       "      <th>ra</th>\n",
       "      <th>dec</th>\n",
       "      <th>magnorm</th>\n",
       "      <th>sed</th>\n",
       "      <th>redshift</th>\n",
       "      <th>time</th>\n",
       "    </tr>\n",
       "  </thead>\n",
       "  <tbody>\n",
       "    <tr>\n",
       "      <th>8</th>\n",
       "      <td>GLSNE_639_0</td>\n",
       "      <td>52.779495</td>\n",
       "      <td>-27.558778</td>\n",
       "      <td>24.631941</td>\n",
       "      <td>sne_sed/specFileGLSN_GLSNE_639_0_59610.8896.tx...</td>\n",
       "      <td>1.28882</td>\n",
       "      <td>59610.8896</td>\n",
       "    </tr>\n",
       "    <tr>\n",
       "      <th>37</th>\n",
       "      <td>GLSNE_639_0</td>\n",
       "      <td>52.779495</td>\n",
       "      <td>-27.558778</td>\n",
       "      <td>24.352734</td>\n",
       "      <td>sne_sed/specFileGLSN_GLSNE_639_0_59583.6396.tx...</td>\n",
       "      <td>1.28882</td>\n",
       "      <td>59583.6396</td>\n",
       "    </tr>\n",
       "    <tr>\n",
       "      <th>64</th>\n",
       "      <td>GLSNE_639_0</td>\n",
       "      <td>52.779495</td>\n",
       "      <td>-27.558778</td>\n",
       "      <td>24.620030</td>\n",
       "      <td>sne_sed/specFileGLSN_GLSNE_639_0_59610.6396.tx...</td>\n",
       "      <td>1.28882</td>\n",
       "      <td>59610.6396</td>\n",
       "    </tr>\n",
       "    <tr>\n",
       "      <th>93</th>\n",
       "      <td>GLSNE_639_0</td>\n",
       "      <td>52.779495</td>\n",
       "      <td>-27.558778</td>\n",
       "      <td>24.344297</td>\n",
       "      <td>sne_sed/specFileGLSN_GLSNE_639_0_59584.1396.tx...</td>\n",
       "      <td>1.28882</td>\n",
       "      <td>59584.1396</td>\n",
       "    </tr>\n",
       "    <tr>\n",
       "      <th>119</th>\n",
       "      <td>GLSNE_639_0</td>\n",
       "      <td>52.779495</td>\n",
       "      <td>-27.558778</td>\n",
       "      <td>24.342361</td>\n",
       "      <td>sne_sed/specFileGLSN_GLSNE_639_0_59600.1396.tx...</td>\n",
       "      <td>1.28882</td>\n",
       "      <td>59600.1396</td>\n",
       "    </tr>\n",
       "    <tr>\n",
       "      <th>...</th>\n",
       "      <td>...</td>\n",
       "      <td>...</td>\n",
       "      <td>...</td>\n",
       "      <td>...</td>\n",
       "      <td>...</td>\n",
       "      <td>...</td>\n",
       "      <td>...</td>\n",
       "    </tr>\n",
       "    <tr>\n",
       "      <th>3946</th>\n",
       "      <td>GLSNE_639_0</td>\n",
       "      <td>52.779495</td>\n",
       "      <td>-27.558778</td>\n",
       "      <td>24.371670</td>\n",
       "      <td>sne_sed/specFileGLSN_GLSNE_639_0_59582.6396.tx...</td>\n",
       "      <td>1.28882</td>\n",
       "      <td>59582.6396</td>\n",
       "    </tr>\n",
       "    <tr>\n",
       "      <th>3971</th>\n",
       "      <td>GLSNE_639_0</td>\n",
       "      <td>52.779495</td>\n",
       "      <td>-27.558778</td>\n",
       "      <td>24.333779</td>\n",
       "      <td>sne_sed/specFileGLSN_GLSNE_639_0_59598.8896.tx...</td>\n",
       "      <td>1.28882</td>\n",
       "      <td>59598.8896</td>\n",
       "    </tr>\n",
       "    <tr>\n",
       "      <th>3998</th>\n",
       "      <td>GLSNE_639_0</td>\n",
       "      <td>52.779495</td>\n",
       "      <td>-27.558778</td>\n",
       "      <td>24.393460</td>\n",
       "      <td>sne_sed/specFileGLSN_GLSNE_639_0_59581.6396.tx...</td>\n",
       "      <td>1.28882</td>\n",
       "      <td>59581.6396</td>\n",
       "    </tr>\n",
       "    <tr>\n",
       "      <th>4022</th>\n",
       "      <td>GLSNE_639_0</td>\n",
       "      <td>52.779495</td>\n",
       "      <td>-27.558778</td>\n",
       "      <td>24.330362</td>\n",
       "      <td>sne_sed/specFileGLSN_GLSNE_639_0_59598.3896.tx...</td>\n",
       "      <td>1.28882</td>\n",
       "      <td>59598.3896</td>\n",
       "    </tr>\n",
       "    <tr>\n",
       "      <th>4056</th>\n",
       "      <td>GLSNE_639_0</td>\n",
       "      <td>52.779495</td>\n",
       "      <td>-27.558778</td>\n",
       "      <td>24.643904</td>\n",
       "      <td>sne_sed/specFileGLSN_GLSNE_639_0_59611.1396.tx...</td>\n",
       "      <td>1.28882</td>\n",
       "      <td>59611.1396</td>\n",
       "    </tr>\n",
       "  </tbody>\n",
       "</table>\n",
       "<p>141 rows × 7 columns</p>\n",
       "</div>"
      ],
      "text/plain": [
       "           obj_id         ra        dec    magnorm  \\\n",
       "8     GLSNE_639_0  52.779495 -27.558778  24.631941   \n",
       "37    GLSNE_639_0  52.779495 -27.558778  24.352734   \n",
       "64    GLSNE_639_0  52.779495 -27.558778  24.620030   \n",
       "93    GLSNE_639_0  52.779495 -27.558778  24.344297   \n",
       "119   GLSNE_639_0  52.779495 -27.558778  24.342361   \n",
       "...           ...        ...        ...        ...   \n",
       "3946  GLSNE_639_0  52.779495 -27.558778  24.371670   \n",
       "3971  GLSNE_639_0  52.779495 -27.558778  24.333779   \n",
       "3998  GLSNE_639_0  52.779495 -27.558778  24.393460   \n",
       "4022  GLSNE_639_0  52.779495 -27.558778  24.330362   \n",
       "4056  GLSNE_639_0  52.779495 -27.558778  24.643904   \n",
       "\n",
       "                                                    sed  redshift        time  \n",
       "8     sne_sed/specFileGLSN_GLSNE_639_0_59610.8896.tx...   1.28882  59610.8896  \n",
       "37    sne_sed/specFileGLSN_GLSNE_639_0_59583.6396.tx...   1.28882  59583.6396  \n",
       "64    sne_sed/specFileGLSN_GLSNE_639_0_59610.6396.tx...   1.28882  59610.6396  \n",
       "93    sne_sed/specFileGLSN_GLSNE_639_0_59584.1396.tx...   1.28882  59584.1396  \n",
       "119   sne_sed/specFileGLSN_GLSNE_639_0_59600.1396.tx...   1.28882  59600.1396  \n",
       "...                                                 ...       ...         ...  \n",
       "3946  sne_sed/specFileGLSN_GLSNE_639_0_59582.6396.tx...   1.28882  59582.6396  \n",
       "3971  sne_sed/specFileGLSN_GLSNE_639_0_59598.8896.tx...   1.28882  59598.8896  \n",
       "3998  sne_sed/specFileGLSN_GLSNE_639_0_59581.6396.tx...   1.28882  59581.6396  \n",
       "4022  sne_sed/specFileGLSN_GLSNE_639_0_59598.3896.tx...   1.28882  59598.3896  \n",
       "4056  sne_sed/specFileGLSN_GLSNE_639_0_59611.1396.tx...   1.28882  59611.1396  \n",
       "\n",
       "[141 rows x 7 columns]"
      ]
     },
     "execution_count": 152,
     "metadata": {},
     "output_type": "execute_result"
    }
   ],
   "source": [
    "im_0"
   ]
  },
  {
   "cell_type": "code",
   "execution_count": 153,
   "metadata": {},
   "outputs": [
    {
     "data": {
      "text/plain": [
       "array(['GLSNE_1011_0', 'GLSNE_1011_1', 'GLSNE_1011_2', 'GLSNE_1011_3',\n",
       "       'GLSNE_1066_0', 'GLSNE_1066_1', 'GLSNE_1085_0', 'GLSNE_1085_1',\n",
       "       'GLSNE_1085_2', 'GLSNE_1085_3', 'GLSNE_1128_0', 'GLSNE_1128_1',\n",
       "       'GLSNE_1128_2', 'GLSNE_1128_3', 'GLSNE_23_0', 'GLSNE_23_1',\n",
       "       'GLSNE_23_2', 'GLSNE_23_3', 'GLSNE_282_0', 'GLSNE_282_1',\n",
       "       'GLSNE_282_2', 'GLSNE_282_3', 'GLSNE_299_0', 'GLSNE_299_1',\n",
       "       'GLSNE_299_2', 'GLSNE_639_0', 'GLSNE_639_1', 'GLSNE_639_2',\n",
       "       'GLSNE_639_3', 'GLSNE_686_0', 'GLSNE_686_1', 'GLSNE_686_2',\n",
       "       'GLSNE_686_3', 'GLSNE_735_0', 'GLSNE_735_1', 'GLSNE_735_3',\n",
       "       'GLSNE_768_0', 'GLSNE_768_1', 'GLSNE_768_2', 'GLSNE_790_0'],\n",
       "      dtype=object)"
      ]
     },
     "execution_count": 153,
     "metadata": {},
     "output_type": "execute_result"
    }
   ],
   "source": [
    "np.unique(full_df['obj_id'])"
   ]
  },
  {
   "cell_type": "code",
   "execution_count": 154,
   "metadata": {},
   "outputs": [
    {
     "data": {
      "text/html": [
       "<div>\n",
       "<style scoped>\n",
       "    .dataframe tbody tr th:only-of-type {\n",
       "        vertical-align: middle;\n",
       "    }\n",
       "\n",
       "    .dataframe tbody tr th {\n",
       "        vertical-align: top;\n",
       "    }\n",
       "\n",
       "    .dataframe thead th {\n",
       "        text-align: right;\n",
       "    }\n",
       "</style>\n",
       "<table border=\"1\" class=\"dataframe\">\n",
       "  <thead>\n",
       "    <tr style=\"text-align: right;\">\n",
       "      <th></th>\n",
       "      <th>index</th>\n",
       "      <th>unique_id</th>\n",
       "      <th>gal_unq_id</th>\n",
       "      <th>ra</th>\n",
       "      <th>dec</th>\n",
       "      <th>x_sne</th>\n",
       "      <th>y_sne</th>\n",
       "      <th>x_img</th>\n",
       "      <th>y_img</th>\n",
       "      <th>t0</th>\n",
       "      <th>...</th>\n",
       "      <th>c</th>\n",
       "      <th>host_type</th>\n",
       "      <th>redshift</th>\n",
       "      <th>av_mw</th>\n",
       "      <th>rv_mw</th>\n",
       "      <th>lens_id</th>\n",
       "      <th>dc2_sys_id</th>\n",
       "      <th>lens_cat_sys_id</th>\n",
       "      <th>image_number</th>\n",
       "      <th>total_magnification</th>\n",
       "    </tr>\n",
       "  </thead>\n",
       "  <tbody>\n",
       "    <tr>\n",
       "      <th>0</th>\n",
       "      <td>0</td>\n",
       "      <td>GLSNE_0_0</td>\n",
       "      <td>GLSNE_sne_0_0</td>\n",
       "      <td>53.535516</td>\n",
       "      <td>-28.075830</td>\n",
       "      <td>-0.062063</td>\n",
       "      <td>0.039200</td>\n",
       "      <td>-0.309583</td>\n",
       "      <td>0.23567</td>\n",
       "      <td>59758.905037</td>\n",
       "      <td>...</td>\n",
       "      <td>0.0</td>\n",
       "      <td>kinney-elliptical</td>\n",
       "      <td>0.883446</td>\n",
       "      <td>0.021971</td>\n",
       "      <td>3.1</td>\n",
       "      <td>2.562562e+09</td>\n",
       "      <td>GLSNE_0</td>\n",
       "      <td>81692</td>\n",
       "      <td>0</td>\n",
       "      <td>13.704318</td>\n",
       "    </tr>\n",
       "    <tr>\n",
       "      <th>1</th>\n",
       "      <td>0</td>\n",
       "      <td>GLSNE_0_1</td>\n",
       "      <td>GLSNE_sne_0_0</td>\n",
       "      <td>53.535573</td>\n",
       "      <td>-28.075818</td>\n",
       "      <td>-0.062063</td>\n",
       "      <td>0.039200</td>\n",
       "      <td>-0.309583</td>\n",
       "      <td>0.23567</td>\n",
       "      <td>59758.905037</td>\n",
       "      <td>...</td>\n",
       "      <td>0.0</td>\n",
       "      <td>kinney-elliptical</td>\n",
       "      <td>0.883446</td>\n",
       "      <td>0.021971</td>\n",
       "      <td>3.1</td>\n",
       "      <td>2.562562e+09</td>\n",
       "      <td>GLSNE_0</td>\n",
       "      <td>81692</td>\n",
       "      <td>1</td>\n",
       "      <td>13.704318</td>\n",
       "    </tr>\n",
       "    <tr>\n",
       "      <th>2</th>\n",
       "      <td>0</td>\n",
       "      <td>GLSNE_0_2</td>\n",
       "      <td>GLSNE_sne_0_0</td>\n",
       "      <td>53.535589</td>\n",
       "      <td>-28.075739</td>\n",
       "      <td>-0.062063</td>\n",
       "      <td>0.039200</td>\n",
       "      <td>-0.309583</td>\n",
       "      <td>0.23567</td>\n",
       "      <td>59758.905037</td>\n",
       "      <td>...</td>\n",
       "      <td>0.0</td>\n",
       "      <td>kinney-elliptical</td>\n",
       "      <td>0.883446</td>\n",
       "      <td>0.021971</td>\n",
       "      <td>3.1</td>\n",
       "      <td>2.562562e+09</td>\n",
       "      <td>GLSNE_0</td>\n",
       "      <td>81692</td>\n",
       "      <td>2</td>\n",
       "      <td>13.704318</td>\n",
       "    </tr>\n",
       "    <tr>\n",
       "      <th>3</th>\n",
       "      <td>0</td>\n",
       "      <td>GLSNE_0_3</td>\n",
       "      <td>GLSNE_sne_0_0</td>\n",
       "      <td>53.535429</td>\n",
       "      <td>-28.075699</td>\n",
       "      <td>-0.062063</td>\n",
       "      <td>0.039200</td>\n",
       "      <td>-0.309583</td>\n",
       "      <td>0.23567</td>\n",
       "      <td>59758.905037</td>\n",
       "      <td>...</td>\n",
       "      <td>0.0</td>\n",
       "      <td>kinney-elliptical</td>\n",
       "      <td>0.883446</td>\n",
       "      <td>0.021971</td>\n",
       "      <td>3.1</td>\n",
       "      <td>2.562562e+09</td>\n",
       "      <td>GLSNE_0</td>\n",
       "      <td>81692</td>\n",
       "      <td>3</td>\n",
       "      <td>13.704318</td>\n",
       "    </tr>\n",
       "    <tr>\n",
       "      <th>4</th>\n",
       "      <td>4</td>\n",
       "      <td>GLSNE_1_0</td>\n",
       "      <td>GLSNE_sne_1_0</td>\n",
       "      <td>52.835880</td>\n",
       "      <td>-27.813210</td>\n",
       "      <td>0.035717</td>\n",
       "      <td>-0.022968</td>\n",
       "      <td>0.023081</td>\n",
       "      <td>-0.16193</td>\n",
       "      <td>61816.678369</td>\n",
       "      <td>...</td>\n",
       "      <td>0.0</td>\n",
       "      <td>kinney-sc</td>\n",
       "      <td>0.658430</td>\n",
       "      <td>0.024149</td>\n",
       "      <td>3.1</td>\n",
       "      <td>1.875368e+09</td>\n",
       "      <td>GLSNE_1</td>\n",
       "      <td>91135</td>\n",
       "      <td>0</td>\n",
       "      <td>8.847192</td>\n",
       "    </tr>\n",
       "  </tbody>\n",
       "</table>\n",
       "<p>5 rows × 25 columns</p>\n",
       "</div>"
      ],
      "text/plain": [
       "   index  unique_id     gal_unq_id         ra        dec     x_sne     y_sne  \\\n",
       "0      0  GLSNE_0_0  GLSNE_sne_0_0  53.535516 -28.075830 -0.062063  0.039200   \n",
       "1      0  GLSNE_0_1  GLSNE_sne_0_0  53.535573 -28.075818 -0.062063  0.039200   \n",
       "2      0  GLSNE_0_2  GLSNE_sne_0_0  53.535589 -28.075739 -0.062063  0.039200   \n",
       "3      0  GLSNE_0_3  GLSNE_sne_0_0  53.535429 -28.075699 -0.062063  0.039200   \n",
       "4      4  GLSNE_1_0  GLSNE_sne_1_0  52.835880 -27.813210  0.035717 -0.022968   \n",
       "\n",
       "      x_img    y_img            t0  ...    c          host_type  redshift  \\\n",
       "0 -0.309583  0.23567  59758.905037  ...  0.0  kinney-elliptical  0.883446   \n",
       "1 -0.309583  0.23567  59758.905037  ...  0.0  kinney-elliptical  0.883446   \n",
       "2 -0.309583  0.23567  59758.905037  ...  0.0  kinney-elliptical  0.883446   \n",
       "3 -0.309583  0.23567  59758.905037  ...  0.0  kinney-elliptical  0.883446   \n",
       "4  0.023081 -0.16193  61816.678369  ...  0.0          kinney-sc  0.658430   \n",
       "\n",
       "      av_mw  rv_mw       lens_id dc2_sys_id  lens_cat_sys_id  image_number  \\\n",
       "0  0.021971    3.1  2.562562e+09    GLSNE_0            81692             0   \n",
       "1  0.021971    3.1  2.562562e+09    GLSNE_0            81692             1   \n",
       "2  0.021971    3.1  2.562562e+09    GLSNE_0            81692             2   \n",
       "3  0.021971    3.1  2.562562e+09    GLSNE_0            81692             3   \n",
       "4  0.024149    3.1  1.875368e+09    GLSNE_1            91135             0   \n",
       "\n",
       "   total_magnification  \n",
       "0            13.704318  \n",
       "1            13.704318  \n",
       "2            13.704318  \n",
       "3            13.704318  \n",
       "4             8.847192  \n",
       "\n",
       "[5 rows x 25 columns]"
      ]
     },
     "execution_count": 154,
     "metadata": {},
     "output_type": "execute_result"
    }
   ],
   "source": [
    "sprinkled_sne_df.head()"
   ]
  },
  {
   "cell_type": "code",
   "execution_count": 155,
   "metadata": {},
   "outputs": [],
   "source": [
    "sys_truth = sprinkled_sne_df.query('dc2_sys_id == \"GLSNE_639\"')"
   ]
  },
  {
   "cell_type": "code",
   "execution_count": 156,
   "metadata": {},
   "outputs": [],
   "source": [
    "# sys_truth = sprinkled_sne_df.query('dc2_sys_id == \"GLSNE_1085\"')"
   ]
  },
  {
   "cell_type": "code",
   "execution_count": 157,
   "metadata": {},
   "outputs": [
    {
     "data": {
      "text/html": [
       "<div>\n",
       "<style scoped>\n",
       "    .dataframe tbody tr th:only-of-type {\n",
       "        vertical-align: middle;\n",
       "    }\n",
       "\n",
       "    .dataframe tbody tr th {\n",
       "        vertical-align: top;\n",
       "    }\n",
       "\n",
       "    .dataframe thead th {\n",
       "        text-align: right;\n",
       "    }\n",
       "</style>\n",
       "<table border=\"1\" class=\"dataframe\">\n",
       "  <thead>\n",
       "    <tr style=\"text-align: right;\">\n",
       "      <th></th>\n",
       "      <th>index</th>\n",
       "      <th>unique_id</th>\n",
       "      <th>gal_unq_id</th>\n",
       "      <th>ra</th>\n",
       "      <th>dec</th>\n",
       "      <th>x_sne</th>\n",
       "      <th>y_sne</th>\n",
       "      <th>x_img</th>\n",
       "      <th>y_img</th>\n",
       "      <th>t0</th>\n",
       "      <th>...</th>\n",
       "      <th>c</th>\n",
       "      <th>host_type</th>\n",
       "      <th>redshift</th>\n",
       "      <th>av_mw</th>\n",
       "      <th>rv_mw</th>\n",
       "      <th>lens_id</th>\n",
       "      <th>dc2_sys_id</th>\n",
       "      <th>lens_cat_sys_id</th>\n",
       "      <th>image_number</th>\n",
       "      <th>total_magnification</th>\n",
       "    </tr>\n",
       "  </thead>\n",
       "  <tbody>\n",
       "    <tr>\n",
       "      <th>2061</th>\n",
       "      <td>2006</td>\n",
       "      <td>GLSNE_639_0</td>\n",
       "      <td>GLSNE_sne_639_0</td>\n",
       "      <td>52.779832</td>\n",
       "      <td>-27.559284</td>\n",
       "      <td>-0.00245</td>\n",
       "      <td>0.006678</td>\n",
       "      <td>-0.139515</td>\n",
       "      <td>-0.054657</td>\n",
       "      <td>59592.503471</td>\n",
       "      <td>...</td>\n",
       "      <td>0.0</td>\n",
       "      <td>kinney-sc</td>\n",
       "      <td>1.28882</td>\n",
       "      <td>0.031222</td>\n",
       "      <td>3.1</td>\n",
       "      <td>1.875856e+09</td>\n",
       "      <td>GLSNE_639</td>\n",
       "      <td>4114756</td>\n",
       "      <td>0</td>\n",
       "      <td>13.169406</td>\n",
       "    </tr>\n",
       "    <tr>\n",
       "      <th>2062</th>\n",
       "      <td>2006</td>\n",
       "      <td>GLSNE_639_1</td>\n",
       "      <td>GLSNE_sne_639_0</td>\n",
       "      <td>52.779780</td>\n",
       "      <td>-27.559255</td>\n",
       "      <td>-0.00245</td>\n",
       "      <td>0.006678</td>\n",
       "      <td>-0.139515</td>\n",
       "      <td>-0.054657</td>\n",
       "      <td>59592.503471</td>\n",
       "      <td>...</td>\n",
       "      <td>0.0</td>\n",
       "      <td>kinney-sc</td>\n",
       "      <td>1.28882</td>\n",
       "      <td>0.031222</td>\n",
       "      <td>3.1</td>\n",
       "      <td>1.875856e+09</td>\n",
       "      <td>GLSNE_639</td>\n",
       "      <td>4114756</td>\n",
       "      <td>1</td>\n",
       "      <td>13.169406</td>\n",
       "    </tr>\n",
       "    <tr>\n",
       "      <th>2063</th>\n",
       "      <td>2006</td>\n",
       "      <td>GLSNE_639_2</td>\n",
       "      <td>GLSNE_sne_639_0</td>\n",
       "      <td>52.779863</td>\n",
       "      <td>-27.559237</td>\n",
       "      <td>-0.00245</td>\n",
       "      <td>0.006678</td>\n",
       "      <td>-0.139515</td>\n",
       "      <td>-0.054657</td>\n",
       "      <td>59592.503471</td>\n",
       "      <td>...</td>\n",
       "      <td>0.0</td>\n",
       "      <td>kinney-sc</td>\n",
       "      <td>1.28882</td>\n",
       "      <td>0.031222</td>\n",
       "      <td>3.1</td>\n",
       "      <td>1.875856e+09</td>\n",
       "      <td>GLSNE_639</td>\n",
       "      <td>4114756</td>\n",
       "      <td>2</td>\n",
       "      <td>13.169406</td>\n",
       "    </tr>\n",
       "    <tr>\n",
       "      <th>2064</th>\n",
       "      <td>2006</td>\n",
       "      <td>GLSNE_639_3</td>\n",
       "      <td>GLSNE_sne_639_0</td>\n",
       "      <td>52.779805</td>\n",
       "      <td>-27.559194</td>\n",
       "      <td>-0.00245</td>\n",
       "      <td>0.006678</td>\n",
       "      <td>-0.139515</td>\n",
       "      <td>-0.054657</td>\n",
       "      <td>59592.503471</td>\n",
       "      <td>...</td>\n",
       "      <td>0.0</td>\n",
       "      <td>kinney-sc</td>\n",
       "      <td>1.28882</td>\n",
       "      <td>0.031222</td>\n",
       "      <td>3.1</td>\n",
       "      <td>1.875856e+09</td>\n",
       "      <td>GLSNE_639</td>\n",
       "      <td>4114756</td>\n",
       "      <td>3</td>\n",
       "      <td>13.169406</td>\n",
       "    </tr>\n",
       "  </tbody>\n",
       "</table>\n",
       "<p>4 rows × 25 columns</p>\n",
       "</div>"
      ],
      "text/plain": [
       "      index    unique_id       gal_unq_id         ra        dec    x_sne  \\\n",
       "2061   2006  GLSNE_639_0  GLSNE_sne_639_0  52.779832 -27.559284 -0.00245   \n",
       "2062   2006  GLSNE_639_1  GLSNE_sne_639_0  52.779780 -27.559255 -0.00245   \n",
       "2063   2006  GLSNE_639_2  GLSNE_sne_639_0  52.779863 -27.559237 -0.00245   \n",
       "2064   2006  GLSNE_639_3  GLSNE_sne_639_0  52.779805 -27.559194 -0.00245   \n",
       "\n",
       "         y_sne     x_img     y_img            t0  ...    c  host_type  \\\n",
       "2061  0.006678 -0.139515 -0.054657  59592.503471  ...  0.0  kinney-sc   \n",
       "2062  0.006678 -0.139515 -0.054657  59592.503471  ...  0.0  kinney-sc   \n",
       "2063  0.006678 -0.139515 -0.054657  59592.503471  ...  0.0  kinney-sc   \n",
       "2064  0.006678 -0.139515 -0.054657  59592.503471  ...  0.0  kinney-sc   \n",
       "\n",
       "      redshift     av_mw  rv_mw       lens_id dc2_sys_id  lens_cat_sys_id  \\\n",
       "2061   1.28882  0.031222    3.1  1.875856e+09  GLSNE_639          4114756   \n",
       "2062   1.28882  0.031222    3.1  1.875856e+09  GLSNE_639          4114756   \n",
       "2063   1.28882  0.031222    3.1  1.875856e+09  GLSNE_639          4114756   \n",
       "2064   1.28882  0.031222    3.1  1.875856e+09  GLSNE_639          4114756   \n",
       "\n",
       "      image_number  total_magnification  \n",
       "2061             0            13.169406  \n",
       "2062             1            13.169406  \n",
       "2063             2            13.169406  \n",
       "2064             3            13.169406  \n",
       "\n",
       "[4 rows x 25 columns]"
      ]
     },
     "execution_count": 157,
     "metadata": {},
     "output_type": "execute_result"
    }
   ],
   "source": [
    "sys_truth"
   ]
  },
  {
   "cell_type": "code",
   "execution_count": 158,
   "metadata": {},
   "outputs": [
    {
     "data": {
      "text/html": [
       "<div>\n",
       "<style scoped>\n",
       "    .dataframe tbody tr th:only-of-type {\n",
       "        vertical-align: middle;\n",
       "    }\n",
       "\n",
       "    .dataframe tbody tr th {\n",
       "        vertical-align: top;\n",
       "    }\n",
       "\n",
       "    .dataframe thead th {\n",
       "        text-align: right;\n",
       "    }\n",
       "</style>\n",
       "<table border=\"1\" class=\"dataframe\">\n",
       "  <thead>\n",
       "    <tr style=\"text-align: right;\">\n",
       "      <th></th>\n",
       "      <th>magnification</th>\n",
       "      <th>t_delay</th>\n",
       "    </tr>\n",
       "  </thead>\n",
       "  <tbody>\n",
       "    <tr>\n",
       "      <th>2061</th>\n",
       "      <td>4.397841</td>\n",
       "      <td>0.000000</td>\n",
       "    </tr>\n",
       "    <tr>\n",
       "      <th>2062</th>\n",
       "      <td>2.738947</td>\n",
       "      <td>0.507575</td>\n",
       "    </tr>\n",
       "    <tr>\n",
       "      <th>2063</th>\n",
       "      <td>2.610280</td>\n",
       "      <td>0.550705</td>\n",
       "    </tr>\n",
       "    <tr>\n",
       "      <th>2064</th>\n",
       "      <td>3.422339</td>\n",
       "      <td>-0.488937</td>\n",
       "    </tr>\n",
       "  </tbody>\n",
       "</table>\n",
       "</div>"
      ],
      "text/plain": [
       "      magnification   t_delay\n",
       "2061       4.397841  0.000000\n",
       "2062       2.738947  0.507575\n",
       "2063       2.610280  0.550705\n",
       "2064       3.422339 -0.488937"
      ]
     },
     "execution_count": 158,
     "metadata": {},
     "output_type": "execute_result"
    }
   ],
   "source": [
    "sys_truth[['magnification', 't_delay']]"
   ]
  },
  {
   "cell_type": "code",
   "execution_count": 159,
   "metadata": {},
   "outputs": [
    {
     "data": {
      "text/plain": [
       "2061   -1.608099\n",
       "2062   -1.093959\n",
       "2063   -1.041718\n",
       "2064   -1.335807\n",
       "Name: magnification, dtype: float64"
      ]
     },
     "execution_count": 159,
     "metadata": {},
     "output_type": "execute_result"
    }
   ],
   "source": [
    "-2.5*np.log10(np.abs(sys_truth['magnification']))"
   ]
  },
  {
   "cell_type": "code",
   "execution_count": 160,
   "metadata": {},
   "outputs": [],
   "source": [
    "imSimBand = Bandpass()\n",
    "imSimBand.imsimBandpass()"
   ]
  },
  {
   "cell_type": "code",
   "execution_count": 161,
   "metadata": {},
   "outputs": [],
   "source": [
    "def make_sn_model_lightcurve(ra , dec , redshift, t0, x0, x1, c, StartTime, EndTime, band, n):\n",
    "    '''\n",
    "    StartTime: could be t0-5 days (depending on redshift)\n",
    "    EndTime: could be t0+40 days\n",
    "    band: LSST filter\n",
    "    n: number of points wanted for the time array\n",
    "    '''        \n",
    "    \n",
    "    imSimBand = Bandpass()\n",
    "    imSimBand.imsimBandpass()\n",
    "    \n",
    "    # Setting up the supernova with the light-curve parameters from Sprinkled catalog\n",
    "    sn_mod = SNObject(ra = ra, dec = dec)   \n",
    "    sn_mod.set(z  = redshift,  t0 = t0, x0 = x0, x1 = x1, c  = c)\n",
    "\n",
    "    # create a time array\n",
    "    time_array = np.linspace(StartTime, EndTime, n)\n",
    "    flux_array = []\n",
    "    mag_array = []\n",
    "    \n",
    "    # Get SED\n",
    "    for time in time_array:\n",
    "        SEDfromSNcosmo = sn_mod.SNObjectSourceSED(time=time, wavelen=np.arange(30., 1800., 0.1))\n",
    "        flux = SEDfromSNcosmo.calcFlux(bandpass=imSimBand) / 3631.0\n",
    "        flux_array.append(flux)\n",
    "        mag_array.append(-2.5*np.log10(flux))\n",
    "        \n",
    "    \n",
    "    flux_array = np.array(flux_array)\n",
    "    mag_array  = np.array(mag_array)\n",
    "    print(np.max(flux_array))\n",
    "        \n",
    "    return time_array, flux_array, mag_array#, sn_mod"
   ]
  },
  {
   "cell_type": "code",
   "execution_count": 162,
   "metadata": {},
   "outputs": [
    {
     "name": "stdout",
     "output_type": "stream",
     "text": [
      "4.3673542717284426e-11\n"
     ]
    }
   ],
   "source": [
    "im_num = 0\n",
    "t_s = 59580.1396\n",
    "t_e = 59613.1396\n",
    "t_a, f_a, m_a = make_sn_model_lightcurve(sys_truth.iloc[im_num]['ra'],\n",
    "                                     sys_truth.iloc[im_num]['dec'],\n",
    "                                     sys_truth.iloc[im_num]['redshift'],\n",
    "                                     sys_truth.iloc[im_num]['t0'] - sys_truth.iloc[im_num]['t_delay'],\n",
    "                                     sys_truth.iloc[im_num]['x0'],\n",
    "                                     sys_truth.iloc[im_num]['x1'],\n",
    "                                     sys_truth.iloc[im_num]['c'],\n",
    "                                     t_s, t_e, 'r', (t_e - t_s) * 4.)"
   ]
  },
  {
   "cell_type": "code",
   "execution_count": 163,
   "metadata": {},
   "outputs": [
    {
     "data": {
      "text/plain": [
       "(array([25.8, 25.9, 26. , 26.1, 26.2, 26.3, 26.4, 26.5]),\n",
       " <a list of 8 Text yticklabel objects>)"
      ]
     },
     "execution_count": 163,
     "metadata": {},
     "output_type": "execute_result"
    },
    {
     "data": {
      "image/png": "[encoded data removed]",
      "text/plain": [
       "<Figure size 1440x1008 with 4 Axes>"
      ]
     },
     "metadata": {
      "needs_background": "light"
     },
     "output_type": "display_data"
    }
   ],
   "source": [
    "fig = plt.figure(figsize=(20, 14))\n",
    "fig.add_subplot(2,2,1)\n",
    "plt.scatter(im_0['time'], im_0['magnorm'])\n",
    "plt.scatter(im_1['time'], im_1['magnorm'])\n",
    "plt.scatter(im_2['time'], im_2['magnorm'])\n",
    "plt.scatter(im_3['time'], im_3['magnorm'])\n",
    "plt.xlabel('MJD', size=16)\n",
    "plt.ylabel('Magnorm', size=16)\n",
    "plt.gca().invert_yaxis()\n",
    "plt.title('Original Instance Catalog Values', size=16)\n",
    "plt.xticks(size=14)\n",
    "plt.yticks(size=14)\n",
    "\n",
    "fig.add_subplot(2,2,2)\n",
    "plt.scatter(im_0['time'], im_0['magnorm']+2.5*np.log10(np.abs(sys_truth['magnification']).iloc[0]))\n",
    "plt.scatter(im_1['time'], im_1['magnorm']+2.5*np.log10(np.abs(sys_truth['magnification']).iloc[1]))\n",
    "plt.scatter(im_2['time'], im_2['magnorm']+2.5*np.log10(np.abs(sys_truth['magnification']).iloc[2]))\n",
    "plt.scatter(im_3['time'], im_3['magnorm']+2.5*np.log10(np.abs(sys_truth['magnification']).iloc[3]))\n",
    "plt.xlabel('MJD', size=16)\n",
    "plt.ylabel('Magnorm', size=16)\n",
    "plt.gca().invert_yaxis()\n",
    "plt.title('Magnorms corrected for magnification', size=16)\n",
    "plt.xticks(size=14)\n",
    "plt.yticks(size=14)\n",
    "\n",
    "fig.add_subplot(2,2,3)\n",
    "plt.scatter(im_0['time'] - sys_truth['t_delay'].iloc[0], im_0['magnorm'])\n",
    "plt.scatter(im_1['time'] - sys_truth['t_delay'].iloc[1], im_1['magnorm'])\n",
    "plt.scatter(im_2['time'] - sys_truth['t_delay'].iloc[2], im_2['magnorm'])\n",
    "plt.scatter(im_3['time'] - sys_truth['t_delay'].iloc[3], im_3['magnorm'])\n",
    "plt.xlabel('MJD', size=16)\n",
    "plt.ylabel('Magnorm', size=16)\n",
    "plt.gca().invert_yaxis()\n",
    "plt.title('Magnorms corrected for time delay', size=16)\n",
    "plt.xticks(size=14)\n",
    "plt.yticks(size=14)\n",
    "\n",
    "fig.add_subplot(2,2,4)\n",
    "plt.scatter(im_0['time'] - sys_truth['t_delay'].iloc[0], im_0['magnorm']+2.5*np.log10(np.abs(sys_truth['magnification']).iloc[0]), s=120)\n",
    "plt.scatter(im_1['time'] - sys_truth['t_delay'].iloc[1], im_1['magnorm']+2.5*np.log10(np.abs(sys_truth['magnification']).iloc[1]), s=120)\n",
    "plt.scatter(im_2['time'] - sys_truth['t_delay'].iloc[2], im_2['magnorm']+2.5*np.log10(np.abs(sys_truth['magnification']).iloc[2]), s=120)\n",
    "plt.scatter(im_3['time'] - sys_truth['t_delay'].iloc[3], im_3['magnorm']+2.5*np.log10(np.abs(sys_truth['magnification']).iloc[3]), s=120)\n",
    "plt.plot(t_a, m_a, lw=4, c='k', ls='--')\n",
    "plt.xlabel('MJD', size=16)\n",
    "plt.ylabel('Magnorm', size=16)\n",
    "plt.gca().invert_yaxis()\n",
    "plt.title('Magnorms corrected for magnification and time delay', size=16)\n",
    "plt.xticks(size=14)\n",
    "plt.yticks(size=14)"
   ]
  },
  {
   "cell_type": "code",
   "execution_count": null,
   "metadata": {},
   "outputs": [],
   "source": []
  },
  {
   "cell_type": "code",
   "execution_count": null,
   "metadata": {},
   "outputs": [],
   "source": []
  },
  {
   "cell_type": "code",
   "execution_count": null,
   "metadata": {},
   "outputs": [],
   "source": []
  },
  {
   "cell_type": "code",
   "execution_count": null,
   "metadata": {},
   "outputs": [],
   "source": []
  },
  {
   "cell_type": "code",
   "execution_count": 164,
   "metadata": {},
   "outputs": [],
   "source": [
    "def calc_r_band_photometry(sed_filename, sed_redshift, bandpass_dict, magnorm_value):\n",
    "    \n",
    "    if not os.path.exists(sed_filename):\n",
    "        print('no')\n",
    "        \n",
    "    sed_data = np.genfromtxt(sed_filename)\n",
    "    \n",
    "    sne_sed = Sed()\n",
    "    sne_sed.readSED_flambda(sed_filename, cache_sed=False)\n",
    "    fluxNorm = getImsimFluxNorm(sne_sed, magnorm_value)\n",
    "    sne_sed.multiplyFluxNorm(fluxNorm)\n",
    "    sne_sed.redshiftSED(sed_redshift, dimming=True)\n",
    "    mag = sne_sed.calcMag(bandpass_dict['r'])\n",
    "    \n",
    "    test_sed = Sed()\n",
    "    test_sed.readSED_flambda(sed_filename)\n",
    "    \n",
    "    return mag, sne_sed, test_sed\n",
    "#    return test_sed, sed_filename\n",
    "    "
   ]
  },
  {
   "cell_type": "markdown",
   "metadata": {},
   "source": [
    "### Matching time-delayed SNe light-curves with the original light-curves after phase shift and de-magnification\n",
    "\n",
    "We match the sn_catalog_img to the sprinkled_sne_df using the sysno and lens_cat_sys_id keys"
   ]
  },
  {
   "cell_type": "code",
   "execution_count": 165,
   "metadata": {},
   "outputs": [],
   "source": [
    "LSST_BPass = BandpassDict.loadTotalBandpassesFromFiles()"
   ]
  },
  {
   "cell_type": "code",
   "execution_count": 166,
   "metadata": {},
   "outputs": [],
   "source": [
    "def make_sn_model_lightcurve(ra , dec , redshift, t0, x0, x1, c, StartTime, EndTime, band, n):\n",
    "    '''\n",
    "    StartTime: could be t0-5 days (depending on redshift)\n",
    "    EndTime: could be t0+40 days\n",
    "    band: LSST filter\n",
    "    n: number of points wanted for the time array\n",
    "    '''        \n",
    "    # Setting up the supernova with the light-curve parameters from Sprinkled catalog\n",
    "    sn_mod = SNObject(ra = ra, dec = dec)   \n",
    "    sn_mod.set(z  = redshift,  t0 = t0, x0 = x0, x1 = x1, c  = c)\n",
    "\n",
    "    # create a time array\n",
    "    time_array = np.linspace(StartTime, EndTime, n)\n",
    "    flux_array = np.array([sn_mod.catsimBandFlux(mjd, LSST_BPass[band]) for mjd in time_array])\n",
    "    mag_array  = np.array([sn_mod.catsimBandMag(LSST_BPass[band], mjd, noNan=True) for mjd in time_array])\n",
    "        \n",
    "    return time_array, flux_array, mag_array"
   ]
  },
  {
   "cell_type": "code",
   "execution_count": 173,
   "metadata": {},
   "outputs": [],
   "source": [
    "def plot_lensedSN_composite_lightcurve_model(lens_cat_sys_id, sprinkled_source_catalog, \n",
    "                                             lens_properties_catalog, plot_flux=True, **kwargs):\n",
    "    \"\"\" Plot the composite light curve model of a multiply-imaged SN system, overlaying light curves  \n",
    "    from all images.  Shows the model SN light curve for each image using input lensing parameters \n",
    "    (i.e. with the time  delay and magnification that we think were used to simulate the SN), and then \n",
    "    the phase-shifted and de-amplified model (after removing the time delay and amplification effects).\n",
    "\n",
    "    FUTURE WORK NEEDED:  compare this model light curve with recovered photometry to validate that the \n",
    "    simulated lensed SNe are in fact including the time delay and amplification correctly. \n",
    "\n",
    "    INPUTS:\n",
    "    lens_cat_sys_id  :  int; the unique identifier for this lensed SN system\n",
    "    sprinkled_source_catalog : catalog (Table object) that has simulated SN properties (x1, c, t0, z, etc)\n",
    "    lens_properties_catalog  : catalog (Table) that has the simulated lensing parameters (td, mu)\n",
    "    \"\"\"\n",
    "    # Find the indices in the sprinkled_source_catalog and input_sn_catalog that belong to this lensed SN\n",
    "    indices_sprinkled_cat = np.where(sprinkled_source_catalog['lens_cat_sys_id']==lens_cat_sys_id)[0]\n",
    "    indices_lens_cat = np.where(lens_properties_catalog['sysno']==lens_cat_sys_id)[0]\n",
    "    n_sn_images = 2 # len(indices_lens_cat)\n",
    "    assert len(indices_lens_cat) == len(indices_sprinkled_cat)\n",
    "    \n",
    "    fig = plt.figure(figsize=[10,5])    \n",
    "    axlist= [fig.add_subplot(1,n_sn_images+1,i+1) for i in range(n_sn_images)]\n",
    "    axfinal = fig.add_subplot(1,n_sn_images+1, n_sn_images+1)\n",
    "    \n",
    "    sprinkle_subcat = sprinkled_source_catalog.iloc[indices_sprinkled_cat]\n",
    "    lens_subcat = lens_properties_catalog.iloc[indices_lens_cat]\n",
    "\n",
    "    for image_number, ax in zip(lens_subcat['imno'], axlist):\n",
    "        ilens = np.where(lens_subcat['imno'] == image_number)[0][0]\n",
    "        ispkl = np.where(sprinkle_subcat['image_number'] == image_number)[0][0]\n",
    " \n",
    "        deltat_sprinkle = sprinkle_subcat['t_delay'].iloc[ispkl]\n",
    "        deltat_lens = lens_subcat['td'].iloc[ilens]\n",
    "\n",
    "        magnification_sprinkle = sprinkle_subcat['magnification'].iloc[ispkl]\n",
    "        magnification_lens = lens_subcat['mu'].iloc[ilens]\n",
    "    \n",
    "        mjd, flux, mag = make_sn_model_lightcurve(\n",
    "            sprinkle_subcat['ra'].iloc[ispkl], \n",
    "            sprinkle_subcat['dec'].iloc[ispkl] , \n",
    "            sprinkle_subcat['redshift'].iloc[ispkl], \n",
    "            sprinkle_subcat['t0'].iloc[ispkl] + deltat_sprinkle, \n",
    "            sprinkle_subcat['x0'].iloc[ispkl], \n",
    "            sprinkle_subcat['x1'].iloc[ispkl], \n",
    "            sprinkle_subcat['c'].iloc[ispkl], \n",
    "            sprinkle_subcat['t0'].iloc[ispkl]-15, \n",
    "            sprinkle_subcat['t0'].iloc[ispkl]+20, \n",
    "            'r', 100)\n",
    "        if plot_flux:\n",
    "            ax.plot(mjd, flux * np.abs(magnification_sprinkle), **kwargs)\n",
    "            axfinal.plot( mjd-deltat_lens, flux * magnification_sprinkle / magnification_lens, label='Im{:d}'.format(image_number), **kwargs)\n",
    "        else:\n",
    "            ax.plot(mjd, mag - 2.5*np.log10(np.abs(magnification_sprinkle)), **kwargs)\n",
    "            #axfinal.plot( mjd-deltat_lens, mag -2.5*np.log10(np.abs(magnification_sprinkle / magnification_lens)), label='Im{:d}'.format(image_number), ls='--')\n",
    "            axfinal.plot( mjd-deltat_sprinkle, mag -2.5*np.log10(np.abs(magnification_sprinkle / magnification_sprinkle)),\n",
    "                         label='Im{:d}'.format(image_number), ls='--', lw=3)\n",
    "            if not ax.yaxis_inverted():\n",
    "                ax.invert_yaxis()\n",
    "            if not axfinal.yaxis_inverted():\n",
    "                axfinal.invert_yaxis()\n",
    "\n",
    "        if image_number==0 : \n",
    "            ax.set_title('Lens System {:d}  Image {:d}'.format(lens_cat_sys_id, image_number))       \n",
    "        else: \n",
    "            ax.set_title('Image {:d}'.format(image_number))            \n",
    "        ax.text(0.95,0.95, r\"$\\Delta$t= {:.2f} (lens cat)\".format(deltat_lens), ha='right', va='top', transform=ax.transAxes)\n",
    "        ax.text(0.95,0.85, r\"$\\Delta$t= {:.2f} (spkl cat)\".format(deltat_sprinkle), ha='right', va='top', transform=ax.transAxes)\n",
    "    axfinal.legend()\n",
    "    axfinal.set_title(\"Composite LC (de-lensed)\")"
   ]
  },
  {
   "cell_type": "code",
   "execution_count": 168,
   "metadata": {},
   "outputs": [
    {
     "data": {
      "text/html": [
       "<div>\n",
       "<style scoped>\n",
       "    .dataframe tbody tr th:only-of-type {\n",
       "        vertical-align: middle;\n",
       "    }\n",
       "\n",
       "    .dataframe tbody tr th {\n",
       "        vertical-align: top;\n",
       "    }\n",
       "\n",
       "    .dataframe thead th {\n",
       "        text-align: right;\n",
       "    }\n",
       "</style>\n",
       "<table border=\"1\" class=\"dataframe\">\n",
       "  <thead>\n",
       "    <tr style=\"text-align: right;\">\n",
       "      <th></th>\n",
       "      <th>obj_id</th>\n",
       "      <th>ra</th>\n",
       "      <th>dec</th>\n",
       "      <th>magnorm</th>\n",
       "      <th>sed</th>\n",
       "      <th>redshift</th>\n",
       "      <th>time</th>\n",
       "    </tr>\n",
       "  </thead>\n",
       "  <tbody>\n",
       "    <tr>\n",
       "      <th>8</th>\n",
       "      <td>GLSNE_639_0</td>\n",
       "      <td>52.779495</td>\n",
       "      <td>-27.558778</td>\n",
       "      <td>24.631941</td>\n",
       "      <td>sne_sed/specFileGLSN_GLSNE_639_0_59610.8896.tx...</td>\n",
       "      <td>1.28882</td>\n",
       "      <td>59610.8896</td>\n",
       "    </tr>\n",
       "    <tr>\n",
       "      <th>37</th>\n",
       "      <td>GLSNE_639_0</td>\n",
       "      <td>52.779495</td>\n",
       "      <td>-27.558778</td>\n",
       "      <td>24.352734</td>\n",
       "      <td>sne_sed/specFileGLSN_GLSNE_639_0_59583.6396.tx...</td>\n",
       "      <td>1.28882</td>\n",
       "      <td>59583.6396</td>\n",
       "    </tr>\n",
       "    <tr>\n",
       "      <th>64</th>\n",
       "      <td>GLSNE_639_0</td>\n",
       "      <td>52.779495</td>\n",
       "      <td>-27.558778</td>\n",
       "      <td>24.620030</td>\n",
       "      <td>sne_sed/specFileGLSN_GLSNE_639_0_59610.6396.tx...</td>\n",
       "      <td>1.28882</td>\n",
       "      <td>59610.6396</td>\n",
       "    </tr>\n",
       "    <tr>\n",
       "      <th>93</th>\n",
       "      <td>GLSNE_639_0</td>\n",
       "      <td>52.779495</td>\n",
       "      <td>-27.558778</td>\n",
       "      <td>24.344297</td>\n",
       "      <td>sne_sed/specFileGLSN_GLSNE_639_0_59584.1396.tx...</td>\n",
       "      <td>1.28882</td>\n",
       "      <td>59584.1396</td>\n",
       "    </tr>\n",
       "    <tr>\n",
       "      <th>119</th>\n",
       "      <td>GLSNE_639_0</td>\n",
       "      <td>52.779495</td>\n",
       "      <td>-27.558778</td>\n",
       "      <td>24.342361</td>\n",
       "      <td>sne_sed/specFileGLSN_GLSNE_639_0_59600.1396.tx...</td>\n",
       "      <td>1.28882</td>\n",
       "      <td>59600.1396</td>\n",
       "    </tr>\n",
       "  </tbody>\n",
       "</table>\n",
       "</div>"
      ],
      "text/plain": [
       "          obj_id         ra        dec    magnorm  \\\n",
       "8    GLSNE_639_0  52.779495 -27.558778  24.631941   \n",
       "37   GLSNE_639_0  52.779495 -27.558778  24.352734   \n",
       "64   GLSNE_639_0  52.779495 -27.558778  24.620030   \n",
       "93   GLSNE_639_0  52.779495 -27.558778  24.344297   \n",
       "119  GLSNE_639_0  52.779495 -27.558778  24.342361   \n",
       "\n",
       "                                                   sed  redshift        time  \n",
       "8    sne_sed/specFileGLSN_GLSNE_639_0_59610.8896.tx...   1.28882  59610.8896  \n",
       "37   sne_sed/specFileGLSN_GLSNE_639_0_59583.6396.tx...   1.28882  59583.6396  \n",
       "64   sne_sed/specFileGLSN_GLSNE_639_0_59610.6396.tx...   1.28882  59610.6396  \n",
       "93   sne_sed/specFileGLSN_GLSNE_639_0_59584.1396.tx...   1.28882  59584.1396  \n",
       "119  sne_sed/specFileGLSN_GLSNE_639_0_59600.1396.tx...   1.28882  59600.1396  "
      ]
     },
     "execution_count": 168,
     "metadata": {},
     "output_type": "execute_result"
    }
   ],
   "source": [
    "im_0.head()"
   ]
  },
  {
   "cell_type": "code",
   "execution_count": 169,
   "metadata": {},
   "outputs": [],
   "source": [
    "#im_0_sort = im_0.sort_values('time')"
   ]
  },
  {
   "cell_type": "code",
   "execution_count": 170,
   "metadata": {},
   "outputs": [],
   "source": [
    "im_0_r_mags = []\n",
    "im_0_seds = []\n",
    "test_seds = []\n",
    "for idx in range(len(im_0)):\n",
    "    sed_name = os.path.join(sne_cat_dir, 'sne_sed', 'specFileGLSN_%s_%.4f.txt.gz' % (im_0['obj_id'].iloc[idx],\n",
    "                                                                                                     im_0['time'].iloc[idx]))\n",
    "    im_0_mag, im_0_sed, test_sed = calc_r_band_photometry(sed_name,\n",
    "                                        im_0['redshift'].iloc[idx], LSST_BPass, im_0['magnorm'].iloc[idx])\n",
    "    im_0_r_mags.append(im_0_mag + 2.5*np.log10(sys_truth['magnification'].iloc[0]))\n",
    "    im_0_seds.append(im_0_sed)\n",
    "    test_seds.append(test_sed)"
   ]
  },
  {
   "cell_type": "code",
   "execution_count": 171,
   "metadata": {},
   "outputs": [
    {
     "data": {
      "text/plain": [
       "Text(0.5, 1.0, 'SNe Light Curve for GLSNE_639_0')"
      ]
     },
     "execution_count": 171,
     "metadata": {},
     "output_type": "execute_result"
    },
    {
     "data": {
      "image/png": "[encoded data removed]",
      "text/plain": [
       "<Figure size 432x288 with 1 Axes>"
      ]
     },
     "metadata": {
      "needs_background": "light"
     },
     "output_type": "display_data"
    }
   ],
   "source": [
    "plt.scatter(im_0['time'], im_0_r_mags)\n",
    "plt.gca().invert_yaxis()\n",
    "plt.xlabel('MJD')\n",
    "plt.ylabel('SNe r-band magnitude')\n",
    "plt.title('SNe Light Curve for %s' % im_0['obj_id'].iloc[0])"
   ]
  },
  {
   "cell_type": "code",
   "execution_count": 174,
   "metadata": {},
   "outputs": [
    {
     "data": {
      "image/png": "[encoded data removed]",
      "text/plain": [
       "<Figure size 720x360 with 3 Axes>"
      ]
     },
     "metadata": {
      "needs_background": "light"
     },
     "output_type": "display_data"
    }
   ],
   "source": [
    "lens_sysid = 4114756\n",
    "#lens_sysid = 6724378\n",
    "lens_properties_catalog = sn_catalog_img\n",
    "sprinkled_source_catalog = sprinkled_sne_df\n",
    "plot_lensedSN_composite_lightcurve_model(lens_sysid, sprinkled_source_catalog, sn_catalog_img, plot_flux=False)\n",
    "plt.scatter(im_0['time'], im_0_r_mags)\n",
    "plt.tight_layout()"
   ]
  },
  {
   "cell_type": "code",
   "execution_count": null,
   "metadata": {},
   "outputs": [],
   "source": []
  }
 ],
 "metadata": {
  "kernelspec": {
   "display_name": "lsst",
   "language": "python",
   "name": "lsst"
  },
  "language_info": {
   "codemirror_mode": {
    "name": "ipython",
    "version": 3
   },
   "file_extension": ".py",
   "mimetype": "text/x-python",
   "name": "python",
   "nbconvert_exporter": "python",
   "pygments_lexer": "ipython3",
   "version": "3.7.2"
  }
 },
 "nbformat": 4,
 "nbformat_minor": 4
}
